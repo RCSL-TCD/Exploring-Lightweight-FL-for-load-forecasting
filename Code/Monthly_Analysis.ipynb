{
  "cells": [
    {
      "cell_type": "code",
      "execution_count": null,
      "metadata": {
        "colab": {
          "base_uri": "https://localhost:8080/"
        },
        "id": "4U6F8wLyj0R4",
        "outputId": "0e340758-6fa4-4ac1-a49c-6480381ba522"
      },
      "outputs": [
        {
          "name": "stdout",
          "output_type": "stream",
          "text": [
            "\u001b[2K     \u001b[90m━━━━━━━━━━━━━━━━━━━━━━━━━━━━━━━━━━━━━━━\u001b[0m \u001b[32m114.4/114.4 MB\u001b[0m \u001b[31m9.0 MB/s\u001b[0m eta \u001b[36m0:00:00\u001b[0m\n",
            "\u001b[2K     \u001b[90m━━━━━━━━━━━━━━━━━━━━━━━━━━━━━━━━━━━━━━━━\u001b[0m \u001b[32m60.6/60.6 kB\u001b[0m \u001b[31m7.2 MB/s\u001b[0m eta \u001b[36m0:00:00\u001b[0m\n",
            "\u001b[2K     \u001b[90m━━━━━━━━━━━━━━━━━━━━━━━━━━━━━━━━━━━━━━\u001b[0m \u001b[32m104.6/104.6 kB\u001b[0m \u001b[31m12.9 MB/s\u001b[0m eta \u001b[36m0:00:00\u001b[0m\n",
            "\u001b[2K     \u001b[90m━━━━━━━━━━━━━━━━━━━━━━━━━━━━━━━━━━━━━━━━\u001b[0m \u001b[32m98.7/98.7 kB\u001b[0m \u001b[31m11.8 MB/s\u001b[0m eta \u001b[36m0:00:00\u001b[0m\n",
            "\u001b[?25h  Preparing metadata (setup.py) ... \u001b[?25l\u001b[?25hdone\n",
            "\u001b[2K     \u001b[90m━━━━━━━━━━━━━━━━━━━━━━━━━━━━━━━━━━━━━━\u001b[0m \u001b[32m558.5/558.5 kB\u001b[0m \u001b[31m40.7 MB/s\u001b[0m eta \u001b[36m0:00:00\u001b[0m\n",
            "\u001b[2K     \u001b[90m━━━━━━━━━━━━━━━━━━━━━━━━━━━━━━━━━━━━━━━━\u001b[0m \u001b[32m72.0/72.0 MB\u001b[0m \u001b[31m9.6 MB/s\u001b[0m eta \u001b[36m0:00:00\u001b[0m\n",
            "\u001b[2K     \u001b[90m━━━━━━━━━━━━━━━━━━━━━━━━━━━━━━━━━━━━━━━━\u001b[0m \u001b[32m1.0/1.0 MB\u001b[0m \u001b[31m53.4 MB/s\u001b[0m eta \u001b[36m0:00:00\u001b[0m\n",
            "\u001b[?25h  Preparing metadata (setup.py) ... \u001b[?25l\u001b[?25hdone\n",
            "\u001b[2K     \u001b[90m━━━━━━━━━━━━━━━━━━━━━━━━━━━━━━━━━━━━━━\u001b[0m \u001b[32m255.8/255.8 kB\u001b[0m \u001b[31m26.6 MB/s\u001b[0m eta \u001b[36m0:00:00\u001b[0m\n",
            "\u001b[2K     \u001b[90m━━━━━━━━━━━━━━━━━━━━━━━━━━━━━━━━━━━━━━\u001b[0m \u001b[32m238.9/238.9 kB\u001b[0m \u001b[31m24.6 MB/s\u001b[0m eta \u001b[36m0:00:00\u001b[0m\n",
            "\u001b[2K     \u001b[90m━━━━━━━━━━━━━━━━━━━━━━━━━━━━━━━━━━━━━━\u001b[0m \u001b[32m365.2/365.2 kB\u001b[0m \u001b[31m37.7 MB/s\u001b[0m eta \u001b[36m0:00:00\u001b[0m\n",
            "\u001b[2K     \u001b[90m━━━━━━━━━━━━━━━━━━━━━━━━━━━━━━━━━━━━━━━━\u001b[0m \u001b[32m4.6/4.6 MB\u001b[0m \u001b[31m89.2 MB/s\u001b[0m eta \u001b[36m0:00:00\u001b[0m\n",
            "\u001b[2K     \u001b[90m━━━━━━━━━━━━━━━━━━━━━━━━━━━━━━━━━━━━━━━━\u001b[0m \u001b[32m2.4/2.4 MB\u001b[0m \u001b[31m90.4 MB/s\u001b[0m eta \u001b[36m0:00:00\u001b[0m\n",
            "\u001b[2K     \u001b[90m━━━━━━━━━━━━━━━━━━━━━━━━━━━━━━━━━━━━━━━━\u001b[0m \u001b[32m7.4/7.4 MB\u001b[0m \u001b[31m74.3 MB/s\u001b[0m eta \u001b[36m0:00:00\u001b[0m\n",
            "\u001b[?25h  Preparing metadata (setup.py) ... \u001b[?25l\u001b[?25hdone\n",
            "\u001b[2K     \u001b[90m━━━━━━━━━━━━━━━━━━━━━━━━━━━━━━━━━━━━━━━━\u001b[0m \u001b[32m42.6/42.6 kB\u001b[0m \u001b[31m5.0 MB/s\u001b[0m eta \u001b[36m0:00:00\u001b[0m\n",
            "\u001b[?25h  Building wheel for farmhashpy (setup.py) ... \u001b[?25l\u001b[?25hdone\n",
            "  Building wheel for jax (setup.py) ... \u001b[?25l\u001b[?25hdone\n",
            "  Building wheel for sqlalchemy (setup.py) ... \u001b[?25l\u001b[?25hdone\n",
            "\u001b[31mERROR: pip's dependency resolver does not currently take into account all the packages that are installed. This behaviour is the source of the following dependency conflicts.\n",
            "chex 0.1.7 requires jax>=0.4.6, but you have jax 0.3.15 which is incompatible.\n",
            "flax 0.6.11 requires jax>=0.4.2, but you have jax 0.3.15 which is incompatible.\n",
            "orbax-checkpoint 0.2.6 requires jax>=0.4.9, but you have jax 0.3.15 which is incompatible.\n",
            "pymc 5.1.2 requires cachetools>=4.2.1, but you have cachetools 3.1.1 which is incompatible.\u001b[0m\u001b[31m\n",
            "\u001b[0m"
          ]
        }
      ],
      "source": [
        "#@test {\"skip\": true}\n",
        "\n",
        "!pip install --quiet --upgrade tensorflow-federated"
      ]
    },
    {
      "cell_type": "code",
      "execution_count": null,
      "metadata": {
        "colab": {
          "base_uri": "https://localhost:8080/"
        },
        "id": "LjUNVH1Wj6pa",
        "outputId": "7a6703ad-a7c9-460b-feca-458fa57866c6"
      },
      "outputs": [
        {
          "data": {
            "text/plain": [
              "b'Hello, World!'"
            ]
          },
          "execution_count": 4,
          "metadata": {},
          "output_type": "execute_result"
        }
      ],
      "source": [
        "import collections\n",
        "\n",
        "import numpy as np\n",
        "import tensorflow as tf\n",
        "import tensorflow_federated as tff\n",
        "\n",
        "np.random.seed(0)\n",
        "\n",
        "tff.federated_computation(lambda: 'Hello, World!')()"
      ]
    },
    {
      "cell_type": "code",
      "execution_count": null,
      "metadata": {
        "colab": {
          "base_uri": "https://localhost:8080/"
        },
        "id": "Bgo0CXENj_AD",
        "outputId": "c2adfe5b-f5e5-485f-ee9d-25438da78c8f"
      },
      "outputs": [
        {
          "name": "stdout",
          "output_type": "stream",
          "text": [
            "Mounted at /content/drive\n"
          ]
        }
      ],
      "source": [
        "from google.colab import drive\n",
        "drive.mount('/content/drive')"
      ]
    },
    {
      "cell_type": "code",
      "execution_count": null,
      "metadata": {
        "id": "UIOK5xd5kD0P"
      },
      "outputs": [],
      "source": [
        "import pandas as pd\n",
        "\n",
        "data = pd.read_csv('/content/drive/MyDrive/LAB3-20221109T160610Z-001/LCL-FullData/Cluster8data.csv')"
      ]
    },
    {
      "cell_type": "code",
      "execution_count": null,
      "metadata": {
        "id": "w6OmI4WdkHa0"
      },
      "outputs": [],
      "source": [
        "data['DateTime'] = pd.to_datetime(data['DateTime'])"
      ]
    },
    {
      "cell_type": "code",
      "execution_count": null,
      "metadata": {
        "id": "F5Lvsh7hkKc5"
      },
      "outputs": [],
      "source": [
        "start_date1 = pd.to_datetime('2011-10-01')\n",
        "end_date1 = pd.to_datetime('2013-02-28')\n",
        "filtered_data1 = data[(data['DateTime'] >= start_date1) & (data['DateTime'] <= end_date1)]\n"
      ]
    },
    {
      "cell_type": "code",
      "execution_count": null,
      "metadata": {
        "id": "LMfR2nzMkwP3"
      },
      "outputs": [],
      "source": [
        "# Select 20 unique LCLids\n",
        "lclid_list1 = filtered_data1['LCLid'].unique()\n",
        "selected_lclids1 = lclid_list1[:20]\n",
        "\n",
        "# Filter data for the selected LCLids\n",
        "f_data1 = filtered_data1[filtered_data1['LCLid'].isin(selected_lclids1)]\n"
      ]
    },
    {
      "cell_type": "code",
      "execution_count": null,
      "metadata": {
        "id": "6L8vMuVYlHhu"
      },
      "outputs": [],
      "source": [
        "datan1 = f_data1.copy()\n",
        "datan1['KWH/hh'] = datan1['KWH/hh'].astype(np.float32)\n",
        "\n",
        "datan1 = datan1.drop('cluster', axis=1)\n",
        "datan1 = datan1.drop('stdorToU', axis=1)\n"
      ]
    },
    {
      "cell_type": "code",
      "execution_count": null,
      "metadata": {
        "id": "Wyfp0I_nlWjc"
      },
      "outputs": [],
      "source": [
        "datan1.reset_index(drop=True, inplace=True)\n"
      ]
    },
    {
      "cell_type": "code",
      "execution_count": null,
      "metadata": {
        "colab": {
          "base_uri": "https://localhost:8080/"
        },
        "id": "vgqgpHmflyZf",
        "outputId": "a10c2e0f-7f75-4b62-9e8e-151ba13fc4bc"
      },
      "outputs": [
        {
          "name": "stderr",
          "output_type": "stream",
          "text": [
            "<ipython-input-12-b59380e28e58>:3: SettingWithCopyWarning: \n",
            "A value is trying to be set on a copy of a slice from a DataFrame\n",
            "\n",
            "See the caveats in the documentation: https://pandas.pydata.org/pandas-docs/stable/user_guide/indexing.html#returning-a-view-versus-a-copy\n",
            "  datan1['DateTime'][i]=datan1['DateTime'][i].timestamp()\n"
          ]
        }
      ],
      "source": [
        "datan1['DateTime'] = pd.to_datetime(datan1.DateTime).dt.tz_localize(None)\n",
        "for i in range(len(datan1)):\n",
        "  datan1['DateTime'][i]=datan1['DateTime'][i].timestamp()"
      ]
    },
    {
      "cell_type": "code",
      "execution_count": null,
      "metadata": {
        "id": "GUVxrV-fmDVl"
      },
      "outputs": [],
      "source": [
        "datan1['DateTime'] = datan1['DateTime'].astype(np.float32)\n"
      ]
    },
    {
      "cell_type": "code",
      "execution_count": null,
      "metadata": {
        "id": "L0t4JtqKmM4j"
      },
      "outputs": [],
      "source": [
        "# Sort the data by 'LCLid' and 'DateTime'\n",
        "datan1.sort_values(['LCLid', 'DateTime'], inplace=True)\n"
      ]
    },
    {
      "cell_type": "code",
      "execution_count": null,
      "metadata": {
        "id": "1QSfU28mmM1y"
      },
      "outputs": [],
      "source": [
        "# Define the client window dataset function for a specific LCLid\n",
        "def create_client_dataset_for_LCLid(client_data, window_size, step_size):\n",
        "    client_windows = []\n",
        "    client_targets = []\n",
        "    num_readings = len(client_data)\n",
        "\n",
        "    # Iterate over the readings using the sliding window\n",
        "    for i in range(0, num_readings - window_size, step_size):\n",
        "        window_start = i\n",
        "        window_end = i + window_size - 1\n",
        "        prediction_index = window_end + step_size\n",
        "\n",
        "        # Extract the window and the prediction target\n",
        "        window = client_data.iloc[window_start:window_end + 1]['KWH/hh'].values\n",
        "        target = client_data.iloc[prediction_index]['KWH/hh']\n",
        "\n",
        "        client_windows.append(window)\n",
        "        client_targets.append(target)\n",
        "\n",
        "    # Create an ordered dictionary with 'x' and 'y' keys\n",
        "    ordered_dict = collections.OrderedDict()\n",
        "    ordered_dict['x'] = tf.stack(client_windows)\n",
        "    ordered_dict['y'] = tf.expand_dims(client_targets, axis=-1)\n",
        "\n",
        "\n",
        "    return ordered_dict"
      ]
    },
    {
      "cell_type": "code",
      "execution_count": null,
      "metadata": {
        "colab": {
          "base_uri": "https://localhost:8080/"
        },
        "id": "QD9dvy8emMyz",
        "outputId": "693da8e8-bb40-4e38-f945-422fa77cc35b"
      },
      "outputs": [
        {
          "name": "stdout",
          "output_type": "stream",
          "text": [
            "Client dataset for LCLid MAC000067\n",
            "OrderedDict([('x', <tf.Tensor: shape=(21112, 336), dtype=float32, numpy=\n",
            "array([[0.127, 0.64 , 0.237, ..., 0.135, 0.15 , 0.174],\n",
            "       [0.64 , 0.237, 0.22 , ..., 0.15 , 0.174, 0.205],\n",
            "       [0.237, 0.22 , 0.215, ..., 0.174, 0.205, 0.169],\n",
            "       ...,\n",
            "       [0.343, 0.303, 0.303, ..., 0.129, 0.12 , 0.133],\n",
            "       [0.303, 0.303, 0.322, ..., 0.12 , 0.133, 0.117],\n",
            "       [0.303, 0.322, 0.268, ..., 0.133, 0.117, 0.171]], dtype=float32)>), ('y', <tf.Tensor: shape=(21112, 1), dtype=float32, numpy=\n",
            "array([[0.205],\n",
            "       [0.169],\n",
            "       [0.116],\n",
            "       ...,\n",
            "       [0.117],\n",
            "       [0.171],\n",
            "       [0.197]], dtype=float32)>)])\n"
          ]
        }
      ],
      "source": [
        "window_size = 336\n",
        "step_size = 1\n",
        "\n",
        "# Filter the dataframe for the specific LCLid\n",
        "example_LCLid = datan1['LCLid'].unique()[3]\n",
        "clientyy_data = datan1[datan1['LCLid'] == example_LCLid]\n",
        "\n",
        "# Create the client dataset for the specific LCLid\n",
        "example_client_dataset = create_client_dataset_for_LCLid(clientyy_data, window_size, step_size)\n",
        "\n",
        "print(\"Client dataset for LCLid\", example_LCLid)\n",
        "print(example_client_dataset)"
      ]
    },
    {
      "cell_type": "code",
      "execution_count": null,
      "metadata": {
        "colab": {
          "base_uri": "https://localhost:8080/"
        },
        "id": "WQtoW-9-mMRZ",
        "outputId": "2a367d47-a013-4ea6-dda8-ea46106d9fb8"
      },
      "outputs": [
        {
          "data": {
            "text/plain": [
              "OrderedDict([('x',\n",
              "              array([[0.237, 0.22 , 0.215, ..., 0.174, 0.205, 0.169],\n",
              "                     [0.381, 0.643, 0.199, ..., 0.248, 0.214, 0.217],\n",
              "                     [0.22 , 0.215, 0.172, ..., 0.205, 0.169, 0.116],\n",
              "                     ...,\n",
              "                     [0.173, 0.192, 0.227, ..., 0.095, 0.313, 0.564],\n",
              "                     [0.319, 0.232, 0.236, ..., 0.235, 0.109, 0.153],\n",
              "                     [0.194, 0.196, 0.168, ..., 0.487, 0.22 , 0.282]], dtype=float32)),\n",
              "             ('y',\n",
              "              array([[0.116],\n",
              "                     [0.235],\n",
              "                     [0.146],\n",
              "                     [0.108],\n",
              "                     [0.128],\n",
              "                     [0.169],\n",
              "                     [0.246],\n",
              "                     [0.226],\n",
              "                     [0.273],\n",
              "                     [0.253],\n",
              "                     [0.093],\n",
              "                     [0.24 ]], dtype=float32))])"
            ]
          },
          "execution_count": 18,
          "metadata": {},
          "output_type": "execute_result"
        }
      ],
      "source": [
        "NUM_EPOCHS = 5\n",
        "BATCH_SIZE = 12\n",
        "SHUFFLE_BUFFER = 60\n",
        "PREFETCH_BUFFER = 6\n",
        "\n",
        "def preprocess_client_dataset(dataset):\n",
        "    def batch_format_fn(element):\n",
        "        return collections.OrderedDict(\n",
        "            x=tf.reshape(element['x'], [-1, 336]),\n",
        "            y=tf.reshape(element['y'], [-1, 1]))\n",
        "    return dataset.repeat(NUM_EPOCHS).shuffle(SHUFFLE_BUFFER).batch(\n",
        "        BATCH_SIZE).map(batch_format_fn).prefetch(PREFETCH_BUFFER)\n",
        "\n",
        "\n",
        "preprocessed_example_client_dataset = preprocess_client_dataset(tf.data.Dataset.from_tensor_slices(example_client_dataset))\n",
        "\n",
        "\n",
        "sample_batch = tf.nest.map_structure(lambda x: x.numpy(),\n",
        "                                     next(iter(preprocessed_example_client_dataset)))\n",
        "\n",
        "sample_batch"
      ]
    },
    {
      "cell_type": "code",
      "execution_count": null,
      "metadata": {
        "colab": {
          "base_uri": "https://localhost:8080/"
        },
        "id": "aqaEMUOmme_C",
        "outputId": "df781ee2-12fb-4512-c7cd-6d98c8817693"
      },
      "outputs": [
        {
          "data": {
            "text/plain": [
              "['MAC000123',\n",
              " 'MAC000175',\n",
              " 'MAC000143',\n",
              " 'MAC000154',\n",
              " 'MAC000184',\n",
              " 'MAC000239',\n",
              " 'MAC000027',\n",
              " 'MAC000241',\n",
              " 'MAC000041',\n",
              " 'MAC000118',\n",
              " 'MAC000127',\n",
              " 'MAC000033',\n",
              " 'MAC000190',\n",
              " 'MAC000067',\n",
              " 'MAC000244']"
            ]
          },
          "execution_count": 19,
          "metadata": {},
          "output_type": "execute_result"
        }
      ],
      "source": [
        "import random\n",
        "\n",
        "NUM_CLIENTS = 15  # Replace with desired number of clients\n",
        "all_clients = datan1['LCLid'].unique()\n",
        "sample_clients = random.sample(all_clients.tolist(), NUM_CLIENTS)\n",
        "\n",
        "sample_clients_list = sample_clients\n",
        "sample_clients_list"
      ]
    },
    {
      "cell_type": "code",
      "execution_count": null,
      "metadata": {
        "colab": {
          "base_uri": "https://localhost:8080/"
        },
        "id": "QkZ0LLZgmveJ",
        "outputId": "23386f14-dacc-4f02-d1f6-398fde889cde"
      },
      "outputs": [
        {
          "name": "stdout",
          "output_type": "stream",
          "text": [
            "Client dataset for LCLid MAC000123\n",
            "OrderedDict([('x', array([[0.15 , 0.166, 0.304, ..., 0.193, 0.295, 0.217],\n",
            "       [0.183, 0.164, 0.225, ..., 0.057, 0.074, 0.065],\n",
            "       [0.219, 0.26 , 0.252, ..., 0.184, 0.663, 0.246],\n",
            "       ...,\n",
            "       [0.252, 0.26 , 0.262, ..., 0.246, 0.212, 0.213],\n",
            "       [0.499, 0.35 , 0.277, ..., 0.234, 0.291, 0.273],\n",
            "       [0.62 , 0.26 , 0.283, ..., 0.21 , 0.202, 0.287]], dtype=float32)), ('y', array([[0.238],\n",
            "       [0.059],\n",
            "       [0.212],\n",
            "       [0.185],\n",
            "       [0.098],\n",
            "       [0.228],\n",
            "       [0.959],\n",
            "       [0.193],\n",
            "       [0.057],\n",
            "       [0.205],\n",
            "       [0.305],\n",
            "       [0.319]], dtype=float32))])\n",
            "Client dataset for LCLid MAC000175\n",
            "OrderedDict([('x', array([[0.068, 0.093, 0.065, ..., 0.092, 0.065, 0.062],\n",
            "       [0.065, 0.097, 0.117, ..., 0.062, 0.085, 0.062],\n",
            "       [0.198, 0.173, 0.18 , ..., 0.13 , 0.143, 0.127],\n",
            "       ...,\n",
            "       [0.201, 0.179, 0.17 , ..., 0.208, 0.183, 0.204],\n",
            "       [0.153, 0.204, 0.176, ..., 0.083, 0.17 , 0.157],\n",
            "       [0.14 , 0.109, 0.131, ..., 0.144, 0.128, 0.155]], dtype=float32)), ('y', array([[0.085],\n",
            "       [0.062],\n",
            "       [0.189],\n",
            "       [0.221],\n",
            "       [0.183],\n",
            "       [0.086],\n",
            "       [0.062],\n",
            "       [0.193],\n",
            "       [0.073],\n",
            "       [0.387],\n",
            "       [0.21 ],\n",
            "       [0.123]], dtype=float32))])\n",
            "Client dataset for LCLid MAC000143\n",
            "OrderedDict([('x', array([[0.317, 0.344, 0.259, ..., 0.077, 0.077, 0.085],\n",
            "       [0.305, 0.33 , 0.284, ..., 0.226, 0.21 , 0.179],\n",
            "       [0.143, 0.087, 0.084, ..., 0.081, 0.081, 0.106],\n",
            "       ...,\n",
            "       [0.118, 0.128, 0.087, ..., 0.08 , 0.08 , 0.099],\n",
            "       [0.331, 0.336, 0.4  , ..., 0.087, 0.122, 0.087],\n",
            "       [0.362, 0.339, 0.279, ..., 0.121, 0.077, 0.076]], dtype=float32)), ('y', array([[0.126],\n",
            "       [0.122],\n",
            "       [0.128],\n",
            "       [0.077],\n",
            "       [0.101],\n",
            "       [0.087],\n",
            "       [0.083],\n",
            "       [0.068],\n",
            "       [0.074],\n",
            "       [0.125],\n",
            "       [0.079],\n",
            "       [0.077]], dtype=float32))])\n",
            "Client dataset for LCLid MAC000154\n",
            "OrderedDict([('x', array([[0.177, 0.047, 0.068, ..., 0.041, 0.093, 0.108],\n",
            "       [0.095, 0.308, 0.471, ..., 0.164, 0.238, 0.89 ],\n",
            "       [0.153, 0.133, 0.178, ..., 0.204, 0.2  , 0.153],\n",
            "       ...,\n",
            "       [0.257, 0.227, 0.196, ..., 0.179, 0.153, 0.183],\n",
            "       [0.174, 0.136, 0.335, ..., 0.852, 0.67 , 0.316],\n",
            "       [0.211, 0.102, 0.173, ..., 0.095, 0.061, 0.293]], dtype=float32)), ('y', array([[0.101],\n",
            "       [0.238],\n",
            "       [0.141],\n",
            "       [0.147],\n",
            "       [0.174],\n",
            "       [0.244],\n",
            "       [0.879],\n",
            "       [0.161],\n",
            "       [0.186],\n",
            "       [0.816],\n",
            "       [0.168],\n",
            "       [0.18 ]], dtype=float32))])\n",
            "Client dataset for LCLid MAC000184\n",
            "OrderedDict([('x', array([[0.353, 0.411, 0.417, ..., 0.109, 0.099, 0.119],\n",
            "       [0.108, 0.094, 0.086, ..., 0.473, 0.481, 0.206],\n",
            "       [0.417, 0.518, 0.442, ..., 0.119, 0.185, 0.167],\n",
            "       ...,\n",
            "       [0.313, 0.407, 0.217, ..., 0.332, 0.296, 0.343],\n",
            "       [0.094, 0.086, 0.104, ..., 0.481, 0.206, 0.188],\n",
            "       [0.156, 0.161, 0.127, ..., 0.261, 0.592, 0.354]], dtype=float32)), ('y', array([[0.185],\n",
            "       [0.188],\n",
            "       [0.291],\n",
            "       [0.415],\n",
            "       [0.479],\n",
            "       [0.239],\n",
            "       [0.261],\n",
            "       [0.481],\n",
            "       [0.321],\n",
            "       [0.473],\n",
            "       [0.249],\n",
            "       [0.295]], dtype=float32))])\n",
            "Client dataset for LCLid MAC000239\n",
            "OrderedDict([('x', array([[0.088, 0.115, 0.091, ..., 0.108, 0.049, 0.186],\n",
            "       [0.248, 0.134, 0.07 , ..., 0.643, 0.164, 0.178],\n",
            "       [0.062, 0.069, 0.181, ..., 0.197, 0.062, 0.071],\n",
            "       ...,\n",
            "       [0.037, 0.442, 0.234, ..., 0.071, 0.062, 0.053],\n",
            "       [0.203, 0.165, 0.338, ..., 0.185, 0.252, 0.244],\n",
            "       [0.069, 0.244, 0.162, ..., 0.072, 0.061, 0.045]], dtype=float32)), ('y', array([[0.191],\n",
            "       [0.143],\n",
            "       [0.08 ],\n",
            "       [0.123],\n",
            "       [0.252],\n",
            "       [0.068],\n",
            "       [0.135],\n",
            "       [0.067],\n",
            "       [0.049],\n",
            "       [0.038],\n",
            "       [0.181],\n",
            "       [0.197]], dtype=float32))])\n",
            "Client dataset for LCLid MAC000027\n",
            "OrderedDict([('x', array([[0.11 , 0.122, 0.164, ..., 0.14 , 0.17 , 0.173],\n",
            "       [0.141, 0.13 , 0.136, ..., 0.214, 0.229, 0.221],\n",
            "       [0.175, 0.222, 0.159, ..., 0.198, 0.215, 0.214],\n",
            "       ...,\n",
            "       [0.105, 0.128, 0.296, ..., 0.086, 0.107, 0.143],\n",
            "       [0.164, 0.113, 0.105, ..., 0.173, 0.129, 0.086],\n",
            "       [0.158, 0.153, 0.152, ..., 0.137, 0.274, 0.237]], dtype=float32)), ('y', array([[0.129],\n",
            "       [0.14 ],\n",
            "       [0.214],\n",
            "       [0.103],\n",
            "       [0.153],\n",
            "       [0.292],\n",
            "       [0.122],\n",
            "       [0.274],\n",
            "       [0.221],\n",
            "       [0.089],\n",
            "       [0.107],\n",
            "       [0.126]], dtype=float32))])\n",
            "Client dataset for LCLid MAC000241\n",
            "OrderedDict([('x', array([[0.268, 0.248, 0.073, ..., 0.188, 0.147, 0.121],\n",
            "       [0.067, 0.039, 0.074, ..., 0.1  , 0.09 , 0.072],\n",
            "       [0.059, 0.052, 0.052, ..., 0.49 , 0.124, 0.091],\n",
            "       ...,\n",
            "       [0.123, 0.083, 0.089, ..., 0.592, 0.577, 0.558],\n",
            "       [0.242, 0.257, 0.341, ..., 0.148, 0.254, 0.383],\n",
            "       [0.229, 0.196, 0.213, ..., 0.324, 0.979, 1.733]], dtype=float32)), ('y', array([[0.596],\n",
            "       [0.037],\n",
            "       [0.601],\n",
            "       [0.289],\n",
            "       [0.687],\n",
            "       [0.091],\n",
            "       [0.148],\n",
            "       [0.679],\n",
            "       [0.56 ],\n",
            "       [0.169],\n",
            "       [0.625],\n",
            "       [0.606]], dtype=float32))])\n",
            "Client dataset for LCLid MAC000041\n",
            "OrderedDict([('x', array([[0.13 , 0.127, 0.239, ..., 0.067, 0.063, 0.062],\n",
            "       [0.319, 0.243, 0.341, ..., 0.915, 0.932, 0.729],\n",
            "       [0.061, 0.06 , 0.06 , ..., 0.042, 0.025, 0.024],\n",
            "       ...,\n",
            "       [0.317, 0.272, 0.162, ..., 0.281, 0.419, 0.289],\n",
            "       [0.425, 0.154, 0.551, ..., 0.077, 0.109, 0.067],\n",
            "       [0.313, 0.424, 0.361, ..., 0.31 , 0.245, 0.262]], dtype=float32)), ('y', array([[0.061],\n",
            "       [0.329],\n",
            "       [0.053],\n",
            "       [0.234],\n",
            "       [0.067],\n",
            "       [0.063],\n",
            "       [0.128],\n",
            "       [0.729],\n",
            "       [0.042],\n",
            "       [0.208],\n",
            "       [0.064],\n",
            "       [0.233]], dtype=float32))])\n",
            "Client dataset for LCLid MAC000118\n",
            "OrderedDict([('x', array([[0.061, 0.065, 0.089, ..., 0.071, 0.063, 0.063],\n",
            "       [0.092, 0.093, 0.081, ..., 0.221, 0.09 , 0.089],\n",
            "       [0.081, 0.239, 0.143, ..., 0.089, 0.258, 0.15 ],\n",
            "       ...,\n",
            "       [0.239, 0.143, 0.102, ..., 0.258, 0.15 , 0.151],\n",
            "       [0.147, 0.291, 0.207, ..., 0.487, 0.302, 0.305],\n",
            "       [0.342, 0.633, 0.641, ..., 0.652, 0.381, 0.197]], dtype=float32)), ('y', array([[0.086],\n",
            "       [0.258],\n",
            "       [0.151],\n",
            "       [0.208],\n",
            "       [0.071],\n",
            "       [0.176],\n",
            "       [0.09 ],\n",
            "       [0.501],\n",
            "       [0.121],\n",
            "       [0.466],\n",
            "       [0.316],\n",
            "       [0.502]], dtype=float32))])\n",
            "Client dataset for LCLid MAC000127\n",
            "OrderedDict([('x', array([[0.093, 0.363, 0.399, ..., 0.1  , 0.126, 0.157],\n",
            "       [0.083, 0.076, 0.089, ..., 0.074, 0.079, 0.133],\n",
            "       [0.205, 0.187, 0.109, ..., 0.211, 0.114, 0.172],\n",
            "       ...,\n",
            "       [0.115, 0.108, 0.07 , ..., 0.114, 0.103, 0.105],\n",
            "       [0.241, 0.219, 0.224, ..., 0.294, 0.202, 0.211],\n",
            "       [0.281, 0.565, 0.526, ..., 0.103, 0.091, 0.103]], dtype=float32)), ('y', array([[0.103],\n",
            "       [0.683],\n",
            "       [0.168],\n",
            "       [0.092],\n",
            "       [0.218],\n",
            "       [0.103],\n",
            "       [0.202],\n",
            "       [0.114],\n",
            "       [0.148],\n",
            "       [0.106],\n",
            "       [0.199],\n",
            "       [0.102]], dtype=float32))])\n",
            "Client dataset for LCLid MAC000033\n",
            "OrderedDict([('x', array([[0.168, 0.17 , 0.107, ..., 0.127, 0.199, 0.173],\n",
            "       [0.133, 0.107, 0.16 , ..., 0.241, 0.194, 0.257],\n",
            "       [0.186, 0.139, 0.099, ..., 0.265, 0.265, 0.263],\n",
            "       ...,\n",
            "       [0.107, 0.194, 0.173, ..., 0.173, 0.112, 0.091],\n",
            "       [0.098, 0.094, 0.069, ..., 0.147, 0.204, 0.132],\n",
            "       [0.198, 0.111, 0.124, ..., 0.172, 0.189, 0.526]], dtype=float32)), ('y', array([[0.112],\n",
            "       [0.122],\n",
            "       [0.147],\n",
            "       [0.265],\n",
            "       [0.048],\n",
            "       [0.042],\n",
            "       [0.104],\n",
            "       [0.197],\n",
            "       [0.172],\n",
            "       [0.12 ],\n",
            "       [0.076],\n",
            "       [0.126]], dtype=float32))])\n",
            "Client dataset for LCLid MAC000190\n",
            "OrderedDict([('x', array([[0.087, 0.075, 0.059, ..., 0.058, 0.085, 0.054],\n",
            "       [0.079, 0.057, 0.155, ..., 0.134, 0.123, 0.13 ],\n",
            "       [0.155, 0.044, 0.137, ..., 0.13 , 0.103, 0.182],\n",
            "       ...,\n",
            "       [0.321, 0.21 , 0.274, ..., 0.078, 0.139, 0.081],\n",
            "       [0.29 , 0.359, 0.27 , ..., 0.307, 0.355, 0.299],\n",
            "       [0.047, 0.087, 0.075, ..., 0.075, 0.058, 0.085]], dtype=float32)), ('y', array([[0.077],\n",
            "       [0.103],\n",
            "       [0.086],\n",
            "       [0.056],\n",
            "       [0.086],\n",
            "       [0.114],\n",
            "       [0.044],\n",
            "       [0.091],\n",
            "       [0.182],\n",
            "       [0.136],\n",
            "       [0.188],\n",
            "       [0.054]], dtype=float32))])\n",
            "Client dataset for LCLid MAC000067\n",
            "OrderedDict([('x', array([[0.215, 0.172, 0.196, ..., 0.169, 0.116, 0.146],\n",
            "       [0.173, 0.192, 0.227, ..., 0.095, 0.313, 0.564],\n",
            "       [0.237, 0.22 , 0.215, ..., 0.174, 0.205, 0.169],\n",
            "       ...,\n",
            "       [0.932, 0.569, 0.506, ..., 0.506, 0.936, 0.38 ],\n",
            "       [0.122, 0.12 , 0.106, ..., 0.199, 0.113, 0.137],\n",
            "       [0.104, 0.103, 0.14 , ..., 0.088, 0.077, 0.082]], dtype=float32)), ('y', array([[0.108],\n",
            "       [0.253],\n",
            "       [0.116],\n",
            "       [0.214],\n",
            "       [0.198],\n",
            "       [0.322],\n",
            "       [0.211],\n",
            "       [0.193],\n",
            "       [0.088],\n",
            "       [0.25 ],\n",
            "       [0.073],\n",
            "       [0.076]], dtype=float32))])\n",
            "Client dataset for LCLid MAC000244\n",
            "OrderedDict([('x', array([[0.104, 0.083, 0.084, ..., 0.098, 0.098, 0.17 ],\n",
            "       [0.168, 0.143, 0.164, ..., 0.207, 0.149, 0.149],\n",
            "       [0.123, 0.124, 0.165, ..., 0.145, 0.14 , 0.08 ],\n",
            "       ...,\n",
            "       [0.081, 0.135, 0.151, ..., 0.087, 0.084, 0.163],\n",
            "       [0.08 , 0.072, 0.081, ..., 0.096, 0.124, 0.087],\n",
            "       [0.129, 0.126, 0.176, ..., 0.123, 0.133, 0.172]], dtype=float32)), ('y', array([[0.228],\n",
            "       [0.157],\n",
            "       [0.167],\n",
            "       [0.212],\n",
            "       [0.116],\n",
            "       [0.149],\n",
            "       [0.159],\n",
            "       [0.099],\n",
            "       [0.21 ],\n",
            "       [0.209],\n",
            "       [0.084],\n",
            "       [0.146]], dtype=float32))])\n"
          ]
        }
      ],
      "source": [
        "# Iterate over unique LCLids in the dataframe\n",
        "client_datasets_12 = {}\n",
        "for LCLid in sample_clients_list:\n",
        "    # Filter the dataframe for the current LCLid\n",
        "    client_data = datan1[datan1['LCLid'] == LCLid]\n",
        "\n",
        "    clientxx_dataset = create_client_dataset_for_LCLid(client_data, window_size, step_size)\n",
        "\n",
        "    # Create the client dataset for the current LCLid\n",
        "    preprocessed_client_dataset = preprocess_client_dataset(tf.data.Dataset.from_tensor_slices(clientxx_dataset))\n",
        "\n",
        "    # Extract a sample batch from the preprocessed dataset\n",
        "    sam_batch = tf.nest.map_structure(lambda x: x.numpy(), next(iter(preprocessed_client_dataset)))\n",
        "\n",
        "    # Store the preprocessed dataset in the dictionary with LCLid as the key\n",
        "    client_datasets_12[LCLid] = preprocessed_client_dataset\n",
        "\n",
        "    print(\"Client dataset for LCLid\", LCLid)\n",
        "    print(sam_batch)"
      ]
    },
    {
      "cell_type": "code",
      "execution_count": null,
      "metadata": {
        "id": "NGeCXnk-m9Yh"
      },
      "outputs": [],
      "source": [
        "def make_federated_data(client_datasets, sample_clients_list):\n",
        "    return [\n",
        "        client_datasets[x] for x in sample_clients_list\n",
        "    ]"
      ]
    },
    {
      "cell_type": "code",
      "execution_count": null,
      "metadata": {
        "id": "S04zyE5ZnDA8"
      },
      "outputs": [],
      "source": [
        "federated_train_data_12 = make_federated_data(client_datasets_12, sample_clients)\n"
      ]
    },
    {
      "cell_type": "code",
      "execution_count": null,
      "metadata": {
        "colab": {
          "base_uri": "https://localhost:8080/"
        },
        "id": "HaziRR-0nXE1",
        "outputId": "1fb39113-4946-4c69-f6cb-7bddaaa60643"
      },
      "outputs": [
        {
          "name": "stdout",
          "output_type": "stream",
          "text": [
            "Number of client datasets: 15\n",
            "First dataset: <_PrefetchDataset element_spec=OrderedDict([('x', TensorSpec(shape=(None, 336), dtype=tf.float32, name=None)), ('y', TensorSpec(shape=(None, 1), dtype=tf.float32, name=None))])>\n",
            "Second dataset: <_PrefetchDataset element_spec=OrderedDict([('x', TensorSpec(shape=(None, 336), dtype=tf.float32, name=None)), ('y', TensorSpec(shape=(None, 1), dtype=tf.float32, name=None))])>\n"
          ]
        }
      ],
      "source": [
        "print(f'Number of client datasets: {len(federated_train_data_12)}')\n",
        "print(f'First dataset: {federated_train_data_12[0]}')\n",
        "print(f'Second dataset: {federated_train_data_12[1]}')"
      ]
    },
    {
      "cell_type": "code",
      "execution_count": null,
      "metadata": {
        "colab": {
          "base_uri": "https://localhost:8080/"
        },
        "id": "66y3bqioncQc",
        "outputId": "d30a95c0-0d39-441b-8636-ea019c8abcdb"
      },
      "outputs": [
        {
          "data": {
            "text/plain": [
              "OrderedDict([('x', TensorSpec(shape=(None, 336), dtype=tf.float32, name=None)),\n",
              "             ('y', TensorSpec(shape=(None, 1), dtype=tf.float32, name=None))])"
            ]
          },
          "execution_count": 23,
          "metadata": {},
          "output_type": "execute_result"
        }
      ],
      "source": [
        "preprocessed_example_client_dataset.element_spec"
      ]
    },
    {
      "cell_type": "code",
      "execution_count": null,
      "metadata": {
        "id": "bf-6yGBvnfM9"
      },
      "outputs": [],
      "source": [
        "def create_model():\n",
        "    model = tf.keras.Sequential([\n",
        "        tf.keras.layers.Dense(16, activation='relu', input_shape=(336,)),\n",
        "        tf.keras.layers.Dense(8, activation='relu'),\n",
        "        tf.keras.layers.Dense(4, activation='relu'),\n",
        "        tf.keras.layers.Dense(1)\n",
        "    ])\n",
        "    return model"
      ]
    },
    {
      "cell_type": "code",
      "execution_count": null,
      "metadata": {
        "colab": {
          "base_uri": "https://localhost:8080/"
        },
        "id": "iovmWWH7qWts",
        "outputId": "4a586ec1-a8b9-447d-f8c0-62092a35a262"
      },
      "outputs": [
        {
          "name": "stdout",
          "output_type": "stream",
          "text": [
            "Model: \"sequential\"\n",
            "_________________________________________________________________\n",
            " Layer (type)                Output Shape              Param #   \n",
            "=================================================================\n",
            " dense (Dense)               (None, 64)                21568     \n",
            "                                                                 \n",
            " dense_1 (Dense)             (None, 32)                2080      \n",
            "                                                                 \n",
            " dense_2 (Dense)             (None, 8)                 264       \n",
            "                                                                 \n",
            " dense_3 (Dense)             (None, 1)                 9         \n",
            "                                                                 \n",
            "=================================================================\n",
            "Total params: 23,921\n",
            "Trainable params: 23,921\n",
            "Non-trainable params: 0\n",
            "_________________________________________________________________\n"
          ]
        }
      ],
      "source": [
        "keras_model = create_model()\n",
        "keras_model.summary()"
      ]
    },
    {
      "cell_type": "code",
      "execution_count": null,
      "metadata": {
        "id": "VXxg-x9-nfoc"
      },
      "outputs": [],
      "source": [
        "def model_fn():\n",
        "    keras_model = create_model()\n",
        "    loss = tf.keras.losses.MeanAbsoluteError()\n",
        "    tff_model = tff.learning.models.from_keras_model(\n",
        "        keras_model,\n",
        "        input_spec=preprocessed_example_client_dataset.element_spec,\n",
        "        loss=loss,\n",
        "        metrics=[tf.keras.metrics.RootMeanSquaredError()]\n",
        "    )\n",
        "    return tff_model"
      ]
    },
    {
      "cell_type": "code",
      "execution_count": null,
      "metadata": {
        "colab": {
          "base_uri": "https://localhost:8080/"
        },
        "id": "WFteSfTcng8u",
        "outputId": "782d55a7-792d-454e-f889-ef2b65480dbf"
      },
      "outputs": [
        {
          "name": "stdout",
          "output_type": "stream",
          "text": [
            "<tensorflow_federated.python.learning.models.keras_utils._KerasModel object at 0x7f98d813c430>\n"
          ]
        }
      ],
      "source": [
        "model = model_fn()\n",
        "print(model)"
      ]
    },
    {
      "cell_type": "code",
      "execution_count": null,
      "metadata": {
        "id": "GtfLlDbtniRN"
      },
      "outputs": [],
      "source": [
        "# training starts\n",
        "training_process = tff.learning.algorithms.build_weighted_fed_avg(\n",
        "    model_fn,\n",
        "    client_optimizer_fn=lambda: tf.keras.optimizers.SGD(learning_rate=0.01),\n",
        "    server_optimizer_fn=lambda: tf.keras.optimizers.SGD(learning_rate=1.0))"
      ]
    },
    {
      "cell_type": "code",
      "execution_count": null,
      "metadata": {
        "colab": {
          "base_uri": "https://localhost:8080/"
        },
        "id": "fe7ot2ovo6Da",
        "outputId": "cd7692f9-0c75-4144-d598-f0111ffcda3d"
      },
      "outputs": [
        {
          "name": "stdout",
          "output_type": "stream",
          "text": [
            "( -> <\n",
            "  global_model_weights=<\n",
            "    trainable=<\n",
            "      float32[336,64],\n",
            "      float32[64],\n",
            "      float32[64,32],\n",
            "      float32[32],\n",
            "      float32[32,8],\n",
            "      float32[8],\n",
            "      float32[8,1],\n",
            "      float32[1]\n",
            "    >,\n",
            "    non_trainable=<>\n",
            "  >,\n",
            "  distributor=<>,\n",
            "  client_work=<>,\n",
            "  aggregator=<\n",
            "    value_sum_process=<>,\n",
            "    weight_sum_process=<>\n",
            "  >,\n",
            "  finalizer=<\n",
            "    int64,\n",
            "    float32[336,64],\n",
            "    float32[64],\n",
            "    float32[64,32],\n",
            "    float32[32],\n",
            "    float32[32,8],\n",
            "    float32[8],\n",
            "    float32[8,1],\n",
            "    float32[1]\n",
            "  >\n",
            ">@SERVER)\n"
          ]
        }
      ],
      "source": [
        "print(training_process.initialize.type_signature.formatted_representation())"
      ]
    },
    {
      "cell_type": "code",
      "execution_count": null,
      "metadata": {
        "id": "NaFUD7VGnjko"
      },
      "outputs": [],
      "source": [
        "train_state = training_process.initialize()"
      ]
    },
    {
      "cell_type": "code",
      "execution_count": null,
      "metadata": {
        "colab": {
          "base_uri": "https://localhost:8080/"
        },
        "id": "nuAAYQ_anmjS",
        "outputId": "cd59ca6d-85c9-433c-c010-c4c60f03a57e"
      },
      "outputs": [
        {
          "data": {
            "text/plain": [
              "[<_PrefetchDataset element_spec=OrderedDict([('x', TensorSpec(shape=(None, 336), dtype=tf.float32, name=None)), ('y', TensorSpec(shape=(None, 1), dtype=tf.float32, name=None))])>,\n",
              " <_PrefetchDataset element_spec=OrderedDict([('x', TensorSpec(shape=(None, 336), dtype=tf.float32, name=None)), ('y', TensorSpec(shape=(None, 1), dtype=tf.float32, name=None))])>,\n",
              " <_PrefetchDataset element_spec=OrderedDict([('x', TensorSpec(shape=(None, 336), dtype=tf.float32, name=None)), ('y', TensorSpec(shape=(None, 1), dtype=tf.float32, name=None))])>,\n",
              " <_PrefetchDataset element_spec=OrderedDict([('x', TensorSpec(shape=(None, 336), dtype=tf.float32, name=None)), ('y', TensorSpec(shape=(None, 1), dtype=tf.float32, name=None))])>,\n",
              " <_PrefetchDataset element_spec=OrderedDict([('x', TensorSpec(shape=(None, 336), dtype=tf.float32, name=None)), ('y', TensorSpec(shape=(None, 1), dtype=tf.float32, name=None))])>,\n",
              " <_PrefetchDataset element_spec=OrderedDict([('x', TensorSpec(shape=(None, 336), dtype=tf.float32, name=None)), ('y', TensorSpec(shape=(None, 1), dtype=tf.float32, name=None))])>,\n",
              " <_PrefetchDataset element_spec=OrderedDict([('x', TensorSpec(shape=(None, 336), dtype=tf.float32, name=None)), ('y', TensorSpec(shape=(None, 1), dtype=tf.float32, name=None))])>,\n",
              " <_PrefetchDataset element_spec=OrderedDict([('x', TensorSpec(shape=(None, 336), dtype=tf.float32, name=None)), ('y', TensorSpec(shape=(None, 1), dtype=tf.float32, name=None))])>]"
            ]
          },
          "execution_count": 34,
          "metadata": {},
          "output_type": "execute_result"
        }
      ],
      "source": [
        "federated_train_data_12"
      ]
    },
    {
      "cell_type": "code",
      "execution_count": null,
      "metadata": {
        "colab": {
          "base_uri": "https://localhost:8080/"
        },
        "id": "XkEwWtE-nudB",
        "outputId": "a0d3d0ab-1559-41c9-ac37-8bb16db1a0f9"
      },
      "outputs": [
        {
          "name": "stdout",
          "output_type": "stream",
          "text": [
            "round  1, metrics=OrderedDict([('distributor', ()), ('client_work', OrderedDict([('train', OrderedDict([('root_mean_squared_error', 0.11162933), ('loss', 0.060668997), ('num_examples', 1594310), ('num_batches', 132866)]))])), ('aggregator', OrderedDict([('mean_value', ()), ('mean_weight', ())])), ('finalizer', OrderedDict([('update_non_finite', 0)]))])\n"
          ]
        }
      ],
      "source": [
        "result = training_process.next(train_state, federated_train_data_12)\n",
        "train_state = result.state\n",
        "train_metrics = result.metrics\n",
        "print('round  1, metrics={}'.format(train_metrics))"
      ]
    },
    {
      "cell_type": "code",
      "execution_count": null,
      "metadata": {
        "colab": {
          "base_uri": "https://localhost:8080/"
        },
        "id": "rZtKUkSMp_5m",
        "outputId": "16df3ad0-0dfb-4fba-e9eb-4804b26bb69f"
      },
      "outputs": [
        {
          "name": "stdout",
          "output_type": "stream",
          "text": [
            "round  2, metrics=OrderedDict([('distributor', ()), ('client_work', OrderedDict([('train', OrderedDict([('root_mean_squared_error', 0.10602063), ('loss', 0.056411844), ('num_examples', 1594310), ('num_batches', 132866)]))])), ('aggregator', OrderedDict([('mean_value', ()), ('mean_weight', ())])), ('finalizer', OrderedDict([('update_non_finite', 0)]))])\n",
            "round  3, metrics=OrderedDict([('distributor', ()), ('client_work', OrderedDict([('train', OrderedDict([('root_mean_squared_error', 0.10352682), ('loss', 0.05440052), ('num_examples', 1594310), ('num_batches', 132866)]))])), ('aggregator', OrderedDict([('mean_value', ()), ('mean_weight', ())])), ('finalizer', OrderedDict([('update_non_finite', 0)]))])\n",
            "round  4, metrics=OrderedDict([('distributor', ()), ('client_work', OrderedDict([('train', OrderedDict([('root_mean_squared_error', 0.10234188), ('loss', 0.053318873), ('num_examples', 1594310), ('num_batches', 132866)]))])), ('aggregator', OrderedDict([('mean_value', ()), ('mean_weight', ())])), ('finalizer', OrderedDict([('update_non_finite', 0)]))])\n",
            "round  5, metrics=OrderedDict([('distributor', ()), ('client_work', OrderedDict([('train', OrderedDict([('root_mean_squared_error', 0.10169767), ('loss', 0.052704014), ('num_examples', 1594310), ('num_batches', 132866)]))])), ('aggregator', OrderedDict([('mean_value', ()), ('mean_weight', ())])), ('finalizer', OrderedDict([('update_non_finite', 0)]))])\n",
            "round  6, metrics=OrderedDict([('distributor', ()), ('client_work', OrderedDict([('train', OrderedDict([('root_mean_squared_error', 0.10134471), ('loss', 0.052343998), ('num_examples', 1594310), ('num_batches', 132866)]))])), ('aggregator', OrderedDict([('mean_value', ()), ('mean_weight', ())])), ('finalizer', OrderedDict([('update_non_finite', 0)]))])\n",
            "round  7, metrics=OrderedDict([('distributor', ()), ('client_work', OrderedDict([('train', OrderedDict([('root_mean_squared_error', 0.101093076), ('loss', 0.052109767), ('num_examples', 1594310), ('num_batches', 132866)]))])), ('aggregator', OrderedDict([('mean_value', ()), ('mean_weight', ())])), ('finalizer', OrderedDict([('update_non_finite', 0)]))])\n",
            "round  8, metrics=OrderedDict([('distributor', ()), ('client_work', OrderedDict([('train', OrderedDict([('root_mean_squared_error', 0.10094879), ('loss', 0.051928468), ('num_examples', 1594310), ('num_batches', 132866)]))])), ('aggregator', OrderedDict([('mean_value', ()), ('mean_weight', ())])), ('finalizer', OrderedDict([('update_non_finite', 0)]))])\n",
            "round  9, metrics=OrderedDict([('distributor', ()), ('client_work', OrderedDict([('train', OrderedDict([('root_mean_squared_error', 0.10082295), ('loss', 0.05176779), ('num_examples', 1594310), ('num_batches', 132866)]))])), ('aggregator', OrderedDict([('mean_value', ()), ('mean_weight', ())])), ('finalizer', OrderedDict([('update_non_finite', 0)]))])\n",
            "round 10, metrics=OrderedDict([('distributor', ()), ('client_work', OrderedDict([('train', OrderedDict([('root_mean_squared_error', 0.100739926), ('loss', 0.051624686), ('num_examples', 1594310), ('num_batches', 132866)]))])), ('aggregator', OrderedDict([('mean_value', ()), ('mean_weight', ())])), ('finalizer', OrderedDict([('update_non_finite', 0)]))])\n",
            "round 11, metrics=OrderedDict([('distributor', ()), ('client_work', OrderedDict([('train', OrderedDict([('root_mean_squared_error', 0.100586765), ('loss', 0.0514603), ('num_examples', 1594310), ('num_batches', 132866)]))])), ('aggregator', OrderedDict([('mean_value', ()), ('mean_weight', ())])), ('finalizer', OrderedDict([('update_non_finite', 0)]))])\n",
            "round 12, metrics=OrderedDict([('distributor', ()), ('client_work', OrderedDict([('train', OrderedDict([('root_mean_squared_error', 0.1004793), ('loss', 0.051311735), ('num_examples', 1594310), ('num_batches', 132866)]))])), ('aggregator', OrderedDict([('mean_value', ()), ('mean_weight', ())])), ('finalizer', OrderedDict([('update_non_finite', 0)]))])\n",
            "round 13, metrics=OrderedDict([('distributor', ()), ('client_work', OrderedDict([('train', OrderedDict([('root_mean_squared_error', 0.100376144), ('loss', 0.051171225), ('num_examples', 1594310), ('num_batches', 132866)]))])), ('aggregator', OrderedDict([('mean_value', ()), ('mean_weight', ())])), ('finalizer', OrderedDict([('update_non_finite', 0)]))])\n",
            "round 14, metrics=OrderedDict([('distributor', ()), ('client_work', OrderedDict([('train', OrderedDict([('root_mean_squared_error', 0.10028489), ('loss', 0.051056173), ('num_examples', 1594310), ('num_batches', 132866)]))])), ('aggregator', OrderedDict([('mean_value', ()), ('mean_weight', ())])), ('finalizer', OrderedDict([('update_non_finite', 0)]))])\n",
            "round 15, metrics=OrderedDict([('distributor', ()), ('client_work', OrderedDict([('train', OrderedDict([('root_mean_squared_error', 0.100161925), ('loss', 0.050945833), ('num_examples', 1594310), ('num_batches', 132866)]))])), ('aggregator', OrderedDict([('mean_value', ()), ('mean_weight', ())])), ('finalizer', OrderedDict([('update_non_finite', 0)]))])\n",
            "round 16, metrics=OrderedDict([('distributor', ()), ('client_work', OrderedDict([('train', OrderedDict([('root_mean_squared_error', 0.10007525), ('loss', 0.0508448), ('num_examples', 1594310), ('num_batches', 132866)]))])), ('aggregator', OrderedDict([('mean_value', ()), ('mean_weight', ())])), ('finalizer', OrderedDict([('update_non_finite', 0)]))])\n",
            "round 17, metrics=OrderedDict([('distributor', ()), ('client_work', OrderedDict([('train', OrderedDict([('root_mean_squared_error', 0.099974476), ('loss', 0.050746854), ('num_examples', 1594310), ('num_batches', 132866)]))])), ('aggregator', OrderedDict([('mean_value', ()), ('mean_weight', ())])), ('finalizer', OrderedDict([('update_non_finite', 0)]))])\n",
            "round 18, metrics=OrderedDict([('distributor', ()), ('client_work', OrderedDict([('train', OrderedDict([('root_mean_squared_error', 0.0999011), ('loss', 0.05067767), ('num_examples', 1594310), ('num_batches', 132866)]))])), ('aggregator', OrderedDict([('mean_value', ()), ('mean_weight', ())])), ('finalizer', OrderedDict([('update_non_finite', 0)]))])\n",
            "round 19, metrics=OrderedDict([('distributor', ()), ('client_work', OrderedDict([('train', OrderedDict([('root_mean_squared_error', 0.09981472), ('loss', 0.05058785), ('num_examples', 1594310), ('num_batches', 132866)]))])), ('aggregator', OrderedDict([('mean_value', ()), ('mean_weight', ())])), ('finalizer', OrderedDict([('update_non_finite', 0)]))])\n",
            "round 20, metrics=OrderedDict([('distributor', ()), ('client_work', OrderedDict([('train', OrderedDict([('root_mean_squared_error', 0.099741496), ('loss', 0.050523072), ('num_examples', 1594310), ('num_batches', 132866)]))])), ('aggregator', OrderedDict([('mean_value', ()), ('mean_weight', ())])), ('finalizer', OrderedDict([('update_non_finite', 0)]))])\n"
          ]
        }
      ],
      "source": [
        "NUM_ROUNDS = 21\n",
        "for round_num in range(2, NUM_ROUNDS):\n",
        "  result = training_process.next(train_state, federated_train_data_12)\n",
        "  train_state = result.state\n",
        "  train_metrics = result.metrics\n",
        "  print('round {:2d}, metrics={}'.format(round_num, train_metrics))"
      ]
    },
    {
      "cell_type": "code",
      "execution_count": null,
      "metadata": {
        "colab": {
          "base_uri": "https://localhost:8080/",
          "height": 487
        },
        "id": "Ma_T0aopc1Yg",
        "outputId": "23a40ded-c4ea-4b1c-f32d-7fd8c792d117"
      },
      "outputs": [
        {
          "data": {
            "image/png": "[encoded data removed]",
            "text/plain": [
              "<Figure size 640x480 with 1 Axes>"
            ]
          },
          "metadata": {},
          "output_type": "display_data"
        }
      ],
      "source": [
        "import matplotlib.pyplot as plt\n",
        "\n",
        "months = ['January', 'February', 'March', 'April', 'May', 'June', 'July', 'August', 'September', 'October', 'November', 'December', 'Average']\n",
        "\n",
        "federated_rmse = [0.1512, 0.1403, 0.2300, 0.1860, 0.1450, 0.1004, 0.1311, 0.1217, 0.1515, 0.1426, 0.1768, 0.1342, 0.1509]\n",
        "centralized_rmse = [0.2069, 0.2114, 0.2078, 0.1789, 0.1899, 0.1570, 0.1785, 0.1943, 0.2022, 0.1963, 0.2037, 0.2152, 0.195175]\n",
        "\n",
        "# Set the width of the bars\n",
        "bar_width = 0.35\n",
        "\n",
        "# Set the position of the bars on the X-axis\n",
        "r1 = range(len(months))\n",
        "r2 = [x + bar_width for x in r1]\n",
        "\n",
        "# Create the bar graph\n",
        "plt.bar(r1, federated_rmse, color='b', width=bar_width, edgecolor='black', label='Federated')\n",
        "plt.bar(r2, centralized_rmse, color='g', width=bar_width, edgecolor='black', label='Centralized')\n",
        "\n",
        "# Add labels, title, and legend\n",
        "plt.xlabel('Month')\n",
        "plt.ylabel('RMSE')\n",
        "plt.title('Cluster 04 - Federated vs Centralized Monthly RMSE')\n",
        "plt.xticks([r + bar_width/2 for r in range(len(months))], months)\n",
        "plt.legend()\n",
        "\n",
        "# Show the plot\n",
        "plt.tight_layout()\n",
        "plt.show()\n"
      ]
    },
    {
      "cell_type": "code",
      "execution_count": null,
      "metadata": {
        "colab": {
          "base_uri": "https://localhost:8080/",
          "height": 542
        },
        "id": "3IweqGv_EUhB",
        "outputId": "3396ffac-48e5-495f-9df8-978c76de6bfd"
      },
      "outputs": [
        {
          "data": {
            "text/html": [
              "<html>\n",
              "<head><meta charset=\"utf-8\" /></head>\n",
              "<body>\n",
              "    <div>            <script src=\"https://cdnjs.cloudflare.com/ajax/libs/mathjax/2.7.5/MathJax.js?config=TeX-AMS-MML_SVG\"></script><script type=\"text/javascript\">if (window.MathJax && window.MathJax.Hub && window.MathJax.Hub.Config) {window.MathJax.Hub.Config({SVG: {font: \"STIX-Web\"}});}</script>                <script type=\"text/javascript\">window.PlotlyConfig = {MathJaxConfig: 'local'};</script>\n",
              "        <script src=\"https://cdn.plot.ly/plotly-2.18.2.min.js\"></script>                <div id=\"9b3750e1-dd66-4fa5-8045-f637de041ceb\" class=\"plotly-graph-div\" style=\"height:525px; width:100%;\"></div>            <script type=\"text/javascript\">                                    window.PLOTLYENV=window.PLOTLYENV || {};                                    if (document.getElementById(\"9b3750e1-dd66-4fa5-8045-f637de041ceb\")) {                    Plotly.newPlot(                        \"9b3750e1-dd66-4fa5-8045-f637de041ceb\",                        [{\"mode\":\"lines\",\"name\":\"Cluster 08\",\"x\":[1,2,3,4,5,6,7,8,9,10,11,12,13,14,15,16,17,18,19,20],\"y\":[0.06737575,0.06293772,0.060796063,0.05940758,0.058408998,0.057648093,0.05703,0.056526024,0.05610915,0.055751048,0.05542996,0.055151854,0.054903667,0.05467346,0.05447607,0.054296006,0.054134406,0.053993754,0.05387066,0.053758096],\"type\":\"scatter\"},{\"mode\":\"lines\",\"name\":\"Cluster 09\",\"x\":[1,2,3,4,5,6,7,8,9,10,11,12,13,14,15,16,17,18,19,20],\"y\":[0.07034567,0.06416719,0.061836798,0.060558915,0.059689056,0.059010174,0.058474753,0.058048673,0.057682555,0.057362556,0.057089813,0.056855284,0.056644276,0.056458063,0.05630099,0.056166247,0.05603734,0.055925187,0.05582829,0.05573636],\"type\":\"scatter\"}],                        {\"title\":{\"text\":\"Mean Absolute Error (MAE) of Load Forecasting vs. Federated Rounds\"},\"xaxis\":{\"title\":{\"text\":\"Federated Rounds\"}},\"yaxis\":{\"title\":{\"text\":\"Training data - MAE\"}},\"template\":{\"data\":{\"histogram2dcontour\":[{\"type\":\"histogram2dcontour\",\"colorbar\":{\"outlinewidth\":0,\"ticks\":\"\"},\"colorscale\":[[0.0,\"#0d0887\"],[0.1111111111111111,\"#46039f\"],[0.2222222222222222,\"#7201a8\"],[0.3333333333333333,\"#9c179e\"],[0.4444444444444444,\"#bd3786\"],[0.5555555555555556,\"#d8576b\"],[0.6666666666666666,\"#ed7953\"],[0.7777777777777778,\"#fb9f3a\"],[0.8888888888888888,\"#fdca26\"],[1.0,\"#f0f921\"]]}],\"choropleth\":[{\"type\":\"choropleth\",\"colorbar\":{\"outlinewidth\":0,\"ticks\":\"\"}}],\"histogram2d\":[{\"type\":\"histogram2d\",\"colorbar\":{\"outlinewidth\":0,\"ticks\":\"\"},\"colorscale\":[[0.0,\"#0d0887\"],[0.1111111111111111,\"#46039f\"],[0.2222222222222222,\"#7201a8\"],[0.3333333333333333,\"#9c179e\"],[0.4444444444444444,\"#bd3786\"],[0.5555555555555556,\"#d8576b\"],[0.6666666666666666,\"#ed7953\"],[0.7777777777777778,\"#fb9f3a\"],[0.8888888888888888,\"#fdca26\"],[1.0,\"#f0f921\"]]}],\"heatmap\":[{\"type\":\"heatmap\",\"colorbar\":{\"outlinewidth\":0,\"ticks\":\"\"},\"colorscale\":[[0.0,\"#0d0887\"],[0.1111111111111111,\"#46039f\"],[0.2222222222222222,\"#7201a8\"],[0.3333333333333333,\"#9c179e\"],[0.4444444444444444,\"#bd3786\"],[0.5555555555555556,\"#d8576b\"],[0.6666666666666666,\"#ed7953\"],[0.7777777777777778,\"#fb9f3a\"],[0.8888888888888888,\"#fdca26\"],[1.0,\"#f0f921\"]]}],\"heatmapgl\":[{\"type\":\"heatmapgl\",\"colorbar\":{\"outlinewidth\":0,\"ticks\":\"\"},\"colorscale\":[[0.0,\"#0d0887\"],[0.1111111111111111,\"#46039f\"],[0.2222222222222222,\"#7201a8\"],[0.3333333333333333,\"#9c179e\"],[0.4444444444444444,\"#bd3786\"],[0.5555555555555556,\"#d8576b\"],[0.6666666666666666,\"#ed7953\"],[0.7777777777777778,\"#fb9f3a\"],[0.8888888888888888,\"#fdca26\"],[1.0,\"#f0f921\"]]}],\"contourcarpet\":[{\"type\":\"contourcarpet\",\"colorbar\":{\"outlinewidth\":0,\"ticks\":\"\"}}],\"contour\":[{\"type\":\"contour\",\"colorbar\":{\"outlinewidth\":0,\"ticks\":\"\"},\"colorscale\":[[0.0,\"#0d0887\"],[0.1111111111111111,\"#46039f\"],[0.2222222222222222,\"#7201a8\"],[0.3333333333333333,\"#9c179e\"],[0.4444444444444444,\"#bd3786\"],[0.5555555555555556,\"#d8576b\"],[0.6666666666666666,\"#ed7953\"],[0.7777777777777778,\"#fb9f3a\"],[0.8888888888888888,\"#fdca26\"],[1.0,\"#f0f921\"]]}],\"surface\":[{\"type\":\"surface\",\"colorbar\":{\"outlinewidth\":0,\"ticks\":\"\"},\"colorscale\":[[0.0,\"#0d0887\"],[0.1111111111111111,\"#46039f\"],[0.2222222222222222,\"#7201a8\"],[0.3333333333333333,\"#9c179e\"],[0.4444444444444444,\"#bd3786\"],[0.5555555555555556,\"#d8576b\"],[0.6666666666666666,\"#ed7953\"],[0.7777777777777778,\"#fb9f3a\"],[0.8888888888888888,\"#fdca26\"],[1.0,\"#f0f921\"]]}],\"mesh3d\":[{\"type\":\"mesh3d\",\"colorbar\":{\"outlinewidth\":0,\"ticks\":\"\"}}],\"scatter\":[{\"fillpattern\":{\"fillmode\":\"overlay\",\"size\":10,\"solidity\":0.2},\"type\":\"scatter\"}],\"parcoords\":[{\"type\":\"parcoords\",\"line\":{\"colorbar\":{\"outlinewidth\":0,\"ticks\":\"\"}}}],\"scatterpolargl\":[{\"type\":\"scatterpolargl\",\"marker\":{\"colorbar\":{\"outlinewidth\":0,\"ticks\":\"\"}}}],\"bar\":[{\"error_x\":{\"color\":\"#2a3f5f\"},\"error_y\":{\"color\":\"#2a3f5f\"},\"marker\":{\"line\":{\"color\":\"#E5ECF6\",\"width\":0.5},\"pattern\":{\"fillmode\":\"overlay\",\"size\":10,\"solidity\":0.2}},\"type\":\"bar\"}],\"scattergeo\":[{\"type\":\"scattergeo\",\"marker\":{\"colorbar\":{\"outlinewidth\":0,\"ticks\":\"\"}}}],\"scatterpolar\":[{\"type\":\"scatterpolar\",\"marker\":{\"colorbar\":{\"outlinewidth\":0,\"ticks\":\"\"}}}],\"histogram\":[{\"marker\":{\"pattern\":{\"fillmode\":\"overlay\",\"size\":10,\"solidity\":0.2}},\"type\":\"histogram\"}],\"scattergl\":[{\"type\":\"scattergl\",\"marker\":{\"colorbar\":{\"outlinewidth\":0,\"ticks\":\"\"}}}],\"scatter3d\":[{\"type\":\"scatter3d\",\"line\":{\"colorbar\":{\"outlinewidth\":0,\"ticks\":\"\"}},\"marker\":{\"colorbar\":{\"outlinewidth\":0,\"ticks\":\"\"}}}],\"scattermapbox\":[{\"type\":\"scattermapbox\",\"marker\":{\"colorbar\":{\"outlinewidth\":0,\"ticks\":\"\"}}}],\"scatterternary\":[{\"type\":\"scatterternary\",\"marker\":{\"colorbar\":{\"outlinewidth\":0,\"ticks\":\"\"}}}],\"scattercarpet\":[{\"type\":\"scattercarpet\",\"marker\":{\"colorbar\":{\"outlinewidth\":0,\"ticks\":\"\"}}}],\"carpet\":[{\"aaxis\":{\"endlinecolor\":\"#2a3f5f\",\"gridcolor\":\"white\",\"linecolor\":\"white\",\"minorgridcolor\":\"white\",\"startlinecolor\":\"#2a3f5f\"},\"baxis\":{\"endlinecolor\":\"#2a3f5f\",\"gridcolor\":\"white\",\"linecolor\":\"white\",\"minorgridcolor\":\"white\",\"startlinecolor\":\"#2a3f5f\"},\"type\":\"carpet\"}],\"table\":[{\"cells\":{\"fill\":{\"color\":\"#EBF0F8\"},\"line\":{\"color\":\"white\"}},\"header\":{\"fill\":{\"color\":\"#C8D4E3\"},\"line\":{\"color\":\"white\"}},\"type\":\"table\"}],\"barpolar\":[{\"marker\":{\"line\":{\"color\":\"#E5ECF6\",\"width\":0.5},\"pattern\":{\"fillmode\":\"overlay\",\"size\":10,\"solidity\":0.2}},\"type\":\"barpolar\"}],\"pie\":[{\"automargin\":true,\"type\":\"pie\"}]},\"layout\":{\"autotypenumbers\":\"strict\",\"colorway\":[\"#636efa\",\"#EF553B\",\"#00cc96\",\"#ab63fa\",\"#FFA15A\",\"#19d3f3\",\"#FF6692\",\"#B6E880\",\"#FF97FF\",\"#FECB52\"],\"font\":{\"color\":\"#2a3f5f\"},\"hovermode\":\"closest\",\"hoverlabel\":{\"align\":\"left\"},\"paper_bgcolor\":\"white\",\"plot_bgcolor\":\"#E5ECF6\",\"polar\":{\"bgcolor\":\"#E5ECF6\",\"angularaxis\":{\"gridcolor\":\"white\",\"linecolor\":\"white\",\"ticks\":\"\"},\"radialaxis\":{\"gridcolor\":\"white\",\"linecolor\":\"white\",\"ticks\":\"\"}},\"ternary\":{\"bgcolor\":\"#E5ECF6\",\"aaxis\":{\"gridcolor\":\"white\",\"linecolor\":\"white\",\"ticks\":\"\"},\"baxis\":{\"gridcolor\":\"white\",\"linecolor\":\"white\",\"ticks\":\"\"},\"caxis\":{\"gridcolor\":\"white\",\"linecolor\":\"white\",\"ticks\":\"\"}},\"coloraxis\":{\"colorbar\":{\"outlinewidth\":0,\"ticks\":\"\"}},\"colorscale\":{\"sequential\":[[0.0,\"#0d0887\"],[0.1111111111111111,\"#46039f\"],[0.2222222222222222,\"#7201a8\"],[0.3333333333333333,\"#9c179e\"],[0.4444444444444444,\"#bd3786\"],[0.5555555555555556,\"#d8576b\"],[0.6666666666666666,\"#ed7953\"],[0.7777777777777778,\"#fb9f3a\"],[0.8888888888888888,\"#fdca26\"],[1.0,\"#f0f921\"]],\"sequentialminus\":[[0.0,\"#0d0887\"],[0.1111111111111111,\"#46039f\"],[0.2222222222222222,\"#7201a8\"],[0.3333333333333333,\"#9c179e\"],[0.4444444444444444,\"#bd3786\"],[0.5555555555555556,\"#d8576b\"],[0.6666666666666666,\"#ed7953\"],[0.7777777777777778,\"#fb9f3a\"],[0.8888888888888888,\"#fdca26\"],[1.0,\"#f0f921\"]],\"diverging\":[[0,\"#8e0152\"],[0.1,\"#c51b7d\"],[0.2,\"#de77ae\"],[0.3,\"#f1b6da\"],[0.4,\"#fde0ef\"],[0.5,\"#f7f7f7\"],[0.6,\"#e6f5d0\"],[0.7,\"#b8e186\"],[0.8,\"#7fbc41\"],[0.9,\"#4d9221\"],[1,\"#276419\"]]},\"xaxis\":{\"gridcolor\":\"white\",\"linecolor\":\"white\",\"ticks\":\"\",\"title\":{\"standoff\":15},\"zerolinecolor\":\"white\",\"automargin\":true,\"zerolinewidth\":2},\"yaxis\":{\"gridcolor\":\"white\",\"linecolor\":\"white\",\"ticks\":\"\",\"title\":{\"standoff\":15},\"zerolinecolor\":\"white\",\"automargin\":true,\"zerolinewidth\":2},\"scene\":{\"xaxis\":{\"backgroundcolor\":\"#E5ECF6\",\"gridcolor\":\"white\",\"linecolor\":\"white\",\"showbackground\":true,\"ticks\":\"\",\"zerolinecolor\":\"white\",\"gridwidth\":2},\"yaxis\":{\"backgroundcolor\":\"#E5ECF6\",\"gridcolor\":\"white\",\"linecolor\":\"white\",\"showbackground\":true,\"ticks\":\"\",\"zerolinecolor\":\"white\",\"gridwidth\":2},\"zaxis\":{\"backgroundcolor\":\"#E5ECF6\",\"gridcolor\":\"white\",\"linecolor\":\"white\",\"showbackground\":true,\"ticks\":\"\",\"zerolinecolor\":\"white\",\"gridwidth\":2}},\"shapedefaults\":{\"line\":{\"color\":\"#2a3f5f\"}},\"annotationdefaults\":{\"arrowcolor\":\"#2a3f5f\",\"arrowhead\":0,\"arrowwidth\":1},\"geo\":{\"bgcolor\":\"white\",\"landcolor\":\"#E5ECF6\",\"subunitcolor\":\"white\",\"showland\":true,\"showlakes\":true,\"lakecolor\":\"white\"},\"title\":{\"x\":0.05},\"mapbox\":{\"style\":\"light\"}}}},                        {\"responsive\": true}                    ).then(function(){\n",
              "                            \n",
              "var gd = document.getElementById('9b3750e1-dd66-4fa5-8045-f637de041ceb');\n",
              "var x = new MutationObserver(function (mutations, observer) {{\n",
              "        var display = window.getComputedStyle(gd).display;\n",
              "        if (!display || display === 'none') {{\n",
              "            console.log([gd, 'removed!']);\n",
              "            Plotly.purge(gd);\n",
              "            observer.disconnect();\n",
              "        }}\n",
              "}});\n",
              "\n",
              "// Listen for the removal of the full notebook cells\n",
              "var notebookContainer = gd.closest('#notebook-container');\n",
              "if (notebookContainer) {{\n",
              "    x.observe(notebookContainer, {childList: true});\n",
              "}}\n",
              "\n",
              "// Listen for the clearing of the current output cell\n",
              "var outputEl = gd.closest('.output');\n",
              "if (outputEl) {{\n",
              "    x.observe(outputEl, {childList: true});\n",
              "}}\n",
              "\n",
              "                        })                };                            </script>        </div>\n",
              "</body>\n",
              "</html>"
            ]
          },
          "metadata": {},
          "output_type": "display_data"
        }
      ],
      "source": [
        "import plotly.graph_objects as go\n",
        "\n",
        "# Data for Cluster 08\n",
        "rounds_1 = list(range(1, 21))\n",
        "mae_1 = [\n",
        "    0.06737575, 0.06293772, 0.060796063, 0.05940758, 0.058408998,\n",
        "    0.057648093, 0.05703, 0.056526024, 0.05610915, 0.055751048,\n",
        "    0.05542996, 0.055151854, 0.054903667, 0.05467346, 0.05447607,\n",
        "    0.054296006, 0.054134406, 0.053993754, 0.05387066, 0.053758096\n",
        "]\n",
        "\n",
        "# Data for Cluster 09\n",
        "rounds_2 = list(range(1, 21))\n",
        "mae_2 = [\n",
        "    0.07034567, 0.06416719, 0.061836798, 0.060558915, 0.059689056,\n",
        "    0.059010174, 0.058474753, 0.058048673, 0.057682555, 0.057362556,\n",
        "    0.057089813, 0.056855284, 0.056644276, 0.056458063, 0.05630099,\n",
        "    0.056166247, 0.05603734, 0.055925187, 0.05582829, 0.05573636\n",
        "]\n",
        "\n",
        "# Creating trace for Cluster 08\n",
        "trace1 = go.Scatter(\n",
        "    x=rounds_1,\n",
        "    y=mae_1,\n",
        "    mode='lines',\n",
        "    name='Cluster 08'\n",
        ")\n",
        "\n",
        "# Creating trace for Cluster 09\n",
        "trace2 = go.Scatter(\n",
        "    x=rounds_2,\n",
        "    y=mae_2,\n",
        "    mode='lines',\n",
        "    name='Cluster 09'\n",
        ")\n",
        "\n",
        "# Creating data list\n",
        "data = [trace1, trace2]\n",
        "\n",
        "# Creating layout\n",
        "layout = go.Layout(\n",
        "    title='Mean Absolute Error (MAE) of Load Forecasting vs. Federated Rounds',\n",
        "    xaxis=dict(title='Federated Rounds'),\n",
        "    yaxis=dict(title='Training data - MAE')\n",
        ")\n",
        "\n",
        "# Creating figure\n",
        "fig = go.Figure(data=data, layout=layout)\n",
        "\n",
        "# Displaying the graph\n",
        "fig.show()\n"
      ]
    },
    {
      "cell_type": "code",
      "execution_count": null,
      "metadata": {
        "colab": {
          "base_uri": "https://localhost:8080/",
          "height": 542
        },
        "id": "iLXU4eeVbMAy",
        "outputId": "fff0f530-df19-4f95-cd1b-6674d02408ca"
      },
      "outputs": [
        {
          "data": {
            "text/html": [
              "<html>\n",
              "<head><meta charset=\"utf-8\" /></head>\n",
              "<body>\n",
              "    <div>            <script src=\"https://cdnjs.cloudflare.com/ajax/libs/mathjax/2.7.5/MathJax.js?config=TeX-AMS-MML_SVG\"></script><script type=\"text/javascript\">if (window.MathJax && window.MathJax.Hub && window.MathJax.Hub.Config) {window.MathJax.Hub.Config({SVG: {font: \"STIX-Web\"}});}</script>                <script type=\"text/javascript\">window.PlotlyConfig = {MathJaxConfig: 'local'};</script>\n",
              "        <script src=\"https://cdn.plot.ly/plotly-2.18.2.min.js\"></script>                <div id=\"11a00cab-ada0-4d92-8f66-729dfd78493f\" class=\"plotly-graph-div\" style=\"height:525px; width:100%;\"></div>            <script type=\"text/javascript\">                                    window.PLOTLYENV=window.PLOTLYENV || {};                                    if (document.getElementById(\"11a00cab-ada0-4d92-8f66-729dfd78493f\")) {                    Plotly.newPlot(                        \"11a00cab-ada0-4d92-8f66-729dfd78493f\",                        [{\"mode\":\"lines\",\"name\":\"Cluster 04\",\"x\":[1,2,3,4,5,6,7,8,9,10,11,12,13,14,15,16,17,18,19,20],\"y\":[0.11573566,0.10361333,0.09922377,0.09694171,0.09549518,0.094502784,0.09377624,0.09319854,0.09278589,0.09244496,0.0921646,0.09189611,0.09168941,0.09149853,0.09130679,0.09120082,0.09106272,0.09095054,0.09086295,0.090747595],\"type\":\"scatter\"},{\"mode\":\"lines\",\"name\":\"Cluster 14\",\"x\":[1,2,3,4,5,6,7,8,9,10,11,12,13,14,15,16,17,18,19,20],\"y\":[0.1708811,0.1584751,0.15332645,0.15120173,0.14984801,0.14892414,0.14833829,0.14782089,0.14744286,0.14694408,0.14646958,0.14602049,0.14571527,0.14540415,0.14500421,0.1446545,0.14432915,0.14402962,0.14367345,0.14337786],\"type\":\"scatter\"}],                        {\"title\":{\"text\":\"Mean Absolute Error (MAE) of Load Forecasting vs. Federated Rounds\"},\"xaxis\":{\"title\":{\"text\":\"Federated Rounds\"}},\"yaxis\":{\"title\":{\"text\":\"Training data - MAE\"}},\"template\":{\"data\":{\"histogram2dcontour\":[{\"type\":\"histogram2dcontour\",\"colorbar\":{\"outlinewidth\":0,\"ticks\":\"\"},\"colorscale\":[[0.0,\"#0d0887\"],[0.1111111111111111,\"#46039f\"],[0.2222222222222222,\"#7201a8\"],[0.3333333333333333,\"#9c179e\"],[0.4444444444444444,\"#bd3786\"],[0.5555555555555556,\"#d8576b\"],[0.6666666666666666,\"#ed7953\"],[0.7777777777777778,\"#fb9f3a\"],[0.8888888888888888,\"#fdca26\"],[1.0,\"#f0f921\"]]}],\"choropleth\":[{\"type\":\"choropleth\",\"colorbar\":{\"outlinewidth\":0,\"ticks\":\"\"}}],\"histogram2d\":[{\"type\":\"histogram2d\",\"colorbar\":{\"outlinewidth\":0,\"ticks\":\"\"},\"colorscale\":[[0.0,\"#0d0887\"],[0.1111111111111111,\"#46039f\"],[0.2222222222222222,\"#7201a8\"],[0.3333333333333333,\"#9c179e\"],[0.4444444444444444,\"#bd3786\"],[0.5555555555555556,\"#d8576b\"],[0.6666666666666666,\"#ed7953\"],[0.7777777777777778,\"#fb9f3a\"],[0.8888888888888888,\"#fdca26\"],[1.0,\"#f0f921\"]]}],\"heatmap\":[{\"type\":\"heatmap\",\"colorbar\":{\"outlinewidth\":0,\"ticks\":\"\"},\"colorscale\":[[0.0,\"#0d0887\"],[0.1111111111111111,\"#46039f\"],[0.2222222222222222,\"#7201a8\"],[0.3333333333333333,\"#9c179e\"],[0.4444444444444444,\"#bd3786\"],[0.5555555555555556,\"#d8576b\"],[0.6666666666666666,\"#ed7953\"],[0.7777777777777778,\"#fb9f3a\"],[0.8888888888888888,\"#fdca26\"],[1.0,\"#f0f921\"]]}],\"heatmapgl\":[{\"type\":\"heatmapgl\",\"colorbar\":{\"outlinewidth\":0,\"ticks\":\"\"},\"colorscale\":[[0.0,\"#0d0887\"],[0.1111111111111111,\"#46039f\"],[0.2222222222222222,\"#7201a8\"],[0.3333333333333333,\"#9c179e\"],[0.4444444444444444,\"#bd3786\"],[0.5555555555555556,\"#d8576b\"],[0.6666666666666666,\"#ed7953\"],[0.7777777777777778,\"#fb9f3a\"],[0.8888888888888888,\"#fdca26\"],[1.0,\"#f0f921\"]]}],\"contourcarpet\":[{\"type\":\"contourcarpet\",\"colorbar\":{\"outlinewidth\":0,\"ticks\":\"\"}}],\"contour\":[{\"type\":\"contour\",\"colorbar\":{\"outlinewidth\":0,\"ticks\":\"\"},\"colorscale\":[[0.0,\"#0d0887\"],[0.1111111111111111,\"#46039f\"],[0.2222222222222222,\"#7201a8\"],[0.3333333333333333,\"#9c179e\"],[0.4444444444444444,\"#bd3786\"],[0.5555555555555556,\"#d8576b\"],[0.6666666666666666,\"#ed7953\"],[0.7777777777777778,\"#fb9f3a\"],[0.8888888888888888,\"#fdca26\"],[1.0,\"#f0f921\"]]}],\"surface\":[{\"type\":\"surface\",\"colorbar\":{\"outlinewidth\":0,\"ticks\":\"\"},\"colorscale\":[[0.0,\"#0d0887\"],[0.1111111111111111,\"#46039f\"],[0.2222222222222222,\"#7201a8\"],[0.3333333333333333,\"#9c179e\"],[0.4444444444444444,\"#bd3786\"],[0.5555555555555556,\"#d8576b\"],[0.6666666666666666,\"#ed7953\"],[0.7777777777777778,\"#fb9f3a\"],[0.8888888888888888,\"#fdca26\"],[1.0,\"#f0f921\"]]}],\"mesh3d\":[{\"type\":\"mesh3d\",\"colorbar\":{\"outlinewidth\":0,\"ticks\":\"\"}}],\"scatter\":[{\"fillpattern\":{\"fillmode\":\"overlay\",\"size\":10,\"solidity\":0.2},\"type\":\"scatter\"}],\"parcoords\":[{\"type\":\"parcoords\",\"line\":{\"colorbar\":{\"outlinewidth\":0,\"ticks\":\"\"}}}],\"scatterpolargl\":[{\"type\":\"scatterpolargl\",\"marker\":{\"colorbar\":{\"outlinewidth\":0,\"ticks\":\"\"}}}],\"bar\":[{\"error_x\":{\"color\":\"#2a3f5f\"},\"error_y\":{\"color\":\"#2a3f5f\"},\"marker\":{\"line\":{\"color\":\"#E5ECF6\",\"width\":0.5},\"pattern\":{\"fillmode\":\"overlay\",\"size\":10,\"solidity\":0.2}},\"type\":\"bar\"}],\"scattergeo\":[{\"type\":\"scattergeo\",\"marker\":{\"colorbar\":{\"outlinewidth\":0,\"ticks\":\"\"}}}],\"scatterpolar\":[{\"type\":\"scatterpolar\",\"marker\":{\"colorbar\":{\"outlinewidth\":0,\"ticks\":\"\"}}}],\"histogram\":[{\"marker\":{\"pattern\":{\"fillmode\":\"overlay\",\"size\":10,\"solidity\":0.2}},\"type\":\"histogram\"}],\"scattergl\":[{\"type\":\"scattergl\",\"marker\":{\"colorbar\":{\"outlinewidth\":0,\"ticks\":\"\"}}}],\"scatter3d\":[{\"type\":\"scatter3d\",\"line\":{\"colorbar\":{\"outlinewidth\":0,\"ticks\":\"\"}},\"marker\":{\"colorbar\":{\"outlinewidth\":0,\"ticks\":\"\"}}}],\"scattermapbox\":[{\"type\":\"scattermapbox\",\"marker\":{\"colorbar\":{\"outlinewidth\":0,\"ticks\":\"\"}}}],\"scatterternary\":[{\"type\":\"scatterternary\",\"marker\":{\"colorbar\":{\"outlinewidth\":0,\"ticks\":\"\"}}}],\"scattercarpet\":[{\"type\":\"scattercarpet\",\"marker\":{\"colorbar\":{\"outlinewidth\":0,\"ticks\":\"\"}}}],\"carpet\":[{\"aaxis\":{\"endlinecolor\":\"#2a3f5f\",\"gridcolor\":\"white\",\"linecolor\":\"white\",\"minorgridcolor\":\"white\",\"startlinecolor\":\"#2a3f5f\"},\"baxis\":{\"endlinecolor\":\"#2a3f5f\",\"gridcolor\":\"white\",\"linecolor\":\"white\",\"minorgridcolor\":\"white\",\"startlinecolor\":\"#2a3f5f\"},\"type\":\"carpet\"}],\"table\":[{\"cells\":{\"fill\":{\"color\":\"#EBF0F8\"},\"line\":{\"color\":\"white\"}},\"header\":{\"fill\":{\"color\":\"#C8D4E3\"},\"line\":{\"color\":\"white\"}},\"type\":\"table\"}],\"barpolar\":[{\"marker\":{\"line\":{\"color\":\"#E5ECF6\",\"width\":0.5},\"pattern\":{\"fillmode\":\"overlay\",\"size\":10,\"solidity\":0.2}},\"type\":\"barpolar\"}],\"pie\":[{\"automargin\":true,\"type\":\"pie\"}]},\"layout\":{\"autotypenumbers\":\"strict\",\"colorway\":[\"#636efa\",\"#EF553B\",\"#00cc96\",\"#ab63fa\",\"#FFA15A\",\"#19d3f3\",\"#FF6692\",\"#B6E880\",\"#FF97FF\",\"#FECB52\"],\"font\":{\"color\":\"#2a3f5f\"},\"hovermode\":\"closest\",\"hoverlabel\":{\"align\":\"left\"},\"paper_bgcolor\":\"white\",\"plot_bgcolor\":\"#E5ECF6\",\"polar\":{\"bgcolor\":\"#E5ECF6\",\"angularaxis\":{\"gridcolor\":\"white\",\"linecolor\":\"white\",\"ticks\":\"\"},\"radialaxis\":{\"gridcolor\":\"white\",\"linecolor\":\"white\",\"ticks\":\"\"}},\"ternary\":{\"bgcolor\":\"#E5ECF6\",\"aaxis\":{\"gridcolor\":\"white\",\"linecolor\":\"white\",\"ticks\":\"\"},\"baxis\":{\"gridcolor\":\"white\",\"linecolor\":\"white\",\"ticks\":\"\"},\"caxis\":{\"gridcolor\":\"white\",\"linecolor\":\"white\",\"ticks\":\"\"}},\"coloraxis\":{\"colorbar\":{\"outlinewidth\":0,\"ticks\":\"\"}},\"colorscale\":{\"sequential\":[[0.0,\"#0d0887\"],[0.1111111111111111,\"#46039f\"],[0.2222222222222222,\"#7201a8\"],[0.3333333333333333,\"#9c179e\"],[0.4444444444444444,\"#bd3786\"],[0.5555555555555556,\"#d8576b\"],[0.6666666666666666,\"#ed7953\"],[0.7777777777777778,\"#fb9f3a\"],[0.8888888888888888,\"#fdca26\"],[1.0,\"#f0f921\"]],\"sequentialminus\":[[0.0,\"#0d0887\"],[0.1111111111111111,\"#46039f\"],[0.2222222222222222,\"#7201a8\"],[0.3333333333333333,\"#9c179e\"],[0.4444444444444444,\"#bd3786\"],[0.5555555555555556,\"#d8576b\"],[0.6666666666666666,\"#ed7953\"],[0.7777777777777778,\"#fb9f3a\"],[0.8888888888888888,\"#fdca26\"],[1.0,\"#f0f921\"]],\"diverging\":[[0,\"#8e0152\"],[0.1,\"#c51b7d\"],[0.2,\"#de77ae\"],[0.3,\"#f1b6da\"],[0.4,\"#fde0ef\"],[0.5,\"#f7f7f7\"],[0.6,\"#e6f5d0\"],[0.7,\"#b8e186\"],[0.8,\"#7fbc41\"],[0.9,\"#4d9221\"],[1,\"#276419\"]]},\"xaxis\":{\"gridcolor\":\"white\",\"linecolor\":\"white\",\"ticks\":\"\",\"title\":{\"standoff\":15},\"zerolinecolor\":\"white\",\"automargin\":true,\"zerolinewidth\":2},\"yaxis\":{\"gridcolor\":\"white\",\"linecolor\":\"white\",\"ticks\":\"\",\"title\":{\"standoff\":15},\"zerolinecolor\":\"white\",\"automargin\":true,\"zerolinewidth\":2},\"scene\":{\"xaxis\":{\"backgroundcolor\":\"#E5ECF6\",\"gridcolor\":\"white\",\"linecolor\":\"white\",\"showbackground\":true,\"ticks\":\"\",\"zerolinecolor\":\"white\",\"gridwidth\":2},\"yaxis\":{\"backgroundcolor\":\"#E5ECF6\",\"gridcolor\":\"white\",\"linecolor\":\"white\",\"showbackground\":true,\"ticks\":\"\",\"zerolinecolor\":\"white\",\"gridwidth\":2},\"zaxis\":{\"backgroundcolor\":\"#E5ECF6\",\"gridcolor\":\"white\",\"linecolor\":\"white\",\"showbackground\":true,\"ticks\":\"\",\"zerolinecolor\":\"white\",\"gridwidth\":2}},\"shapedefaults\":{\"line\":{\"color\":\"#2a3f5f\"}},\"annotationdefaults\":{\"arrowcolor\":\"#2a3f5f\",\"arrowhead\":0,\"arrowwidth\":1},\"geo\":{\"bgcolor\":\"white\",\"landcolor\":\"#E5ECF6\",\"subunitcolor\":\"white\",\"showland\":true,\"showlakes\":true,\"lakecolor\":\"white\"},\"title\":{\"x\":0.05},\"mapbox\":{\"style\":\"light\"}}}},                        {\"responsive\": true}                    ).then(function(){\n",
              "                            \n",
              "var gd = document.getElementById('11a00cab-ada0-4d92-8f66-729dfd78493f');\n",
              "var x = new MutationObserver(function (mutations, observer) {{\n",
              "        var display = window.getComputedStyle(gd).display;\n",
              "        if (!display || display === 'none') {{\n",
              "            console.log([gd, 'removed!']);\n",
              "            Plotly.purge(gd);\n",
              "            observer.disconnect();\n",
              "        }}\n",
              "}});\n",
              "\n",
              "// Listen for the removal of the full notebook cells\n",
              "var notebookContainer = gd.closest('#notebook-container');\n",
              "if (notebookContainer) {{\n",
              "    x.observe(notebookContainer, {childList: true});\n",
              "}}\n",
              "\n",
              "// Listen for the clearing of the current output cell\n",
              "var outputEl = gd.closest('.output');\n",
              "if (outputEl) {{\n",
              "    x.observe(outputEl, {childList: true});\n",
              "}}\n",
              "\n",
              "                        })                };                            </script>        </div>\n",
              "</body>\n",
              "</html>"
            ]
          },
          "metadata": {},
          "output_type": "display_data"
        }
      ],
      "source": [
        "import plotly.graph_objects as go\n",
        "\n",
        "# Data for Cluster 04\n",
        "rounds_1 = list(range(1, 21))\n",
        "mae_1 = [\n",
        "    0.11573566, 0.10361333, 0.09922377, 0.09694171, 0.09549518,\n",
        "    0.094502784, 0.09377624, 0.09319854, 0.09278589, 0.09244496,\n",
        "    0.0921646, 0.09189611, 0.09168941, 0.09149853, 0.09130679,\n",
        "    0.09120082, 0.09106272, 0.09095054, 0.09086295, 0.090747595\n",
        "]\n",
        "\n",
        "# Data for Cluster 14\n",
        "rounds_2 = list(range(1, 21))\n",
        "mae_2 = [\n",
        "    0.1708811, 0.1584751, 0.15332645, 0.15120173, 0.14984801,\n",
        "    0.14892414, 0.14833829, 0.14782089, 0.14744286, 0.14694408,\n",
        "    0.14646958, 0.14602049, 0.14571527, 0.14540415, 0.14500421,\n",
        "    0.1446545, 0.14432915, 0.14402962, 0.14367345, 0.14337786\n",
        "]\n",
        "\n",
        "# Creating trace for Cluster 04\n",
        "trace1 = go.Scatter(\n",
        "    x=rounds_1,\n",
        "    y=mae_1,\n",
        "    mode='lines',\n",
        "    name='Cluster 04'\n",
        ")\n",
        "\n",
        "# Creating trace for Cluster 14\n",
        "trace2 = go.Scatter(\n",
        "    x=rounds_2,\n",
        "    y=mae_2,\n",
        "    mode='lines',\n",
        "    name='Cluster 14'\n",
        ")\n",
        "\n",
        "# Creating data list\n",
        "data = [trace1, trace2]\n",
        "\n",
        "# Creating layout\n",
        "layout = go.Layout(\n",
        "    title='Mean Absolute Error (MAE) of Load Forecasting vs. Federated Rounds',\n",
        "    xaxis=dict(title='Federated Rounds'),\n",
        "    yaxis=dict(title='Training data - MAE')\n",
        ")\n",
        "\n",
        "# Creating figure\n",
        "fig = go.Figure(data=data, layout=layout)\n",
        "\n",
        "# Displaying the graph\n",
        "fig.show()\n"
      ]
    },
    {
      "cell_type": "code",
      "execution_count": null,
      "metadata": {
        "colab": {
          "base_uri": "https://localhost:8080/",
          "height": 542
        },
        "id": "Dtr5P3cMcF5v",
        "outputId": "2635d805-28fe-4e82-865f-37a0cfab54ac"
      },
      "outputs": [
        {
          "data": {
            "text/html": [
              "<html>\n",
              "<head><meta charset=\"utf-8\" /></head>\n",
              "<body>\n",
              "    <div>            <script src=\"https://cdnjs.cloudflare.com/ajax/libs/mathjax/2.7.5/MathJax.js?config=TeX-AMS-MML_SVG\"></script><script type=\"text/javascript\">if (window.MathJax && window.MathJax.Hub && window.MathJax.Hub.Config) {window.MathJax.Hub.Config({SVG: {font: \"STIX-Web\"}});}</script>                <script type=\"text/javascript\">window.PlotlyConfig = {MathJaxConfig: 'local'};</script>\n",
              "        <script src=\"https://cdn.plot.ly/plotly-2.18.2.min.js\"></script>                <div id=\"35c40683-3455-4715-b87d-618a31a675cd\" class=\"plotly-graph-div\" style=\"height:525px; width:100%;\"></div>            <script type=\"text/javascript\">                                    window.PLOTLYENV=window.PLOTLYENV || {};                                    if (document.getElementById(\"35c40683-3455-4715-b87d-618a31a675cd\")) {                    Plotly.newPlot(                        \"35c40683-3455-4715-b87d-618a31a675cd\",                        [{\"mode\":\"lines\",\"name\":\"Cluster 07\",\"x\":[1,2,3,4,5,6,7,8,9,10,11,12,13,14,15,16,17,18,19,20],\"y\":[0.24215707,0.22306563,0.21767606,0.21497612,0.21307865,0.21194346,0.21102037,0.2100187,0.20892245,0.2077742,0.20704211,0.20606637,0.20509331,0.20452215,0.20378909,0.20307666,0.2025013,0.20195374,0.20134038,0.20096558],\"type\":\"scatter\"},{\"mode\":\"lines\",\"name\":\"Cluster 18\",\"x\":[1,2,3,4,5,6,7,8,9,10,11,12,13,14,15,16,17,18,19,20],\"y\":[0.25958988,0.2282181,0.21869427,0.21352097,0.21052141,0.20815776,0.20585926,0.2046754,0.20356816,0.20232281,0.20153011,0.2007333,0.20026353,0.19920154,0.19846562,0.19802547,0.19739366,0.19712806,0.19636787,0.19576551],\"type\":\"scatter\"}],                        {\"title\":{\"text\":\"Mean Absolute Error (MAE) of Load Forecasting vs. Federated Rounds\"},\"xaxis\":{\"title\":{\"text\":\"Federated Rounds\"}},\"yaxis\":{\"title\":{\"text\":\"Training data - MAE\"}},\"template\":{\"data\":{\"histogram2dcontour\":[{\"type\":\"histogram2dcontour\",\"colorbar\":{\"outlinewidth\":0,\"ticks\":\"\"},\"colorscale\":[[0.0,\"#0d0887\"],[0.1111111111111111,\"#46039f\"],[0.2222222222222222,\"#7201a8\"],[0.3333333333333333,\"#9c179e\"],[0.4444444444444444,\"#bd3786\"],[0.5555555555555556,\"#d8576b\"],[0.6666666666666666,\"#ed7953\"],[0.7777777777777778,\"#fb9f3a\"],[0.8888888888888888,\"#fdca26\"],[1.0,\"#f0f921\"]]}],\"choropleth\":[{\"type\":\"choropleth\",\"colorbar\":{\"outlinewidth\":0,\"ticks\":\"\"}}],\"histogram2d\":[{\"type\":\"histogram2d\",\"colorbar\":{\"outlinewidth\":0,\"ticks\":\"\"},\"colorscale\":[[0.0,\"#0d0887\"],[0.1111111111111111,\"#46039f\"],[0.2222222222222222,\"#7201a8\"],[0.3333333333333333,\"#9c179e\"],[0.4444444444444444,\"#bd3786\"],[0.5555555555555556,\"#d8576b\"],[0.6666666666666666,\"#ed7953\"],[0.7777777777777778,\"#fb9f3a\"],[0.8888888888888888,\"#fdca26\"],[1.0,\"#f0f921\"]]}],\"heatmap\":[{\"type\":\"heatmap\",\"colorbar\":{\"outlinewidth\":0,\"ticks\":\"\"},\"colorscale\":[[0.0,\"#0d0887\"],[0.1111111111111111,\"#46039f\"],[0.2222222222222222,\"#7201a8\"],[0.3333333333333333,\"#9c179e\"],[0.4444444444444444,\"#bd3786\"],[0.5555555555555556,\"#d8576b\"],[0.6666666666666666,\"#ed7953\"],[0.7777777777777778,\"#fb9f3a\"],[0.8888888888888888,\"#fdca26\"],[1.0,\"#f0f921\"]]}],\"heatmapgl\":[{\"type\":\"heatmapgl\",\"colorbar\":{\"outlinewidth\":0,\"ticks\":\"\"},\"colorscale\":[[0.0,\"#0d0887\"],[0.1111111111111111,\"#46039f\"],[0.2222222222222222,\"#7201a8\"],[0.3333333333333333,\"#9c179e\"],[0.4444444444444444,\"#bd3786\"],[0.5555555555555556,\"#d8576b\"],[0.6666666666666666,\"#ed7953\"],[0.7777777777777778,\"#fb9f3a\"],[0.8888888888888888,\"#fdca26\"],[1.0,\"#f0f921\"]]}],\"contourcarpet\":[{\"type\":\"contourcarpet\",\"colorbar\":{\"outlinewidth\":0,\"ticks\":\"\"}}],\"contour\":[{\"type\":\"contour\",\"colorbar\":{\"outlinewidth\":0,\"ticks\":\"\"},\"colorscale\":[[0.0,\"#0d0887\"],[0.1111111111111111,\"#46039f\"],[0.2222222222222222,\"#7201a8\"],[0.3333333333333333,\"#9c179e\"],[0.4444444444444444,\"#bd3786\"],[0.5555555555555556,\"#d8576b\"],[0.6666666666666666,\"#ed7953\"],[0.7777777777777778,\"#fb9f3a\"],[0.8888888888888888,\"#fdca26\"],[1.0,\"#f0f921\"]]}],\"surface\":[{\"type\":\"surface\",\"colorbar\":{\"outlinewidth\":0,\"ticks\":\"\"},\"colorscale\":[[0.0,\"#0d0887\"],[0.1111111111111111,\"#46039f\"],[0.2222222222222222,\"#7201a8\"],[0.3333333333333333,\"#9c179e\"],[0.4444444444444444,\"#bd3786\"],[0.5555555555555556,\"#d8576b\"],[0.6666666666666666,\"#ed7953\"],[0.7777777777777778,\"#fb9f3a\"],[0.8888888888888888,\"#fdca26\"],[1.0,\"#f0f921\"]]}],\"mesh3d\":[{\"type\":\"mesh3d\",\"colorbar\":{\"outlinewidth\":0,\"ticks\":\"\"}}],\"scatter\":[{\"fillpattern\":{\"fillmode\":\"overlay\",\"size\":10,\"solidity\":0.2},\"type\":\"scatter\"}],\"parcoords\":[{\"type\":\"parcoords\",\"line\":{\"colorbar\":{\"outlinewidth\":0,\"ticks\":\"\"}}}],\"scatterpolargl\":[{\"type\":\"scatterpolargl\",\"marker\":{\"colorbar\":{\"outlinewidth\":0,\"ticks\":\"\"}}}],\"bar\":[{\"error_x\":{\"color\":\"#2a3f5f\"},\"error_y\":{\"color\":\"#2a3f5f\"},\"marker\":{\"line\":{\"color\":\"#E5ECF6\",\"width\":0.5},\"pattern\":{\"fillmode\":\"overlay\",\"size\":10,\"solidity\":0.2}},\"type\":\"bar\"}],\"scattergeo\":[{\"type\":\"scattergeo\",\"marker\":{\"colorbar\":{\"outlinewidth\":0,\"ticks\":\"\"}}}],\"scatterpolar\":[{\"type\":\"scatterpolar\",\"marker\":{\"colorbar\":{\"outlinewidth\":0,\"ticks\":\"\"}}}],\"histogram\":[{\"marker\":{\"pattern\":{\"fillmode\":\"overlay\",\"size\":10,\"solidity\":0.2}},\"type\":\"histogram\"}],\"scattergl\":[{\"type\":\"scattergl\",\"marker\":{\"colorbar\":{\"outlinewidth\":0,\"ticks\":\"\"}}}],\"scatter3d\":[{\"type\":\"scatter3d\",\"line\":{\"colorbar\":{\"outlinewidth\":0,\"ticks\":\"\"}},\"marker\":{\"colorbar\":{\"outlinewidth\":0,\"ticks\":\"\"}}}],\"scattermapbox\":[{\"type\":\"scattermapbox\",\"marker\":{\"colorbar\":{\"outlinewidth\":0,\"ticks\":\"\"}}}],\"scatterternary\":[{\"type\":\"scatterternary\",\"marker\":{\"colorbar\":{\"outlinewidth\":0,\"ticks\":\"\"}}}],\"scattercarpet\":[{\"type\":\"scattercarpet\",\"marker\":{\"colorbar\":{\"outlinewidth\":0,\"ticks\":\"\"}}}],\"carpet\":[{\"aaxis\":{\"endlinecolor\":\"#2a3f5f\",\"gridcolor\":\"white\",\"linecolor\":\"white\",\"minorgridcolor\":\"white\",\"startlinecolor\":\"#2a3f5f\"},\"baxis\":{\"endlinecolor\":\"#2a3f5f\",\"gridcolor\":\"white\",\"linecolor\":\"white\",\"minorgridcolor\":\"white\",\"startlinecolor\":\"#2a3f5f\"},\"type\":\"carpet\"}],\"table\":[{\"cells\":{\"fill\":{\"color\":\"#EBF0F8\"},\"line\":{\"color\":\"white\"}},\"header\":{\"fill\":{\"color\":\"#C8D4E3\"},\"line\":{\"color\":\"white\"}},\"type\":\"table\"}],\"barpolar\":[{\"marker\":{\"line\":{\"color\":\"#E5ECF6\",\"width\":0.5},\"pattern\":{\"fillmode\":\"overlay\",\"size\":10,\"solidity\":0.2}},\"type\":\"barpolar\"}],\"pie\":[{\"automargin\":true,\"type\":\"pie\"}]},\"layout\":{\"autotypenumbers\":\"strict\",\"colorway\":[\"#636efa\",\"#EF553B\",\"#00cc96\",\"#ab63fa\",\"#FFA15A\",\"#19d3f3\",\"#FF6692\",\"#B6E880\",\"#FF97FF\",\"#FECB52\"],\"font\":{\"color\":\"#2a3f5f\"},\"hovermode\":\"closest\",\"hoverlabel\":{\"align\":\"left\"},\"paper_bgcolor\":\"white\",\"plot_bgcolor\":\"#E5ECF6\",\"polar\":{\"bgcolor\":\"#E5ECF6\",\"angularaxis\":{\"gridcolor\":\"white\",\"linecolor\":\"white\",\"ticks\":\"\"},\"radialaxis\":{\"gridcolor\":\"white\",\"linecolor\":\"white\",\"ticks\":\"\"}},\"ternary\":{\"bgcolor\":\"#E5ECF6\",\"aaxis\":{\"gridcolor\":\"white\",\"linecolor\":\"white\",\"ticks\":\"\"},\"baxis\":{\"gridcolor\":\"white\",\"linecolor\":\"white\",\"ticks\":\"\"},\"caxis\":{\"gridcolor\":\"white\",\"linecolor\":\"white\",\"ticks\":\"\"}},\"coloraxis\":{\"colorbar\":{\"outlinewidth\":0,\"ticks\":\"\"}},\"colorscale\":{\"sequential\":[[0.0,\"#0d0887\"],[0.1111111111111111,\"#46039f\"],[0.2222222222222222,\"#7201a8\"],[0.3333333333333333,\"#9c179e\"],[0.4444444444444444,\"#bd3786\"],[0.5555555555555556,\"#d8576b\"],[0.6666666666666666,\"#ed7953\"],[0.7777777777777778,\"#fb9f3a\"],[0.8888888888888888,\"#fdca26\"],[1.0,\"#f0f921\"]],\"sequentialminus\":[[0.0,\"#0d0887\"],[0.1111111111111111,\"#46039f\"],[0.2222222222222222,\"#7201a8\"],[0.3333333333333333,\"#9c179e\"],[0.4444444444444444,\"#bd3786\"],[0.5555555555555556,\"#d8576b\"],[0.6666666666666666,\"#ed7953\"],[0.7777777777777778,\"#fb9f3a\"],[0.8888888888888888,\"#fdca26\"],[1.0,\"#f0f921\"]],\"diverging\":[[0,\"#8e0152\"],[0.1,\"#c51b7d\"],[0.2,\"#de77ae\"],[0.3,\"#f1b6da\"],[0.4,\"#fde0ef\"],[0.5,\"#f7f7f7\"],[0.6,\"#e6f5d0\"],[0.7,\"#b8e186\"],[0.8,\"#7fbc41\"],[0.9,\"#4d9221\"],[1,\"#276419\"]]},\"xaxis\":{\"gridcolor\":\"white\",\"linecolor\":\"white\",\"ticks\":\"\",\"title\":{\"standoff\":15},\"zerolinecolor\":\"white\",\"automargin\":true,\"zerolinewidth\":2},\"yaxis\":{\"gridcolor\":\"white\",\"linecolor\":\"white\",\"ticks\":\"\",\"title\":{\"standoff\":15},\"zerolinecolor\":\"white\",\"automargin\":true,\"zerolinewidth\":2},\"scene\":{\"xaxis\":{\"backgroundcolor\":\"#E5ECF6\",\"gridcolor\":\"white\",\"linecolor\":\"white\",\"showbackground\":true,\"ticks\":\"\",\"zerolinecolor\":\"white\",\"gridwidth\":2},\"yaxis\":{\"backgroundcolor\":\"#E5ECF6\",\"gridcolor\":\"white\",\"linecolor\":\"white\",\"showbackground\":true,\"ticks\":\"\",\"zerolinecolor\":\"white\",\"gridwidth\":2},\"zaxis\":{\"backgroundcolor\":\"#E5ECF6\",\"gridcolor\":\"white\",\"linecolor\":\"white\",\"showbackground\":true,\"ticks\":\"\",\"zerolinecolor\":\"white\",\"gridwidth\":2}},\"shapedefaults\":{\"line\":{\"color\":\"#2a3f5f\"}},\"annotationdefaults\":{\"arrowcolor\":\"#2a3f5f\",\"arrowhead\":0,\"arrowwidth\":1},\"geo\":{\"bgcolor\":\"white\",\"landcolor\":\"#E5ECF6\",\"subunitcolor\":\"white\",\"showland\":true,\"showlakes\":true,\"lakecolor\":\"white\"},\"title\":{\"x\":0.05},\"mapbox\":{\"style\":\"light\"}}}},                        {\"responsive\": true}                    ).then(function(){\n",
              "                            \n",
              "var gd = document.getElementById('35c40683-3455-4715-b87d-618a31a675cd');\n",
              "var x = new MutationObserver(function (mutations, observer) {{\n",
              "        var display = window.getComputedStyle(gd).display;\n",
              "        if (!display || display === 'none') {{\n",
              "            console.log([gd, 'removed!']);\n",
              "            Plotly.purge(gd);\n",
              "            observer.disconnect();\n",
              "        }}\n",
              "}});\n",
              "\n",
              "// Listen for the removal of the full notebook cells\n",
              "var notebookContainer = gd.closest('#notebook-container');\n",
              "if (notebookContainer) {{\n",
              "    x.observe(notebookContainer, {childList: true});\n",
              "}}\n",
              "\n",
              "// Listen for the clearing of the current output cell\n",
              "var outputEl = gd.closest('.output');\n",
              "if (outputEl) {{\n",
              "    x.observe(outputEl, {childList: true});\n",
              "}}\n",
              "\n",
              "                        })                };                            </script>        </div>\n",
              "</body>\n",
              "</html>"
            ]
          },
          "metadata": {},
          "output_type": "display_data"
        }
      ],
      "source": [
        "import plotly.graph_objects as go\n",
        "\n",
        "# Data for Cluster 07\n",
        "rounds_1 = list(range(1, 21))\n",
        "mae_1 = [\n",
        "    0.24215707, 0.22306563, 0.21767606, 0.21497612, 0.21307865,\n",
        "    0.21194346, 0.21102037, 0.2100187, 0.20892245, 0.2077742,\n",
        "    0.20704211, 0.20606637, 0.20509331, 0.20452215, 0.20378909,\n",
        "    0.20307666, 0.2025013, 0.20195374, 0.20134038, 0.20096558\n",
        "]\n",
        "\n",
        "# Data for Cluster 18\n",
        "rounds_2 = list(range(1, 21))\n",
        "mae_2 = [\n",
        "    0.25958988, 0.2282181, 0.21869427, 0.21352097, 0.21052141,\n",
        "    0.20815776, 0.20585926, 0.2046754, 0.20356816, 0.20232281,\n",
        "    0.20153011, 0.2007333, 0.20026353, 0.19920154, 0.19846562,\n",
        "    0.19802547, 0.19739366, 0.19712806, 0.19636787, 0.19576551\n",
        "]\n",
        "\n",
        "# Creating trace for Cluster 07\n",
        "trace1 = go.Scatter(\n",
        "    x=rounds_1,\n",
        "    y=mae_1,\n",
        "    mode='lines',\n",
        "    name='Cluster 07'\n",
        ")\n",
        "\n",
        "# Creating trace for Cluster 18\n",
        "trace2 = go.Scatter(\n",
        "    x=rounds_2,\n",
        "    y=mae_2,\n",
        "    mode='lines',\n",
        "    name='Cluster 18'\n",
        ")\n",
        "\n",
        "# Creating data list\n",
        "data = [trace1, trace2]\n",
        "\n",
        "# Creating layout\n",
        "layout = go.Layout(\n",
        "    title='Mean Absolute Error (MAE) of Load Forecasting vs. Federated Rounds',\n",
        "    xaxis=dict(title='Federated Rounds'),\n",
        "    yaxis=dict(title='Training data - MAE')\n",
        ")\n",
        "\n",
        "# Creating figure\n",
        "fig = go.Figure(data=data, layout=layout)\n",
        "\n",
        "# Displaying the graph\n",
        "fig.show()\n"
      ]
    },
    {
      "cell_type": "code",
      "execution_count": null,
      "metadata": {
        "colab": {
          "base_uri": "https://localhost:8080/",
          "height": 542
        },
        "id": "FdKI0qCEWnw4",
        "outputId": "e9528360-c355-4234-c794-9c9ac3154c2c"
      },
      "outputs": [
        {
          "data": {
            "text/html": [
              "<html>\n",
              "<head><meta charset=\"utf-8\" /></head>\n",
              "<body>\n",
              "    <div>            <script src=\"https://cdnjs.cloudflare.com/ajax/libs/mathjax/2.7.5/MathJax.js?config=TeX-AMS-MML_SVG\"></script><script type=\"text/javascript\">if (window.MathJax && window.MathJax.Hub && window.MathJax.Hub.Config) {window.MathJax.Hub.Config({SVG: {font: \"STIX-Web\"}});}</script>                <script type=\"text/javascript\">window.PlotlyConfig = {MathJaxConfig: 'local'};</script>\n",
              "        <script src=\"https://cdn.plot.ly/plotly-2.18.2.min.js\"></script>                <div id=\"d7827a50-3372-4eeb-a7d7-80e71f6394ea\" class=\"plotly-graph-div\" style=\"height:525px; width:100%;\"></div>            <script type=\"text/javascript\">                                    window.PLOTLYENV=window.PLOTLYENV || {};                                    if (document.getElementById(\"d7827a50-3372-4eeb-a7d7-80e71f6394ea\")) {                    Plotly.newPlot(                        \"d7827a50-3372-4eeb-a7d7-80e71f6394ea\",                        [{\"mode\":\"lines\",\"name\":\"Batch Size = 24, Shuffle Buffer = 120, Prefetch Buffer = 12\",\"x\":[1,2,3,4,5,6,7,8,9,10,11,12,13,14,15],\"y\":[0.07406851,0.06911341,0.06588133,0.06381104,0.062328234,0.061173238,0.060279164,0.059583493,0.059030402,0.058575064,0.05819059,0.05786198,0.05756866,0.05733508,0.057126228],\"type\":\"scatter\"},{\"mode\":\"lines\",\"name\":\"Batch Size = 12, Shuffle Buffer = 60, Prefetch Buffer = 6\",\"x\":[1,2,3,4,5,6,7,8,9,10,11,12,13,14,15],\"y\":[0.070309095,0.06450078,0.061607864,0.060092628,0.059076704,0.05836942,0.057809025,0.057371534,0.05702302,0.056733135,0.056459244,0.056229576,0.056033693,0.055863913,0.055711426],\"type\":\"scatter\"}],                        {\"title\":{\"text\":\"Mean Absolute Error (MAE) vs. Federated Rounds with Learning Rate - 0.02\"},\"xaxis\":{\"title\":{\"text\":\"Federated Rounds\"}},\"yaxis\":{\"title\":{\"text\":\"MAE\"}},\"template\":{\"data\":{\"histogram2dcontour\":[{\"type\":\"histogram2dcontour\",\"colorbar\":{\"outlinewidth\":0,\"ticks\":\"\"},\"colorscale\":[[0.0,\"#0d0887\"],[0.1111111111111111,\"#46039f\"],[0.2222222222222222,\"#7201a8\"],[0.3333333333333333,\"#9c179e\"],[0.4444444444444444,\"#bd3786\"],[0.5555555555555556,\"#d8576b\"],[0.6666666666666666,\"#ed7953\"],[0.7777777777777778,\"#fb9f3a\"],[0.8888888888888888,\"#fdca26\"],[1.0,\"#f0f921\"]]}],\"choropleth\":[{\"type\":\"choropleth\",\"colorbar\":{\"outlinewidth\":0,\"ticks\":\"\"}}],\"histogram2d\":[{\"type\":\"histogram2d\",\"colorbar\":{\"outlinewidth\":0,\"ticks\":\"\"},\"colorscale\":[[0.0,\"#0d0887\"],[0.1111111111111111,\"#46039f\"],[0.2222222222222222,\"#7201a8\"],[0.3333333333333333,\"#9c179e\"],[0.4444444444444444,\"#bd3786\"],[0.5555555555555556,\"#d8576b\"],[0.6666666666666666,\"#ed7953\"],[0.7777777777777778,\"#fb9f3a\"],[0.8888888888888888,\"#fdca26\"],[1.0,\"#f0f921\"]]}],\"heatmap\":[{\"type\":\"heatmap\",\"colorbar\":{\"outlinewidth\":0,\"ticks\":\"\"},\"colorscale\":[[0.0,\"#0d0887\"],[0.1111111111111111,\"#46039f\"],[0.2222222222222222,\"#7201a8\"],[0.3333333333333333,\"#9c179e\"],[0.4444444444444444,\"#bd3786\"],[0.5555555555555556,\"#d8576b\"],[0.6666666666666666,\"#ed7953\"],[0.7777777777777778,\"#fb9f3a\"],[0.8888888888888888,\"#fdca26\"],[1.0,\"#f0f921\"]]}],\"heatmapgl\":[{\"type\":\"heatmapgl\",\"colorbar\":{\"outlinewidth\":0,\"ticks\":\"\"},\"colorscale\":[[0.0,\"#0d0887\"],[0.1111111111111111,\"#46039f\"],[0.2222222222222222,\"#7201a8\"],[0.3333333333333333,\"#9c179e\"],[0.4444444444444444,\"#bd3786\"],[0.5555555555555556,\"#d8576b\"],[0.6666666666666666,\"#ed7953\"],[0.7777777777777778,\"#fb9f3a\"],[0.8888888888888888,\"#fdca26\"],[1.0,\"#f0f921\"]]}],\"contourcarpet\":[{\"type\":\"contourcarpet\",\"colorbar\":{\"outlinewidth\":0,\"ticks\":\"\"}}],\"contour\":[{\"type\":\"contour\",\"colorbar\":{\"outlinewidth\":0,\"ticks\":\"\"},\"colorscale\":[[0.0,\"#0d0887\"],[0.1111111111111111,\"#46039f\"],[0.2222222222222222,\"#7201a8\"],[0.3333333333333333,\"#9c179e\"],[0.4444444444444444,\"#bd3786\"],[0.5555555555555556,\"#d8576b\"],[0.6666666666666666,\"#ed7953\"],[0.7777777777777778,\"#fb9f3a\"],[0.8888888888888888,\"#fdca26\"],[1.0,\"#f0f921\"]]}],\"surface\":[{\"type\":\"surface\",\"colorbar\":{\"outlinewidth\":0,\"ticks\":\"\"},\"colorscale\":[[0.0,\"#0d0887\"],[0.1111111111111111,\"#46039f\"],[0.2222222222222222,\"#7201a8\"],[0.3333333333333333,\"#9c179e\"],[0.4444444444444444,\"#bd3786\"],[0.5555555555555556,\"#d8576b\"],[0.6666666666666666,\"#ed7953\"],[0.7777777777777778,\"#fb9f3a\"],[0.8888888888888888,\"#fdca26\"],[1.0,\"#f0f921\"]]}],\"mesh3d\":[{\"type\":\"mesh3d\",\"colorbar\":{\"outlinewidth\":0,\"ticks\":\"\"}}],\"scatter\":[{\"fillpattern\":{\"fillmode\":\"overlay\",\"size\":10,\"solidity\":0.2},\"type\":\"scatter\"}],\"parcoords\":[{\"type\":\"parcoords\",\"line\":{\"colorbar\":{\"outlinewidth\":0,\"ticks\":\"\"}}}],\"scatterpolargl\":[{\"type\":\"scatterpolargl\",\"marker\":{\"colorbar\":{\"outlinewidth\":0,\"ticks\":\"\"}}}],\"bar\":[{\"error_x\":{\"color\":\"#2a3f5f\"},\"error_y\":{\"color\":\"#2a3f5f\"},\"marker\":{\"line\":{\"color\":\"#E5ECF6\",\"width\":0.5},\"pattern\":{\"fillmode\":\"overlay\",\"size\":10,\"solidity\":0.2}},\"type\":\"bar\"}],\"scattergeo\":[{\"type\":\"scattergeo\",\"marker\":{\"colorbar\":{\"outlinewidth\":0,\"ticks\":\"\"}}}],\"scatterpolar\":[{\"type\":\"scatterpolar\",\"marker\":{\"colorbar\":{\"outlinewidth\":0,\"ticks\":\"\"}}}],\"histogram\":[{\"marker\":{\"pattern\":{\"fillmode\":\"overlay\",\"size\":10,\"solidity\":0.2}},\"type\":\"histogram\"}],\"scattergl\":[{\"type\":\"scattergl\",\"marker\":{\"colorbar\":{\"outlinewidth\":0,\"ticks\":\"\"}}}],\"scatter3d\":[{\"type\":\"scatter3d\",\"line\":{\"colorbar\":{\"outlinewidth\":0,\"ticks\":\"\"}},\"marker\":{\"colorbar\":{\"outlinewidth\":0,\"ticks\":\"\"}}}],\"scattermapbox\":[{\"type\":\"scattermapbox\",\"marker\":{\"colorbar\":{\"outlinewidth\":0,\"ticks\":\"\"}}}],\"scatterternary\":[{\"type\":\"scatterternary\",\"marker\":{\"colorbar\":{\"outlinewidth\":0,\"ticks\":\"\"}}}],\"scattercarpet\":[{\"type\":\"scattercarpet\",\"marker\":{\"colorbar\":{\"outlinewidth\":0,\"ticks\":\"\"}}}],\"carpet\":[{\"aaxis\":{\"endlinecolor\":\"#2a3f5f\",\"gridcolor\":\"white\",\"linecolor\":\"white\",\"minorgridcolor\":\"white\",\"startlinecolor\":\"#2a3f5f\"},\"baxis\":{\"endlinecolor\":\"#2a3f5f\",\"gridcolor\":\"white\",\"linecolor\":\"white\",\"minorgridcolor\":\"white\",\"startlinecolor\":\"#2a3f5f\"},\"type\":\"carpet\"}],\"table\":[{\"cells\":{\"fill\":{\"color\":\"#EBF0F8\"},\"line\":{\"color\":\"white\"}},\"header\":{\"fill\":{\"color\":\"#C8D4E3\"},\"line\":{\"color\":\"white\"}},\"type\":\"table\"}],\"barpolar\":[{\"marker\":{\"line\":{\"color\":\"#E5ECF6\",\"width\":0.5},\"pattern\":{\"fillmode\":\"overlay\",\"size\":10,\"solidity\":0.2}},\"type\":\"barpolar\"}],\"pie\":[{\"automargin\":true,\"type\":\"pie\"}]},\"layout\":{\"autotypenumbers\":\"strict\",\"colorway\":[\"#636efa\",\"#EF553B\",\"#00cc96\",\"#ab63fa\",\"#FFA15A\",\"#19d3f3\",\"#FF6692\",\"#B6E880\",\"#FF97FF\",\"#FECB52\"],\"font\":{\"color\":\"#2a3f5f\"},\"hovermode\":\"closest\",\"hoverlabel\":{\"align\":\"left\"},\"paper_bgcolor\":\"white\",\"plot_bgcolor\":\"#E5ECF6\",\"polar\":{\"bgcolor\":\"#E5ECF6\",\"angularaxis\":{\"gridcolor\":\"white\",\"linecolor\":\"white\",\"ticks\":\"\"},\"radialaxis\":{\"gridcolor\":\"white\",\"linecolor\":\"white\",\"ticks\":\"\"}},\"ternary\":{\"bgcolor\":\"#E5ECF6\",\"aaxis\":{\"gridcolor\":\"white\",\"linecolor\":\"white\",\"ticks\":\"\"},\"baxis\":{\"gridcolor\":\"white\",\"linecolor\":\"white\",\"ticks\":\"\"},\"caxis\":{\"gridcolor\":\"white\",\"linecolor\":\"white\",\"ticks\":\"\"}},\"coloraxis\":{\"colorbar\":{\"outlinewidth\":0,\"ticks\":\"\"}},\"colorscale\":{\"sequential\":[[0.0,\"#0d0887\"],[0.1111111111111111,\"#46039f\"],[0.2222222222222222,\"#7201a8\"],[0.3333333333333333,\"#9c179e\"],[0.4444444444444444,\"#bd3786\"],[0.5555555555555556,\"#d8576b\"],[0.6666666666666666,\"#ed7953\"],[0.7777777777777778,\"#fb9f3a\"],[0.8888888888888888,\"#fdca26\"],[1.0,\"#f0f921\"]],\"sequentialminus\":[[0.0,\"#0d0887\"],[0.1111111111111111,\"#46039f\"],[0.2222222222222222,\"#7201a8\"],[0.3333333333333333,\"#9c179e\"],[0.4444444444444444,\"#bd3786\"],[0.5555555555555556,\"#d8576b\"],[0.6666666666666666,\"#ed7953\"],[0.7777777777777778,\"#fb9f3a\"],[0.8888888888888888,\"#fdca26\"],[1.0,\"#f0f921\"]],\"diverging\":[[0,\"#8e0152\"],[0.1,\"#c51b7d\"],[0.2,\"#de77ae\"],[0.3,\"#f1b6da\"],[0.4,\"#fde0ef\"],[0.5,\"#f7f7f7\"],[0.6,\"#e6f5d0\"],[0.7,\"#b8e186\"],[0.8,\"#7fbc41\"],[0.9,\"#4d9221\"],[1,\"#276419\"]]},\"xaxis\":{\"gridcolor\":\"white\",\"linecolor\":\"white\",\"ticks\":\"\",\"title\":{\"standoff\":15},\"zerolinecolor\":\"white\",\"automargin\":true,\"zerolinewidth\":2},\"yaxis\":{\"gridcolor\":\"white\",\"linecolor\":\"white\",\"ticks\":\"\",\"title\":{\"standoff\":15},\"zerolinecolor\":\"white\",\"automargin\":true,\"zerolinewidth\":2},\"scene\":{\"xaxis\":{\"backgroundcolor\":\"#E5ECF6\",\"gridcolor\":\"white\",\"linecolor\":\"white\",\"showbackground\":true,\"ticks\":\"\",\"zerolinecolor\":\"white\",\"gridwidth\":2},\"yaxis\":{\"backgroundcolor\":\"#E5ECF6\",\"gridcolor\":\"white\",\"linecolor\":\"white\",\"showbackground\":true,\"ticks\":\"\",\"zerolinecolor\":\"white\",\"gridwidth\":2},\"zaxis\":{\"backgroundcolor\":\"#E5ECF6\",\"gridcolor\":\"white\",\"linecolor\":\"white\",\"showbackground\":true,\"ticks\":\"\",\"zerolinecolor\":\"white\",\"gridwidth\":2}},\"shapedefaults\":{\"line\":{\"color\":\"#2a3f5f\"}},\"annotationdefaults\":{\"arrowcolor\":\"#2a3f5f\",\"arrowhead\":0,\"arrowwidth\":1},\"geo\":{\"bgcolor\":\"white\",\"landcolor\":\"#E5ECF6\",\"subunitcolor\":\"white\",\"showland\":true,\"showlakes\":true,\"lakecolor\":\"white\"},\"title\":{\"x\":0.05},\"mapbox\":{\"style\":\"light\"}}}},                        {\"responsive\": true}                    ).then(function(){\n",
              "                            \n",
              "var gd = document.getElementById('d7827a50-3372-4eeb-a7d7-80e71f6394ea');\n",
              "var x = new MutationObserver(function (mutations, observer) {{\n",
              "        var display = window.getComputedStyle(gd).display;\n",
              "        if (!display || display === 'none') {{\n",
              "            console.log([gd, 'removed!']);\n",
              "            Plotly.purge(gd);\n",
              "            observer.disconnect();\n",
              "        }}\n",
              "}});\n",
              "\n",
              "// Listen for the removal of the full notebook cells\n",
              "var notebookContainer = gd.closest('#notebook-container');\n",
              "if (notebookContainer) {{\n",
              "    x.observe(notebookContainer, {childList: true});\n",
              "}}\n",
              "\n",
              "// Listen for the clearing of the current output cell\n",
              "var outputEl = gd.closest('.output');\n",
              "if (outputEl) {{\n",
              "    x.observe(outputEl, {childList: true});\n",
              "}}\n",
              "\n",
              "                        })                };                            </script>        </div>\n",
              "</body>\n",
              "</html>"
            ]
          },
          "metadata": {},
          "output_type": "display_data"
        }
      ],
      "source": [
        "import plotly.graph_objects as go\n",
        "\n",
        "# Data for Cluster - 08, Batch Size = 24, Shuffle Buffer = 120, Prefetch Buffer = 12\n",
        "rounds_1 = list(range(1, 16))\n",
        "mae_1 = [\n",
        "    0.07406851, 0.06911341, 0.06588133, 0.06381104, 0.062328234,\n",
        "    0.061173238, 0.060279164, 0.059583493, 0.059030402, 0.058575064,\n",
        "    0.05819059, 0.05786198, 0.05756866, 0.05733508, 0.057126228\n",
        "]\n",
        "\n",
        "# Data for Cluster - 08, Batch Size = 12, Shuffle Buffer = 60, Prefetch Buffer = 6\n",
        "rounds_2 = list(range(1, 16))\n",
        "mae_2 = [\n",
        "    0.070309095, 0.06450078, 0.061607864, 0.060092628, 0.059076704,\n",
        "    0.05836942, 0.057809025, 0.057371534, 0.05702302, 0.056733135,\n",
        "    0.056459244, 0.056229576, 0.056033693, 0.055863913, 0.055711426\n",
        "]\n",
        "\n",
        "# Creating trace for Cluster - 08, Batch Size = 24, Shuffle Buffer = 120, Prefetch Buffer = 12\n",
        "trace1 = go.Scatter(\n",
        "    x=rounds_1,\n",
        "    y=mae_1,\n",
        "    mode='lines',\n",
        "    name='Batch Size = 24, Shuffle Buffer = 120, Prefetch Buffer = 12'\n",
        ")\n",
        "\n",
        "# Creating trace for Cluster - 08, Batch Size = 12, Shuffle Buffer = 60, Prefetch Buffer = 6\n",
        "trace2 = go.Scatter(\n",
        "    x=rounds_2,\n",
        "    y=mae_2,\n",
        "    mode='lines',\n",
        "    name='Batch Size = 12, Shuffle Buffer = 60, Prefetch Buffer = 6'\n",
        ")\n",
        "\n",
        "# Creating data list\n",
        "data = [trace1, trace2]\n",
        "\n",
        "# Creating layout\n",
        "layout = go.Layout(\n",
        "    title='Mean Absolute Error (MAE) vs. Federated Rounds with Learning Rate - 0.02',\n",
        "    xaxis=dict(title='Federated Rounds'),\n",
        "    yaxis=dict(title='MAE')\n",
        ")\n",
        "\n",
        "# Creating figure\n",
        "fig = go.Figure(data=data, layout=layout)\n",
        "\n",
        "# Displaying the graph\n",
        "fig.show()\n"
      ]
    },
    {
      "cell_type": "code",
      "execution_count": null,
      "metadata": {
        "colab": {
          "base_uri": "https://localhost:8080/",
          "height": 542
        },
        "id": "U1ehuiYIkiqg",
        "outputId": "05f52bb3-b5b4-447e-c8e8-6173b00c746d"
      },
      "outputs": [
        {
          "data": {
            "text/html": [
              "<html>\n",
              "<head><meta charset=\"utf-8\" /></head>\n",
              "<body>\n",
              "    <div>            <script src=\"https://cdnjs.cloudflare.com/ajax/libs/mathjax/2.7.5/MathJax.js?config=TeX-AMS-MML_SVG\"></script><script type=\"text/javascript\">if (window.MathJax && window.MathJax.Hub && window.MathJax.Hub.Config) {window.MathJax.Hub.Config({SVG: {font: \"STIX-Web\"}});}</script>                <script type=\"text/javascript\">window.PlotlyConfig = {MathJaxConfig: 'local'};</script>\n",
              "        <script src=\"https://cdn.plot.ly/plotly-2.18.2.min.js\"></script>                <div id=\"c946cd74-7f4c-4509-b948-e8b056d2ccdc\" class=\"plotly-graph-div\" style=\"height:525px; width:100%;\"></div>            <script type=\"text/javascript\">                                    window.PLOTLYENV=window.PLOTLYENV || {};                                    if (document.getElementById(\"c946cd74-7f4c-4509-b948-e8b056d2ccdc\")) {                    Plotly.newPlot(                        \"c946cd74-7f4c-4509-b948-e8b056d2ccdc\",                        [{\"mode\":\"lines\",\"name\":\"Learning Rate = 0.02\",\"x\":[1,2,3,4,5,6,7,8,9,10,11,12,13,14,15],\"y\":[0.070309095,0.06450078,0.061607864,0.060092628,0.059076704,0.05836942,0.057809025,0.057371534,0.05702302,0.056733135,0.056459244,0.056229576,0.056033693,0.055863913,0.055711426],\"type\":\"scatter\"},{\"mode\":\"lines\",\"name\":\"Learning Rate = 0.01\",\"x\":[1,2,3,4,5,6,7,8,9,10,11,12,13,14,15],\"y\":[0.06575257,0.059883647,0.05776895,0.056706358,0.056026068,0.055522144,0.05512807,0.05480615,0.054533303,0.05431394,0.054116458,0.053937282,0.053791393,0.05366001,0.05353039],\"type\":\"scatter\"}],                        {\"title\":{\"text\":\"Mean Absolute Error (MAE) vs. Federated Rounds\"},\"xaxis\":{\"title\":{\"text\":\"Federated Rounds\"}},\"yaxis\":{\"title\":{\"text\":\"MAE\"}},\"template\":{\"data\":{\"histogram2dcontour\":[{\"type\":\"histogram2dcontour\",\"colorbar\":{\"outlinewidth\":0,\"ticks\":\"\"},\"colorscale\":[[0.0,\"#0d0887\"],[0.1111111111111111,\"#46039f\"],[0.2222222222222222,\"#7201a8\"],[0.3333333333333333,\"#9c179e\"],[0.4444444444444444,\"#bd3786\"],[0.5555555555555556,\"#d8576b\"],[0.6666666666666666,\"#ed7953\"],[0.7777777777777778,\"#fb9f3a\"],[0.8888888888888888,\"#fdca26\"],[1.0,\"#f0f921\"]]}],\"choropleth\":[{\"type\":\"choropleth\",\"colorbar\":{\"outlinewidth\":0,\"ticks\":\"\"}}],\"histogram2d\":[{\"type\":\"histogram2d\",\"colorbar\":{\"outlinewidth\":0,\"ticks\":\"\"},\"colorscale\":[[0.0,\"#0d0887\"],[0.1111111111111111,\"#46039f\"],[0.2222222222222222,\"#7201a8\"],[0.3333333333333333,\"#9c179e\"],[0.4444444444444444,\"#bd3786\"],[0.5555555555555556,\"#d8576b\"],[0.6666666666666666,\"#ed7953\"],[0.7777777777777778,\"#fb9f3a\"],[0.8888888888888888,\"#fdca26\"],[1.0,\"#f0f921\"]]}],\"heatmap\":[{\"type\":\"heatmap\",\"colorbar\":{\"outlinewidth\":0,\"ticks\":\"\"},\"colorscale\":[[0.0,\"#0d0887\"],[0.1111111111111111,\"#46039f\"],[0.2222222222222222,\"#7201a8\"],[0.3333333333333333,\"#9c179e\"],[0.4444444444444444,\"#bd3786\"],[0.5555555555555556,\"#d8576b\"],[0.6666666666666666,\"#ed7953\"],[0.7777777777777778,\"#fb9f3a\"],[0.8888888888888888,\"#fdca26\"],[1.0,\"#f0f921\"]]}],\"heatmapgl\":[{\"type\":\"heatmapgl\",\"colorbar\":{\"outlinewidth\":0,\"ticks\":\"\"},\"colorscale\":[[0.0,\"#0d0887\"],[0.1111111111111111,\"#46039f\"],[0.2222222222222222,\"#7201a8\"],[0.3333333333333333,\"#9c179e\"],[0.4444444444444444,\"#bd3786\"],[0.5555555555555556,\"#d8576b\"],[0.6666666666666666,\"#ed7953\"],[0.7777777777777778,\"#fb9f3a\"],[0.8888888888888888,\"#fdca26\"],[1.0,\"#f0f921\"]]}],\"contourcarpet\":[{\"type\":\"contourcarpet\",\"colorbar\":{\"outlinewidth\":0,\"ticks\":\"\"}}],\"contour\":[{\"type\":\"contour\",\"colorbar\":{\"outlinewidth\":0,\"ticks\":\"\"},\"colorscale\":[[0.0,\"#0d0887\"],[0.1111111111111111,\"#46039f\"],[0.2222222222222222,\"#7201a8\"],[0.3333333333333333,\"#9c179e\"],[0.4444444444444444,\"#bd3786\"],[0.5555555555555556,\"#d8576b\"],[0.6666666666666666,\"#ed7953\"],[0.7777777777777778,\"#fb9f3a\"],[0.8888888888888888,\"#fdca26\"],[1.0,\"#f0f921\"]]}],\"surface\":[{\"type\":\"surface\",\"colorbar\":{\"outlinewidth\":0,\"ticks\":\"\"},\"colorscale\":[[0.0,\"#0d0887\"],[0.1111111111111111,\"#46039f\"],[0.2222222222222222,\"#7201a8\"],[0.3333333333333333,\"#9c179e\"],[0.4444444444444444,\"#bd3786\"],[0.5555555555555556,\"#d8576b\"],[0.6666666666666666,\"#ed7953\"],[0.7777777777777778,\"#fb9f3a\"],[0.8888888888888888,\"#fdca26\"],[1.0,\"#f0f921\"]]}],\"mesh3d\":[{\"type\":\"mesh3d\",\"colorbar\":{\"outlinewidth\":0,\"ticks\":\"\"}}],\"scatter\":[{\"fillpattern\":{\"fillmode\":\"overlay\",\"size\":10,\"solidity\":0.2},\"type\":\"scatter\"}],\"parcoords\":[{\"type\":\"parcoords\",\"line\":{\"colorbar\":{\"outlinewidth\":0,\"ticks\":\"\"}}}],\"scatterpolargl\":[{\"type\":\"scatterpolargl\",\"marker\":{\"colorbar\":{\"outlinewidth\":0,\"ticks\":\"\"}}}],\"bar\":[{\"error_x\":{\"color\":\"#2a3f5f\"},\"error_y\":{\"color\":\"#2a3f5f\"},\"marker\":{\"line\":{\"color\":\"#E5ECF6\",\"width\":0.5},\"pattern\":{\"fillmode\":\"overlay\",\"size\":10,\"solidity\":0.2}},\"type\":\"bar\"}],\"scattergeo\":[{\"type\":\"scattergeo\",\"marker\":{\"colorbar\":{\"outlinewidth\":0,\"ticks\":\"\"}}}],\"scatterpolar\":[{\"type\":\"scatterpolar\",\"marker\":{\"colorbar\":{\"outlinewidth\":0,\"ticks\":\"\"}}}],\"histogram\":[{\"marker\":{\"pattern\":{\"fillmode\":\"overlay\",\"size\":10,\"solidity\":0.2}},\"type\":\"histogram\"}],\"scattergl\":[{\"type\":\"scattergl\",\"marker\":{\"colorbar\":{\"outlinewidth\":0,\"ticks\":\"\"}}}],\"scatter3d\":[{\"type\":\"scatter3d\",\"line\":{\"colorbar\":{\"outlinewidth\":0,\"ticks\":\"\"}},\"marker\":{\"colorbar\":{\"outlinewidth\":0,\"ticks\":\"\"}}}],\"scattermapbox\":[{\"type\":\"scattermapbox\",\"marker\":{\"colorbar\":{\"outlinewidth\":0,\"ticks\":\"\"}}}],\"scatterternary\":[{\"type\":\"scatterternary\",\"marker\":{\"colorbar\":{\"outlinewidth\":0,\"ticks\":\"\"}}}],\"scattercarpet\":[{\"type\":\"scattercarpet\",\"marker\":{\"colorbar\":{\"outlinewidth\":0,\"ticks\":\"\"}}}],\"carpet\":[{\"aaxis\":{\"endlinecolor\":\"#2a3f5f\",\"gridcolor\":\"white\",\"linecolor\":\"white\",\"minorgridcolor\":\"white\",\"startlinecolor\":\"#2a3f5f\"},\"baxis\":{\"endlinecolor\":\"#2a3f5f\",\"gridcolor\":\"white\",\"linecolor\":\"white\",\"minorgridcolor\":\"white\",\"startlinecolor\":\"#2a3f5f\"},\"type\":\"carpet\"}],\"table\":[{\"cells\":{\"fill\":{\"color\":\"#EBF0F8\"},\"line\":{\"color\":\"white\"}},\"header\":{\"fill\":{\"color\":\"#C8D4E3\"},\"line\":{\"color\":\"white\"}},\"type\":\"table\"}],\"barpolar\":[{\"marker\":{\"line\":{\"color\":\"#E5ECF6\",\"width\":0.5},\"pattern\":{\"fillmode\":\"overlay\",\"size\":10,\"solidity\":0.2}},\"type\":\"barpolar\"}],\"pie\":[{\"automargin\":true,\"type\":\"pie\"}]},\"layout\":{\"autotypenumbers\":\"strict\",\"colorway\":[\"#636efa\",\"#EF553B\",\"#00cc96\",\"#ab63fa\",\"#FFA15A\",\"#19d3f3\",\"#FF6692\",\"#B6E880\",\"#FF97FF\",\"#FECB52\"],\"font\":{\"color\":\"#2a3f5f\"},\"hovermode\":\"closest\",\"hoverlabel\":{\"align\":\"left\"},\"paper_bgcolor\":\"white\",\"plot_bgcolor\":\"#E5ECF6\",\"polar\":{\"bgcolor\":\"#E5ECF6\",\"angularaxis\":{\"gridcolor\":\"white\",\"linecolor\":\"white\",\"ticks\":\"\"},\"radialaxis\":{\"gridcolor\":\"white\",\"linecolor\":\"white\",\"ticks\":\"\"}},\"ternary\":{\"bgcolor\":\"#E5ECF6\",\"aaxis\":{\"gridcolor\":\"white\",\"linecolor\":\"white\",\"ticks\":\"\"},\"baxis\":{\"gridcolor\":\"white\",\"linecolor\":\"white\",\"ticks\":\"\"},\"caxis\":{\"gridcolor\":\"white\",\"linecolor\":\"white\",\"ticks\":\"\"}},\"coloraxis\":{\"colorbar\":{\"outlinewidth\":0,\"ticks\":\"\"}},\"colorscale\":{\"sequential\":[[0.0,\"#0d0887\"],[0.1111111111111111,\"#46039f\"],[0.2222222222222222,\"#7201a8\"],[0.3333333333333333,\"#9c179e\"],[0.4444444444444444,\"#bd3786\"],[0.5555555555555556,\"#d8576b\"],[0.6666666666666666,\"#ed7953\"],[0.7777777777777778,\"#fb9f3a\"],[0.8888888888888888,\"#fdca26\"],[1.0,\"#f0f921\"]],\"sequentialminus\":[[0.0,\"#0d0887\"],[0.1111111111111111,\"#46039f\"],[0.2222222222222222,\"#7201a8\"],[0.3333333333333333,\"#9c179e\"],[0.4444444444444444,\"#bd3786\"],[0.5555555555555556,\"#d8576b\"],[0.6666666666666666,\"#ed7953\"],[0.7777777777777778,\"#fb9f3a\"],[0.8888888888888888,\"#fdca26\"],[1.0,\"#f0f921\"]],\"diverging\":[[0,\"#8e0152\"],[0.1,\"#c51b7d\"],[0.2,\"#de77ae\"],[0.3,\"#f1b6da\"],[0.4,\"#fde0ef\"],[0.5,\"#f7f7f7\"],[0.6,\"#e6f5d0\"],[0.7,\"#b8e186\"],[0.8,\"#7fbc41\"],[0.9,\"#4d9221\"],[1,\"#276419\"]]},\"xaxis\":{\"gridcolor\":\"white\",\"linecolor\":\"white\",\"ticks\":\"\",\"title\":{\"standoff\":15},\"zerolinecolor\":\"white\",\"automargin\":true,\"zerolinewidth\":2},\"yaxis\":{\"gridcolor\":\"white\",\"linecolor\":\"white\",\"ticks\":\"\",\"title\":{\"standoff\":15},\"zerolinecolor\":\"white\",\"automargin\":true,\"zerolinewidth\":2},\"scene\":{\"xaxis\":{\"backgroundcolor\":\"#E5ECF6\",\"gridcolor\":\"white\",\"linecolor\":\"white\",\"showbackground\":true,\"ticks\":\"\",\"zerolinecolor\":\"white\",\"gridwidth\":2},\"yaxis\":{\"backgroundcolor\":\"#E5ECF6\",\"gridcolor\":\"white\",\"linecolor\":\"white\",\"showbackground\":true,\"ticks\":\"\",\"zerolinecolor\":\"white\",\"gridwidth\":2},\"zaxis\":{\"backgroundcolor\":\"#E5ECF6\",\"gridcolor\":\"white\",\"linecolor\":\"white\",\"showbackground\":true,\"ticks\":\"\",\"zerolinecolor\":\"white\",\"gridwidth\":2}},\"shapedefaults\":{\"line\":{\"color\":\"#2a3f5f\"}},\"annotationdefaults\":{\"arrowcolor\":\"#2a3f5f\",\"arrowhead\":0,\"arrowwidth\":1},\"geo\":{\"bgcolor\":\"white\",\"landcolor\":\"#E5ECF6\",\"subunitcolor\":\"white\",\"showland\":true,\"showlakes\":true,\"lakecolor\":\"white\"},\"title\":{\"x\":0.05},\"mapbox\":{\"style\":\"light\"}}}},                        {\"responsive\": true}                    ).then(function(){\n",
              "                            \n",
              "var gd = document.getElementById('c946cd74-7f4c-4509-b948-e8b056d2ccdc');\n",
              "var x = new MutationObserver(function (mutations, observer) {{\n",
              "        var display = window.getComputedStyle(gd).display;\n",
              "        if (!display || display === 'none') {{\n",
              "            console.log([gd, 'removed!']);\n",
              "            Plotly.purge(gd);\n",
              "            observer.disconnect();\n",
              "        }}\n",
              "}});\n",
              "\n",
              "// Listen for the removal of the full notebook cells\n",
              "var notebookContainer = gd.closest('#notebook-container');\n",
              "if (notebookContainer) {{\n",
              "    x.observe(notebookContainer, {childList: true});\n",
              "}}\n",
              "\n",
              "// Listen for the clearing of the current output cell\n",
              "var outputEl = gd.closest('.output');\n",
              "if (outputEl) {{\n",
              "    x.observe(outputEl, {childList: true});\n",
              "}}\n",
              "\n",
              "                        })                };                            </script>        </div>\n",
              "</body>\n",
              "</html>"
            ]
          },
          "metadata": {},
          "output_type": "display_data"
        }
      ],
      "source": [
        "import plotly.graph_objects as go\n",
        "\n",
        "# Data for Batch Size = 12, Shuffle Buffer = 60, Prefetch Buffer = 6, Learning Rate = 0.02\n",
        "rounds_1 = list(range(1, 16))\n",
        "mae_1 = [\n",
        "    0.070309095, 0.06450078, 0.061607864, 0.060092628, 0.059076704,\n",
        "    0.05836942, 0.057809025, 0.057371534, 0.05702302, 0.056733135,\n",
        "    0.056459244, 0.056229576, 0.056033693, 0.055863913, 0.055711426\n",
        "]\n",
        "\n",
        "# Data for Batch Size = 12, Shuffle Buffer = 60, Prefetch Buffer = 6, Learning Rate = 0.01\n",
        "rounds_2 = list(range(1, 16))\n",
        "mae_2 = [\n",
        "    0.06575257, 0.059883647, 0.05776895, 0.056706358, 0.056026068,\n",
        "    0.055522144, 0.05512807, 0.05480615, 0.054533303, 0.05431394,\n",
        "    0.054116458, 0.053937282, 0.053791393, 0.05366001, 0.05353039\n",
        "]\n",
        "\n",
        "# Creating trace for Batch Size = 12, Shuffle Buffer = 60, Prefetch Buffer = 6, Learning Rate = 0.02\n",
        "trace1 = go.Scatter(\n",
        "    x=rounds_1,\n",
        "    y=mae_1,\n",
        "    mode='lines',\n",
        "    name='Learning Rate = 0.02'\n",
        ")\n",
        "\n",
        "# Creating trace for Batch Size = 12, Shuffle Buffer = 60, Prefetch Buffer = 6, Learning Rate = 0.01\n",
        "trace2 = go.Scatter(\n",
        "    x=rounds_2,\n",
        "    y=mae_2,\n",
        "    mode='lines',\n",
        "    name='Learning Rate = 0.01'\n",
        ")\n",
        "\n",
        "# Creating data list\n",
        "data = [trace1, trace2]\n",
        "\n",
        "# Creating layout\n",
        "layout = go.Layout(\n",
        "    title='Mean Absolute Error (MAE) vs. Federated Rounds',\n",
        "    xaxis=dict(title='Federated Rounds'),\n",
        "    yaxis=dict(title='MAE')\n",
        ")\n",
        "\n",
        "# Creating figure\n",
        "fig = go.Figure(data=data, layout=layout)\n",
        "\n",
        "# Displaying the graph\n",
        "fig.show()\n"
      ]
    },
    {
      "attachments": {},
      "cell_type": "markdown",
      "metadata": {
        "id": "27G_dn2ISM25"
      },
      "source": [
        "FEDERATED EVALUATION"
      ]
    },
    {
      "cell_type": "code",
      "execution_count": null,
      "metadata": {
        "colab": {
          "base_uri": "https://localhost:8080/"
        },
        "id": "_jFXD6so0caR",
        "outputId": "63b19ad3-6c33-4da6-98a6-f4d60174e4f8"
      },
      "outputs": [
        {
          "data": {
            "text/plain": [
              "('MAC004993', 'MAC001315', 'MAC001735')"
            ]
          },
          "execution_count": 37,
          "metadata": {},
          "output_type": "execute_result"
        }
      ],
      "source": [
        "# Filter data for the specified time period\n",
        "start_date = '2013-03-01'\n",
        "end_date = '2014-02-28'\n",
        "filtered_data = data[(data['DateTime'] >= start_date) & (data['DateTime'] <= end_date)]\n",
        "\n",
        "# Calculate the average KWH/hh for each LCLid\n",
        "average_kwh = filtered_data.groupby('LCLid')['KWH/hh'].mean()\n",
        "\n",
        "# Find the LCLids with the lowest, highest, and medium average KWH/hh\n",
        "lowest_avg_lclid = average_kwh.idxmin()\n",
        "highest_avg_lclid = average_kwh.idxmax()\n",
        "medium_avg_lclid = average_kwh.sort_values().index[len(average_kwh) // 2]\n",
        "\n",
        "lowest_avg_lclid, highest_avg_lclid, medium_avg_lclid"
      ]
    },
    {
      "cell_type": "code",
      "execution_count": null,
      "metadata": {
        "colab": {
          "base_uri": "https://localhost:8080/"
        },
        "id": "1xyv65awPxE7",
        "outputId": "41f608fa-8d2a-494d-da1c-cb9e5937f9ed"
      },
      "outputs": [
        {
          "name": "stdout",
          "output_type": "stream",
          "text": [
            "LCLid: MAC000105, Average KWH/hh: 0.9795443608955938\n",
            "LCLid: MAC001315, Average KWH/hh: 1.5532338398279324\n",
            "LCLid: MAC001735, Average KWH/hh: 1.1353027703182235\n",
            "LCLid: MAC001739, Average KWH/hh: 1.1594489043590777\n",
            "LCLid: MAC002213, Average KWH/hh: 1.1571636448378426\n",
            "LCLid: MAC002627, Average KWH/hh: 1.1482519873262798\n",
            "LCLid: MAC002849, Average KWH/hh: 0.9751745911671925\n",
            "LCLid: MAC002872, Average KWH/hh: 1.049635826832626\n",
            "LCLid: MAC003257, Average KWH/hh: 1.0347555363662373\n",
            "LCLid: MAC004319, Average KWH/hh: 0.9948896068466511\n",
            "LCLid: MAC004593, Average KWH/hh: 1.2752311341838778\n",
            "LCLid: MAC004993, Average KWH/hh: 0.7328972933569835\n"
          ]
        }
      ],
      "source": [
        "# Assuming your data is stored in a DataFrame called 'data'\n",
        "# Calculate the average KWH/hh for each LCLid\n",
        "average_kwh = filtered_data.groupby('LCLid')['KWH/hh'].mean()\n",
        "\n",
        "# Print all LCLids with their corresponding average KWH/hh\n",
        "for lclid, avg_kwh in average_kwh.items():\n",
        "    print(f\"LCLid: {lclid}, Average KWH/hh: {avg_kwh}\")"
      ]
    },
    {
      "cell_type": "code",
      "execution_count": null,
      "metadata": {
        "id": "jKOrjE2SDURS"
      },
      "outputs": [],
      "source": [
        "filtered_data44 = data[data['LCLid'] == 'MAC001315']"
      ]
    },
    {
      "cell_type": "code",
      "execution_count": null,
      "metadata": {
        "id": "VjO5R9bNAudO"
      },
      "outputs": [],
      "source": [
        "# Filter the DataFrame to include readings from Jan 01, 2014, to Jan 31, 2014\n",
        "teststart_date1 = pd.to_datetime('2013-03-01')\n",
        "testend_date1 = pd.to_datetime('2013-03-31')\n",
        "test_data1 = filtered_data44[(filtered_data44['DateTime'] >= teststart_date1) & (filtered_data44['DateTime'] <= testend_date1)]\n",
        "\n",
        "teststart_date2 = pd.to_datetime('2013-04-01')\n",
        "testend_date2 = pd.to_datetime('2013-04-30')\n",
        "test_data2 = filtered_data44[(filtered_data44['DateTime'] >= teststart_date2) & (filtered_data44['DateTime'] <= testend_date2)]\n",
        "\n",
        "\n",
        "teststart_date3 = pd.to_datetime('2013-05-01')\n",
        "testend_date3 = pd.to_datetime('2013-05-31')\n",
        "test_data3 = filtered_data44[(filtered_data44['DateTime'] >= teststart_date3) & (filtered_data44['DateTime'] <= testend_date3)]\n",
        "\n",
        "teststart_date4 = pd.to_datetime('2013-06-01')\n",
        "testend_date4 = pd.to_datetime('2013-06-30')\n",
        "test_data4 = filtered_data44[(filtered_data44['DateTime'] >= teststart_date4) & (filtered_data44['DateTime'] <= testend_date4)]\n",
        "\n",
        "teststart_date5 = pd.to_datetime('2013-07-01')\n",
        "testend_date5 = pd.to_datetime('2013-07-31')\n",
        "test_data5 = filtered_data44[(filtered_data44['DateTime'] >= teststart_date5) & (filtered_data44['DateTime'] <= testend_date5)]\n",
        "\n",
        "teststart_date6 = pd.to_datetime('2013-08-01')\n",
        "testend_date6 = pd.to_datetime('2013-08-31')\n",
        "test_data6 = filtered_data44[(filtered_data44['DateTime'] >= teststart_date6) & (filtered_data44['DateTime'] <= testend_date6)]\n",
        "\n",
        "teststart_date7 = pd.to_datetime('2013-09-01')\n",
        "testend_date7 = pd.to_datetime('2013-09-30')\n",
        "test_data7 = filtered_data44[(filtered_data44['DateTime'] >= teststart_date7) & (filtered_data44['DateTime'] <= testend_date7)]\n",
        "\n",
        "teststart_date8 = pd.to_datetime('2013-10-01')\n",
        "testend_date8 = pd.to_datetime('2013-10-31')\n",
        "test_data8 = filtered_data44[(filtered_data44['DateTime'] >= teststart_date8) & (filtered_data44['DateTime'] <= testend_date8)]\n",
        "\n",
        "teststart_date9 = pd.to_datetime('2013-11-01')\n",
        "testend_date9 = pd.to_datetime('2013-11-30')\n",
        "test_data9 = filtered_data44[(filtered_data44['DateTime'] >= teststart_date9) & (filtered_data44['DateTime'] <= testend_date9)]\n",
        "\n",
        "teststart_date10 = pd.to_datetime('2013-12-01')\n",
        "testend_date10 = pd.to_datetime('2013-12-31')\n",
        "test_data10 = filtered_data44[(filtered_data44['DateTime'] >= teststart_date10) & (filtered_data44['DateTime'] <= testend_date10)]\n",
        "\n",
        "teststart_date11 = pd.to_datetime('2014-01-01')\n",
        "testend_date11 = pd.to_datetime('2014-01-31')\n",
        "test_data11 = filtered_data44[(filtered_data44['DateTime'] >= teststart_date11) & (filtered_data44['DateTime'] <= testend_date11)]\n",
        "\n",
        "teststart_date12 = pd.to_datetime('2014-02-01')\n",
        "testend_date12 = pd.to_datetime('2014-02-28')\n",
        "test_data12 = filtered_data44[(filtered_data44['DateTime'] >= teststart_date12) & (filtered_data44['DateTime'] <= testend_date12)]\n",
        "\n"
      ]
    },
    {
      "cell_type": "code",
      "execution_count": null,
      "metadata": {
        "colab": {
          "base_uri": "https://localhost:8080/",
          "height": 424
        },
        "id": "g3JRRBI7X_M8",
        "outputId": "292c2cbb-e892-4f84-c372-78de18402653"
      },
      "outputs": [
        {
          "data": {
            "text/html": [
              "\n",
              "  <div id=\"df-d28a96a9-cc5c-42a8-b7ff-6ccdcb38f41a\">\n",
              "    <div class=\"colab-df-container\">\n",
              "      <div>\n",
              "<style scoped>\n",
              "    .dataframe tbody tr th:only-of-type {\n",
              "        vertical-align: middle;\n",
              "    }\n",
              "\n",
              "    .dataframe tbody tr th {\n",
              "        vertical-align: top;\n",
              "    }\n",
              "\n",
              "    .dataframe thead th {\n",
              "        text-align: right;\n",
              "    }\n",
              "</style>\n",
              "<table border=\"1\" class=\"dataframe\">\n",
              "  <thead>\n",
              "    <tr style=\"text-align: right;\">\n",
              "      <th></th>\n",
              "      <th>LCLid</th>\n",
              "      <th>stdorToU</th>\n",
              "      <th>DateTime</th>\n",
              "      <th>KWH/hh</th>\n",
              "      <th>cluster</th>\n",
              "    </tr>\n",
              "  </thead>\n",
              "  <tbody>\n",
              "    <tr>\n",
              "      <th>57702</th>\n",
              "      <td>MAC001315</td>\n",
              "      <td>Std</td>\n",
              "      <td>2013-07-01 00:00:00</td>\n",
              "      <td>0.823</td>\n",
              "      <td>17</td>\n",
              "    </tr>\n",
              "    <tr>\n",
              "      <th>57703</th>\n",
              "      <td>MAC001315</td>\n",
              "      <td>Std</td>\n",
              "      <td>2013-07-01 00:30:00</td>\n",
              "      <td>1.035</td>\n",
              "      <td>17</td>\n",
              "    </tr>\n",
              "    <tr>\n",
              "      <th>57704</th>\n",
              "      <td>MAC001315</td>\n",
              "      <td>Std</td>\n",
              "      <td>2013-07-01 01:00:00</td>\n",
              "      <td>0.667</td>\n",
              "      <td>17</td>\n",
              "    </tr>\n",
              "    <tr>\n",
              "      <th>57705</th>\n",
              "      <td>MAC001315</td>\n",
              "      <td>Std</td>\n",
              "      <td>2013-07-01 01:30:00</td>\n",
              "      <td>0.654</td>\n",
              "      <td>17</td>\n",
              "    </tr>\n",
              "    <tr>\n",
              "      <th>57706</th>\n",
              "      <td>MAC001315</td>\n",
              "      <td>Std</td>\n",
              "      <td>2013-07-01 02:00:00</td>\n",
              "      <td>0.710</td>\n",
              "      <td>17</td>\n",
              "    </tr>\n",
              "    <tr>\n",
              "      <th>...</th>\n",
              "      <td>...</td>\n",
              "      <td>...</td>\n",
              "      <td>...</td>\n",
              "      <td>...</td>\n",
              "      <td>...</td>\n",
              "    </tr>\n",
              "    <tr>\n",
              "      <th>59139</th>\n",
              "      <td>MAC001315</td>\n",
              "      <td>Std</td>\n",
              "      <td>2013-07-30 22:00:00</td>\n",
              "      <td>0.887</td>\n",
              "      <td>17</td>\n",
              "    </tr>\n",
              "    <tr>\n",
              "      <th>59140</th>\n",
              "      <td>MAC001315</td>\n",
              "      <td>Std</td>\n",
              "      <td>2013-07-30 22:30:00</td>\n",
              "      <td>0.835</td>\n",
              "      <td>17</td>\n",
              "    </tr>\n",
              "    <tr>\n",
              "      <th>59141</th>\n",
              "      <td>MAC001315</td>\n",
              "      <td>Std</td>\n",
              "      <td>2013-07-30 23:00:00</td>\n",
              "      <td>0.801</td>\n",
              "      <td>17</td>\n",
              "    </tr>\n",
              "    <tr>\n",
              "      <th>59142</th>\n",
              "      <td>MAC001315</td>\n",
              "      <td>Std</td>\n",
              "      <td>2013-07-30 23:30:00</td>\n",
              "      <td>0.815</td>\n",
              "      <td>17</td>\n",
              "    </tr>\n",
              "    <tr>\n",
              "      <th>59143</th>\n",
              "      <td>MAC001315</td>\n",
              "      <td>Std</td>\n",
              "      <td>2013-07-31 00:00:00</td>\n",
              "      <td>0.797</td>\n",
              "      <td>17</td>\n",
              "    </tr>\n",
              "  </tbody>\n",
              "</table>\n",
              "<p>1442 rows × 5 columns</p>\n",
              "</div>\n",
              "      <button class=\"colab-df-convert\" onclick=\"convertToInteractive('df-d28a96a9-cc5c-42a8-b7ff-6ccdcb38f41a')\"\n",
              "              title=\"Convert this dataframe to an interactive table.\"\n",
              "              style=\"display:none;\">\n",
              "        \n",
              "  <svg xmlns=\"http://www.w3.org/2000/svg\" height=\"24px\"viewBox=\"0 0 24 24\"\n",
              "       width=\"24px\">\n",
              "    <path d=\"M0 0h24v24H0V0z\" fill=\"none\"/>\n",
              "    <path d=\"M18.56 5.44l.94 2.06.94-2.06 2.06-.94-2.06-.94-.94-2.06-.94 2.06-2.06.94zm-11 1L8.5 8.5l.94-2.06 2.06-.94-2.06-.94L8.5 2.5l-.94 2.06-2.06.94zm10 10l.94 2.06.94-2.06 2.06-.94-2.06-.94-.94-2.06-.94 2.06-2.06.94z\"/><path d=\"M17.41 7.96l-1.37-1.37c-.4-.4-.92-.59-1.43-.59-.52 0-1.04.2-1.43.59L10.3 9.45l-7.72 7.72c-.78.78-.78 2.05 0 2.83L4 21.41c.39.39.9.59 1.41.59.51 0 1.02-.2 1.41-.59l7.78-7.78 2.81-2.81c.8-.78.8-2.07 0-2.86zM5.41 20L4 18.59l7.72-7.72 1.47 1.35L5.41 20z\"/>\n",
              "  </svg>\n",
              "      </button>\n",
              "      \n",
              "  <style>\n",
              "    .colab-df-container {\n",
              "      display:flex;\n",
              "      flex-wrap:wrap;\n",
              "      gap: 12px;\n",
              "    }\n",
              "\n",
              "    .colab-df-convert {\n",
              "      background-color: #E8F0FE;\n",
              "      border: none;\n",
              "      border-radius: 50%;\n",
              "      cursor: pointer;\n",
              "      display: none;\n",
              "      fill: #1967D2;\n",
              "      height: 32px;\n",
              "      padding: 0 0 0 0;\n",
              "      width: 32px;\n",
              "    }\n",
              "\n",
              "    .colab-df-convert:hover {\n",
              "      background-color: #E2EBFA;\n",
              "      box-shadow: 0px 1px 2px rgba(60, 64, 67, 0.3), 0px 1px 3px 1px rgba(60, 64, 67, 0.15);\n",
              "      fill: #174EA6;\n",
              "    }\n",
              "\n",
              "    [theme=dark] .colab-df-convert {\n",
              "      background-color: #3B4455;\n",
              "      fill: #D2E3FC;\n",
              "    }\n",
              "\n",
              "    [theme=dark] .colab-df-convert:hover {\n",
              "      background-color: #434B5C;\n",
              "      box-shadow: 0px 1px 3px 1px rgba(0, 0, 0, 0.15);\n",
              "      filter: drop-shadow(0px 1px 2px rgba(0, 0, 0, 0.3));\n",
              "      fill: #FFFFFF;\n",
              "    }\n",
              "  </style>\n",
              "\n",
              "      <script>\n",
              "        const buttonEl =\n",
              "          document.querySelector('#df-d28a96a9-cc5c-42a8-b7ff-6ccdcb38f41a button.colab-df-convert');\n",
              "        buttonEl.style.display =\n",
              "          google.colab.kernel.accessAllowed ? 'block' : 'none';\n",
              "\n",
              "        async function convertToInteractive(key) {\n",
              "          const element = document.querySelector('#df-d28a96a9-cc5c-42a8-b7ff-6ccdcb38f41a');\n",
              "          const dataTable =\n",
              "            await google.colab.kernel.invokeFunction('convertToInteractive',\n",
              "                                                     [key], {});\n",
              "          if (!dataTable) return;\n",
              "\n",
              "          const docLinkHtml = 'Like what you see? Visit the ' +\n",
              "            '<a target=\"_blank\" href=https://colab.research.google.com/notebooks/data_table.ipynb>data table notebook</a>'\n",
              "            + ' to learn more about interactive tables.';\n",
              "          element.innerHTML = '';\n",
              "          dataTable['output_type'] = 'display_data';\n",
              "          await google.colab.output.renderOutput(dataTable, element);\n",
              "          const docLink = document.createElement('div');\n",
              "          docLink.innerHTML = docLinkHtml;\n",
              "          element.appendChild(docLink);\n",
              "        }\n",
              "      </script>\n",
              "    </div>\n",
              "  </div>\n",
              "  "
            ],
            "text/plain": [
              "           LCLid stdorToU            DateTime  KWH/hh  cluster\n",
              "57702  MAC001315      Std 2013-07-01 00:00:00   0.823       17\n",
              "57703  MAC001315      Std 2013-07-01 00:30:00   1.035       17\n",
              "57704  MAC001315      Std 2013-07-01 01:00:00   0.667       17\n",
              "57705  MAC001315      Std 2013-07-01 01:30:00   0.654       17\n",
              "57706  MAC001315      Std 2013-07-01 02:00:00   0.710       17\n",
              "...          ...      ...                 ...     ...      ...\n",
              "59139  MAC001315      Std 2013-07-30 22:00:00   0.887       17\n",
              "59140  MAC001315      Std 2013-07-30 22:30:00   0.835       17\n",
              "59141  MAC001315      Std 2013-07-30 23:00:00   0.801       17\n",
              "59142  MAC001315      Std 2013-07-30 23:30:00   0.815       17\n",
              "59143  MAC001315      Std 2013-07-31 00:00:00   0.797       17\n",
              "\n",
              "[1442 rows x 5 columns]"
            ]
          },
          "execution_count": 134,
          "metadata": {},
          "output_type": "execute_result"
        }
      ],
      "source": [
        "test_data5"
      ]
    },
    {
      "cell_type": "code",
      "execution_count": null,
      "metadata": {
        "id": "sX8xcOJiAuam"
      },
      "outputs": [],
      "source": [
        "# Select unique LCLids\n",
        "lclid_lt1 = test_data1['LCLid'].unique()\n",
        "sel_lclids1 = lclid_lt1[:1]\n",
        "# Filter data for the selected LCLids\n",
        "ft_data1 = test_data1[test_data1['LCLid'].isin(sel_lclids1)]\n",
        "\n",
        "# Select unique LCLids\n",
        "lclid_lt2 = test_data2['LCLid'].unique()\n",
        "sel_lclids2 = lclid_lt2[:1]\n",
        "# Filter data for the selected LCLids\n",
        "ft_data2 = test_data2[test_data2['LCLid'].isin(sel_lclids2)]\n",
        "\n",
        "# Select unique LCLids\n",
        "lclid_lt3 = test_data3['LCLid'].unique()\n",
        "sel_lclids3 = lclid_lt3[:1]\n",
        "# Filter data for the selected LCLids\n",
        "ft_data3 = test_data3[test_data3['LCLid'].isin(sel_lclids3)]\n",
        "\n",
        "# Select unique LCLids\n",
        "lclid_lt4 = test_data4['LCLid'].unique()\n",
        "sel_lclids4 = lclid_lt4[:1]\n",
        "# Filter data for the selected LCLids\n",
        "ft_data4 = test_data4[test_data4['LCLid'].isin(sel_lclids4)]\n",
        "\n",
        "# Select unique LCLids\n",
        "lclid_lt5 = test_data5['LCLid'].unique()\n",
        "sel_lclids5 = lclid_lt5[:1]\n",
        "# Filter data for the selected LCLids\n",
        "ft_data5 = test_data5[test_data5['LCLid'].isin(sel_lclids5)]\n",
        "\n",
        "# Select unique LCLids\n",
        "lclid_lt6 = test_data6['LCLid'].unique()\n",
        "sel_lclids6 = lclid_lt6[:1]\n",
        "# Filter data for the selected LCLids\n",
        "ft_data6 = test_data6[test_data6['LCLid'].isin(sel_lclids6)]\n",
        "\n",
        "# Select unique LCLids\n",
        "lclid_lt7 = test_data7['LCLid'].unique()\n",
        "sel_lclids7 = lclid_lt7[:1]\n",
        "# Filter data for the selected LCLids\n",
        "ft_data7 = test_data7[test_data7['LCLid'].isin(sel_lclids7)]\n",
        "\n",
        "# Select unique LCLids\n",
        "lclid_lt8 = test_data8['LCLid'].unique()\n",
        "sel_lclids8 = lclid_lt8[:1]\n",
        "# Filter data for the selected LCLids\n",
        "ft_data8 = test_data8[test_data8['LCLid'].isin(sel_lclids8)]\n",
        "\n",
        "# Select unique LCLids\n",
        "lclid_lt9 = test_data9['LCLid'].unique()\n",
        "sel_lclids9 = lclid_lt9[:1]\n",
        "# Filter data for the selected LCLids\n",
        "ft_data9 = test_data9[test_data9['LCLid'].isin(sel_lclids9)]\n",
        "\n",
        "# Select unique LCLids\n",
        "lclid_lt10 = test_data10['LCLid'].unique()\n",
        "sel_lclids10 = lclid_lt10[:1]\n",
        "# Filter data for the selected LCLids\n",
        "ft_data10 = test_data10[test_data10['LCLid'].isin(sel_lclids10)]\n",
        "\n",
        "# Select unique LCLids\n",
        "lclid_lt11 = test_data11['LCLid'].unique()\n",
        "sel_lclids11 = lclid_lt11[:1]\n",
        "# Filter data for the selected LCLids\n",
        "ft_data11 = test_data11[test_data11['LCLid'].isin(sel_lclids11)]\n",
        "\n",
        "# Select unique LCLids\n",
        "lclid_lt12 = test_data12['LCLid'].unique()\n",
        "sel_lclids12 = lclid_lt12[:1]\n",
        "# Filter data for the selected LCLids\n",
        "ft_data12 = test_data12[test_data12['LCLid'].isin(sel_lclids12)]"
      ]
    },
    {
      "cell_type": "code",
      "execution_count": null,
      "metadata": {
        "id": "-uxmDOfsAuX3"
      },
      "outputs": [],
      "source": [
        "ft_data1.reset_index(drop=True, inplace=True)\n",
        "ft_data2.reset_index(drop=True, inplace=True)\n",
        "ft_data3.reset_index(drop=True, inplace=True)\n",
        "ft_data4.reset_index(drop=True, inplace=True)\n",
        "ft_data5.reset_index(drop=True, inplace=True)\n",
        "ft_data6.reset_index(drop=True, inplace=True)\n",
        "ft_data7.reset_index(drop=True, inplace=True)\n",
        "ft_data8.reset_index(drop=True, inplace=True)\n",
        "ft_data9.reset_index(drop=True, inplace=True)\n",
        "ft_data10.reset_index(drop=True, inplace=True)\n",
        "ft_data11.reset_index(drop=True, inplace=True)\n",
        "ft_data12.reset_index(drop=True, inplace=True)"
      ]
    },
    {
      "cell_type": "code",
      "execution_count": null,
      "metadata": {
        "id": "1ISaDqmy1gFz"
      },
      "outputs": [],
      "source": [
        "ft_data1['KWH/hh'] = ft_data1['KWH/hh'].astype(np.float32)\n",
        "ft_data2['KWH/hh'] = ft_data2['KWH/hh'].astype(np.float32)\n",
        "ft_data3['KWH/hh'] = ft_data3['KWH/hh'].astype(np.float32)\n",
        "ft_data4['KWH/hh'] = ft_data4['KWH/hh'].astype(np.float32)\n",
        "ft_data5['KWH/hh'] = ft_data5['KWH/hh'].astype(np.float32)\n",
        "ft_data6['KWH/hh'] = ft_data6['KWH/hh'].astype(np.float32)\n",
        "ft_data7['KWH/hh'] = ft_data7['KWH/hh'].astype(np.float32)\n",
        "ft_data8['KWH/hh'] = ft_data8['KWH/hh'].astype(np.float32)\n",
        "ft_data9['KWH/hh'] = ft_data9['KWH/hh'].astype(np.float32)\n",
        "ft_data10['KWH/hh'] = ft_data10['KWH/hh'].astype(np.float32)\n",
        "ft_data11['KWH/hh'] = ft_data11['KWH/hh'].astype(np.float32)\n",
        "ft_data12['KWH/hh'] = ft_data12['KWH/hh'].astype(np.float32)\n"
      ]
    },
    {
      "cell_type": "code",
      "execution_count": null,
      "metadata": {
        "id": "tL4Cg2QQEcZu"
      },
      "outputs": [],
      "source": [
        "ft_data1 = ft_data1.drop('cluster', axis=1)\n",
        "ft_data1 = ft_data1.drop('stdorToU', axis=1)\n",
        "\n",
        "ft_data2 = ft_data2.drop('cluster', axis=1)\n",
        "ft_data2 = ft_data2.drop('stdorToU', axis=1)\n",
        "\n",
        "ft_data3 = ft_data3.drop('cluster', axis=1)\n",
        "ft_data3 = ft_data3.drop('stdorToU', axis=1)\n",
        "\n",
        "ft_data4 = ft_data4.drop('cluster', axis=1)\n",
        "ft_data4 = ft_data4.drop('stdorToU', axis=1)\n",
        "\n",
        "ft_data5 = ft_data5.drop('cluster', axis=1)\n",
        "ft_data5 = ft_data5.drop('stdorToU', axis=1)\n",
        "\n",
        "ft_data6 = ft_data6.drop('cluster', axis=1)\n",
        "ft_data6 = ft_data6.drop('stdorToU', axis=1)\n",
        "\n",
        "ft_data7 = ft_data7.drop('cluster', axis=1)\n",
        "ft_data7 = ft_data7.drop('stdorToU', axis=1)\n",
        "\n",
        "ft_data8 = ft_data8.drop('cluster', axis=1)\n",
        "ft_data8 = ft_data8.drop('stdorToU', axis=1)\n",
        "\n",
        "ft_data9 = ft_data9.drop('cluster', axis=1)\n",
        "ft_data9 = ft_data9.drop('stdorToU', axis=1)\n",
        "\n",
        "ft_data10 = ft_data10.drop('cluster', axis=1)\n",
        "ft_data10 = ft_data10.drop('stdorToU', axis=1)\n",
        "\n",
        "ft_data11 = ft_data11.drop('cluster', axis=1)\n",
        "ft_data11 = ft_data11.drop('stdorToU', axis=1)\n",
        "\n",
        "ft_data12 = ft_data12.drop('cluster', axis=1)\n",
        "ft_data12 = ft_data12.drop('stdorToU', axis=1)\n",
        "\n",
        "\n"
      ]
    },
    {
      "cell_type": "code",
      "execution_count": null,
      "metadata": {
        "colab": {
          "base_uri": "https://localhost:8080/"
        },
        "id": "hoda-x0SEcXY",
        "outputId": "d5c096e4-0bf9-4437-9765-08760e85b5f0"
      },
      "outputs": [
        {
          "name": "stderr",
          "output_type": "stream",
          "text": [
            "<ipython-input-139-1ccda807f8e2>:3: SettingWithCopyWarning: \n",
            "A value is trying to be set on a copy of a slice from a DataFrame\n",
            "\n",
            "See the caveats in the documentation: https://pandas.pydata.org/pandas-docs/stable/user_guide/indexing.html#returning-a-view-versus-a-copy\n",
            "  ft_data1['DateTime'][i]=ft_data1['DateTime'][i].timestamp()\n",
            "<ipython-input-139-1ccda807f8e2>:7: SettingWithCopyWarning: \n",
            "A value is trying to be set on a copy of a slice from a DataFrame\n",
            "\n",
            "See the caveats in the documentation: https://pandas.pydata.org/pandas-docs/stable/user_guide/indexing.html#returning-a-view-versus-a-copy\n",
            "  ft_data2['DateTime'][i]=ft_data2['DateTime'][i].timestamp()\n",
            "<ipython-input-139-1ccda807f8e2>:11: SettingWithCopyWarning: \n",
            "A value is trying to be set on a copy of a slice from a DataFrame\n",
            "\n",
            "See the caveats in the documentation: https://pandas.pydata.org/pandas-docs/stable/user_guide/indexing.html#returning-a-view-versus-a-copy\n",
            "  ft_data3['DateTime'][i]=ft_data3['DateTime'][i].timestamp()\n",
            "<ipython-input-139-1ccda807f8e2>:15: SettingWithCopyWarning: \n",
            "A value is trying to be set on a copy of a slice from a DataFrame\n",
            "\n",
            "See the caveats in the documentation: https://pandas.pydata.org/pandas-docs/stable/user_guide/indexing.html#returning-a-view-versus-a-copy\n",
            "  ft_data4['DateTime'][i]=ft_data4['DateTime'][i].timestamp()\n",
            "<ipython-input-139-1ccda807f8e2>:19: SettingWithCopyWarning: \n",
            "A value is trying to be set on a copy of a slice from a DataFrame\n",
            "\n",
            "See the caveats in the documentation: https://pandas.pydata.org/pandas-docs/stable/user_guide/indexing.html#returning-a-view-versus-a-copy\n",
            "  ft_data5['DateTime'][i]=ft_data5['DateTime'][i].timestamp()\n",
            "<ipython-input-139-1ccda807f8e2>:23: SettingWithCopyWarning: \n",
            "A value is trying to be set on a copy of a slice from a DataFrame\n",
            "\n",
            "See the caveats in the documentation: https://pandas.pydata.org/pandas-docs/stable/user_guide/indexing.html#returning-a-view-versus-a-copy\n",
            "  ft_data6['DateTime'][i]=ft_data6['DateTime'][i].timestamp()\n",
            "<ipython-input-139-1ccda807f8e2>:27: SettingWithCopyWarning: \n",
            "A value is trying to be set on a copy of a slice from a DataFrame\n",
            "\n",
            "See the caveats in the documentation: https://pandas.pydata.org/pandas-docs/stable/user_guide/indexing.html#returning-a-view-versus-a-copy\n",
            "  ft_data7['DateTime'][i]=ft_data7['DateTime'][i].timestamp()\n",
            "<ipython-input-139-1ccda807f8e2>:31: SettingWithCopyWarning: \n",
            "A value is trying to be set on a copy of a slice from a DataFrame\n",
            "\n",
            "See the caveats in the documentation: https://pandas.pydata.org/pandas-docs/stable/user_guide/indexing.html#returning-a-view-versus-a-copy\n",
            "  ft_data8['DateTime'][i]=ft_data8['DateTime'][i].timestamp()\n",
            "<ipython-input-139-1ccda807f8e2>:35: SettingWithCopyWarning: \n",
            "A value is trying to be set on a copy of a slice from a DataFrame\n",
            "\n",
            "See the caveats in the documentation: https://pandas.pydata.org/pandas-docs/stable/user_guide/indexing.html#returning-a-view-versus-a-copy\n",
            "  ft_data9['DateTime'][i]=ft_data9['DateTime'][i].timestamp()\n",
            "<ipython-input-139-1ccda807f8e2>:39: SettingWithCopyWarning: \n",
            "A value is trying to be set on a copy of a slice from a DataFrame\n",
            "\n",
            "See the caveats in the documentation: https://pandas.pydata.org/pandas-docs/stable/user_guide/indexing.html#returning-a-view-versus-a-copy\n",
            "  ft_data10['DateTime'][i]=ft_data10['DateTime'][i].timestamp()\n",
            "<ipython-input-139-1ccda807f8e2>:43: SettingWithCopyWarning: \n",
            "A value is trying to be set on a copy of a slice from a DataFrame\n",
            "\n",
            "See the caveats in the documentation: https://pandas.pydata.org/pandas-docs/stable/user_guide/indexing.html#returning-a-view-versus-a-copy\n",
            "  ft_data11['DateTime'][i]=ft_data11['DateTime'][i].timestamp()\n",
            "<ipython-input-139-1ccda807f8e2>:47: SettingWithCopyWarning: \n",
            "A value is trying to be set on a copy of a slice from a DataFrame\n",
            "\n",
            "See the caveats in the documentation: https://pandas.pydata.org/pandas-docs/stable/user_guide/indexing.html#returning-a-view-versus-a-copy\n",
            "  ft_data12['DateTime'][i]=ft_data12['DateTime'][i].timestamp()\n"
          ]
        }
      ],
      "source": [
        "ft_data1['DateTime'] = pd.to_datetime(ft_data1.DateTime).dt.tz_localize(None)\n",
        "for i in range(len(ft_data1)):\n",
        "  ft_data1['DateTime'][i]=ft_data1['DateTime'][i].timestamp()\n",
        "\n",
        "ft_data2['DateTime'] = pd.to_datetime(ft_data2.DateTime).dt.tz_localize(None)\n",
        "for i in range(len(ft_data2)):\n",
        "  ft_data2['DateTime'][i]=ft_data2['DateTime'][i].timestamp()\n",
        "\n",
        "ft_data3['DateTime'] = pd.to_datetime(ft_data3.DateTime).dt.tz_localize(None)\n",
        "for i in range(len(ft_data3)):\n",
        "  ft_data3['DateTime'][i]=ft_data3['DateTime'][i].timestamp()\n",
        "\n",
        "ft_data4['DateTime'] = pd.to_datetime(ft_data4.DateTime).dt.tz_localize(None)\n",
        "for i in range(len(ft_data4)):\n",
        "  ft_data4['DateTime'][i]=ft_data4['DateTime'][i].timestamp()\n",
        "\n",
        "ft_data5['DateTime'] = pd.to_datetime(ft_data5.DateTime).dt.tz_localize(None)\n",
        "for i in range(len(ft_data5)):\n",
        "  ft_data5['DateTime'][i]=ft_data5['DateTime'][i].timestamp()\n",
        "\n",
        "ft_data6['DateTime'] = pd.to_datetime(ft_data6.DateTime).dt.tz_localize(None)\n",
        "for i in range(len(ft_data6)):\n",
        "  ft_data6['DateTime'][i]=ft_data6['DateTime'][i].timestamp()\n",
        "\n",
        "ft_data7['DateTime'] = pd.to_datetime(ft_data7.DateTime).dt.tz_localize(None)\n",
        "for i in range(len(ft_data7)):\n",
        "  ft_data7['DateTime'][i]=ft_data7['DateTime'][i].timestamp()\n",
        "\n",
        "ft_data8['DateTime'] = pd.to_datetime(ft_data8.DateTime).dt.tz_localize(None)\n",
        "for i in range(len(ft_data8)):\n",
        "  ft_data8['DateTime'][i]=ft_data8['DateTime'][i].timestamp()\n",
        "\n",
        "ft_data9['DateTime'] = pd.to_datetime(ft_data9.DateTime).dt.tz_localize(None)\n",
        "for i in range(len(ft_data9)):\n",
        "  ft_data9['DateTime'][i]=ft_data9['DateTime'][i].timestamp()\n",
        "\n",
        "ft_data10['DateTime'] = pd.to_datetime(ft_data10.DateTime).dt.tz_localize(None)\n",
        "for i in range(len(ft_data10)):\n",
        "  ft_data10['DateTime'][i]=ft_data10['DateTime'][i].timestamp()\n",
        "\n",
        "ft_data11['DateTime'] = pd.to_datetime(ft_data11.DateTime).dt.tz_localize(None)\n",
        "for i in range(len(ft_data11)):\n",
        "  ft_data11['DateTime'][i]=ft_data11['DateTime'][i].timestamp()\n",
        "\n",
        "ft_data12['DateTime'] = pd.to_datetime(ft_data12.DateTime).dt.tz_localize(None)\n",
        "for i in range(len(ft_data12)):\n",
        "  ft_data12['DateTime'][i]=ft_data12['DateTime'][i].timestamp()\n"
      ]
    },
    {
      "cell_type": "code",
      "execution_count": null,
      "metadata": {
        "id": "Ux85tGC5Ef7D"
      },
      "outputs": [],
      "source": [
        "ft_data1['DateTime'] = ft_data1['DateTime'].astype(np.float32)\n",
        "ft_data2['DateTime'] = ft_data2['DateTime'].astype(np.float32)\n",
        "ft_data3['DateTime'] = ft_data3['DateTime'].astype(np.float32)\n",
        "ft_data4['DateTime'] = ft_data4['DateTime'].astype(np.float32)\n",
        "ft_data5['DateTime'] = ft_data5['DateTime'].astype(np.float32)\n",
        "ft_data6['DateTime'] = ft_data6['DateTime'].astype(np.float32)\n",
        "ft_data7['DateTime'] = ft_data7['DateTime'].astype(np.float32)\n",
        "ft_data8['DateTime'] = ft_data8['DateTime'].astype(np.float32)\n",
        "ft_data9['DateTime'] = ft_data9['DateTime'].astype(np.float32)\n",
        "ft_data10['DateTime'] = ft_data10['DateTime'].astype(np.float32)\n",
        "ft_data11['DateTime'] = ft_data11['DateTime'].astype(np.float32)\n",
        "ft_data12['DateTime'] = ft_data12['DateTime'].astype(np.float32)\n",
        "\n",
        "\n"
      ]
    },
    {
      "cell_type": "code",
      "execution_count": null,
      "metadata": {
        "id": "q5utuf6SEf4m"
      },
      "outputs": [],
      "source": [
        "# Sort the data by 'LCLid' and 'DateTime'\n",
        "ft_data1.sort_values(['LCLid', 'DateTime'], inplace=True)\n",
        "ft_data2.sort_values(['LCLid', 'DateTime'], inplace=True)\n",
        "ft_data3.sort_values(['LCLid', 'DateTime'], inplace=True)\n",
        "ft_data4.sort_values(['LCLid', 'DateTime'], inplace=True)\n",
        "ft_data5.sort_values(['LCLid', 'DateTime'], inplace=True)\n",
        "ft_data6.sort_values(['LCLid', 'DateTime'], inplace=True)\n",
        "ft_data7.sort_values(['LCLid', 'DateTime'], inplace=True)\n",
        "ft_data8.sort_values(['LCLid', 'DateTime'], inplace=True)\n",
        "ft_data9.sort_values(['LCLid', 'DateTime'], inplace=True)\n",
        "ft_data10.sort_values(['LCLid', 'DateTime'], inplace=True)\n",
        "ft_data11.sort_values(['LCLid', 'DateTime'], inplace=True)\n",
        "ft_data12.sort_values(['LCLid', 'DateTime'], inplace=True)\n"
      ]
    },
    {
      "cell_type": "code",
      "execution_count": null,
      "metadata": {
        "colab": {
          "base_uri": "https://localhost:8080/"
        },
        "id": "1x3NG406Ef2G",
        "outputId": "a4db40c3-8841-4114-e420-9f5208843036"
      },
      "outputs": [
        {
          "data": {
            "text/plain": [
              "array(['MAC001315'], dtype=object)"
            ]
          },
          "execution_count": 144,
          "metadata": {},
          "output_type": "execute_result"
        }
      ],
      "source": [
        "test_client = ft_data1['LCLid'].unique()\n",
        "\n",
        "test_client"
      ]
    },
    {
      "cell_type": "code",
      "execution_count": null,
      "metadata": {
        "colab": {
          "base_uri": "https://localhost:8080/"
        },
        "id": "0o5VOrl5Eq-V",
        "outputId": "c53fd654-2e63-450c-c253-03fbf95d7418"
      },
      "outputs": [
        {
          "name": "stdout",
          "output_type": "stream",
          "text": [
            "Client dataset for LCLid MAC001315\n",
            "OrderedDict([('x', array([[0.605, 0.541, 0.555, ..., 0.442, 0.467, 0.483],\n",
            "       [0.593, 0.631, 0.674, ..., 0.582, 0.57 , 0.573],\n",
            "       [0.504, 0.324, 0.358, ..., 0.431, 0.689, 0.376],\n",
            "       ...,\n",
            "       [0.67 , 0.655, 0.504, ..., 0.541, 0.464, 0.431],\n",
            "       [0.796, 0.981, 0.93 , ..., 0.483, 0.506, 0.725],\n",
            "       [1.15 , 0.532, 0.459, ..., 0.307, 0.524, 0.734]], dtype=float32)), ('y', array([[0.53 ],\n",
            "       [0.594],\n",
            "       [0.355],\n",
            "       [0.307],\n",
            "       [0.286],\n",
            "       [0.593],\n",
            "       [0.484],\n",
            "       [0.506],\n",
            "       [0.567],\n",
            "       [0.689],\n",
            "       [0.442],\n",
            "       [0.472]], dtype=float32))])\n"
          ]
        }
      ],
      "source": [
        "test_dataset1 = {}\n",
        "\n",
        "for LCLid in test_client:\n",
        "    # Filter the dataframe for the current LCLid\n",
        "    client_data = ft_data1[ft_data1['LCLid'] == LCLid]\n",
        "\n",
        "    clientxx_dataset = create_client_dataset_for_LCLid(client_data, window_size, step_size)\n",
        "\n",
        "    # Create the client dataset for the current LCLid\n",
        "    preprocessed_client_dataset = preprocess_client_dataset(tf.data.Dataset.from_tensor_slices(clientxx_dataset))\n",
        "\n",
        "    # Extract a sample batch from the preprocessed dataset\n",
        "    sam_batch = tf.nest.map_structure(lambda x: x.numpy(), next(iter(preprocessed_client_dataset)))\n",
        "\n",
        "    # Store the preprocessed dataset in the dictionary with LCLid as the key\n",
        "    test_dataset1[LCLid] = preprocessed_client_dataset\n",
        "\n",
        "    print(\"Client dataset for LCLid\", LCLid)\n",
        "    print(sam_batch)"
      ]
    },
    {
      "cell_type": "code",
      "execution_count": null,
      "metadata": {
        "id": "N9gGRMYREq7r"
      },
      "outputs": [],
      "source": [
        "test_dataset2 = {}\n",
        "\n",
        "for LCLid in test_client:\n",
        "    # Filter the dataframe for the current LCLid\n",
        "    client_data = ft_data2[ft_data2['LCLid'] == LCLid]\n",
        "\n",
        "    clientxx_dataset = create_client_dataset_for_LCLid(client_data, window_size, step_size)\n",
        "\n",
        "    # Create the client dataset for the current LCLid\n",
        "    preprocessed_client_dataset = preprocess_client_dataset(tf.data.Dataset.from_tensor_slices(clientxx_dataset))\n",
        "\n",
        "    # Extract a sample batch from the preprocessed dataset\n",
        "    sam_batch = tf.nest.map_structure(lambda x: x.numpy(), next(iter(preprocessed_client_dataset)))\n",
        "\n",
        "    # Store the preprocessed dataset in the dictionary with LCLid as the key\n",
        "    test_dataset2[LCLid] = preprocessed_client_dataset\n"
      ]
    },
    {
      "cell_type": "code",
      "execution_count": null,
      "metadata": {
        "id": "0dcHUYzVEtrs"
      },
      "outputs": [],
      "source": [
        "test_dataset3 = {}\n",
        "\n",
        "for LCLid in test_client:\n",
        "    # Filter the dataframe for the current LCLid\n",
        "    client_data = ft_data3[ft_data3['LCLid'] == LCLid]\n",
        "\n",
        "    clientxx_dataset = create_client_dataset_for_LCLid(client_data, window_size, step_size)\n",
        "\n",
        "    # Create the client dataset for the current LCLid\n",
        "    preprocessed_client_dataset = preprocess_client_dataset(tf.data.Dataset.from_tensor_slices(clientxx_dataset))\n",
        "\n",
        "    # Extract a sample batch from the preprocessed dataset\n",
        "    sam_batch = tf.nest.map_structure(lambda x: x.numpy(), next(iter(preprocessed_client_dataset)))\n",
        "\n",
        "    # Store the preprocessed dataset in the dictionary with LCLid as the key\n",
        "    test_dataset3[LCLid] = preprocessed_client_dataset\n"
      ]
    },
    {
      "cell_type": "code",
      "execution_count": null,
      "metadata": {
        "id": "c-FdYGphEtpM"
      },
      "outputs": [],
      "source": [
        "test_dataset4 = {}\n",
        "\n",
        "for LCLid in test_client:\n",
        "    # Filter the dataframe for the current LCLid\n",
        "    client_data = ft_data4[ft_data4['LCLid'] == LCLid]\n",
        "\n",
        "    clientxx_dataset = create_client_dataset_for_LCLid(client_data, window_size, step_size)\n",
        "\n",
        "    # Create the client dataset for the current LCLid\n",
        "    preprocessed_client_dataset = preprocess_client_dataset(tf.data.Dataset.from_tensor_slices(clientxx_dataset))\n",
        "\n",
        "    # Extract a sample batch from the preprocessed dataset\n",
        "    sam_batch = tf.nest.map_structure(lambda x: x.numpy(), next(iter(preprocessed_client_dataset)))\n",
        "\n",
        "    # Store the preprocessed dataset in the dictionary with LCLid as the key\n",
        "    test_dataset4[LCLid] = preprocessed_client_dataset"
      ]
    },
    {
      "cell_type": "code",
      "execution_count": null,
      "metadata": {
        "id": "X3wTLbAoEtmi"
      },
      "outputs": [],
      "source": [
        "test_dataset5 = {}\n",
        "\n",
        "for LCLid in test_client:\n",
        "    # Filter the dataframe for the current LCLid\n",
        "    client_data = ft_data5[ft_data5['LCLid'] == LCLid]\n",
        "\n",
        "    clientxx_dataset = create_client_dataset_for_LCLid(client_data, window_size, step_size)\n",
        "\n",
        "    # Create the client dataset for the current LCLid\n",
        "    preprocessed_client_dataset = preprocess_client_dataset(tf.data.Dataset.from_tensor_slices(clientxx_dataset))\n",
        "\n",
        "    # Extract a sample batch from the preprocessed dataset\n",
        "    sam_batch = tf.nest.map_structure(lambda x: x.numpy(), next(iter(preprocessed_client_dataset)))\n",
        "\n",
        "    # Store the preprocessed dataset in the dictionary with LCLid as the key\n",
        "    test_dataset5[LCLid] = preprocessed_client_dataset"
      ]
    },
    {
      "cell_type": "code",
      "execution_count": null,
      "metadata": {
        "id": "LiSeh2qYEtkK"
      },
      "outputs": [],
      "source": [
        "test_dataset6 = {}\n",
        "\n",
        "for LCLid in test_client:\n",
        "    # Filter the dataframe for the current LCLid\n",
        "    client_data = ft_data6[ft_data6['LCLid'] == LCLid]\n",
        "\n",
        "    clientxx_dataset = create_client_dataset_for_LCLid(client_data, window_size, step_size)\n",
        "\n",
        "    # Create the client dataset for the current LCLid\n",
        "    preprocessed_client_dataset = preprocess_client_dataset(tf.data.Dataset.from_tensor_slices(clientxx_dataset))\n",
        "\n",
        "    # Extract a sample batch from the preprocessed dataset\n",
        "    sam_batch = tf.nest.map_structure(lambda x: x.numpy(), next(iter(preprocessed_client_dataset)))\n",
        "\n",
        "    # Store the preprocessed dataset in the dictionary with LCLid as the key\n",
        "    test_dataset6[LCLid] = preprocessed_client_dataset"
      ]
    },
    {
      "cell_type": "code",
      "execution_count": null,
      "metadata": {
        "id": "YkHn69AsEthi"
      },
      "outputs": [],
      "source": [
        "test_dataset7 = {}\n",
        "\n",
        "for LCLid in test_client:\n",
        "    # Filter the dataframe for the current LCLid\n",
        "    client_data = ft_data7[ft_data7['LCLid'] == LCLid]\n",
        "\n",
        "    clientxx_dataset = create_client_dataset_for_LCLid(client_data, window_size, step_size)\n",
        "\n",
        "    # Create the client dataset for the current LCLid\n",
        "    preprocessed_client_dataset = preprocess_client_dataset(tf.data.Dataset.from_tensor_slices(clientxx_dataset))\n",
        "\n",
        "    # Extract a sample batch from the preprocessed dataset\n",
        "    sam_batch = tf.nest.map_structure(lambda x: x.numpy(), next(iter(preprocessed_client_dataset)))\n",
        "\n",
        "    # Store the preprocessed dataset in the dictionary with LCLid as the key\n",
        "    test_dataset7[LCLid] = preprocessed_client_dataset"
      ]
    },
    {
      "cell_type": "code",
      "execution_count": null,
      "metadata": {
        "id": "Alp7ydAk1UFw"
      },
      "outputs": [],
      "source": [
        "test_dataset8 = {}\n",
        "\n",
        "for LCLid in test_client:\n",
        "    # Filter the dataframe for the current LCLid\n",
        "    client_data = ft_data8[ft_data8['LCLid'] == LCLid]\n",
        "\n",
        "    clientxx_dataset = create_client_dataset_for_LCLid(client_data, window_size, step_size)\n",
        "\n",
        "    # Create the client dataset for the current LCLid\n",
        "    preprocessed_client_dataset = preprocess_client_dataset(tf.data.Dataset.from_tensor_slices(clientxx_dataset))\n",
        "\n",
        "    # Extract a sample batch from the preprocessed dataset\n",
        "    sam_batch = tf.nest.map_structure(lambda x: x.numpy(), next(iter(preprocessed_client_dataset)))\n",
        "\n",
        "    # Store the preprocessed dataset in the dictionary with LCLid as the key\n",
        "    test_dataset8[LCLid] = preprocessed_client_dataset"
      ]
    },
    {
      "cell_type": "code",
      "execution_count": null,
      "metadata": {
        "id": "h-npPOLh1TtW"
      },
      "outputs": [],
      "source": [
        "test_dataset9 = {}\n",
        "\n",
        "for LCLid in test_client:\n",
        "    # Filter the dataframe for the current LCLid\n",
        "    client_data = ft_data9[ft_data9['LCLid'] == LCLid]\n",
        "\n",
        "    clientxx_dataset = create_client_dataset_for_LCLid(client_data, window_size, step_size)\n",
        "\n",
        "    # Create the client dataset for the current LCLid\n",
        "    preprocessed_client_dataset = preprocess_client_dataset(tf.data.Dataset.from_tensor_slices(clientxx_dataset))\n",
        "\n",
        "    # Extract a sample batch from the preprocessed dataset\n",
        "    sam_batch = tf.nest.map_structure(lambda x: x.numpy(), next(iter(preprocessed_client_dataset)))\n",
        "\n",
        "    # Store the preprocessed dataset in the dictionary with LCLid as the key\n",
        "    test_dataset9[LCLid] = preprocessed_client_dataset"
      ]
    },
    {
      "cell_type": "code",
      "execution_count": null,
      "metadata": {
        "id": "6Lq7hDRh1TqP"
      },
      "outputs": [],
      "source": [
        "test_dataset10 = {}\n",
        "\n",
        "for LCLid in test_client:\n",
        "    # Filter the dataframe for the current LCLid\n",
        "    client_data = ft_data10[ft_data10['LCLid'] == LCLid]\n",
        "\n",
        "    clientxx_dataset = create_client_dataset_for_LCLid(client_data, window_size, step_size)\n",
        "\n",
        "    # Create the client dataset for the current LCLid\n",
        "    preprocessed_client_dataset = preprocess_client_dataset(tf.data.Dataset.from_tensor_slices(clientxx_dataset))\n",
        "\n",
        "    # Extract a sample batch from the preprocessed dataset\n",
        "    sam_batch = tf.nest.map_structure(lambda x: x.numpy(), next(iter(preprocessed_client_dataset)))\n",
        "\n",
        "    # Store the preprocessed dataset in the dictionary with LCLid as the key\n",
        "    test_dataset10[LCLid] = preprocessed_client_dataset"
      ]
    },
    {
      "cell_type": "code",
      "execution_count": null,
      "metadata": {
        "id": "N-VaScka1Tms"
      },
      "outputs": [],
      "source": [
        "test_dataset11 = {}\n",
        "\n",
        "for LCLid in test_client:\n",
        "    # Filter the dataframe for the current LCLid\n",
        "    client_data = ft_data11[ft_data11['LCLid'] == LCLid]\n",
        "\n",
        "    clientxx_dataset = create_client_dataset_for_LCLid(client_data, window_size, step_size)\n",
        "\n",
        "    # Create the client dataset for the current LCLid\n",
        "    preprocessed_client_dataset = preprocess_client_dataset(tf.data.Dataset.from_tensor_slices(clientxx_dataset))\n",
        "\n",
        "    # Extract a sample batch from the preprocessed dataset\n",
        "    sam_batch = tf.nest.map_structure(lambda x: x.numpy(), next(iter(preprocessed_client_dataset)))\n",
        "\n",
        "    # Store the preprocessed dataset in the dictionary with LCLid as the key\n",
        "    test_dataset11[LCLid] = preprocessed_client_dataset"
      ]
    },
    {
      "cell_type": "code",
      "execution_count": null,
      "metadata": {
        "id": "Zp019hlo1TZj"
      },
      "outputs": [],
      "source": [
        "test_dataset12 = {}\n",
        "\n",
        "for LCLid in test_client:\n",
        "    # Filter the dataframe for the current LCLid\n",
        "    client_data = ft_data12[ft_data12['LCLid'] == LCLid]\n",
        "\n",
        "    clientxx_dataset = create_client_dataset_for_LCLid(client_data, window_size, step_size)\n",
        "\n",
        "    # Create the client dataset for the current LCLid\n",
        "    preprocessed_client_dataset = preprocess_client_dataset(tf.data.Dataset.from_tensor_slices(clientxx_dataset))\n",
        "\n",
        "    # Extract a sample batch from the preprocessed dataset\n",
        "    sam_batch = tf.nest.map_structure(lambda x: x.numpy(), next(iter(preprocessed_client_dataset)))\n",
        "\n",
        "    # Store the preprocessed dataset in the dictionary with LCLid as the key\n",
        "    test_dataset12[LCLid] = preprocessed_client_dataset"
      ]
    },
    {
      "cell_type": "code",
      "execution_count": null,
      "metadata": {
        "id": "_-Wb2MJfFA99"
      },
      "outputs": [],
      "source": [
        "# Make federated test data\n",
        "federated_test_data1 = make_federated_data(test_dataset1, test_client)\n",
        "federated_test_data2 = make_federated_data(test_dataset2, test_client)\n",
        "federated_test_data3 = make_federated_data(test_dataset3, test_client)\n",
        "federated_test_data4 = make_federated_data(test_dataset4, test_client)\n",
        "federated_test_data5 = make_federated_data(test_dataset5, test_client)\n",
        "federated_test_data6 = make_federated_data(test_dataset6, test_client)\n",
        "federated_test_data7 = make_federated_data(test_dataset7, test_client)\n",
        "federated_test_data8 = make_federated_data(test_dataset8, test_client)\n",
        "federated_test_data9 = make_federated_data(test_dataset9, test_client)\n",
        "federated_test_data10 = make_federated_data(test_dataset10, test_client)\n",
        "federated_test_data11 = make_federated_data(test_dataset11, test_client)\n",
        "federated_test_data12 = make_federated_data(test_dataset12, test_client)\n"
      ]
    },
    {
      "cell_type": "code",
      "execution_count": null,
      "metadata": {
        "id": "FBdMMsBNFA7t"
      },
      "outputs": [],
      "source": [
        "evaluation_process = tff.learning.algorithms.build_fed_eval(model_fn)"
      ]
    },
    {
      "cell_type": "code",
      "execution_count": null,
      "metadata": {
        "colab": {
          "base_uri": "https://localhost:8080/"
        },
        "id": "h1juqI-wFA5o",
        "outputId": "1423677a-9ef4-4a90-edd8-3833272b545d"
      },
      "outputs": [
        {
          "name": "stdout",
          "output_type": "stream",
          "text": [
            "(<\n",
            "  state=<\n",
            "    global_model_weights=<\n",
            "      trainable=<\n",
            "        float32[336,64],\n",
            "        float32[64],\n",
            "        float32[64,32],\n",
            "        float32[32],\n",
            "        float32[32,8],\n",
            "        float32[8],\n",
            "        float32[8,1],\n",
            "        float32[1]\n",
            "      >,\n",
            "      non_trainable=<>\n",
            "    >,\n",
            "    distributor=<>,\n",
            "    client_work=<\n",
            "      <>,\n",
            "      <\n",
            "        root_mean_squared_error=<\n",
            "          float32,\n",
            "          float32\n",
            "        >,\n",
            "        loss=<\n",
            "          float32,\n",
            "          float32\n",
            "        >,\n",
            "        num_examples=<\n",
            "          int64\n",
            "        >,\n",
            "        num_batches=<\n",
            "          int64\n",
            "        >\n",
            "      >\n",
            "    >,\n",
            "    aggregator=<\n",
            "      value_sum_process=<>,\n",
            "      weight_sum_process=<>\n",
            "    >,\n",
            "    finalizer=<>\n",
            "  >@SERVER,\n",
            "  client_data={<\n",
            "    x=float32[?,336],\n",
            "    y=float32[?,1]\n",
            "  >*}@CLIENTS\n",
            "> -> <\n",
            "  state=<\n",
            "    global_model_weights=<\n",
            "      trainable=<\n",
            "        float32[336,64],\n",
            "        float32[64],\n",
            "        float32[64,32],\n",
            "        float32[32],\n",
            "        float32[32,8],\n",
            "        float32[8],\n",
            "        float32[8,1],\n",
            "        float32[1]\n",
            "      >,\n",
            "      non_trainable=<>\n",
            "    >,\n",
            "    distributor=<>,\n",
            "    client_work=<\n",
            "      <>,\n",
            "      <\n",
            "        root_mean_squared_error=<\n",
            "          float32,\n",
            "          float32\n",
            "        >,\n",
            "        loss=<\n",
            "          float32,\n",
            "          float32\n",
            "        >,\n",
            "        num_examples=<\n",
            "          int64\n",
            "        >,\n",
            "        num_batches=<\n",
            "          int64\n",
            "        >\n",
            "      >\n",
            "    >,\n",
            "    aggregator=<\n",
            "      value_sum_process=<>,\n",
            "      weight_sum_process=<>\n",
            "    >,\n",
            "    finalizer=<>\n",
            "  >@SERVER,\n",
            "  metrics=<\n",
            "    distributor=<>,\n",
            "    client_work=<\n",
            "      eval=<\n",
            "        current_round_metrics=<\n",
            "          root_mean_squared_error=float32,\n",
            "          loss=float32,\n",
            "          num_examples=int64,\n",
            "          num_batches=int64\n",
            "        >,\n",
            "        total_rounds_metrics=<\n",
            "          root_mean_squared_error=float32,\n",
            "          loss=float32,\n",
            "          num_examples=int64,\n",
            "          num_batches=int64\n",
            "        >\n",
            "      >\n",
            "    >,\n",
            "    aggregator=<\n",
            "      mean_value=<>,\n",
            "      mean_weight=<>\n",
            "    >,\n",
            "    finalizer=<>\n",
            "  >@SERVER\n",
            ">)\n"
          ]
        }
      ],
      "source": [
        "print(evaluation_process.next.type_signature.formatted_representation())"
      ]
    },
    {
      "cell_type": "code",
      "execution_count": null,
      "metadata": {
        "id": "BxOR2BmWFA3N"
      },
      "outputs": [],
      "source": [
        "evaluation_state = evaluation_process.initialize()\n",
        "model_weights = training_process.get_model_weights(train_state)\n",
        "evaluation_state = evaluation_process.set_model_weights(evaluation_state, model_weights)"
      ]
    },
    {
      "cell_type": "code",
      "execution_count": null,
      "metadata": {
        "id": "c3foboZVEcU3"
      },
      "outputs": [],
      "source": [
        "evaluation_output1 = evaluation_process.next(evaluation_state, federated_test_data1)\n",
        "evaluation_output2 = evaluation_process.next(evaluation_state, federated_test_data2)\n",
        "evaluation_output3 = evaluation_process.next(evaluation_state, federated_test_data3)\n",
        "evaluation_output4 = evaluation_process.next(evaluation_state, federated_test_data4)\n",
        "evaluation_output5 = evaluation_process.next(evaluation_state, federated_test_data5)\n",
        "evaluation_output6 = evaluation_process.next(evaluation_state, federated_test_data6)\n",
        "evaluation_output7 = evaluation_process.next(evaluation_state, federated_test_data7)\n",
        "evaluation_output8 = evaluation_process.next(evaluation_state, federated_test_data8)\n",
        "evaluation_output9 = evaluation_process.next(evaluation_state, federated_test_data9)\n",
        "evaluation_output10 = evaluation_process.next(evaluation_state, federated_test_data10)\n",
        "evaluation_output11 = evaluation_process.next(evaluation_state, federated_test_data11)\n",
        "evaluation_output12 = evaluation_process.next(evaluation_state, federated_test_data12)"
      ]
    },
    {
      "cell_type": "code",
      "execution_count": null,
      "metadata": {
        "colab": {
          "base_uri": "https://localhost:8080/"
        },
        "id": "tIkLzF4T1gDH",
        "outputId": "c1554878-879b-4ec9-b9f5-3b9857a298c5"
      },
      "outputs": [
        {
          "name": "stdout",
          "output_type": "stream",
          "text": [
            "[0.23472854, 0.21387686, 0.16562976, 0.15853234, 0.14727406, 0.15132022, 0.4900455, 0.62666476, 0.7455737, 0.71344805, 0.68575716, 0.71074927]\n"
          ]
        }
      ],
      "source": [
        "loss_values_1 = []\n",
        "\n",
        "# Append MAE values to the list\n",
        "loss_values_1.append(evaluation_output1.metrics['client_work']['eval']['current_round_metrics']['loss'])\n",
        "loss_values_1.append(evaluation_output2.metrics['client_work']['eval']['current_round_metrics']['loss'])\n",
        "loss_values_1.append(evaluation_output3.metrics['client_work']['eval']['current_round_metrics']['loss'])\n",
        "loss_values_1.append(evaluation_output4.metrics['client_work']['eval']['current_round_metrics']['loss'])\n",
        "loss_values_1.append(evaluation_output5.metrics['client_work']['eval']['current_round_metrics']['loss'])\n",
        "loss_values_1.append(evaluation_output6.metrics['client_work']['eval']['current_round_metrics']['loss'])\n",
        "loss_values_1.append(evaluation_output7.metrics['client_work']['eval']['current_round_metrics']['loss'])\n",
        "loss_values_1.append(evaluation_output8.metrics['client_work']['eval']['current_round_metrics']['loss'])\n",
        "loss_values_1.append(evaluation_output9.metrics['client_work']['eval']['current_round_metrics']['loss'])\n",
        "loss_values_1.append(evaluation_output10.metrics['client_work']['eval']['current_round_metrics']['loss'])\n",
        "loss_values_1.append(evaluation_output11.metrics['client_work']['eval']['current_round_metrics']['loss'])\n",
        "loss_values_1.append(evaluation_output12.metrics['client_work']['eval']['current_round_metrics']['loss'])\n",
        "\n",
        "\n",
        "# Print the MAE values\n",
        "print(loss_values_1)"
      ]
    },
    {
      "cell_type": "code",
      "execution_count": null,
      "metadata": {
        "colab": {
          "base_uri": "https://localhost:8080/"
        },
        "id": "cxDHG2b3GNNg",
        "outputId": "b9cd60db-e4e1-40dc-ebcc-65492acfd4cf"
      },
      "outputs": [
        {
          "name": "stdout",
          "output_type": "stream",
          "text": [
            "[0.27685297, 0.25996846, 0.20401992, 0.19809169, 0.20078316, 0.193297, 0.54286844, 0.66369414, 0.7875776, 0.73726565, 0.7139394, 0.73334754]\n"
          ]
        }
      ],
      "source": [
        "loss_values_2 = []\n",
        "\n",
        "# Append MAE values to the list\n",
        "loss_values_2.append(evaluation_output1.metrics['client_work']['eval']['current_round_metrics']['root_mean_squared_error'])\n",
        "loss_values_2.append(evaluation_output2.metrics['client_work']['eval']['current_round_metrics']['root_mean_squared_error'])\n",
        "loss_values_2.append(evaluation_output3.metrics['client_work']['eval']['current_round_metrics']['root_mean_squared_error'])\n",
        "loss_values_2.append(evaluation_output4.metrics['client_work']['eval']['current_round_metrics']['root_mean_squared_error'])\n",
        "loss_values_2.append(evaluation_output5.metrics['client_work']['eval']['current_round_metrics']['root_mean_squared_error'])\n",
        "loss_values_2.append(evaluation_output6.metrics['client_work']['eval']['current_round_metrics']['root_mean_squared_error'])\n",
        "loss_values_2.append(evaluation_output7.metrics['client_work']['eval']['current_round_metrics']['root_mean_squared_error'])\n",
        "loss_values_2.append(evaluation_output8.metrics['client_work']['eval']['current_round_metrics']['root_mean_squared_error'])\n",
        "loss_values_2.append(evaluation_output9.metrics['client_work']['eval']['current_round_metrics']['root_mean_squared_error'])\n",
        "loss_values_2.append(evaluation_output10.metrics['client_work']['eval']['current_round_metrics']['root_mean_squared_error'])\n",
        "loss_values_2.append(evaluation_output11.metrics['client_work']['eval']['current_round_metrics']['root_mean_squared_error'])\n",
        "loss_values_2.append(evaluation_output12.metrics['client_work']['eval']['current_round_metrics']['root_mean_squared_error'])\n",
        "\n",
        "\n",
        "# Print the MAE values\n",
        "print(loss_values_2)"
      ]
    }
  ],
  "metadata": {
    "accelerator": "GPU",
    "colab": {
      "gpuType": "T4",
      "provenance": []
    },
    "kernelspec": {
      "display_name": "Python 3",
      "name": "python3"
    },
    "language_info": {
      "name": "python"
    }
  },
  "nbformat": 4,
  "nbformat_minor": 0
}
