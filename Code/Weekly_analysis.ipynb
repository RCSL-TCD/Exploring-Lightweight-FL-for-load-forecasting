{
  "cells": [
    {
      "cell_type": "code",
      "execution_count": null,
      "metadata": {
        "id": "4U6F8wLyj0R4"
      },
      "outputs": [],
      "source": [
        "#@test {\"skip\": true}\n",
        "\n",
        "!pip install --quiet --upgrade tensorflow-federated"
      ]
    },
    {
      "cell_type": "code",
      "execution_count": null,
      "metadata": {
        "colab": {
          "base_uri": "https://localhost:8080/"
        },
        "id": "LjUNVH1Wj6pa",
        "outputId": "8f22d4fa-d6c0-41b0-823f-533acbb12d22"
      },
      "outputs": [
        {
          "data": {
            "text/plain": [
              "b'Hello, World!'"
            ]
          },
          "execution_count": 2,
          "metadata": {},
          "output_type": "execute_result"
        }
      ],
      "source": [
        "import collections\n",
        "\n",
        "import numpy as np\n",
        "import tensorflow as tf\n",
        "import tensorflow_federated as tff\n",
        "\n",
        "np.random.seed(0)\n",
        "\n",
        "tff.federated_computation(lambda: 'Hello, World!')()"
      ]
    },
    {
      "cell_type": "code",
      "execution_count": null,
      "metadata": {
        "colab": {
          "base_uri": "https://localhost:8080/"
        },
        "id": "Bgo0CXENj_AD",
        "outputId": "70b7e609-3819-45fe-d774-a2ff1d65bfd4"
      },
      "outputs": [
        {
          "name": "stdout",
          "output_type": "stream",
          "text": [
            "Drive already mounted at /content/drive; to attempt to forcibly remount, call drive.mount(\"/content/drive\", force_remount=True).\n"
          ]
        }
      ],
      "source": [
        "from google.colab import drive\n",
        "drive.mount('/content/drive')"
      ]
    },
    {
      "cell_type": "code",
      "execution_count": null,
      "metadata": {
        "id": "UIOK5xd5kD0P"
      },
      "outputs": [],
      "source": [
        "import pandas as pd\n",
        "\n",
        "data = pd.read_csv('/content/drive/MyDrive/LAB3-20221109T160610Z-001/LCL-FullData/Cluster18data.csv')"
      ]
    },
    {
      "cell_type": "code",
      "execution_count": null,
      "metadata": {
        "id": "w6OmI4WdkHa0"
      },
      "outputs": [],
      "source": [
        "data['DateTime'] = pd.to_datetime(data['DateTime'])"
      ]
    },
    {
      "cell_type": "code",
      "execution_count": null,
      "metadata": {
        "id": "F5Lvsh7hkKc5"
      },
      "outputs": [],
      "source": [
        "# Filter the DataFrame to include readings from Jan 01, 2012, to Dec 31, 2012\n",
        "start_date1 = pd.to_datetime('2011-10-01')\n",
        "end_date1 = pd.to_datetime('2013-02-28')\n",
        "filtered_data1 = data[(data['DateTime'] >= start_date1) & (data['DateTime'] <= end_date1)]\n"
      ]
    },
    {
      "cell_type": "code",
      "execution_count": null,
      "metadata": {
        "id": "LMfR2nzMkwP3"
      },
      "outputs": [],
      "source": [
        "# Select 20 unique LCLids\n",
        "lclid_list1 = filtered_data1['LCLid'].unique()\n",
        "selected_lclids1 = lclid_list1[:20]\n",
        "\n",
        "# Filter data for the selected LCLids\n",
        "f_data1 = filtered_data1[filtered_data1['LCLid'].isin(selected_lclids1)]\n",
        "\n"
      ]
    },
    {
      "cell_type": "code",
      "execution_count": null,
      "metadata": {
        "id": "6L8vMuVYlHhu"
      },
      "outputs": [],
      "source": [
        "datan1 = f_data1.copy()\n",
        "datan1['KWH/hh'] = datan1['KWH/hh'].astype(np.float32)\n",
        "\n",
        "\n",
        "datan1 = datan1.drop('cluster', axis=1)\n",
        "datan1 = datan1.drop('stdorToU', axis=1)\n"
      ]
    },
    {
      "cell_type": "code",
      "execution_count": null,
      "metadata": {
        "id": "Wyfp0I_nlWjc"
      },
      "outputs": [],
      "source": [
        "datan1.reset_index(drop=True, inplace=True)\n"
      ]
    },
    {
      "cell_type": "code",
      "execution_count": null,
      "metadata": {
        "colab": {
          "base_uri": "https://localhost:8080/"
        },
        "id": "vgqgpHmflyZf",
        "outputId": "777cd87f-d5d0-41ca-c6c1-80ebfc1fcdf3"
      },
      "outputs": [
        {
          "name": "stderr",
          "output_type": "stream",
          "text": [
            "<ipython-input-10-b59380e28e58>:3: SettingWithCopyWarning: \n",
            "A value is trying to be set on a copy of a slice from a DataFrame\n",
            "\n",
            "See the caveats in the documentation: https://pandas.pydata.org/pandas-docs/stable/user_guide/indexing.html#returning-a-view-versus-a-copy\n",
            "  datan1['DateTime'][i]=datan1['DateTime'][i].timestamp()\n"
          ]
        }
      ],
      "source": [
        "datan1['DateTime'] = pd.to_datetime(datan1.DateTime).dt.tz_localize(None)\n",
        "for i in range(len(datan1)):\n",
        "  datan1['DateTime'][i]=datan1['DateTime'][i].timestamp()"
      ]
    },
    {
      "cell_type": "code",
      "execution_count": null,
      "metadata": {
        "id": "GUVxrV-fmDVl"
      },
      "outputs": [],
      "source": [
        "datan1['DateTime'] = datan1['DateTime'].astype(np.float32)\n"
      ]
    },
    {
      "cell_type": "code",
      "execution_count": null,
      "metadata": {
        "id": "L0t4JtqKmM4j"
      },
      "outputs": [],
      "source": [
        "# Sort the data by 'LCLid' and 'DateTime'\n",
        "datan1.sort_values(['LCLid', 'DateTime'], inplace=True)\n"
      ]
    },
    {
      "cell_type": "code",
      "execution_count": null,
      "metadata": {
        "id": "1QSfU28mmM1y"
      },
      "outputs": [],
      "source": [
        "# Define the client window dataset function for a specific LCLid\n",
        "def create_client_dataset_for_LCLid(client_data, window_size, step_size):\n",
        "    client_windows = []\n",
        "    client_targets = []\n",
        "    num_readings = len(client_data)\n",
        "\n",
        "    # Iterate over the readings using the sliding window\n",
        "    for i in range(0, num_readings - window_size, step_size):\n",
        "        window_start = i\n",
        "        window_end = i + window_size - 1\n",
        "        prediction_index = window_end + step_size\n",
        "\n",
        "        # Extract the window and the prediction target\n",
        "        window = client_data.iloc[window_start:window_end + 1]['KWH/hh'].values\n",
        "        target = client_data.iloc[prediction_index]['KWH/hh']\n",
        "\n",
        "        client_windows.append(window)\n",
        "        client_targets.append(target)\n",
        "\n",
        "    # Create an ordered dictionary with 'x' and 'y' keys\n",
        "    ordered_dict = collections.OrderedDict()\n",
        "    ordered_dict['x'] = tf.stack(client_windows)\n",
        "    ordered_dict['y'] = tf.expand_dims(client_targets, axis=-1)\n",
        "\n",
        "\n",
        "    return ordered_dict"
      ]
    },
    {
      "cell_type": "code",
      "execution_count": null,
      "metadata": {
        "colab": {
          "base_uri": "https://localhost:8080/"
        },
        "id": "QD9dvy8emMyz",
        "outputId": "31ef57ca-16d8-46bf-db3e-5e70403348f0"
      },
      "outputs": [
        {
          "name": "stdout",
          "output_type": "stream",
          "text": [
            "Client dataset for LCLid MAC001739\n",
            "OrderedDict([('x', <tf.Tensor: shape=(12510, 336), dtype=float32, numpy=\n",
            "array([[0.84 , 0.913, 0.751, ..., 0.342, 0.465, 0.359],\n",
            "       [0.913, 0.751, 0.87 , ..., 0.465, 0.359, 0.417],\n",
            "       [0.751, 0.87 , 0.765, ..., 0.359, 0.417, 0.409],\n",
            "       ...,\n",
            "       [1.125, 1.066, 1.066, ..., 1.681, 1.993, 1.611],\n",
            "       [1.066, 1.066, 1.349, ..., 1.993, 1.611, 1.626],\n",
            "       [1.066, 1.349, 1.679, ..., 1.611, 1.626, 2.65 ]], dtype=float32)>), ('y', <tf.Tensor: shape=(12510, 1), dtype=float32, numpy=\n",
            "array([[0.417],\n",
            "       [0.409],\n",
            "       [1.011],\n",
            "       ...,\n",
            "       [1.626],\n",
            "       [2.65 ],\n",
            "       [1.972]], dtype=float32)>)])\n"
          ]
        }
      ],
      "source": [
        "window_size = 336\n",
        "step_size = 1\n",
        "\n",
        "# Filter the dataframe for the specific LCLid\n",
        "example_LCLid = datan1['LCLid'].unique()[3]\n",
        "clientyy_data = datan1[datan1['LCLid'] == example_LCLid]\n",
        "\n",
        "# Create the client dataset for the specific LCLid\n",
        "example_client_dataset = create_client_dataset_for_LCLid(clientyy_data, window_size, step_size)\n",
        "\n",
        "print(\"Client dataset for LCLid\", example_LCLid)\n",
        "print(example_client_dataset)"
      ]
    },
    {
      "cell_type": "code",
      "execution_count": null,
      "metadata": {
        "colab": {
          "base_uri": "https://localhost:8080/"
        },
        "id": "WQtoW-9-mMRZ",
        "outputId": "64b8c588-867e-4801-f79d-f3f8c464c837"
      },
      "outputs": [
        {
          "data": {
            "text/plain": [
              "OrderedDict([('x',\n",
              "              array([[0.847, 0.724, 0.913, ..., 0.797, 0.654, 0.623],\n",
              "                     [1.52 , 0.655, 0.495, ..., 0.699, 0.449, 0.426],\n",
              "                     [0.751, 0.87 , 0.765, ..., 0.359, 0.417, 0.409],\n",
              "                     ...,\n",
              "                     [0.574, 0.567, 0.525, ..., 0.466, 0.406, 0.686],\n",
              "                     [1.095, 1.249, 0.574, ..., 0.454, 0.425, 0.466],\n",
              "                     [0.559, 0.498, 0.408, ..., 0.809, 0.834, 0.717]], dtype=float32)),\n",
              "             ('y',\n",
              "              array([[0.603],\n",
              "                     [0.454],\n",
              "                     [1.011],\n",
              "                     [0.524],\n",
              "                     [0.421],\n",
              "                     [0.422],\n",
              "                     [0.699],\n",
              "                     [0.717],\n",
              "                     [0.414],\n",
              "                     [0.774],\n",
              "                     [0.406],\n",
              "                     [0.404]], dtype=float32))])"
            ]
          },
          "execution_count": 16,
          "metadata": {},
          "output_type": "execute_result"
        }
      ],
      "source": [
        "NUM_EPOCHS = 5\n",
        "BATCH_SIZE = 12\n",
        "SHUFFLE_BUFFER = 60\n",
        "PREFETCH_BUFFER = 6\n",
        "\n",
        "def preprocess_client_dataset(dataset):\n",
        "    def batch_format_fn(element):\n",
        "        return collections.OrderedDict(\n",
        "            x=tf.reshape(element['x'], [-1, 336]),\n",
        "            y=tf.reshape(element['y'], [-1, 1]))\n",
        "    return dataset.repeat(NUM_EPOCHS).shuffle(SHUFFLE_BUFFER).batch(\n",
        "        BATCH_SIZE).map(batch_format_fn).prefetch(PREFETCH_BUFFER)\n",
        "\n",
        "\n",
        "preprocessed_example_client_dataset = preprocess_client_dataset(tf.data.Dataset.from_tensor_slices(example_client_dataset))\n",
        "\n",
        "\n",
        "sample_batch = tf.nest.map_structure(lambda x: x.numpy(),\n",
        "                                     next(iter(preprocessed_example_client_dataset)))\n",
        "\n",
        "sample_batch"
      ]
    },
    {
      "cell_type": "code",
      "execution_count": null,
      "metadata": {
        "colab": {
          "base_uri": "https://localhost:8080/"
        },
        "id": "aqaEMUOmme_C",
        "outputId": "9e4acd9a-7922-443d-fc14-1eab557e1c91"
      },
      "outputs": [
        {
          "data": {
            "text/plain": [
              "['MAC004593',\n",
              " 'MAC004993',\n",
              " 'MAC001739',\n",
              " 'MAC002213',\n",
              " 'MAC002849',\n",
              " 'MAC001735',\n",
              " 'MAC000105',\n",
              " 'MAC002627',\n",
              " 'MAC001315',\n",
              " 'MAC003257',\n",
              " 'MAC002872',\n",
              " 'MAC004319']"
            ]
          },
          "execution_count": 17,
          "metadata": {},
          "output_type": "execute_result"
        }
      ],
      "source": [
        "import random\n",
        "\n",
        "NUM_CLIENTS = 12  # Replace with desired number of clients\n",
        "all_clients = datan1['LCLid'].unique()\n",
        "sample_clients = random.sample(all_clients.tolist(), NUM_CLIENTS)\n",
        "\n",
        "sample_clients_list = sample_clients\n",
        "sample_clients_list"
      ]
    },
    {
      "cell_type": "code",
      "execution_count": null,
      "metadata": {
        "colab": {
          "base_uri": "https://localhost:8080/"
        },
        "id": "QkZ0LLZgmveJ",
        "outputId": "6fddadf6-87e2-4ceb-cf7b-720004d667a5"
      },
      "outputs": [
        {
          "name": "stdout",
          "output_type": "stream",
          "text": [
            "Client dataset for LCLid MAC004593\n",
            "OrderedDict([('x', array([[2.623, 1.518, 1.383, ..., 1.7  , 1.634, 1.438],\n",
            "       [0.688, 0.624, 0.674, ..., 0.721, 0.721, 0.888],\n",
            "       [0.624, 0.674, 0.695, ..., 0.721, 0.888, 0.843],\n",
            "       ...,\n",
            "       [0.669, 0.624, 0.68 , ..., 0.706, 0.652, 0.725],\n",
            "       [0.607, 0.669, 0.624, ..., 0.69 , 0.706, 0.652],\n",
            "       [0.962, 1.232, 1.222, ..., 0.954, 0.817, 0.831]], dtype=float32)), ('y', array([[1.439],\n",
            "       [0.843],\n",
            "       [0.856],\n",
            "       [0.721],\n",
            "       [0.732],\n",
            "       [1.728],\n",
            "       [1.169],\n",
            "       [1.438],\n",
            "       [2.099],\n",
            "       [0.601],\n",
            "       [0.725],\n",
            "       [0.949]], dtype=float32))])\n",
            "Client dataset for LCLid MAC004993\n",
            "OrderedDict([('x', array([[1.314, 1.843, 5.223, ..., 2.91 , 2.987, 2.579],\n",
            "       [3.727, 3.539, 2.925, ..., 2.224, 2.252, 2.374],\n",
            "       [1.641, 1.611, 1.561, ..., 1.717, 1.5  , 1.466],\n",
            "       ...,\n",
            "       [2.457, 2.723, 3.065, ..., 1.989, 1.719, 1.961],\n",
            "       [1.767, 1.805, 1.66 , ..., 2.362, 2.682, 2.201],\n",
            "       [1.631, 1.631, 1.602, ..., 2.233, 2.883, 2.73 ]], dtype=float32)), ('y', array([[2.054],\n",
            "       [2.864],\n",
            "       [1.546],\n",
            "       [1.719],\n",
            "       [4.598],\n",
            "       [1.816],\n",
            "       [2.537],\n",
            "       [2.374],\n",
            "       [1.5  ],\n",
            "       [2.224],\n",
            "       [1.545],\n",
            "       [1.717]], dtype=float32))])\n",
            "Client dataset for LCLid MAC001739\n",
            "OrderedDict([('x', array([[0.974, 0.731, 0.673, ..., 0.542, 0.541, 0.524],\n",
            "       [1.188, 1.382, 0.8  , ..., 0.397, 1.273, 0.975],\n",
            "       [1.541, 1.145, 1.   , ..., 0.529, 0.519, 0.429],\n",
            "       ...,\n",
            "       [1.133, 2.299, 1.244, ..., 0.605, 0.644, 0.717],\n",
            "       [0.447, 0.448, 0.502, ..., 0.362, 0.436, 0.414],\n",
            "       [0.818, 1.133, 2.299, ..., 0.64 , 0.605, 0.644]], dtype=float32)), ('y', array([[0.516],\n",
            "       [0.817],\n",
            "       [0.543],\n",
            "       [0.623],\n",
            "       [0.362],\n",
            "       [0.475],\n",
            "       [1.44 ],\n",
            "       [1.273],\n",
            "       [0.522],\n",
            "       [0.552],\n",
            "       [0.387],\n",
            "       [0.717]], dtype=float32))])\n",
            "Client dataset for LCLid MAC002213\n",
            "OrderedDict([('x', array([[0.457, 0.396, 0.549, ..., 0.605, 0.705, 0.552],\n",
            "       [1.5  , 1.33 , 1.667, ..., 0.47 , 0.474, 0.587],\n",
            "       [1.5  , 1.32 , 1.722, ..., 0.404, 0.627, 0.321],\n",
            "       ...,\n",
            "       [0.847, 0.782, 1.5  , ..., 0.36 , 0.603, 0.404],\n",
            "       [0.669, 0.651, 0.528, ..., 0.792, 1.004, 2.07 ],\n",
            "       [0.528, 0.404, 0.518, ..., 2.07 , 1.618, 1.271]], dtype=float32)), ('y', array([[0.89 ],\n",
            "       [0.38 ],\n",
            "       [0.69 ],\n",
            "       [0.36 ],\n",
            "       [0.603],\n",
            "       [0.768],\n",
            "       [0.605],\n",
            "       [0.537],\n",
            "       [1.044],\n",
            "       [0.627],\n",
            "       [1.618],\n",
            "       [0.774]], dtype=float32))])\n",
            "Client dataset for LCLid MAC002849\n",
            "OrderedDict([('x', array([[0.461, 0.453, 0.447, ..., 0.542, 0.497, 0.427],\n",
            "       [1.269, 0.488, 0.675, ..., 0.556, 0.519, 0.424],\n",
            "       [1.118, 1.291, 1.937, ..., 0.628, 0.714, 0.768],\n",
            "       ...,\n",
            "       [0.675, 0.898, 0.825, ..., 0.424, 0.421, 0.487],\n",
            "       [0.457, 0.473, 0.587, ..., 0.448, 0.437, 0.424],\n",
            "       [1.241, 0.937, 1.387, ..., 0.614, 0.724, 0.6  ]], dtype=float32)), ('y', array([[1.026],\n",
            "       [0.421],\n",
            "       [0.751],\n",
            "       [0.424],\n",
            "       [0.628],\n",
            "       [0.517],\n",
            "       [0.699],\n",
            "       [0.418],\n",
            "       [1.073],\n",
            "       [0.614],\n",
            "       [0.425],\n",
            "       [0.641]], dtype=float32))])\n",
            "Client dataset for LCLid MAC001735\n",
            "OrderedDict([('x', array([[0.433, 1.029, 1.131, ..., 0.498, 0.471, 0.493],\n",
            "       [0.958, 1.442, 1.502, ..., 1.187, 1.006, 0.89 ],\n",
            "       [1.783, 0.958, 1.442, ..., 1.123, 1.187, 1.006],\n",
            "       ...,\n",
            "       [0.516, 0.672, 1.364, ..., 0.358, 0.393, 0.308],\n",
            "       [1.684, 1.907, 2.007, ..., 0.63 , 0.587, 0.587],\n",
            "       [0.509, 1.927, 0.739, ..., 1.727, 1.323, 1.456]], dtype=float32)), ('y', array([[0.747],\n",
            "       [0.882],\n",
            "       [0.89 ],\n",
            "       [0.496],\n",
            "       [0.63 ],\n",
            "       [1.187],\n",
            "       [1.835],\n",
            "       [0.33 ],\n",
            "       [0.432],\n",
            "       [0.498],\n",
            "       [0.644],\n",
            "       [0.569]], dtype=float32))])\n",
            "Client dataset for LCLid MAC000105\n",
            "OrderedDict([('x', array([[1.297, 1.704, 1.888, ..., 1.098, 1.107, 1.094],\n",
            "       [3.47 , 2.509, 2.497, ..., 1.078, 1.072, 1.075],\n",
            "       [0.535, 0.549, 0.601, ..., 1.105, 1.102, 1.094],\n",
            "       ...,\n",
            "       [2.157, 2.822, 3.47 , ..., 1.504, 1.176, 1.078],\n",
            "       [0.544, 1.017, 1.297, ..., 1.094, 1.103, 1.098],\n",
            "       [0.601, 0.666, 0.62 , ..., 1.094, 1.099, 1.101]], dtype=float32)), ('y', array([[1.08 ],\n",
            "       [1.091],\n",
            "       [1.099],\n",
            "       [1.131],\n",
            "       [1.419],\n",
            "       [1.077],\n",
            "       [1.103],\n",
            "       [1.091],\n",
            "       [1.076],\n",
            "       [1.072],\n",
            "       [1.107],\n",
            "       [1.089]], dtype=float32))])\n",
            "Client dataset for LCLid MAC002627\n",
            "OrderedDict([('x', array([[0.44 , 0.547, 1.271, ..., 0.926, 0.963, 0.938],\n",
            "       [1.738, 1.649, 1.553, ..., 2.313, 3.141, 3.555],\n",
            "       [0.547, 0.493, 0.35 , ..., 0.921, 0.986, 0.94 ],\n",
            "       ...,\n",
            "       [1.965, 1.701, 1.862, ..., 1.127, 1.095, 1.176],\n",
            "       [0.457, 0.448, 0.535, ..., 1.509, 1.283, 0.559],\n",
            "       [1.649, 1.553, 1.515, ..., 3.141, 3.555, 2.61 ]], dtype=float32)), ('y', array([[0.897],\n",
            "       [2.61 ],\n",
            "       [1.003],\n",
            "       [1.109],\n",
            "       [1.112],\n",
            "       [0.921],\n",
            "       [0.266],\n",
            "       [0.325],\n",
            "       [0.967],\n",
            "       [1.141],\n",
            "       [0.324],\n",
            "       [2.179]], dtype=float32))])\n",
            "Client dataset for LCLid MAC001315\n",
            "OrderedDict([('x', array([[0.919, 0.806, 1.091, ..., 0.789, 0.763, 0.817],\n",
            "       [0.781, 1.321, 0.911, ..., 0.84 , 0.875, 1.163],\n",
            "       [1.091, 0.86 , 0.901, ..., 0.817, 0.783, 0.764],\n",
            "       ...,\n",
            "       [0.429, 0.357, 0.637, ..., 0.364, 0.411, 0.395],\n",
            "       [0.373, 0.382, 0.39 , ..., 0.373, 0.357, 0.367],\n",
            "       [0.559, 0.688, 1.002, ..., 0.399, 0.412, 0.477]], dtype=float32)), ('y', array([[0.783],\n",
            "       [1.162],\n",
            "       [0.813],\n",
            "       [0.776],\n",
            "       [0.817],\n",
            "       [0.399],\n",
            "       [0.527],\n",
            "       [0.84 ],\n",
            "       [1.   ],\n",
            "       [0.694],\n",
            "       [0.421],\n",
            "       [0.55 ]], dtype=float32))])\n",
            "Client dataset for LCLid MAC003257\n",
            "OrderedDict([('x', array([[0.425, 0.363, 0.386, ..., 0.617, 0.501, 0.554],\n",
            "       [1.833, 0.525, 0.429, ..., 1.437, 1.549, 1.301],\n",
            "       [1.445, 1.422, 0.81 , ..., 0.628, 1.108, 0.49 ],\n",
            "       ...,\n",
            "       [1.595, 1.873, 1.473, ..., 1.17 , 3.055, 1.967],\n",
            "       [1.055, 1.219, 1.311, ..., 0.603, 0.548, 0.548],\n",
            "       [0.363, 0.386, 0.415, ..., 0.501, 0.554, 0.586]], dtype=float32)), ('y', array([[0.586],\n",
            "       [1.703],\n",
            "       [0.613],\n",
            "       [1.002],\n",
            "       [0.584],\n",
            "       [1.17 ],\n",
            "       [0.622],\n",
            "       [0.898],\n",
            "       [0.723],\n",
            "       [1.569],\n",
            "       [0.879],\n",
            "       [0.525]], dtype=float32))])\n",
            "Client dataset for LCLid MAC002872\n",
            "OrderedDict([('x', array([[0.561, 0.324, 0.249, ..., 0.786, 0.819, 0.953],\n",
            "       [0.772, 0.89 , 0.802, ..., 0.15 , 0.352, 0.484],\n",
            "       [0.505, 0.682, 1.729, ..., 0.307, 0.3  , 0.213],\n",
            "       ...,\n",
            "       [0.442, 0.519, 0.413, ..., 0.794, 0.769, 0.928],\n",
            "       [1.212, 1.561, 1.19 , ..., 1.114, 1.193, 1.124],\n",
            "       [0.804, 0.894, 0.84 , ..., 0.518, 0.371, 0.586]], dtype=float32)), ('y', array([[0.794],\n",
            "       [0.505],\n",
            "       [0.218],\n",
            "       [0.148],\n",
            "       [0.231],\n",
            "       [0.484],\n",
            "       [0.869],\n",
            "       [0.586],\n",
            "       [0.984],\n",
            "       [0.873],\n",
            "       [1.054],\n",
            "       [0.684]], dtype=float32))])\n",
            "Client dataset for LCLid MAC004319\n",
            "OrderedDict([('x', array([[0.777, 0.736, 0.849, ..., 0.958, 1.112, 0.667],\n",
            "       [0.623, 0.679, 0.643, ..., 0.716, 0.781, 0.616],\n",
            "       [0.614, 0.634, 0.805, ..., 0.625, 0.633, 0.621],\n",
            "       ...,\n",
            "       [1.122, 1.193, 1.2  , ..., 0.993, 1.094, 1.107],\n",
            "       [0.736, 0.849, 0.705, ..., 1.112, 0.667, 0.645],\n",
            "       [1.346, 1.817, 1.885, ..., 1.083, 1.024, 1.741]], dtype=float32)), ('y', array([[0.645],\n",
            "       [0.619],\n",
            "       [0.625],\n",
            "       [0.958],\n",
            "       [1.151],\n",
            "       [0.615],\n",
            "       [0.63 ],\n",
            "       [0.965],\n",
            "       [0.617],\n",
            "       [1.13 ],\n",
            "       [0.614],\n",
            "       [1.681]], dtype=float32))])\n"
          ]
        }
      ],
      "source": [
        "# Iterate over unique LCLids in the dataframe\n",
        "client_datasets_12 = {}\n",
        "for LCLid in sample_clients_list:\n",
        "    # Filter the dataframe for the current LCLid\n",
        "    client_data = datan1[datan1['LCLid'] == LCLid]\n",
        "\n",
        "    clientxx_dataset = create_client_dataset_for_LCLid(client_data, window_size, step_size)\n",
        "\n",
        "    # Create the client dataset for the current LCLid\n",
        "    preprocessed_client_dataset = preprocess_client_dataset(tf.data.Dataset.from_tensor_slices(clientxx_dataset))\n",
        "\n",
        "    # Extract a sample batch from the preprocessed dataset\n",
        "    sam_batch = tf.nest.map_structure(lambda x: x.numpy(), next(iter(preprocessed_client_dataset)))\n",
        "\n",
        "    # Store the preprocessed dataset in the dictionary with LCLid as the key\n",
        "    client_datasets_12[LCLid] = preprocessed_client_dataset\n",
        "\n",
        "    print(\"Client dataset for LCLid\", LCLid)\n",
        "    print(sam_batch)"
      ]
    },
    {
      "cell_type": "code",
      "execution_count": null,
      "metadata": {
        "id": "NGeCXnk-m9Yh"
      },
      "outputs": [],
      "source": [
        "def make_federated_data(client_datasets, sample_clients_list):\n",
        "    return [\n",
        "        client_datasets[x] for x in sample_clients_list\n",
        "    ]"
      ]
    },
    {
      "cell_type": "code",
      "execution_count": null,
      "metadata": {
        "id": "S04zyE5ZnDA8"
      },
      "outputs": [],
      "source": [
        "federated_train_data_12 = make_federated_data(client_datasets_12, sample_clients)\n"
      ]
    },
    {
      "cell_type": "code",
      "execution_count": null,
      "metadata": {
        "colab": {
          "base_uri": "https://localhost:8080/"
        },
        "id": "HaziRR-0nXE1",
        "outputId": "1c0fc6dd-b1a9-48d8-cd4e-242261b2b30d"
      },
      "outputs": [
        {
          "name": "stdout",
          "output_type": "stream",
          "text": [
            "Number of client datasets: 12\n",
            "First dataset: <_PrefetchDataset element_spec=OrderedDict([('x', TensorSpec(shape=(None, 336), dtype=tf.float32, name=None)), ('y', TensorSpec(shape=(None, 1), dtype=tf.float32, name=None))])>\n",
            "Second dataset: <_PrefetchDataset element_spec=OrderedDict([('x', TensorSpec(shape=(None, 336), dtype=tf.float32, name=None)), ('y', TensorSpec(shape=(None, 1), dtype=tf.float32, name=None))])>\n"
          ]
        }
      ],
      "source": [
        "print(f'Number of client datasets: {len(federated_train_data_12)}')\n",
        "print(f'First dataset: {federated_train_data_12[0]}')\n",
        "print(f'Second dataset: {federated_train_data_12[1]}')"
      ]
    },
    {
      "cell_type": "code",
      "execution_count": null,
      "metadata": {
        "colab": {
          "base_uri": "https://localhost:8080/"
        },
        "id": "66y3bqioncQc",
        "outputId": "8ea56f16-d596-4d6c-aa4f-282bd3306806"
      },
      "outputs": [
        {
          "data": {
            "text/plain": [
              "OrderedDict([('x', TensorSpec(shape=(None, 336), dtype=tf.float32, name=None)),\n",
              "             ('y', TensorSpec(shape=(None, 1), dtype=tf.float32, name=None))])"
            ]
          },
          "execution_count": 23,
          "metadata": {},
          "output_type": "execute_result"
        }
      ],
      "source": [
        "preprocessed_example_client_dataset.element_spec"
      ]
    },
    {
      "cell_type": "code",
      "execution_count": null,
      "metadata": {
        "id": "bf-6yGBvnfM9"
      },
      "outputs": [],
      "source": [
        "def create_model():\n",
        "    model = tf.keras.Sequential([\n",
        "        tf.keras.layers.Dense(16, activation='relu', input_shape=(336,)),\n",
        "        tf.keras.layers.Dense(8, activation='relu'),\n",
        "        tf.keras.layers.Dense(4, activation='relu'),\n",
        "        tf.keras.layers.Dense(1)\n",
        "    ])\n",
        "    return model"
      ]
    },
    {
      "cell_type": "code",
      "execution_count": null,
      "metadata": {
        "id": "VXxg-x9-nfoc"
      },
      "outputs": [],
      "source": [
        "def model_fn():\n",
        "    keras_model = create_model()\n",
        "    loss = tf.keras.losses.MeanAbsoluteError()\n",
        "    tff_model = tff.learning.models.from_keras_model(\n",
        "        keras_model,\n",
        "        input_spec=preprocessed_example_client_dataset.element_spec,\n",
        "        loss=loss,\n",
        "        metrics=[tf.keras.metrics.RootMeanSquaredError()]\n",
        "    )\n",
        "    return tff_model"
      ]
    },
    {
      "cell_type": "code",
      "execution_count": null,
      "metadata": {
        "colab": {
          "base_uri": "https://localhost:8080/"
        },
        "id": "WFteSfTcng8u",
        "outputId": "3a936565-5325-41ae-860c-6cb66e6b8076"
      },
      "outputs": [
        {
          "name": "stdout",
          "output_type": "stream",
          "text": [
            "<tensorflow_federated.python.learning.models.keras_utils._KerasModel object at 0x7f770e01bdf0>\n"
          ]
        }
      ],
      "source": [
        "model = model_fn()\n",
        "print(model)"
      ]
    },
    {
      "cell_type": "code",
      "execution_count": null,
      "metadata": {
        "id": "GtfLlDbtniRN"
      },
      "outputs": [],
      "source": [
        "# training starts\n",
        "training_process = tff.learning.algorithms.build_weighted_fed_avg(\n",
        "    model_fn,\n",
        "    client_optimizer_fn=lambda: tf.keras.optimizers.SGD(learning_rate=0.01),\n",
        "    server_optimizer_fn=lambda: tf.keras.optimizers.SGD(learning_rate=1.0))"
      ]
    },
    {
      "cell_type": "code",
      "execution_count": null,
      "metadata": {
        "colab": {
          "base_uri": "https://localhost:8080/"
        },
        "id": "fe7ot2ovo6Da",
        "outputId": "cc508af6-474f-4c41-cb27-2357603403d2"
      },
      "outputs": [
        {
          "name": "stdout",
          "output_type": "stream",
          "text": [
            "( -> <\n",
            "  global_model_weights=<\n",
            "    trainable=<\n",
            "      float32[336,64],\n",
            "      float32[64],\n",
            "      float32[64,32],\n",
            "      float32[32],\n",
            "      float32[32,8],\n",
            "      float32[8],\n",
            "      float32[8,1],\n",
            "      float32[1]\n",
            "    >,\n",
            "    non_trainable=<>\n",
            "  >,\n",
            "  distributor=<>,\n",
            "  client_work=<>,\n",
            "  aggregator=<\n",
            "    value_sum_process=<>,\n",
            "    weight_sum_process=<>\n",
            "  >,\n",
            "  finalizer=<\n",
            "    int64,\n",
            "    float32[336,64],\n",
            "    float32[64],\n",
            "    float32[64,32],\n",
            "    float32[32],\n",
            "    float32[32,8],\n",
            "    float32[8],\n",
            "    float32[8,1],\n",
            "    float32[1]\n",
            "  >\n",
            ">@SERVER)\n"
          ]
        }
      ],
      "source": [
        "print(training_process.initialize.type_signature.formatted_representation())"
      ]
    },
    {
      "cell_type": "code",
      "execution_count": null,
      "metadata": {
        "id": "NaFUD7VGnjko"
      },
      "outputs": [],
      "source": [
        "train_state = training_process.initialize()"
      ]
    },
    {
      "cell_type": "code",
      "execution_count": null,
      "metadata": {
        "colab": {
          "base_uri": "https://localhost:8080/"
        },
        "id": "XkEwWtE-nudB",
        "outputId": "adcf601e-30a5-4261-8b31-db45b115d6ad"
      },
      "outputs": [
        {
          "name": "stdout",
          "output_type": "stream",
          "text": [
            "round  1, metrics=OrderedDict([('distributor', ()), ('client_work', OrderedDict([('train', OrderedDict([('root_mean_squared_error', 0.4182494), ('loss', 0.26426378), ('num_examples', 812030), ('num_batches', 67675)]))])), ('aggregator', OrderedDict([('mean_value', ()), ('mean_weight', ())])), ('finalizer', OrderedDict([('update_non_finite', 0)]))])\n"
          ]
        }
      ],
      "source": [
        "result = training_process.next(train_state, federated_train_data_12)\n",
        "train_state = result.state\n",
        "train_metrics = result.metrics\n",
        "print('round  1, metrics={}'.format(train_metrics))"
      ]
    },
    {
      "cell_type": "code",
      "execution_count": null,
      "metadata": {
        "colab": {
          "base_uri": "https://localhost:8080/"
        },
        "id": "rZtKUkSMp_5m",
        "outputId": "1c6dd39d-e49c-4d3f-a07a-e4b4032b1c21"
      },
      "outputs": [
        {
          "name": "stdout",
          "output_type": "stream",
          "text": [
            "round  2, metrics=OrderedDict([('distributor', ()), ('client_work', OrderedDict([('train', OrderedDict([('root_mean_squared_error', 0.37692037), ('loss', 0.23434481), ('num_examples', 812030), ('num_batches', 67675)]))])), ('aggregator', OrderedDict([('mean_value', ()), ('mean_weight', ())])), ('finalizer', OrderedDict([('update_non_finite', 0)]))])\n",
            "round  3, metrics=OrderedDict([('distributor', ()), ('client_work', OrderedDict([('train', OrderedDict([('root_mean_squared_error', 0.36519673), ('loss', 0.22515282), ('num_examples', 812030), ('num_batches', 67675)]))])), ('aggregator', OrderedDict([('mean_value', ()), ('mean_weight', ())])), ('finalizer', OrderedDict([('update_non_finite', 0)]))])\n",
            "round  4, metrics=OrderedDict([('distributor', ()), ('client_work', OrderedDict([('train', OrderedDict([('root_mean_squared_error', 0.35881412), ('loss', 0.21980815), ('num_examples', 812030), ('num_batches', 67675)]))])), ('aggregator', OrderedDict([('mean_value', ()), ('mean_weight', ())])), ('finalizer', OrderedDict([('update_non_finite', 0)]))])\n",
            "round  5, metrics=OrderedDict([('distributor', ()), ('client_work', OrderedDict([('train', OrderedDict([('root_mean_squared_error', 0.35529867), ('loss', 0.21667576), ('num_examples', 812030), ('num_batches', 67675)]))])), ('aggregator', OrderedDict([('mean_value', ()), ('mean_weight', ())])), ('finalizer', OrderedDict([('update_non_finite', 0)]))])\n",
            "round  6, metrics=OrderedDict([('distributor', ()), ('client_work', OrderedDict([('train', OrderedDict([('root_mean_squared_error', 0.35234848), ('loss', 0.21404953), ('num_examples', 812030), ('num_batches', 67675)]))])), ('aggregator', OrderedDict([('mean_value', ()), ('mean_weight', ())])), ('finalizer', OrderedDict([('update_non_finite', 0)]))])\n",
            "round  7, metrics=OrderedDict([('distributor', ()), ('client_work', OrderedDict([('train', OrderedDict([('root_mean_squared_error', 0.35003978), ('loss', 0.2119538), ('num_examples', 812030), ('num_batches', 67675)]))])), ('aggregator', OrderedDict([('mean_value', ()), ('mean_weight', ())])), ('finalizer', OrderedDict([('update_non_finite', 0)]))])\n",
            "round  8, metrics=OrderedDict([('distributor', ()), ('client_work', OrderedDict([('train', OrderedDict([('root_mean_squared_error', 0.3483867), ('loss', 0.21009523), ('num_examples', 812030), ('num_batches', 67675)]))])), ('aggregator', OrderedDict([('mean_value', ()), ('mean_weight', ())])), ('finalizer', OrderedDict([('update_non_finite', 0)]))])\n",
            "round  9, metrics=OrderedDict([('distributor', ()), ('client_work', OrderedDict([('train', OrderedDict([('root_mean_squared_error', 0.3469028), ('loss', 0.20878986), ('num_examples', 812030), ('num_batches', 67675)]))])), ('aggregator', OrderedDict([('mean_value', ()), ('mean_weight', ())])), ('finalizer', OrderedDict([('update_non_finite', 0)]))])\n",
            "round 10, metrics=OrderedDict([('distributor', ()), ('client_work', OrderedDict([('train', OrderedDict([('root_mean_squared_error', 0.34560427), ('loss', 0.20750646), ('num_examples', 812030), ('num_batches', 67675)]))])), ('aggregator', OrderedDict([('mean_value', ()), ('mean_weight', ())])), ('finalizer', OrderedDict([('update_non_finite', 0)]))])\n",
            "round 11, metrics=OrderedDict([('distributor', ()), ('client_work', OrderedDict([('train', OrderedDict([('root_mean_squared_error', 0.3448173), ('loss', 0.2066114), ('num_examples', 812030), ('num_batches', 67675)]))])), ('aggregator', OrderedDict([('mean_value', ()), ('mean_weight', ())])), ('finalizer', OrderedDict([('update_non_finite', 0)]))])\n",
            "round 12, metrics=OrderedDict([('distributor', ()), ('client_work', OrderedDict([('train', OrderedDict([('root_mean_squared_error', 0.34388673), ('loss', 0.20593482), ('num_examples', 812030), ('num_batches', 67675)]))])), ('aggregator', OrderedDict([('mean_value', ()), ('mean_weight', ())])), ('finalizer', OrderedDict([('update_non_finite', 0)]))])\n",
            "round 13, metrics=OrderedDict([('distributor', ()), ('client_work', OrderedDict([('train', OrderedDict([('root_mean_squared_error', 0.34304717), ('loss', 0.20497341), ('num_examples', 812030), ('num_batches', 67675)]))])), ('aggregator', OrderedDict([('mean_value', ()), ('mean_weight', ())])), ('finalizer', OrderedDict([('update_non_finite', 0)]))])\n",
            "round 14, metrics=OrderedDict([('distributor', ()), ('client_work', OrderedDict([('train', OrderedDict([('root_mean_squared_error', 0.34228504), ('loss', 0.20432729), ('num_examples', 812030), ('num_batches', 67675)]))])), ('aggregator', OrderedDict([('mean_value', ()), ('mean_weight', ())])), ('finalizer', OrderedDict([('update_non_finite', 0)]))])\n",
            "round 15, metrics=OrderedDict([('distributor', ()), ('client_work', OrderedDict([('train', OrderedDict([('root_mean_squared_error', 0.34138313), ('loss', 0.20353018), ('num_examples', 812030), ('num_batches', 67675)]))])), ('aggregator', OrderedDict([('mean_value', ()), ('mean_weight', ())])), ('finalizer', OrderedDict([('update_non_finite', 0)]))])\n",
            "round 16, metrics=OrderedDict([('distributor', ()), ('client_work', OrderedDict([('train', OrderedDict([('root_mean_squared_error', 0.3411286), ('loss', 0.20320226), ('num_examples', 812030), ('num_batches', 67675)]))])), ('aggregator', OrderedDict([('mean_value', ()), ('mean_weight', ())])), ('finalizer', OrderedDict([('update_non_finite', 0)]))])\n",
            "round 17, metrics=OrderedDict([('distributor', ()), ('client_work', OrderedDict([('train', OrderedDict([('root_mean_squared_error', 0.34025776), ('loss', 0.202428), ('num_examples', 812030), ('num_batches', 67675)]))])), ('aggregator', OrderedDict([('mean_value', ()), ('mean_weight', ())])), ('finalizer', OrderedDict([('update_non_finite', 0)]))])\n",
            "round 18, metrics=OrderedDict([('distributor', ()), ('client_work', OrderedDict([('train', OrderedDict([('root_mean_squared_error', 0.3396234), ('loss', 0.20181203), ('num_examples', 812030), ('num_batches', 67675)]))])), ('aggregator', OrderedDict([('mean_value', ()), ('mean_weight', ())])), ('finalizer', OrderedDict([('update_non_finite', 0)]))])\n",
            "round 19, metrics=OrderedDict([('distributor', ()), ('client_work', OrderedDict([('train', OrderedDict([('root_mean_squared_error', 0.33935633), ('loss', 0.20142417), ('num_examples', 812030), ('num_batches', 67675)]))])), ('aggregator', OrderedDict([('mean_value', ()), ('mean_weight', ())])), ('finalizer', OrderedDict([('update_non_finite', 0)]))])\n",
            "round 20, metrics=OrderedDict([('distributor', ()), ('client_work', OrderedDict([('train', OrderedDict([('root_mean_squared_error', 0.33816195), ('loss', 0.20065077), ('num_examples', 812030), ('num_batches', 67675)]))])), ('aggregator', OrderedDict([('mean_value', ()), ('mean_weight', ())])), ('finalizer', OrderedDict([('update_non_finite', 0)]))])\n"
          ]
        }
      ],
      "source": [
        "NUM_ROUNDS = 21\n",
        "for round_num in range(2, NUM_ROUNDS):\n",
        "  result = training_process.next(train_state, federated_train_data_12)\n",
        "  train_state = result.state\n",
        "  train_metrics = result.metrics\n",
        "  print('round {:2d}, metrics={}'.format(round_num, train_metrics))"
      ]
    },
    {
      "cell_type": "code",
      "execution_count": null,
      "metadata": {
        "colab": {
          "base_uri": "https://localhost:8080/",
          "height": 542
        },
        "id": "3IweqGv_EUhB",
        "outputId": "3396ffac-48e5-495f-9df8-978c76de6bfd"
      },
      "outputs": [
        {
          "data": {
            "text/html": [
              "<html>\n",
              "<head><meta charset=\"utf-8\" /></head>\n",
              "<body>\n",
              "    <div>            <script src=\"https://cdnjs.cloudflare.com/ajax/libs/mathjax/2.7.5/MathJax.js?config=TeX-AMS-MML_SVG\"></script><script type=\"text/javascript\">if (window.MathJax && window.MathJax.Hub && window.MathJax.Hub.Config) {window.MathJax.Hub.Config({SVG: {font: \"STIX-Web\"}});}</script>                <script type=\"text/javascript\">window.PlotlyConfig = {MathJaxConfig: 'local'};</script>\n",
              "        <script src=\"https://cdn.plot.ly/plotly-2.18.2.min.js\"></script>                <div id=\"9b3750e1-dd66-4fa5-8045-f637de041ceb\" class=\"plotly-graph-div\" style=\"height:525px; width:100%;\"></div>            <script type=\"text/javascript\">                                    window.PLOTLYENV=window.PLOTLYENV || {};                                    if (document.getElementById(\"9b3750e1-dd66-4fa5-8045-f637de041ceb\")) {                    Plotly.newPlot(                        \"9b3750e1-dd66-4fa5-8045-f637de041ceb\",                        [{\"mode\":\"lines\",\"name\":\"Cluster 08\",\"x\":[1,2,3,4,5,6,7,8,9,10,11,12,13,14,15,16,17,18,19,20],\"y\":[0.06737575,0.06293772,0.060796063,0.05940758,0.058408998,0.057648093,0.05703,0.056526024,0.05610915,0.055751048,0.05542996,0.055151854,0.054903667,0.05467346,0.05447607,0.054296006,0.054134406,0.053993754,0.05387066,0.053758096],\"type\":\"scatter\"},{\"mode\":\"lines\",\"name\":\"Cluster 09\",\"x\":[1,2,3,4,5,6,7,8,9,10,11,12,13,14,15,16,17,18,19,20],\"y\":[0.07034567,0.06416719,0.061836798,0.060558915,0.059689056,0.059010174,0.058474753,0.058048673,0.057682555,0.057362556,0.057089813,0.056855284,0.056644276,0.056458063,0.05630099,0.056166247,0.05603734,0.055925187,0.05582829,0.05573636],\"type\":\"scatter\"}],                        {\"title\":{\"text\":\"Mean Absolute Error (MAE) of Load Forecasting vs. Federated Rounds\"},\"xaxis\":{\"title\":{\"text\":\"Federated Rounds\"}},\"yaxis\":{\"title\":{\"text\":\"Training data - MAE\"}},\"template\":{\"data\":{\"histogram2dcontour\":[{\"type\":\"histogram2dcontour\",\"colorbar\":{\"outlinewidth\":0,\"ticks\":\"\"},\"colorscale\":[[0.0,\"#0d0887\"],[0.1111111111111111,\"#46039f\"],[0.2222222222222222,\"#7201a8\"],[0.3333333333333333,\"#9c179e\"],[0.4444444444444444,\"#bd3786\"],[0.5555555555555556,\"#d8576b\"],[0.6666666666666666,\"#ed7953\"],[0.7777777777777778,\"#fb9f3a\"],[0.8888888888888888,\"#fdca26\"],[1.0,\"#f0f921\"]]}],\"choropleth\":[{\"type\":\"choropleth\",\"colorbar\":{\"outlinewidth\":0,\"ticks\":\"\"}}],\"histogram2d\":[{\"type\":\"histogram2d\",\"colorbar\":{\"outlinewidth\":0,\"ticks\":\"\"},\"colorscale\":[[0.0,\"#0d0887\"],[0.1111111111111111,\"#46039f\"],[0.2222222222222222,\"#7201a8\"],[0.3333333333333333,\"#9c179e\"],[0.4444444444444444,\"#bd3786\"],[0.5555555555555556,\"#d8576b\"],[0.6666666666666666,\"#ed7953\"],[0.7777777777777778,\"#fb9f3a\"],[0.8888888888888888,\"#fdca26\"],[1.0,\"#f0f921\"]]}],\"heatmap\":[{\"type\":\"heatmap\",\"colorbar\":{\"outlinewidth\":0,\"ticks\":\"\"},\"colorscale\":[[0.0,\"#0d0887\"],[0.1111111111111111,\"#46039f\"],[0.2222222222222222,\"#7201a8\"],[0.3333333333333333,\"#9c179e\"],[0.4444444444444444,\"#bd3786\"],[0.5555555555555556,\"#d8576b\"],[0.6666666666666666,\"#ed7953\"],[0.7777777777777778,\"#fb9f3a\"],[0.8888888888888888,\"#fdca26\"],[1.0,\"#f0f921\"]]}],\"heatmapgl\":[{\"type\":\"heatmapgl\",\"colorbar\":{\"outlinewidth\":0,\"ticks\":\"\"},\"colorscale\":[[0.0,\"#0d0887\"],[0.1111111111111111,\"#46039f\"],[0.2222222222222222,\"#7201a8\"],[0.3333333333333333,\"#9c179e\"],[0.4444444444444444,\"#bd3786\"],[0.5555555555555556,\"#d8576b\"],[0.6666666666666666,\"#ed7953\"],[0.7777777777777778,\"#fb9f3a\"],[0.8888888888888888,\"#fdca26\"],[1.0,\"#f0f921\"]]}],\"contourcarpet\":[{\"type\":\"contourcarpet\",\"colorbar\":{\"outlinewidth\":0,\"ticks\":\"\"}}],\"contour\":[{\"type\":\"contour\",\"colorbar\":{\"outlinewidth\":0,\"ticks\":\"\"},\"colorscale\":[[0.0,\"#0d0887\"],[0.1111111111111111,\"#46039f\"],[0.2222222222222222,\"#7201a8\"],[0.3333333333333333,\"#9c179e\"],[0.4444444444444444,\"#bd3786\"],[0.5555555555555556,\"#d8576b\"],[0.6666666666666666,\"#ed7953\"],[0.7777777777777778,\"#fb9f3a\"],[0.8888888888888888,\"#fdca26\"],[1.0,\"#f0f921\"]]}],\"surface\":[{\"type\":\"surface\",\"colorbar\":{\"outlinewidth\":0,\"ticks\":\"\"},\"colorscale\":[[0.0,\"#0d0887\"],[0.1111111111111111,\"#46039f\"],[0.2222222222222222,\"#7201a8\"],[0.3333333333333333,\"#9c179e\"],[0.4444444444444444,\"#bd3786\"],[0.5555555555555556,\"#d8576b\"],[0.6666666666666666,\"#ed7953\"],[0.7777777777777778,\"#fb9f3a\"],[0.8888888888888888,\"#fdca26\"],[1.0,\"#f0f921\"]]}],\"mesh3d\":[{\"type\":\"mesh3d\",\"colorbar\":{\"outlinewidth\":0,\"ticks\":\"\"}}],\"scatter\":[{\"fillpattern\":{\"fillmode\":\"overlay\",\"size\":10,\"solidity\":0.2},\"type\":\"scatter\"}],\"parcoords\":[{\"type\":\"parcoords\",\"line\":{\"colorbar\":{\"outlinewidth\":0,\"ticks\":\"\"}}}],\"scatterpolargl\":[{\"type\":\"scatterpolargl\",\"marker\":{\"colorbar\":{\"outlinewidth\":0,\"ticks\":\"\"}}}],\"bar\":[{\"error_x\":{\"color\":\"#2a3f5f\"},\"error_y\":{\"color\":\"#2a3f5f\"},\"marker\":{\"line\":{\"color\":\"#E5ECF6\",\"width\":0.5},\"pattern\":{\"fillmode\":\"overlay\",\"size\":10,\"solidity\":0.2}},\"type\":\"bar\"}],\"scattergeo\":[{\"type\":\"scattergeo\",\"marker\":{\"colorbar\":{\"outlinewidth\":0,\"ticks\":\"\"}}}],\"scatterpolar\":[{\"type\":\"scatterpolar\",\"marker\":{\"colorbar\":{\"outlinewidth\":0,\"ticks\":\"\"}}}],\"histogram\":[{\"marker\":{\"pattern\":{\"fillmode\":\"overlay\",\"size\":10,\"solidity\":0.2}},\"type\":\"histogram\"}],\"scattergl\":[{\"type\":\"scattergl\",\"marker\":{\"colorbar\":{\"outlinewidth\":0,\"ticks\":\"\"}}}],\"scatter3d\":[{\"type\":\"scatter3d\",\"line\":{\"colorbar\":{\"outlinewidth\":0,\"ticks\":\"\"}},\"marker\":{\"colorbar\":{\"outlinewidth\":0,\"ticks\":\"\"}}}],\"scattermapbox\":[{\"type\":\"scattermapbox\",\"marker\":{\"colorbar\":{\"outlinewidth\":0,\"ticks\":\"\"}}}],\"scatterternary\":[{\"type\":\"scatterternary\",\"marker\":{\"colorbar\":{\"outlinewidth\":0,\"ticks\":\"\"}}}],\"scattercarpet\":[{\"type\":\"scattercarpet\",\"marker\":{\"colorbar\":{\"outlinewidth\":0,\"ticks\":\"\"}}}],\"carpet\":[{\"aaxis\":{\"endlinecolor\":\"#2a3f5f\",\"gridcolor\":\"white\",\"linecolor\":\"white\",\"minorgridcolor\":\"white\",\"startlinecolor\":\"#2a3f5f\"},\"baxis\":{\"endlinecolor\":\"#2a3f5f\",\"gridcolor\":\"white\",\"linecolor\":\"white\",\"minorgridcolor\":\"white\",\"startlinecolor\":\"#2a3f5f\"},\"type\":\"carpet\"}],\"table\":[{\"cells\":{\"fill\":{\"color\":\"#EBF0F8\"},\"line\":{\"color\":\"white\"}},\"header\":{\"fill\":{\"color\":\"#C8D4E3\"},\"line\":{\"color\":\"white\"}},\"type\":\"table\"}],\"barpolar\":[{\"marker\":{\"line\":{\"color\":\"#E5ECF6\",\"width\":0.5},\"pattern\":{\"fillmode\":\"overlay\",\"size\":10,\"solidity\":0.2}},\"type\":\"barpolar\"}],\"pie\":[{\"automargin\":true,\"type\":\"pie\"}]},\"layout\":{\"autotypenumbers\":\"strict\",\"colorway\":[\"#636efa\",\"#EF553B\",\"#00cc96\",\"#ab63fa\",\"#FFA15A\",\"#19d3f3\",\"#FF6692\",\"#B6E880\",\"#FF97FF\",\"#FECB52\"],\"font\":{\"color\":\"#2a3f5f\"},\"hovermode\":\"closest\",\"hoverlabel\":{\"align\":\"left\"},\"paper_bgcolor\":\"white\",\"plot_bgcolor\":\"#E5ECF6\",\"polar\":{\"bgcolor\":\"#E5ECF6\",\"angularaxis\":{\"gridcolor\":\"white\",\"linecolor\":\"white\",\"ticks\":\"\"},\"radialaxis\":{\"gridcolor\":\"white\",\"linecolor\":\"white\",\"ticks\":\"\"}},\"ternary\":{\"bgcolor\":\"#E5ECF6\",\"aaxis\":{\"gridcolor\":\"white\",\"linecolor\":\"white\",\"ticks\":\"\"},\"baxis\":{\"gridcolor\":\"white\",\"linecolor\":\"white\",\"ticks\":\"\"},\"caxis\":{\"gridcolor\":\"white\",\"linecolor\":\"white\",\"ticks\":\"\"}},\"coloraxis\":{\"colorbar\":{\"outlinewidth\":0,\"ticks\":\"\"}},\"colorscale\":{\"sequential\":[[0.0,\"#0d0887\"],[0.1111111111111111,\"#46039f\"],[0.2222222222222222,\"#7201a8\"],[0.3333333333333333,\"#9c179e\"],[0.4444444444444444,\"#bd3786\"],[0.5555555555555556,\"#d8576b\"],[0.6666666666666666,\"#ed7953\"],[0.7777777777777778,\"#fb9f3a\"],[0.8888888888888888,\"#fdca26\"],[1.0,\"#f0f921\"]],\"sequentialminus\":[[0.0,\"#0d0887\"],[0.1111111111111111,\"#46039f\"],[0.2222222222222222,\"#7201a8\"],[0.3333333333333333,\"#9c179e\"],[0.4444444444444444,\"#bd3786\"],[0.5555555555555556,\"#d8576b\"],[0.6666666666666666,\"#ed7953\"],[0.7777777777777778,\"#fb9f3a\"],[0.8888888888888888,\"#fdca26\"],[1.0,\"#f0f921\"]],\"diverging\":[[0,\"#8e0152\"],[0.1,\"#c51b7d\"],[0.2,\"#de77ae\"],[0.3,\"#f1b6da\"],[0.4,\"#fde0ef\"],[0.5,\"#f7f7f7\"],[0.6,\"#e6f5d0\"],[0.7,\"#b8e186\"],[0.8,\"#7fbc41\"],[0.9,\"#4d9221\"],[1,\"#276419\"]]},\"xaxis\":{\"gridcolor\":\"white\",\"linecolor\":\"white\",\"ticks\":\"\",\"title\":{\"standoff\":15},\"zerolinecolor\":\"white\",\"automargin\":true,\"zerolinewidth\":2},\"yaxis\":{\"gridcolor\":\"white\",\"linecolor\":\"white\",\"ticks\":\"\",\"title\":{\"standoff\":15},\"zerolinecolor\":\"white\",\"automargin\":true,\"zerolinewidth\":2},\"scene\":{\"xaxis\":{\"backgroundcolor\":\"#E5ECF6\",\"gridcolor\":\"white\",\"linecolor\":\"white\",\"showbackground\":true,\"ticks\":\"\",\"zerolinecolor\":\"white\",\"gridwidth\":2},\"yaxis\":{\"backgroundcolor\":\"#E5ECF6\",\"gridcolor\":\"white\",\"linecolor\":\"white\",\"showbackground\":true,\"ticks\":\"\",\"zerolinecolor\":\"white\",\"gridwidth\":2},\"zaxis\":{\"backgroundcolor\":\"#E5ECF6\",\"gridcolor\":\"white\",\"linecolor\":\"white\",\"showbackground\":true,\"ticks\":\"\",\"zerolinecolor\":\"white\",\"gridwidth\":2}},\"shapedefaults\":{\"line\":{\"color\":\"#2a3f5f\"}},\"annotationdefaults\":{\"arrowcolor\":\"#2a3f5f\",\"arrowhead\":0,\"arrowwidth\":1},\"geo\":{\"bgcolor\":\"white\",\"landcolor\":\"#E5ECF6\",\"subunitcolor\":\"white\",\"showland\":true,\"showlakes\":true,\"lakecolor\":\"white\"},\"title\":{\"x\":0.05},\"mapbox\":{\"style\":\"light\"}}}},                        {\"responsive\": true}                    ).then(function(){\n",
              "                            \n",
              "var gd = document.getElementById('9b3750e1-dd66-4fa5-8045-f637de041ceb');\n",
              "var x = new MutationObserver(function (mutations, observer) {{\n",
              "        var display = window.getComputedStyle(gd).display;\n",
              "        if (!display || display === 'none') {{\n",
              "            console.log([gd, 'removed!']);\n",
              "            Plotly.purge(gd);\n",
              "            observer.disconnect();\n",
              "        }}\n",
              "}});\n",
              "\n",
              "// Listen for the removal of the full notebook cells\n",
              "var notebookContainer = gd.closest('#notebook-container');\n",
              "if (notebookContainer) {{\n",
              "    x.observe(notebookContainer, {childList: true});\n",
              "}}\n",
              "\n",
              "// Listen for the clearing of the current output cell\n",
              "var outputEl = gd.closest('.output');\n",
              "if (outputEl) {{\n",
              "    x.observe(outputEl, {childList: true});\n",
              "}}\n",
              "\n",
              "                        })                };                            </script>        </div>\n",
              "</body>\n",
              "</html>"
            ]
          },
          "metadata": {},
          "output_type": "display_data"
        }
      ],
      "source": [
        "import plotly.graph_objects as go\n",
        "\n",
        "# Data for Cluster 08\n",
        "rounds_1 = list(range(1, 21))\n",
        "mae_1 = [\n",
        "    0.06737575, 0.06293772, 0.060796063, 0.05940758, 0.058408998,\n",
        "    0.057648093, 0.05703, 0.056526024, 0.05610915, 0.055751048,\n",
        "    0.05542996, 0.055151854, 0.054903667, 0.05467346, 0.05447607,\n",
        "    0.054296006, 0.054134406, 0.053993754, 0.05387066, 0.053758096\n",
        "]\n",
        "\n",
        "# Data for Cluster 09\n",
        "rounds_2 = list(range(1, 21))\n",
        "mae_2 = [\n",
        "    0.07034567, 0.06416719, 0.061836798, 0.060558915, 0.059689056,\n",
        "    0.059010174, 0.058474753, 0.058048673, 0.057682555, 0.057362556,\n",
        "    0.057089813, 0.056855284, 0.056644276, 0.056458063, 0.05630099,\n",
        "    0.056166247, 0.05603734, 0.055925187, 0.05582829, 0.05573636\n",
        "]\n",
        "\n",
        "# Creating trace for Cluster 08\n",
        "trace1 = go.Scatter(\n",
        "    x=rounds_1,\n",
        "    y=mae_1,\n",
        "    mode='lines',\n",
        "    name='Cluster 08'\n",
        ")\n",
        "\n",
        "# Creating trace for Cluster 09\n",
        "trace2 = go.Scatter(\n",
        "    x=rounds_2,\n",
        "    y=mae_2,\n",
        "    mode='lines',\n",
        "    name='Cluster 09'\n",
        ")\n",
        "\n",
        "# Creating data list\n",
        "data = [trace1, trace2]\n",
        "\n",
        "# Creating layout\n",
        "layout = go.Layout(\n",
        "    title='Mean Absolute Error (MAE) of Load Forecasting vs. Federated Rounds',\n",
        "    xaxis=dict(title='Federated Rounds'),\n",
        "    yaxis=dict(title='Training data - MAE')\n",
        ")\n",
        "\n",
        "# Creating figure\n",
        "fig = go.Figure(data=data, layout=layout)\n",
        "\n",
        "# Displaying the graph\n",
        "fig.show()\n"
      ]
    },
    {
      "cell_type": "code",
      "execution_count": null,
      "metadata": {
        "colab": {
          "base_uri": "https://localhost:8080/",
          "height": 542
        },
        "id": "iLXU4eeVbMAy",
        "outputId": "fff0f530-df19-4f95-cd1b-6674d02408ca"
      },
      "outputs": [
        {
          "data": {
            "text/html": [
              "<html>\n",
              "<head><meta charset=\"utf-8\" /></head>\n",
              "<body>\n",
              "    <div>            <script src=\"https://cdnjs.cloudflare.com/ajax/libs/mathjax/2.7.5/MathJax.js?config=TeX-AMS-MML_SVG\"></script><script type=\"text/javascript\">if (window.MathJax && window.MathJax.Hub && window.MathJax.Hub.Config) {window.MathJax.Hub.Config({SVG: {font: \"STIX-Web\"}});}</script>                <script type=\"text/javascript\">window.PlotlyConfig = {MathJaxConfig: 'local'};</script>\n",
              "        <script src=\"https://cdn.plot.ly/plotly-2.18.2.min.js\"></script>                <div id=\"11a00cab-ada0-4d92-8f66-729dfd78493f\" class=\"plotly-graph-div\" style=\"height:525px; width:100%;\"></div>            <script type=\"text/javascript\">                                    window.PLOTLYENV=window.PLOTLYENV || {};                                    if (document.getElementById(\"11a00cab-ada0-4d92-8f66-729dfd78493f\")) {                    Plotly.newPlot(                        \"11a00cab-ada0-4d92-8f66-729dfd78493f\",                        [{\"mode\":\"lines\",\"name\":\"Cluster 04\",\"x\":[1,2,3,4,5,6,7,8,9,10,11,12,13,14,15,16,17,18,19,20],\"y\":[0.11573566,0.10361333,0.09922377,0.09694171,0.09549518,0.094502784,0.09377624,0.09319854,0.09278589,0.09244496,0.0921646,0.09189611,0.09168941,0.09149853,0.09130679,0.09120082,0.09106272,0.09095054,0.09086295,0.090747595],\"type\":\"scatter\"},{\"mode\":\"lines\",\"name\":\"Cluster 14\",\"x\":[1,2,3,4,5,6,7,8,9,10,11,12,13,14,15,16,17,18,19,20],\"y\":[0.1708811,0.1584751,0.15332645,0.15120173,0.14984801,0.14892414,0.14833829,0.14782089,0.14744286,0.14694408,0.14646958,0.14602049,0.14571527,0.14540415,0.14500421,0.1446545,0.14432915,0.14402962,0.14367345,0.14337786],\"type\":\"scatter\"}],                        {\"title\":{\"text\":\"Mean Absolute Error (MAE) of Load Forecasting vs. Federated Rounds\"},\"xaxis\":{\"title\":{\"text\":\"Federated Rounds\"}},\"yaxis\":{\"title\":{\"text\":\"Training data - MAE\"}},\"template\":{\"data\":{\"histogram2dcontour\":[{\"type\":\"histogram2dcontour\",\"colorbar\":{\"outlinewidth\":0,\"ticks\":\"\"},\"colorscale\":[[0.0,\"#0d0887\"],[0.1111111111111111,\"#46039f\"],[0.2222222222222222,\"#7201a8\"],[0.3333333333333333,\"#9c179e\"],[0.4444444444444444,\"#bd3786\"],[0.5555555555555556,\"#d8576b\"],[0.6666666666666666,\"#ed7953\"],[0.7777777777777778,\"#fb9f3a\"],[0.8888888888888888,\"#fdca26\"],[1.0,\"#f0f921\"]]}],\"choropleth\":[{\"type\":\"choropleth\",\"colorbar\":{\"outlinewidth\":0,\"ticks\":\"\"}}],\"histogram2d\":[{\"type\":\"histogram2d\",\"colorbar\":{\"outlinewidth\":0,\"ticks\":\"\"},\"colorscale\":[[0.0,\"#0d0887\"],[0.1111111111111111,\"#46039f\"],[0.2222222222222222,\"#7201a8\"],[0.3333333333333333,\"#9c179e\"],[0.4444444444444444,\"#bd3786\"],[0.5555555555555556,\"#d8576b\"],[0.6666666666666666,\"#ed7953\"],[0.7777777777777778,\"#fb9f3a\"],[0.8888888888888888,\"#fdca26\"],[1.0,\"#f0f921\"]]}],\"heatmap\":[{\"type\":\"heatmap\",\"colorbar\":{\"outlinewidth\":0,\"ticks\":\"\"},\"colorscale\":[[0.0,\"#0d0887\"],[0.1111111111111111,\"#46039f\"],[0.2222222222222222,\"#7201a8\"],[0.3333333333333333,\"#9c179e\"],[0.4444444444444444,\"#bd3786\"],[0.5555555555555556,\"#d8576b\"],[0.6666666666666666,\"#ed7953\"],[0.7777777777777778,\"#fb9f3a\"],[0.8888888888888888,\"#fdca26\"],[1.0,\"#f0f921\"]]}],\"heatmapgl\":[{\"type\":\"heatmapgl\",\"colorbar\":{\"outlinewidth\":0,\"ticks\":\"\"},\"colorscale\":[[0.0,\"#0d0887\"],[0.1111111111111111,\"#46039f\"],[0.2222222222222222,\"#7201a8\"],[0.3333333333333333,\"#9c179e\"],[0.4444444444444444,\"#bd3786\"],[0.5555555555555556,\"#d8576b\"],[0.6666666666666666,\"#ed7953\"],[0.7777777777777778,\"#fb9f3a\"],[0.8888888888888888,\"#fdca26\"],[1.0,\"#f0f921\"]]}],\"contourcarpet\":[{\"type\":\"contourcarpet\",\"colorbar\":{\"outlinewidth\":0,\"ticks\":\"\"}}],\"contour\":[{\"type\":\"contour\",\"colorbar\":{\"outlinewidth\":0,\"ticks\":\"\"},\"colorscale\":[[0.0,\"#0d0887\"],[0.1111111111111111,\"#46039f\"],[0.2222222222222222,\"#7201a8\"],[0.3333333333333333,\"#9c179e\"],[0.4444444444444444,\"#bd3786\"],[0.5555555555555556,\"#d8576b\"],[0.6666666666666666,\"#ed7953\"],[0.7777777777777778,\"#fb9f3a\"],[0.8888888888888888,\"#fdca26\"],[1.0,\"#f0f921\"]]}],\"surface\":[{\"type\":\"surface\",\"colorbar\":{\"outlinewidth\":0,\"ticks\":\"\"},\"colorscale\":[[0.0,\"#0d0887\"],[0.1111111111111111,\"#46039f\"],[0.2222222222222222,\"#7201a8\"],[0.3333333333333333,\"#9c179e\"],[0.4444444444444444,\"#bd3786\"],[0.5555555555555556,\"#d8576b\"],[0.6666666666666666,\"#ed7953\"],[0.7777777777777778,\"#fb9f3a\"],[0.8888888888888888,\"#fdca26\"],[1.0,\"#f0f921\"]]}],\"mesh3d\":[{\"type\":\"mesh3d\",\"colorbar\":{\"outlinewidth\":0,\"ticks\":\"\"}}],\"scatter\":[{\"fillpattern\":{\"fillmode\":\"overlay\",\"size\":10,\"solidity\":0.2},\"type\":\"scatter\"}],\"parcoords\":[{\"type\":\"parcoords\",\"line\":{\"colorbar\":{\"outlinewidth\":0,\"ticks\":\"\"}}}],\"scatterpolargl\":[{\"type\":\"scatterpolargl\",\"marker\":{\"colorbar\":{\"outlinewidth\":0,\"ticks\":\"\"}}}],\"bar\":[{\"error_x\":{\"color\":\"#2a3f5f\"},\"error_y\":{\"color\":\"#2a3f5f\"},\"marker\":{\"line\":{\"color\":\"#E5ECF6\",\"width\":0.5},\"pattern\":{\"fillmode\":\"overlay\",\"size\":10,\"solidity\":0.2}},\"type\":\"bar\"}],\"scattergeo\":[{\"type\":\"scattergeo\",\"marker\":{\"colorbar\":{\"outlinewidth\":0,\"ticks\":\"\"}}}],\"scatterpolar\":[{\"type\":\"scatterpolar\",\"marker\":{\"colorbar\":{\"outlinewidth\":0,\"ticks\":\"\"}}}],\"histogram\":[{\"marker\":{\"pattern\":{\"fillmode\":\"overlay\",\"size\":10,\"solidity\":0.2}},\"type\":\"histogram\"}],\"scattergl\":[{\"type\":\"scattergl\",\"marker\":{\"colorbar\":{\"outlinewidth\":0,\"ticks\":\"\"}}}],\"scatter3d\":[{\"type\":\"scatter3d\",\"line\":{\"colorbar\":{\"outlinewidth\":0,\"ticks\":\"\"}},\"marker\":{\"colorbar\":{\"outlinewidth\":0,\"ticks\":\"\"}}}],\"scattermapbox\":[{\"type\":\"scattermapbox\",\"marker\":{\"colorbar\":{\"outlinewidth\":0,\"ticks\":\"\"}}}],\"scatterternary\":[{\"type\":\"scatterternary\",\"marker\":{\"colorbar\":{\"outlinewidth\":0,\"ticks\":\"\"}}}],\"scattercarpet\":[{\"type\":\"scattercarpet\",\"marker\":{\"colorbar\":{\"outlinewidth\":0,\"ticks\":\"\"}}}],\"carpet\":[{\"aaxis\":{\"endlinecolor\":\"#2a3f5f\",\"gridcolor\":\"white\",\"linecolor\":\"white\",\"minorgridcolor\":\"white\",\"startlinecolor\":\"#2a3f5f\"},\"baxis\":{\"endlinecolor\":\"#2a3f5f\",\"gridcolor\":\"white\",\"linecolor\":\"white\",\"minorgridcolor\":\"white\",\"startlinecolor\":\"#2a3f5f\"},\"type\":\"carpet\"}],\"table\":[{\"cells\":{\"fill\":{\"color\":\"#EBF0F8\"},\"line\":{\"color\":\"white\"}},\"header\":{\"fill\":{\"color\":\"#C8D4E3\"},\"line\":{\"color\":\"white\"}},\"type\":\"table\"}],\"barpolar\":[{\"marker\":{\"line\":{\"color\":\"#E5ECF6\",\"width\":0.5},\"pattern\":{\"fillmode\":\"overlay\",\"size\":10,\"solidity\":0.2}},\"type\":\"barpolar\"}],\"pie\":[{\"automargin\":true,\"type\":\"pie\"}]},\"layout\":{\"autotypenumbers\":\"strict\",\"colorway\":[\"#636efa\",\"#EF553B\",\"#00cc96\",\"#ab63fa\",\"#FFA15A\",\"#19d3f3\",\"#FF6692\",\"#B6E880\",\"#FF97FF\",\"#FECB52\"],\"font\":{\"color\":\"#2a3f5f\"},\"hovermode\":\"closest\",\"hoverlabel\":{\"align\":\"left\"},\"paper_bgcolor\":\"white\",\"plot_bgcolor\":\"#E5ECF6\",\"polar\":{\"bgcolor\":\"#E5ECF6\",\"angularaxis\":{\"gridcolor\":\"white\",\"linecolor\":\"white\",\"ticks\":\"\"},\"radialaxis\":{\"gridcolor\":\"white\",\"linecolor\":\"white\",\"ticks\":\"\"}},\"ternary\":{\"bgcolor\":\"#E5ECF6\",\"aaxis\":{\"gridcolor\":\"white\",\"linecolor\":\"white\",\"ticks\":\"\"},\"baxis\":{\"gridcolor\":\"white\",\"linecolor\":\"white\",\"ticks\":\"\"},\"caxis\":{\"gridcolor\":\"white\",\"linecolor\":\"white\",\"ticks\":\"\"}},\"coloraxis\":{\"colorbar\":{\"outlinewidth\":0,\"ticks\":\"\"}},\"colorscale\":{\"sequential\":[[0.0,\"#0d0887\"],[0.1111111111111111,\"#46039f\"],[0.2222222222222222,\"#7201a8\"],[0.3333333333333333,\"#9c179e\"],[0.4444444444444444,\"#bd3786\"],[0.5555555555555556,\"#d8576b\"],[0.6666666666666666,\"#ed7953\"],[0.7777777777777778,\"#fb9f3a\"],[0.8888888888888888,\"#fdca26\"],[1.0,\"#f0f921\"]],\"sequentialminus\":[[0.0,\"#0d0887\"],[0.1111111111111111,\"#46039f\"],[0.2222222222222222,\"#7201a8\"],[0.3333333333333333,\"#9c179e\"],[0.4444444444444444,\"#bd3786\"],[0.5555555555555556,\"#d8576b\"],[0.6666666666666666,\"#ed7953\"],[0.7777777777777778,\"#fb9f3a\"],[0.8888888888888888,\"#fdca26\"],[1.0,\"#f0f921\"]],\"diverging\":[[0,\"#8e0152\"],[0.1,\"#c51b7d\"],[0.2,\"#de77ae\"],[0.3,\"#f1b6da\"],[0.4,\"#fde0ef\"],[0.5,\"#f7f7f7\"],[0.6,\"#e6f5d0\"],[0.7,\"#b8e186\"],[0.8,\"#7fbc41\"],[0.9,\"#4d9221\"],[1,\"#276419\"]]},\"xaxis\":{\"gridcolor\":\"white\",\"linecolor\":\"white\",\"ticks\":\"\",\"title\":{\"standoff\":15},\"zerolinecolor\":\"white\",\"automargin\":true,\"zerolinewidth\":2},\"yaxis\":{\"gridcolor\":\"white\",\"linecolor\":\"white\",\"ticks\":\"\",\"title\":{\"standoff\":15},\"zerolinecolor\":\"white\",\"automargin\":true,\"zerolinewidth\":2},\"scene\":{\"xaxis\":{\"backgroundcolor\":\"#E5ECF6\",\"gridcolor\":\"white\",\"linecolor\":\"white\",\"showbackground\":true,\"ticks\":\"\",\"zerolinecolor\":\"white\",\"gridwidth\":2},\"yaxis\":{\"backgroundcolor\":\"#E5ECF6\",\"gridcolor\":\"white\",\"linecolor\":\"white\",\"showbackground\":true,\"ticks\":\"\",\"zerolinecolor\":\"white\",\"gridwidth\":2},\"zaxis\":{\"backgroundcolor\":\"#E5ECF6\",\"gridcolor\":\"white\",\"linecolor\":\"white\",\"showbackground\":true,\"ticks\":\"\",\"zerolinecolor\":\"white\",\"gridwidth\":2}},\"shapedefaults\":{\"line\":{\"color\":\"#2a3f5f\"}},\"annotationdefaults\":{\"arrowcolor\":\"#2a3f5f\",\"arrowhead\":0,\"arrowwidth\":1},\"geo\":{\"bgcolor\":\"white\",\"landcolor\":\"#E5ECF6\",\"subunitcolor\":\"white\",\"showland\":true,\"showlakes\":true,\"lakecolor\":\"white\"},\"title\":{\"x\":0.05},\"mapbox\":{\"style\":\"light\"}}}},                        {\"responsive\": true}                    ).then(function(){\n",
              "                            \n",
              "var gd = document.getElementById('11a00cab-ada0-4d92-8f66-729dfd78493f');\n",
              "var x = new MutationObserver(function (mutations, observer) {{\n",
              "        var display = window.getComputedStyle(gd).display;\n",
              "        if (!display || display === 'none') {{\n",
              "            console.log([gd, 'removed!']);\n",
              "            Plotly.purge(gd);\n",
              "            observer.disconnect();\n",
              "        }}\n",
              "}});\n",
              "\n",
              "// Listen for the removal of the full notebook cells\n",
              "var notebookContainer = gd.closest('#notebook-container');\n",
              "if (notebookContainer) {{\n",
              "    x.observe(notebookContainer, {childList: true});\n",
              "}}\n",
              "\n",
              "// Listen for the clearing of the current output cell\n",
              "var outputEl = gd.closest('.output');\n",
              "if (outputEl) {{\n",
              "    x.observe(outputEl, {childList: true});\n",
              "}}\n",
              "\n",
              "                        })                };                            </script>        </div>\n",
              "</body>\n",
              "</html>"
            ]
          },
          "metadata": {},
          "output_type": "display_data"
        }
      ],
      "source": [
        "import plotly.graph_objects as go\n",
        "\n",
        "# Data for Cluster 04\n",
        "rounds_1 = list(range(1, 21))\n",
        "mae_1 = [\n",
        "    0.11573566, 0.10361333, 0.09922377, 0.09694171, 0.09549518,\n",
        "    0.094502784, 0.09377624, 0.09319854, 0.09278589, 0.09244496,\n",
        "    0.0921646, 0.09189611, 0.09168941, 0.09149853, 0.09130679,\n",
        "    0.09120082, 0.09106272, 0.09095054, 0.09086295, 0.090747595\n",
        "]\n",
        "\n",
        "# Data for Cluster 14\n",
        "rounds_2 = list(range(1, 21))\n",
        "mae_2 = [\n",
        "    0.1708811, 0.1584751, 0.15332645, 0.15120173, 0.14984801,\n",
        "    0.14892414, 0.14833829, 0.14782089, 0.14744286, 0.14694408,\n",
        "    0.14646958, 0.14602049, 0.14571527, 0.14540415, 0.14500421,\n",
        "    0.1446545, 0.14432915, 0.14402962, 0.14367345, 0.14337786\n",
        "]\n",
        "\n",
        "# Creating trace for Cluster 04\n",
        "trace1 = go.Scatter(\n",
        "    x=rounds_1,\n",
        "    y=mae_1,\n",
        "    mode='lines',\n",
        "    name='Cluster 04'\n",
        ")\n",
        "\n",
        "# Creating trace for Cluster 14\n",
        "trace2 = go.Scatter(\n",
        "    x=rounds_2,\n",
        "    y=mae_2,\n",
        "    mode='lines',\n",
        "    name='Cluster 14'\n",
        ")\n",
        "\n",
        "# Creating data list\n",
        "data = [trace1, trace2]\n",
        "\n",
        "# Creating layout\n",
        "layout = go.Layout(\n",
        "    title='Mean Absolute Error (MAE) of Load Forecasting vs. Federated Rounds',\n",
        "    xaxis=dict(title='Federated Rounds'),\n",
        "    yaxis=dict(title='Training data - MAE')\n",
        ")\n",
        "\n",
        "# Creating figure\n",
        "fig = go.Figure(data=data, layout=layout)\n",
        "\n",
        "# Displaying the graph\n",
        "fig.show()\n"
      ]
    },
    {
      "cell_type": "code",
      "execution_count": null,
      "metadata": {
        "colab": {
          "base_uri": "https://localhost:8080/",
          "height": 542
        },
        "id": "Dtr5P3cMcF5v",
        "outputId": "2635d805-28fe-4e82-865f-37a0cfab54ac"
      },
      "outputs": [
        {
          "data": {
            "text/html": [
              "<html>\n",
              "<head><meta charset=\"utf-8\" /></head>\n",
              "<body>\n",
              "    <div>            <script src=\"https://cdnjs.cloudflare.com/ajax/libs/mathjax/2.7.5/MathJax.js?config=TeX-AMS-MML_SVG\"></script><script type=\"text/javascript\">if (window.MathJax && window.MathJax.Hub && window.MathJax.Hub.Config) {window.MathJax.Hub.Config({SVG: {font: \"STIX-Web\"}});}</script>                <script type=\"text/javascript\">window.PlotlyConfig = {MathJaxConfig: 'local'};</script>\n",
              "        <script src=\"https://cdn.plot.ly/plotly-2.18.2.min.js\"></script>                <div id=\"35c40683-3455-4715-b87d-618a31a675cd\" class=\"plotly-graph-div\" style=\"height:525px; width:100%;\"></div>            <script type=\"text/javascript\">                                    window.PLOTLYENV=window.PLOTLYENV || {};                                    if (document.getElementById(\"35c40683-3455-4715-b87d-618a31a675cd\")) {                    Plotly.newPlot(                        \"35c40683-3455-4715-b87d-618a31a675cd\",                        [{\"mode\":\"lines\",\"name\":\"Cluster 07\",\"x\":[1,2,3,4,5,6,7,8,9,10,11,12,13,14,15,16,17,18,19,20],\"y\":[0.24215707,0.22306563,0.21767606,0.21497612,0.21307865,0.21194346,0.21102037,0.2100187,0.20892245,0.2077742,0.20704211,0.20606637,0.20509331,0.20452215,0.20378909,0.20307666,0.2025013,0.20195374,0.20134038,0.20096558],\"type\":\"scatter\"},{\"mode\":\"lines\",\"name\":\"Cluster 18\",\"x\":[1,2,3,4,5,6,7,8,9,10,11,12,13,14,15,16,17,18,19,20],\"y\":[0.25958988,0.2282181,0.21869427,0.21352097,0.21052141,0.20815776,0.20585926,0.2046754,0.20356816,0.20232281,0.20153011,0.2007333,0.20026353,0.19920154,0.19846562,0.19802547,0.19739366,0.19712806,0.19636787,0.19576551],\"type\":\"scatter\"}],                        {\"title\":{\"text\":\"Mean Absolute Error (MAE) of Load Forecasting vs. Federated Rounds\"},\"xaxis\":{\"title\":{\"text\":\"Federated Rounds\"}},\"yaxis\":{\"title\":{\"text\":\"Training data - MAE\"}},\"template\":{\"data\":{\"histogram2dcontour\":[{\"type\":\"histogram2dcontour\",\"colorbar\":{\"outlinewidth\":0,\"ticks\":\"\"},\"colorscale\":[[0.0,\"#0d0887\"],[0.1111111111111111,\"#46039f\"],[0.2222222222222222,\"#7201a8\"],[0.3333333333333333,\"#9c179e\"],[0.4444444444444444,\"#bd3786\"],[0.5555555555555556,\"#d8576b\"],[0.6666666666666666,\"#ed7953\"],[0.7777777777777778,\"#fb9f3a\"],[0.8888888888888888,\"#fdca26\"],[1.0,\"#f0f921\"]]}],\"choropleth\":[{\"type\":\"choropleth\",\"colorbar\":{\"outlinewidth\":0,\"ticks\":\"\"}}],\"histogram2d\":[{\"type\":\"histogram2d\",\"colorbar\":{\"outlinewidth\":0,\"ticks\":\"\"},\"colorscale\":[[0.0,\"#0d0887\"],[0.1111111111111111,\"#46039f\"],[0.2222222222222222,\"#7201a8\"],[0.3333333333333333,\"#9c179e\"],[0.4444444444444444,\"#bd3786\"],[0.5555555555555556,\"#d8576b\"],[0.6666666666666666,\"#ed7953\"],[0.7777777777777778,\"#fb9f3a\"],[0.8888888888888888,\"#fdca26\"],[1.0,\"#f0f921\"]]}],\"heatmap\":[{\"type\":\"heatmap\",\"colorbar\":{\"outlinewidth\":0,\"ticks\":\"\"},\"colorscale\":[[0.0,\"#0d0887\"],[0.1111111111111111,\"#46039f\"],[0.2222222222222222,\"#7201a8\"],[0.3333333333333333,\"#9c179e\"],[0.4444444444444444,\"#bd3786\"],[0.5555555555555556,\"#d8576b\"],[0.6666666666666666,\"#ed7953\"],[0.7777777777777778,\"#fb9f3a\"],[0.8888888888888888,\"#fdca26\"],[1.0,\"#f0f921\"]]}],\"heatmapgl\":[{\"type\":\"heatmapgl\",\"colorbar\":{\"outlinewidth\":0,\"ticks\":\"\"},\"colorscale\":[[0.0,\"#0d0887\"],[0.1111111111111111,\"#46039f\"],[0.2222222222222222,\"#7201a8\"],[0.3333333333333333,\"#9c179e\"],[0.4444444444444444,\"#bd3786\"],[0.5555555555555556,\"#d8576b\"],[0.6666666666666666,\"#ed7953\"],[0.7777777777777778,\"#fb9f3a\"],[0.8888888888888888,\"#fdca26\"],[1.0,\"#f0f921\"]]}],\"contourcarpet\":[{\"type\":\"contourcarpet\",\"colorbar\":{\"outlinewidth\":0,\"ticks\":\"\"}}],\"contour\":[{\"type\":\"contour\",\"colorbar\":{\"outlinewidth\":0,\"ticks\":\"\"},\"colorscale\":[[0.0,\"#0d0887\"],[0.1111111111111111,\"#46039f\"],[0.2222222222222222,\"#7201a8\"],[0.3333333333333333,\"#9c179e\"],[0.4444444444444444,\"#bd3786\"],[0.5555555555555556,\"#d8576b\"],[0.6666666666666666,\"#ed7953\"],[0.7777777777777778,\"#fb9f3a\"],[0.8888888888888888,\"#fdca26\"],[1.0,\"#f0f921\"]]}],\"surface\":[{\"type\":\"surface\",\"colorbar\":{\"outlinewidth\":0,\"ticks\":\"\"},\"colorscale\":[[0.0,\"#0d0887\"],[0.1111111111111111,\"#46039f\"],[0.2222222222222222,\"#7201a8\"],[0.3333333333333333,\"#9c179e\"],[0.4444444444444444,\"#bd3786\"],[0.5555555555555556,\"#d8576b\"],[0.6666666666666666,\"#ed7953\"],[0.7777777777777778,\"#fb9f3a\"],[0.8888888888888888,\"#fdca26\"],[1.0,\"#f0f921\"]]}],\"mesh3d\":[{\"type\":\"mesh3d\",\"colorbar\":{\"outlinewidth\":0,\"ticks\":\"\"}}],\"scatter\":[{\"fillpattern\":{\"fillmode\":\"overlay\",\"size\":10,\"solidity\":0.2},\"type\":\"scatter\"}],\"parcoords\":[{\"type\":\"parcoords\",\"line\":{\"colorbar\":{\"outlinewidth\":0,\"ticks\":\"\"}}}],\"scatterpolargl\":[{\"type\":\"scatterpolargl\",\"marker\":{\"colorbar\":{\"outlinewidth\":0,\"ticks\":\"\"}}}],\"bar\":[{\"error_x\":{\"color\":\"#2a3f5f\"},\"error_y\":{\"color\":\"#2a3f5f\"},\"marker\":{\"line\":{\"color\":\"#E5ECF6\",\"width\":0.5},\"pattern\":{\"fillmode\":\"overlay\",\"size\":10,\"solidity\":0.2}},\"type\":\"bar\"}],\"scattergeo\":[{\"type\":\"scattergeo\",\"marker\":{\"colorbar\":{\"outlinewidth\":0,\"ticks\":\"\"}}}],\"scatterpolar\":[{\"type\":\"scatterpolar\",\"marker\":{\"colorbar\":{\"outlinewidth\":0,\"ticks\":\"\"}}}],\"histogram\":[{\"marker\":{\"pattern\":{\"fillmode\":\"overlay\",\"size\":10,\"solidity\":0.2}},\"type\":\"histogram\"}],\"scattergl\":[{\"type\":\"scattergl\",\"marker\":{\"colorbar\":{\"outlinewidth\":0,\"ticks\":\"\"}}}],\"scatter3d\":[{\"type\":\"scatter3d\",\"line\":{\"colorbar\":{\"outlinewidth\":0,\"ticks\":\"\"}},\"marker\":{\"colorbar\":{\"outlinewidth\":0,\"ticks\":\"\"}}}],\"scattermapbox\":[{\"type\":\"scattermapbox\",\"marker\":{\"colorbar\":{\"outlinewidth\":0,\"ticks\":\"\"}}}],\"scatterternary\":[{\"type\":\"scatterternary\",\"marker\":{\"colorbar\":{\"outlinewidth\":0,\"ticks\":\"\"}}}],\"scattercarpet\":[{\"type\":\"scattercarpet\",\"marker\":{\"colorbar\":{\"outlinewidth\":0,\"ticks\":\"\"}}}],\"carpet\":[{\"aaxis\":{\"endlinecolor\":\"#2a3f5f\",\"gridcolor\":\"white\",\"linecolor\":\"white\",\"minorgridcolor\":\"white\",\"startlinecolor\":\"#2a3f5f\"},\"baxis\":{\"endlinecolor\":\"#2a3f5f\",\"gridcolor\":\"white\",\"linecolor\":\"white\",\"minorgridcolor\":\"white\",\"startlinecolor\":\"#2a3f5f\"},\"type\":\"carpet\"}],\"table\":[{\"cells\":{\"fill\":{\"color\":\"#EBF0F8\"},\"line\":{\"color\":\"white\"}},\"header\":{\"fill\":{\"color\":\"#C8D4E3\"},\"line\":{\"color\":\"white\"}},\"type\":\"table\"}],\"barpolar\":[{\"marker\":{\"line\":{\"color\":\"#E5ECF6\",\"width\":0.5},\"pattern\":{\"fillmode\":\"overlay\",\"size\":10,\"solidity\":0.2}},\"type\":\"barpolar\"}],\"pie\":[{\"automargin\":true,\"type\":\"pie\"}]},\"layout\":{\"autotypenumbers\":\"strict\",\"colorway\":[\"#636efa\",\"#EF553B\",\"#00cc96\",\"#ab63fa\",\"#FFA15A\",\"#19d3f3\",\"#FF6692\",\"#B6E880\",\"#FF97FF\",\"#FECB52\"],\"font\":{\"color\":\"#2a3f5f\"},\"hovermode\":\"closest\",\"hoverlabel\":{\"align\":\"left\"},\"paper_bgcolor\":\"white\",\"plot_bgcolor\":\"#E5ECF6\",\"polar\":{\"bgcolor\":\"#E5ECF6\",\"angularaxis\":{\"gridcolor\":\"white\",\"linecolor\":\"white\",\"ticks\":\"\"},\"radialaxis\":{\"gridcolor\":\"white\",\"linecolor\":\"white\",\"ticks\":\"\"}},\"ternary\":{\"bgcolor\":\"#E5ECF6\",\"aaxis\":{\"gridcolor\":\"white\",\"linecolor\":\"white\",\"ticks\":\"\"},\"baxis\":{\"gridcolor\":\"white\",\"linecolor\":\"white\",\"ticks\":\"\"},\"caxis\":{\"gridcolor\":\"white\",\"linecolor\":\"white\",\"ticks\":\"\"}},\"coloraxis\":{\"colorbar\":{\"outlinewidth\":0,\"ticks\":\"\"}},\"colorscale\":{\"sequential\":[[0.0,\"#0d0887\"],[0.1111111111111111,\"#46039f\"],[0.2222222222222222,\"#7201a8\"],[0.3333333333333333,\"#9c179e\"],[0.4444444444444444,\"#bd3786\"],[0.5555555555555556,\"#d8576b\"],[0.6666666666666666,\"#ed7953\"],[0.7777777777777778,\"#fb9f3a\"],[0.8888888888888888,\"#fdca26\"],[1.0,\"#f0f921\"]],\"sequentialminus\":[[0.0,\"#0d0887\"],[0.1111111111111111,\"#46039f\"],[0.2222222222222222,\"#7201a8\"],[0.3333333333333333,\"#9c179e\"],[0.4444444444444444,\"#bd3786\"],[0.5555555555555556,\"#d8576b\"],[0.6666666666666666,\"#ed7953\"],[0.7777777777777778,\"#fb9f3a\"],[0.8888888888888888,\"#fdca26\"],[1.0,\"#f0f921\"]],\"diverging\":[[0,\"#8e0152\"],[0.1,\"#c51b7d\"],[0.2,\"#de77ae\"],[0.3,\"#f1b6da\"],[0.4,\"#fde0ef\"],[0.5,\"#f7f7f7\"],[0.6,\"#e6f5d0\"],[0.7,\"#b8e186\"],[0.8,\"#7fbc41\"],[0.9,\"#4d9221\"],[1,\"#276419\"]]},\"xaxis\":{\"gridcolor\":\"white\",\"linecolor\":\"white\",\"ticks\":\"\",\"title\":{\"standoff\":15},\"zerolinecolor\":\"white\",\"automargin\":true,\"zerolinewidth\":2},\"yaxis\":{\"gridcolor\":\"white\",\"linecolor\":\"white\",\"ticks\":\"\",\"title\":{\"standoff\":15},\"zerolinecolor\":\"white\",\"automargin\":true,\"zerolinewidth\":2},\"scene\":{\"xaxis\":{\"backgroundcolor\":\"#E5ECF6\",\"gridcolor\":\"white\",\"linecolor\":\"white\",\"showbackground\":true,\"ticks\":\"\",\"zerolinecolor\":\"white\",\"gridwidth\":2},\"yaxis\":{\"backgroundcolor\":\"#E5ECF6\",\"gridcolor\":\"white\",\"linecolor\":\"white\",\"showbackground\":true,\"ticks\":\"\",\"zerolinecolor\":\"white\",\"gridwidth\":2},\"zaxis\":{\"backgroundcolor\":\"#E5ECF6\",\"gridcolor\":\"white\",\"linecolor\":\"white\",\"showbackground\":true,\"ticks\":\"\",\"zerolinecolor\":\"white\",\"gridwidth\":2}},\"shapedefaults\":{\"line\":{\"color\":\"#2a3f5f\"}},\"annotationdefaults\":{\"arrowcolor\":\"#2a3f5f\",\"arrowhead\":0,\"arrowwidth\":1},\"geo\":{\"bgcolor\":\"white\",\"landcolor\":\"#E5ECF6\",\"subunitcolor\":\"white\",\"showland\":true,\"showlakes\":true,\"lakecolor\":\"white\"},\"title\":{\"x\":0.05},\"mapbox\":{\"style\":\"light\"}}}},                        {\"responsive\": true}                    ).then(function(){\n",
              "                            \n",
              "var gd = document.getElementById('35c40683-3455-4715-b87d-618a31a675cd');\n",
              "var x = new MutationObserver(function (mutations, observer) {{\n",
              "        var display = window.getComputedStyle(gd).display;\n",
              "        if (!display || display === 'none') {{\n",
              "            console.log([gd, 'removed!']);\n",
              "            Plotly.purge(gd);\n",
              "            observer.disconnect();\n",
              "        }}\n",
              "}});\n",
              "\n",
              "// Listen for the removal of the full notebook cells\n",
              "var notebookContainer = gd.closest('#notebook-container');\n",
              "if (notebookContainer) {{\n",
              "    x.observe(notebookContainer, {childList: true});\n",
              "}}\n",
              "\n",
              "// Listen for the clearing of the current output cell\n",
              "var outputEl = gd.closest('.output');\n",
              "if (outputEl) {{\n",
              "    x.observe(outputEl, {childList: true});\n",
              "}}\n",
              "\n",
              "                        })                };                            </script>        </div>\n",
              "</body>\n",
              "</html>"
            ]
          },
          "metadata": {},
          "output_type": "display_data"
        }
      ],
      "source": [
        "import plotly.graph_objects as go\n",
        "\n",
        "# Data for Cluster 07\n",
        "rounds_1 = list(range(1, 21))\n",
        "mae_1 = [\n",
        "    0.24215707, 0.22306563, 0.21767606, 0.21497612, 0.21307865,\n",
        "    0.21194346, 0.21102037, 0.2100187, 0.20892245, 0.2077742,\n",
        "    0.20704211, 0.20606637, 0.20509331, 0.20452215, 0.20378909,\n",
        "    0.20307666, 0.2025013, 0.20195374, 0.20134038, 0.20096558\n",
        "]\n",
        "\n",
        "# Data for Cluster 18\n",
        "rounds_2 = list(range(1, 21))\n",
        "mae_2 = [\n",
        "    0.25958988, 0.2282181, 0.21869427, 0.21352097, 0.21052141,\n",
        "    0.20815776, 0.20585926, 0.2046754, 0.20356816, 0.20232281,\n",
        "    0.20153011, 0.2007333, 0.20026353, 0.19920154, 0.19846562,\n",
        "    0.19802547, 0.19739366, 0.19712806, 0.19636787, 0.19576551\n",
        "]\n",
        "\n",
        "# Creating trace for Cluster 07\n",
        "trace1 = go.Scatter(\n",
        "    x=rounds_1,\n",
        "    y=mae_1,\n",
        "    mode='lines',\n",
        "    name='Cluster 07'\n",
        ")\n",
        "\n",
        "# Creating trace for Cluster 18\n",
        "trace2 = go.Scatter(\n",
        "    x=rounds_2,\n",
        "    y=mae_2,\n",
        "    mode='lines',\n",
        "    name='Cluster 18'\n",
        ")\n",
        "\n",
        "# Creating data list\n",
        "data = [trace1, trace2]\n",
        "\n",
        "# Creating layout\n",
        "layout = go.Layout(\n",
        "    title='Mean Absolute Error (MAE) of Load Forecasting vs. Federated Rounds',\n",
        "    xaxis=dict(title='Federated Rounds'),\n",
        "    yaxis=dict(title='Training data - MAE')\n",
        ")\n",
        "\n",
        "# Creating figure\n",
        "fig = go.Figure(data=data, layout=layout)\n",
        "\n",
        "# Displaying the graph\n",
        "fig.show()\n"
      ]
    },
    {
      "cell_type": "code",
      "execution_count": null,
      "metadata": {
        "colab": {
          "base_uri": "https://localhost:8080/",
          "height": 542
        },
        "id": "FdKI0qCEWnw4",
        "outputId": "e9528360-c355-4234-c794-9c9ac3154c2c"
      },
      "outputs": [
        {
          "data": {
            "text/html": [
              "<html>\n",
              "<head><meta charset=\"utf-8\" /></head>\n",
              "<body>\n",
              "    <div>            <script src=\"https://cdnjs.cloudflare.com/ajax/libs/mathjax/2.7.5/MathJax.js?config=TeX-AMS-MML_SVG\"></script><script type=\"text/javascript\">if (window.MathJax && window.MathJax.Hub && window.MathJax.Hub.Config) {window.MathJax.Hub.Config({SVG: {font: \"STIX-Web\"}});}</script>                <script type=\"text/javascript\">window.PlotlyConfig = {MathJaxConfig: 'local'};</script>\n",
              "        <script src=\"https://cdn.plot.ly/plotly-2.18.2.min.js\"></script>                <div id=\"d7827a50-3372-4eeb-a7d7-80e71f6394ea\" class=\"plotly-graph-div\" style=\"height:525px; width:100%;\"></div>            <script type=\"text/javascript\">                                    window.PLOTLYENV=window.PLOTLYENV || {};                                    if (document.getElementById(\"d7827a50-3372-4eeb-a7d7-80e71f6394ea\")) {                    Plotly.newPlot(                        \"d7827a50-3372-4eeb-a7d7-80e71f6394ea\",                        [{\"mode\":\"lines\",\"name\":\"Batch Size = 24, Shuffle Buffer = 120, Prefetch Buffer = 12\",\"x\":[1,2,3,4,5,6,7,8,9,10,11,12,13,14,15],\"y\":[0.07406851,0.06911341,0.06588133,0.06381104,0.062328234,0.061173238,0.060279164,0.059583493,0.059030402,0.058575064,0.05819059,0.05786198,0.05756866,0.05733508,0.057126228],\"type\":\"scatter\"},{\"mode\":\"lines\",\"name\":\"Batch Size = 12, Shuffle Buffer = 60, Prefetch Buffer = 6\",\"x\":[1,2,3,4,5,6,7,8,9,10,11,12,13,14,15],\"y\":[0.070309095,0.06450078,0.061607864,0.060092628,0.059076704,0.05836942,0.057809025,0.057371534,0.05702302,0.056733135,0.056459244,0.056229576,0.056033693,0.055863913,0.055711426],\"type\":\"scatter\"}],                        {\"title\":{\"text\":\"Mean Absolute Error (MAE) vs. Federated Rounds with Learning Rate - 0.02\"},\"xaxis\":{\"title\":{\"text\":\"Federated Rounds\"}},\"yaxis\":{\"title\":{\"text\":\"MAE\"}},\"template\":{\"data\":{\"histogram2dcontour\":[{\"type\":\"histogram2dcontour\",\"colorbar\":{\"outlinewidth\":0,\"ticks\":\"\"},\"colorscale\":[[0.0,\"#0d0887\"],[0.1111111111111111,\"#46039f\"],[0.2222222222222222,\"#7201a8\"],[0.3333333333333333,\"#9c179e\"],[0.4444444444444444,\"#bd3786\"],[0.5555555555555556,\"#d8576b\"],[0.6666666666666666,\"#ed7953\"],[0.7777777777777778,\"#fb9f3a\"],[0.8888888888888888,\"#fdca26\"],[1.0,\"#f0f921\"]]}],\"choropleth\":[{\"type\":\"choropleth\",\"colorbar\":{\"outlinewidth\":0,\"ticks\":\"\"}}],\"histogram2d\":[{\"type\":\"histogram2d\",\"colorbar\":{\"outlinewidth\":0,\"ticks\":\"\"},\"colorscale\":[[0.0,\"#0d0887\"],[0.1111111111111111,\"#46039f\"],[0.2222222222222222,\"#7201a8\"],[0.3333333333333333,\"#9c179e\"],[0.4444444444444444,\"#bd3786\"],[0.5555555555555556,\"#d8576b\"],[0.6666666666666666,\"#ed7953\"],[0.7777777777777778,\"#fb9f3a\"],[0.8888888888888888,\"#fdca26\"],[1.0,\"#f0f921\"]]}],\"heatmap\":[{\"type\":\"heatmap\",\"colorbar\":{\"outlinewidth\":0,\"ticks\":\"\"},\"colorscale\":[[0.0,\"#0d0887\"],[0.1111111111111111,\"#46039f\"],[0.2222222222222222,\"#7201a8\"],[0.3333333333333333,\"#9c179e\"],[0.4444444444444444,\"#bd3786\"],[0.5555555555555556,\"#d8576b\"],[0.6666666666666666,\"#ed7953\"],[0.7777777777777778,\"#fb9f3a\"],[0.8888888888888888,\"#fdca26\"],[1.0,\"#f0f921\"]]}],\"heatmapgl\":[{\"type\":\"heatmapgl\",\"colorbar\":{\"outlinewidth\":0,\"ticks\":\"\"},\"colorscale\":[[0.0,\"#0d0887\"],[0.1111111111111111,\"#46039f\"],[0.2222222222222222,\"#7201a8\"],[0.3333333333333333,\"#9c179e\"],[0.4444444444444444,\"#bd3786\"],[0.5555555555555556,\"#d8576b\"],[0.6666666666666666,\"#ed7953\"],[0.7777777777777778,\"#fb9f3a\"],[0.8888888888888888,\"#fdca26\"],[1.0,\"#f0f921\"]]}],\"contourcarpet\":[{\"type\":\"contourcarpet\",\"colorbar\":{\"outlinewidth\":0,\"ticks\":\"\"}}],\"contour\":[{\"type\":\"contour\",\"colorbar\":{\"outlinewidth\":0,\"ticks\":\"\"},\"colorscale\":[[0.0,\"#0d0887\"],[0.1111111111111111,\"#46039f\"],[0.2222222222222222,\"#7201a8\"],[0.3333333333333333,\"#9c179e\"],[0.4444444444444444,\"#bd3786\"],[0.5555555555555556,\"#d8576b\"],[0.6666666666666666,\"#ed7953\"],[0.7777777777777778,\"#fb9f3a\"],[0.8888888888888888,\"#fdca26\"],[1.0,\"#f0f921\"]]}],\"surface\":[{\"type\":\"surface\",\"colorbar\":{\"outlinewidth\":0,\"ticks\":\"\"},\"colorscale\":[[0.0,\"#0d0887\"],[0.1111111111111111,\"#46039f\"],[0.2222222222222222,\"#7201a8\"],[0.3333333333333333,\"#9c179e\"],[0.4444444444444444,\"#bd3786\"],[0.5555555555555556,\"#d8576b\"],[0.6666666666666666,\"#ed7953\"],[0.7777777777777778,\"#fb9f3a\"],[0.8888888888888888,\"#fdca26\"],[1.0,\"#f0f921\"]]}],\"mesh3d\":[{\"type\":\"mesh3d\",\"colorbar\":{\"outlinewidth\":0,\"ticks\":\"\"}}],\"scatter\":[{\"fillpattern\":{\"fillmode\":\"overlay\",\"size\":10,\"solidity\":0.2},\"type\":\"scatter\"}],\"parcoords\":[{\"type\":\"parcoords\",\"line\":{\"colorbar\":{\"outlinewidth\":0,\"ticks\":\"\"}}}],\"scatterpolargl\":[{\"type\":\"scatterpolargl\",\"marker\":{\"colorbar\":{\"outlinewidth\":0,\"ticks\":\"\"}}}],\"bar\":[{\"error_x\":{\"color\":\"#2a3f5f\"},\"error_y\":{\"color\":\"#2a3f5f\"},\"marker\":{\"line\":{\"color\":\"#E5ECF6\",\"width\":0.5},\"pattern\":{\"fillmode\":\"overlay\",\"size\":10,\"solidity\":0.2}},\"type\":\"bar\"}],\"scattergeo\":[{\"type\":\"scattergeo\",\"marker\":{\"colorbar\":{\"outlinewidth\":0,\"ticks\":\"\"}}}],\"scatterpolar\":[{\"type\":\"scatterpolar\",\"marker\":{\"colorbar\":{\"outlinewidth\":0,\"ticks\":\"\"}}}],\"histogram\":[{\"marker\":{\"pattern\":{\"fillmode\":\"overlay\",\"size\":10,\"solidity\":0.2}},\"type\":\"histogram\"}],\"scattergl\":[{\"type\":\"scattergl\",\"marker\":{\"colorbar\":{\"outlinewidth\":0,\"ticks\":\"\"}}}],\"scatter3d\":[{\"type\":\"scatter3d\",\"line\":{\"colorbar\":{\"outlinewidth\":0,\"ticks\":\"\"}},\"marker\":{\"colorbar\":{\"outlinewidth\":0,\"ticks\":\"\"}}}],\"scattermapbox\":[{\"type\":\"scattermapbox\",\"marker\":{\"colorbar\":{\"outlinewidth\":0,\"ticks\":\"\"}}}],\"scatterternary\":[{\"type\":\"scatterternary\",\"marker\":{\"colorbar\":{\"outlinewidth\":0,\"ticks\":\"\"}}}],\"scattercarpet\":[{\"type\":\"scattercarpet\",\"marker\":{\"colorbar\":{\"outlinewidth\":0,\"ticks\":\"\"}}}],\"carpet\":[{\"aaxis\":{\"endlinecolor\":\"#2a3f5f\",\"gridcolor\":\"white\",\"linecolor\":\"white\",\"minorgridcolor\":\"white\",\"startlinecolor\":\"#2a3f5f\"},\"baxis\":{\"endlinecolor\":\"#2a3f5f\",\"gridcolor\":\"white\",\"linecolor\":\"white\",\"minorgridcolor\":\"white\",\"startlinecolor\":\"#2a3f5f\"},\"type\":\"carpet\"}],\"table\":[{\"cells\":{\"fill\":{\"color\":\"#EBF0F8\"},\"line\":{\"color\":\"white\"}},\"header\":{\"fill\":{\"color\":\"#C8D4E3\"},\"line\":{\"color\":\"white\"}},\"type\":\"table\"}],\"barpolar\":[{\"marker\":{\"line\":{\"color\":\"#E5ECF6\",\"width\":0.5},\"pattern\":{\"fillmode\":\"overlay\",\"size\":10,\"solidity\":0.2}},\"type\":\"barpolar\"}],\"pie\":[{\"automargin\":true,\"type\":\"pie\"}]},\"layout\":{\"autotypenumbers\":\"strict\",\"colorway\":[\"#636efa\",\"#EF553B\",\"#00cc96\",\"#ab63fa\",\"#FFA15A\",\"#19d3f3\",\"#FF6692\",\"#B6E880\",\"#FF97FF\",\"#FECB52\"],\"font\":{\"color\":\"#2a3f5f\"},\"hovermode\":\"closest\",\"hoverlabel\":{\"align\":\"left\"},\"paper_bgcolor\":\"white\",\"plot_bgcolor\":\"#E5ECF6\",\"polar\":{\"bgcolor\":\"#E5ECF6\",\"angularaxis\":{\"gridcolor\":\"white\",\"linecolor\":\"white\",\"ticks\":\"\"},\"radialaxis\":{\"gridcolor\":\"white\",\"linecolor\":\"white\",\"ticks\":\"\"}},\"ternary\":{\"bgcolor\":\"#E5ECF6\",\"aaxis\":{\"gridcolor\":\"white\",\"linecolor\":\"white\",\"ticks\":\"\"},\"baxis\":{\"gridcolor\":\"white\",\"linecolor\":\"white\",\"ticks\":\"\"},\"caxis\":{\"gridcolor\":\"white\",\"linecolor\":\"white\",\"ticks\":\"\"}},\"coloraxis\":{\"colorbar\":{\"outlinewidth\":0,\"ticks\":\"\"}},\"colorscale\":{\"sequential\":[[0.0,\"#0d0887\"],[0.1111111111111111,\"#46039f\"],[0.2222222222222222,\"#7201a8\"],[0.3333333333333333,\"#9c179e\"],[0.4444444444444444,\"#bd3786\"],[0.5555555555555556,\"#d8576b\"],[0.6666666666666666,\"#ed7953\"],[0.7777777777777778,\"#fb9f3a\"],[0.8888888888888888,\"#fdca26\"],[1.0,\"#f0f921\"]],\"sequentialminus\":[[0.0,\"#0d0887\"],[0.1111111111111111,\"#46039f\"],[0.2222222222222222,\"#7201a8\"],[0.3333333333333333,\"#9c179e\"],[0.4444444444444444,\"#bd3786\"],[0.5555555555555556,\"#d8576b\"],[0.6666666666666666,\"#ed7953\"],[0.7777777777777778,\"#fb9f3a\"],[0.8888888888888888,\"#fdca26\"],[1.0,\"#f0f921\"]],\"diverging\":[[0,\"#8e0152\"],[0.1,\"#c51b7d\"],[0.2,\"#de77ae\"],[0.3,\"#f1b6da\"],[0.4,\"#fde0ef\"],[0.5,\"#f7f7f7\"],[0.6,\"#e6f5d0\"],[0.7,\"#b8e186\"],[0.8,\"#7fbc41\"],[0.9,\"#4d9221\"],[1,\"#276419\"]]},\"xaxis\":{\"gridcolor\":\"white\",\"linecolor\":\"white\",\"ticks\":\"\",\"title\":{\"standoff\":15},\"zerolinecolor\":\"white\",\"automargin\":true,\"zerolinewidth\":2},\"yaxis\":{\"gridcolor\":\"white\",\"linecolor\":\"white\",\"ticks\":\"\",\"title\":{\"standoff\":15},\"zerolinecolor\":\"white\",\"automargin\":true,\"zerolinewidth\":2},\"scene\":{\"xaxis\":{\"backgroundcolor\":\"#E5ECF6\",\"gridcolor\":\"white\",\"linecolor\":\"white\",\"showbackground\":true,\"ticks\":\"\",\"zerolinecolor\":\"white\",\"gridwidth\":2},\"yaxis\":{\"backgroundcolor\":\"#E5ECF6\",\"gridcolor\":\"white\",\"linecolor\":\"white\",\"showbackground\":true,\"ticks\":\"\",\"zerolinecolor\":\"white\",\"gridwidth\":2},\"zaxis\":{\"backgroundcolor\":\"#E5ECF6\",\"gridcolor\":\"white\",\"linecolor\":\"white\",\"showbackground\":true,\"ticks\":\"\",\"zerolinecolor\":\"white\",\"gridwidth\":2}},\"shapedefaults\":{\"line\":{\"color\":\"#2a3f5f\"}},\"annotationdefaults\":{\"arrowcolor\":\"#2a3f5f\",\"arrowhead\":0,\"arrowwidth\":1},\"geo\":{\"bgcolor\":\"white\",\"landcolor\":\"#E5ECF6\",\"subunitcolor\":\"white\",\"showland\":true,\"showlakes\":true,\"lakecolor\":\"white\"},\"title\":{\"x\":0.05},\"mapbox\":{\"style\":\"light\"}}}},                        {\"responsive\": true}                    ).then(function(){\n",
              "                            \n",
              "var gd = document.getElementById('d7827a50-3372-4eeb-a7d7-80e71f6394ea');\n",
              "var x = new MutationObserver(function (mutations, observer) {{\n",
              "        var display = window.getComputedStyle(gd).display;\n",
              "        if (!display || display === 'none') {{\n",
              "            console.log([gd, 'removed!']);\n",
              "            Plotly.purge(gd);\n",
              "            observer.disconnect();\n",
              "        }}\n",
              "}});\n",
              "\n",
              "// Listen for the removal of the full notebook cells\n",
              "var notebookContainer = gd.closest('#notebook-container');\n",
              "if (notebookContainer) {{\n",
              "    x.observe(notebookContainer, {childList: true});\n",
              "}}\n",
              "\n",
              "// Listen for the clearing of the current output cell\n",
              "var outputEl = gd.closest('.output');\n",
              "if (outputEl) {{\n",
              "    x.observe(outputEl, {childList: true});\n",
              "}}\n",
              "\n",
              "                        })                };                            </script>        </div>\n",
              "</body>\n",
              "</html>"
            ]
          },
          "metadata": {},
          "output_type": "display_data"
        }
      ],
      "source": [
        "import plotly.graph_objects as go\n",
        "\n",
        "# Data for Cluster - 08, Batch Size = 24, Shuffle Buffer = 120, Prefetch Buffer = 12\n",
        "rounds_1 = list(range(1, 16))\n",
        "mae_1 = [\n",
        "    0.07406851, 0.06911341, 0.06588133, 0.06381104, 0.062328234,\n",
        "    0.061173238, 0.060279164, 0.059583493, 0.059030402, 0.058575064,\n",
        "    0.05819059, 0.05786198, 0.05756866, 0.05733508, 0.057126228\n",
        "]\n",
        "\n",
        "# Data for Cluster - 08, Batch Size = 12, Shuffle Buffer = 60, Prefetch Buffer = 6\n",
        "rounds_2 = list(range(1, 16))\n",
        "mae_2 = [\n",
        "    0.070309095, 0.06450078, 0.061607864, 0.060092628, 0.059076704,\n",
        "    0.05836942, 0.057809025, 0.057371534, 0.05702302, 0.056733135,\n",
        "    0.056459244, 0.056229576, 0.056033693, 0.055863913, 0.055711426\n",
        "]\n",
        "\n",
        "# Creating trace for Cluster - 08, Batch Size = 24, Shuffle Buffer = 120, Prefetch Buffer = 12\n",
        "trace1 = go.Scatter(\n",
        "    x=rounds_1,\n",
        "    y=mae_1,\n",
        "    mode='lines',\n",
        "    name='Batch Size = 24, Shuffle Buffer = 120, Prefetch Buffer = 12'\n",
        ")\n",
        "\n",
        "# Creating trace for Cluster - 08, Batch Size = 12, Shuffle Buffer = 60, Prefetch Buffer = 6\n",
        "trace2 = go.Scatter(\n",
        "    x=rounds_2,\n",
        "    y=mae_2,\n",
        "    mode='lines',\n",
        "    name='Batch Size = 12, Shuffle Buffer = 60, Prefetch Buffer = 6'\n",
        ")\n",
        "\n",
        "# Creating data list\n",
        "data = [trace1, trace2]\n",
        "\n",
        "# Creating layout\n",
        "layout = go.Layout(\n",
        "    title='Mean Absolute Error (MAE) vs. Federated Rounds with Learning Rate - 0.02',\n",
        "    xaxis=dict(title='Federated Rounds'),\n",
        "    yaxis=dict(title='MAE')\n",
        ")\n",
        "\n",
        "# Creating figure\n",
        "fig = go.Figure(data=data, layout=layout)\n",
        "\n",
        "# Displaying the graph\n",
        "fig.show()\n"
      ]
    },
    {
      "cell_type": "code",
      "execution_count": null,
      "metadata": {
        "colab": {
          "base_uri": "https://localhost:8080/",
          "height": 542
        },
        "id": "U1ehuiYIkiqg",
        "outputId": "05f52bb3-b5b4-447e-c8e8-6173b00c746d"
      },
      "outputs": [
        {
          "data": {
            "text/html": [
              "<html>\n",
              "<head><meta charset=\"utf-8\" /></head>\n",
              "<body>\n",
              "    <div>            <script src=\"https://cdnjs.cloudflare.com/ajax/libs/mathjax/2.7.5/MathJax.js?config=TeX-AMS-MML_SVG\"></script><script type=\"text/javascript\">if (window.MathJax && window.MathJax.Hub && window.MathJax.Hub.Config) {window.MathJax.Hub.Config({SVG: {font: \"STIX-Web\"}});}</script>                <script type=\"text/javascript\">window.PlotlyConfig = {MathJaxConfig: 'local'};</script>\n",
              "        <script src=\"https://cdn.plot.ly/plotly-2.18.2.min.js\"></script>                <div id=\"c946cd74-7f4c-4509-b948-e8b056d2ccdc\" class=\"plotly-graph-div\" style=\"height:525px; width:100%;\"></div>            <script type=\"text/javascript\">                                    window.PLOTLYENV=window.PLOTLYENV || {};                                    if (document.getElementById(\"c946cd74-7f4c-4509-b948-e8b056d2ccdc\")) {                    Plotly.newPlot(                        \"c946cd74-7f4c-4509-b948-e8b056d2ccdc\",                        [{\"mode\":\"lines\",\"name\":\"Learning Rate = 0.02\",\"x\":[1,2,3,4,5,6,7,8,9,10,11,12,13,14,15],\"y\":[0.070309095,0.06450078,0.061607864,0.060092628,0.059076704,0.05836942,0.057809025,0.057371534,0.05702302,0.056733135,0.056459244,0.056229576,0.056033693,0.055863913,0.055711426],\"type\":\"scatter\"},{\"mode\":\"lines\",\"name\":\"Learning Rate = 0.01\",\"x\":[1,2,3,4,5,6,7,8,9,10,11,12,13,14,15],\"y\":[0.06575257,0.059883647,0.05776895,0.056706358,0.056026068,0.055522144,0.05512807,0.05480615,0.054533303,0.05431394,0.054116458,0.053937282,0.053791393,0.05366001,0.05353039],\"type\":\"scatter\"}],                        {\"title\":{\"text\":\"Mean Absolute Error (MAE) vs. Federated Rounds\"},\"xaxis\":{\"title\":{\"text\":\"Federated Rounds\"}},\"yaxis\":{\"title\":{\"text\":\"MAE\"}},\"template\":{\"data\":{\"histogram2dcontour\":[{\"type\":\"histogram2dcontour\",\"colorbar\":{\"outlinewidth\":0,\"ticks\":\"\"},\"colorscale\":[[0.0,\"#0d0887\"],[0.1111111111111111,\"#46039f\"],[0.2222222222222222,\"#7201a8\"],[0.3333333333333333,\"#9c179e\"],[0.4444444444444444,\"#bd3786\"],[0.5555555555555556,\"#d8576b\"],[0.6666666666666666,\"#ed7953\"],[0.7777777777777778,\"#fb9f3a\"],[0.8888888888888888,\"#fdca26\"],[1.0,\"#f0f921\"]]}],\"choropleth\":[{\"type\":\"choropleth\",\"colorbar\":{\"outlinewidth\":0,\"ticks\":\"\"}}],\"histogram2d\":[{\"type\":\"histogram2d\",\"colorbar\":{\"outlinewidth\":0,\"ticks\":\"\"},\"colorscale\":[[0.0,\"#0d0887\"],[0.1111111111111111,\"#46039f\"],[0.2222222222222222,\"#7201a8\"],[0.3333333333333333,\"#9c179e\"],[0.4444444444444444,\"#bd3786\"],[0.5555555555555556,\"#d8576b\"],[0.6666666666666666,\"#ed7953\"],[0.7777777777777778,\"#fb9f3a\"],[0.8888888888888888,\"#fdca26\"],[1.0,\"#f0f921\"]]}],\"heatmap\":[{\"type\":\"heatmap\",\"colorbar\":{\"outlinewidth\":0,\"ticks\":\"\"},\"colorscale\":[[0.0,\"#0d0887\"],[0.1111111111111111,\"#46039f\"],[0.2222222222222222,\"#7201a8\"],[0.3333333333333333,\"#9c179e\"],[0.4444444444444444,\"#bd3786\"],[0.5555555555555556,\"#d8576b\"],[0.6666666666666666,\"#ed7953\"],[0.7777777777777778,\"#fb9f3a\"],[0.8888888888888888,\"#fdca26\"],[1.0,\"#f0f921\"]]}],\"heatmapgl\":[{\"type\":\"heatmapgl\",\"colorbar\":{\"outlinewidth\":0,\"ticks\":\"\"},\"colorscale\":[[0.0,\"#0d0887\"],[0.1111111111111111,\"#46039f\"],[0.2222222222222222,\"#7201a8\"],[0.3333333333333333,\"#9c179e\"],[0.4444444444444444,\"#bd3786\"],[0.5555555555555556,\"#d8576b\"],[0.6666666666666666,\"#ed7953\"],[0.7777777777777778,\"#fb9f3a\"],[0.8888888888888888,\"#fdca26\"],[1.0,\"#f0f921\"]]}],\"contourcarpet\":[{\"type\":\"contourcarpet\",\"colorbar\":{\"outlinewidth\":0,\"ticks\":\"\"}}],\"contour\":[{\"type\":\"contour\",\"colorbar\":{\"outlinewidth\":0,\"ticks\":\"\"},\"colorscale\":[[0.0,\"#0d0887\"],[0.1111111111111111,\"#46039f\"],[0.2222222222222222,\"#7201a8\"],[0.3333333333333333,\"#9c179e\"],[0.4444444444444444,\"#bd3786\"],[0.5555555555555556,\"#d8576b\"],[0.6666666666666666,\"#ed7953\"],[0.7777777777777778,\"#fb9f3a\"],[0.8888888888888888,\"#fdca26\"],[1.0,\"#f0f921\"]]}],\"surface\":[{\"type\":\"surface\",\"colorbar\":{\"outlinewidth\":0,\"ticks\":\"\"},\"colorscale\":[[0.0,\"#0d0887\"],[0.1111111111111111,\"#46039f\"],[0.2222222222222222,\"#7201a8\"],[0.3333333333333333,\"#9c179e\"],[0.4444444444444444,\"#bd3786\"],[0.5555555555555556,\"#d8576b\"],[0.6666666666666666,\"#ed7953\"],[0.7777777777777778,\"#fb9f3a\"],[0.8888888888888888,\"#fdca26\"],[1.0,\"#f0f921\"]]}],\"mesh3d\":[{\"type\":\"mesh3d\",\"colorbar\":{\"outlinewidth\":0,\"ticks\":\"\"}}],\"scatter\":[{\"fillpattern\":{\"fillmode\":\"overlay\",\"size\":10,\"solidity\":0.2},\"type\":\"scatter\"}],\"parcoords\":[{\"type\":\"parcoords\",\"line\":{\"colorbar\":{\"outlinewidth\":0,\"ticks\":\"\"}}}],\"scatterpolargl\":[{\"type\":\"scatterpolargl\",\"marker\":{\"colorbar\":{\"outlinewidth\":0,\"ticks\":\"\"}}}],\"bar\":[{\"error_x\":{\"color\":\"#2a3f5f\"},\"error_y\":{\"color\":\"#2a3f5f\"},\"marker\":{\"line\":{\"color\":\"#E5ECF6\",\"width\":0.5},\"pattern\":{\"fillmode\":\"overlay\",\"size\":10,\"solidity\":0.2}},\"type\":\"bar\"}],\"scattergeo\":[{\"type\":\"scattergeo\",\"marker\":{\"colorbar\":{\"outlinewidth\":0,\"ticks\":\"\"}}}],\"scatterpolar\":[{\"type\":\"scatterpolar\",\"marker\":{\"colorbar\":{\"outlinewidth\":0,\"ticks\":\"\"}}}],\"histogram\":[{\"marker\":{\"pattern\":{\"fillmode\":\"overlay\",\"size\":10,\"solidity\":0.2}},\"type\":\"histogram\"}],\"scattergl\":[{\"type\":\"scattergl\",\"marker\":{\"colorbar\":{\"outlinewidth\":0,\"ticks\":\"\"}}}],\"scatter3d\":[{\"type\":\"scatter3d\",\"line\":{\"colorbar\":{\"outlinewidth\":0,\"ticks\":\"\"}},\"marker\":{\"colorbar\":{\"outlinewidth\":0,\"ticks\":\"\"}}}],\"scattermapbox\":[{\"type\":\"scattermapbox\",\"marker\":{\"colorbar\":{\"outlinewidth\":0,\"ticks\":\"\"}}}],\"scatterternary\":[{\"type\":\"scatterternary\",\"marker\":{\"colorbar\":{\"outlinewidth\":0,\"ticks\":\"\"}}}],\"scattercarpet\":[{\"type\":\"scattercarpet\",\"marker\":{\"colorbar\":{\"outlinewidth\":0,\"ticks\":\"\"}}}],\"carpet\":[{\"aaxis\":{\"endlinecolor\":\"#2a3f5f\",\"gridcolor\":\"white\",\"linecolor\":\"white\",\"minorgridcolor\":\"white\",\"startlinecolor\":\"#2a3f5f\"},\"baxis\":{\"endlinecolor\":\"#2a3f5f\",\"gridcolor\":\"white\",\"linecolor\":\"white\",\"minorgridcolor\":\"white\",\"startlinecolor\":\"#2a3f5f\"},\"type\":\"carpet\"}],\"table\":[{\"cells\":{\"fill\":{\"color\":\"#EBF0F8\"},\"line\":{\"color\":\"white\"}},\"header\":{\"fill\":{\"color\":\"#C8D4E3\"},\"line\":{\"color\":\"white\"}},\"type\":\"table\"}],\"barpolar\":[{\"marker\":{\"line\":{\"color\":\"#E5ECF6\",\"width\":0.5},\"pattern\":{\"fillmode\":\"overlay\",\"size\":10,\"solidity\":0.2}},\"type\":\"barpolar\"}],\"pie\":[{\"automargin\":true,\"type\":\"pie\"}]},\"layout\":{\"autotypenumbers\":\"strict\",\"colorway\":[\"#636efa\",\"#EF553B\",\"#00cc96\",\"#ab63fa\",\"#FFA15A\",\"#19d3f3\",\"#FF6692\",\"#B6E880\",\"#FF97FF\",\"#FECB52\"],\"font\":{\"color\":\"#2a3f5f\"},\"hovermode\":\"closest\",\"hoverlabel\":{\"align\":\"left\"},\"paper_bgcolor\":\"white\",\"plot_bgcolor\":\"#E5ECF6\",\"polar\":{\"bgcolor\":\"#E5ECF6\",\"angularaxis\":{\"gridcolor\":\"white\",\"linecolor\":\"white\",\"ticks\":\"\"},\"radialaxis\":{\"gridcolor\":\"white\",\"linecolor\":\"white\",\"ticks\":\"\"}},\"ternary\":{\"bgcolor\":\"#E5ECF6\",\"aaxis\":{\"gridcolor\":\"white\",\"linecolor\":\"white\",\"ticks\":\"\"},\"baxis\":{\"gridcolor\":\"white\",\"linecolor\":\"white\",\"ticks\":\"\"},\"caxis\":{\"gridcolor\":\"white\",\"linecolor\":\"white\",\"ticks\":\"\"}},\"coloraxis\":{\"colorbar\":{\"outlinewidth\":0,\"ticks\":\"\"}},\"colorscale\":{\"sequential\":[[0.0,\"#0d0887\"],[0.1111111111111111,\"#46039f\"],[0.2222222222222222,\"#7201a8\"],[0.3333333333333333,\"#9c179e\"],[0.4444444444444444,\"#bd3786\"],[0.5555555555555556,\"#d8576b\"],[0.6666666666666666,\"#ed7953\"],[0.7777777777777778,\"#fb9f3a\"],[0.8888888888888888,\"#fdca26\"],[1.0,\"#f0f921\"]],\"sequentialminus\":[[0.0,\"#0d0887\"],[0.1111111111111111,\"#46039f\"],[0.2222222222222222,\"#7201a8\"],[0.3333333333333333,\"#9c179e\"],[0.4444444444444444,\"#bd3786\"],[0.5555555555555556,\"#d8576b\"],[0.6666666666666666,\"#ed7953\"],[0.7777777777777778,\"#fb9f3a\"],[0.8888888888888888,\"#fdca26\"],[1.0,\"#f0f921\"]],\"diverging\":[[0,\"#8e0152\"],[0.1,\"#c51b7d\"],[0.2,\"#de77ae\"],[0.3,\"#f1b6da\"],[0.4,\"#fde0ef\"],[0.5,\"#f7f7f7\"],[0.6,\"#e6f5d0\"],[0.7,\"#b8e186\"],[0.8,\"#7fbc41\"],[0.9,\"#4d9221\"],[1,\"#276419\"]]},\"xaxis\":{\"gridcolor\":\"white\",\"linecolor\":\"white\",\"ticks\":\"\",\"title\":{\"standoff\":15},\"zerolinecolor\":\"white\",\"automargin\":true,\"zerolinewidth\":2},\"yaxis\":{\"gridcolor\":\"white\",\"linecolor\":\"white\",\"ticks\":\"\",\"title\":{\"standoff\":15},\"zerolinecolor\":\"white\",\"automargin\":true,\"zerolinewidth\":2},\"scene\":{\"xaxis\":{\"backgroundcolor\":\"#E5ECF6\",\"gridcolor\":\"white\",\"linecolor\":\"white\",\"showbackground\":true,\"ticks\":\"\",\"zerolinecolor\":\"white\",\"gridwidth\":2},\"yaxis\":{\"backgroundcolor\":\"#E5ECF6\",\"gridcolor\":\"white\",\"linecolor\":\"white\",\"showbackground\":true,\"ticks\":\"\",\"zerolinecolor\":\"white\",\"gridwidth\":2},\"zaxis\":{\"backgroundcolor\":\"#E5ECF6\",\"gridcolor\":\"white\",\"linecolor\":\"white\",\"showbackground\":true,\"ticks\":\"\",\"zerolinecolor\":\"white\",\"gridwidth\":2}},\"shapedefaults\":{\"line\":{\"color\":\"#2a3f5f\"}},\"annotationdefaults\":{\"arrowcolor\":\"#2a3f5f\",\"arrowhead\":0,\"arrowwidth\":1},\"geo\":{\"bgcolor\":\"white\",\"landcolor\":\"#E5ECF6\",\"subunitcolor\":\"white\",\"showland\":true,\"showlakes\":true,\"lakecolor\":\"white\"},\"title\":{\"x\":0.05},\"mapbox\":{\"style\":\"light\"}}}},                        {\"responsive\": true}                    ).then(function(){\n",
              "                            \n",
              "var gd = document.getElementById('c946cd74-7f4c-4509-b948-e8b056d2ccdc');\n",
              "var x = new MutationObserver(function (mutations, observer) {{\n",
              "        var display = window.getComputedStyle(gd).display;\n",
              "        if (!display || display === 'none') {{\n",
              "            console.log([gd, 'removed!']);\n",
              "            Plotly.purge(gd);\n",
              "            observer.disconnect();\n",
              "        }}\n",
              "}});\n",
              "\n",
              "// Listen for the removal of the full notebook cells\n",
              "var notebookContainer = gd.closest('#notebook-container');\n",
              "if (notebookContainer) {{\n",
              "    x.observe(notebookContainer, {childList: true});\n",
              "}}\n",
              "\n",
              "// Listen for the clearing of the current output cell\n",
              "var outputEl = gd.closest('.output');\n",
              "if (outputEl) {{\n",
              "    x.observe(outputEl, {childList: true});\n",
              "}}\n",
              "\n",
              "                        })                };                            </script>        </div>\n",
              "</body>\n",
              "</html>"
            ]
          },
          "metadata": {},
          "output_type": "display_data"
        }
      ],
      "source": [
        "import plotly.graph_objects as go\n",
        "\n",
        "# Data for Batch Size = 12, Shuffle Buffer = 60, Prefetch Buffer = 6, Learning Rate = 0.02\n",
        "rounds_1 = list(range(1, 16))\n",
        "mae_1 = [\n",
        "    0.070309095, 0.06450078, 0.061607864, 0.060092628, 0.059076704,\n",
        "    0.05836942, 0.057809025, 0.057371534, 0.05702302, 0.056733135,\n",
        "    0.056459244, 0.056229576, 0.056033693, 0.055863913, 0.055711426\n",
        "]\n",
        "\n",
        "# Data for Batch Size = 12, Shuffle Buffer = 60, Prefetch Buffer = 6, Learning Rate = 0.01\n",
        "rounds_2 = list(range(1, 16))\n",
        "mae_2 = [\n",
        "    0.06575257, 0.059883647, 0.05776895, 0.056706358, 0.056026068,\n",
        "    0.055522144, 0.05512807, 0.05480615, 0.054533303, 0.05431394,\n",
        "    0.054116458, 0.053937282, 0.053791393, 0.05366001, 0.05353039\n",
        "]\n",
        "\n",
        "# Creating trace for Batch Size = 12, Shuffle Buffer = 60, Prefetch Buffer = 6, Learning Rate = 0.02\n",
        "trace1 = go.Scatter(\n",
        "    x=rounds_1,\n",
        "    y=mae_1,\n",
        "    mode='lines',\n",
        "    name='Learning Rate = 0.02'\n",
        ")\n",
        "\n",
        "# Creating trace for Batch Size = 12, Shuffle Buffer = 60, Prefetch Buffer = 6, Learning Rate = 0.01\n",
        "trace2 = go.Scatter(\n",
        "    x=rounds_2,\n",
        "    y=mae_2,\n",
        "    mode='lines',\n",
        "    name='Learning Rate = 0.01'\n",
        ")\n",
        "\n",
        "# Creating data list\n",
        "data = [trace1, trace2]\n",
        "\n",
        "# Creating layout\n",
        "layout = go.Layout(\n",
        "    title='Mean Absolute Error (MAE) vs. Federated Rounds',\n",
        "    xaxis=dict(title='Federated Rounds'),\n",
        "    yaxis=dict(title='MAE')\n",
        ")\n",
        "\n",
        "# Creating figure\n",
        "fig = go.Figure(data=data, layout=layout)\n",
        "\n",
        "# Displaying the graph\n",
        "fig.show()\n"
      ]
    },
    {
      "attachments": {},
      "cell_type": "markdown",
      "metadata": {
        "id": "QBHNuqukRLNl"
      },
      "source": [
        "FEDERATED EVALUATION"
      ]
    },
    {
      "cell_type": "code",
      "execution_count": null,
      "metadata": {
        "colab": {
          "base_uri": "https://localhost:8080/"
        },
        "id": "_jFXD6so0caR",
        "outputId": "82b125df-4950-4a0a-a145-ad5199b77a60"
      },
      "outputs": [
        {
          "data": {
            "text/plain": [
              "('MAC000946', 'MAC001715', 'MAC001928')"
            ]
          },
          "execution_count": 34,
          "metadata": {},
          "output_type": "execute_result"
        }
      ],
      "source": [
        "# Filter data for the specified time period\n",
        "start_date = '2013-03-01'\n",
        "end_date = '2014-02-28'\n",
        "filtered_data = data[(data['DateTime'] >= start_date) & (data['DateTime'] <= end_date)]\n",
        "\n",
        "# Calculate the average KWH/hh for each LCLid\n",
        "average_kwh = filtered_data.groupby('LCLid')['KWH/hh'].mean()\n",
        "\n",
        "# Find the LCLids with the lowest, highest, and medium average KWH/hh\n",
        "lowest_avg_lclid = average_kwh.idxmin()\n",
        "highest_avg_lclid = average_kwh.idxmax()\n",
        "medium_avg_lclid = average_kwh.sort_values().index[len(average_kwh) // 2]\n",
        "\n",
        "lowest_avg_lclid, highest_avg_lclid, medium_avg_lclid"
      ]
    },
    {
      "cell_type": "code",
      "execution_count": null,
      "metadata": {
        "colab": {
          "base_uri": "https://localhost:8080/"
        },
        "id": "1xyv65awPxE7",
        "outputId": "5cae33cc-78d3-4a50-a19c-a826c46a7c7c"
      },
      "outputs": [
        {
          "name": "stdout",
          "output_type": "stream",
          "text": [
            "LCLid: MAC000027, Average KWH/hh: 0.17755218584916457\n",
            "LCLid: MAC000033, Average KWH/hh: 0.15519773494823544\n",
            "LCLid: MAC000041, Average KWH/hh: 0.18327049136303838\n",
            "LCLid: MAC000067, Average KWH/hh: 0.12797408911514044\n",
            "LCLid: MAC000118, Average KWH/hh: 0.17898346965051765\n",
            "LCLid: MAC000123, Average KWH/hh: 0.15642424935087218\n",
            "LCLid: MAC000127, Average KWH/hh: 0.1898002173358499\n",
            "LCLid: MAC000143, Average KWH/hh: 0.18460687526740263\n",
            "LCLid: MAC000154, Average KWH/hh: 0.13875990872540633\n",
            "LCLid: MAC000175, Average KWH/hh: 0.16180844248698736\n",
            "LCLid: MAC000179, Average KWH/hh: 0.11634280810408922\n",
            "LCLid: MAC000184, Average KWH/hh: 0.19160761172258323\n",
            "LCLid: MAC000190, Average KWH/hh: 0.138320386689166\n",
            "LCLid: MAC000208, Average KWH/hh: 0.1918430357255016\n",
            "LCLid: MAC000214, Average KWH/hh: 0.1620173873312743\n",
            "LCLid: MAC000219, Average KWH/hh: 0.12781214963962934\n",
            "LCLid: MAC000228, Average KWH/hh: 0.1295455532971118\n",
            "LCLid: MAC000239, Average KWH/hh: 0.15234770920894583\n",
            "LCLid: MAC000244, Average KWH/hh: 0.1522778445111836\n",
            "LCLid: MAC000261, Average KWH/hh: 0.1533687010181319\n",
            "LCLid: MAC000264, Average KWH/hh: 0.15750143004232925\n",
            "LCLid: MAC000265, Average KWH/hh: 0.15725605138235632\n",
            "LCLid: MAC000271, Average KWH/hh: 0.17458104551018075\n",
            "LCLid: MAC000275, Average KWH/hh: 0.16465785405436337\n",
            "LCLid: MAC000281, Average KWH/hh: 0.17943414355161566\n",
            "LCLid: MAC000290, Average KWH/hh: 0.14120614311045016\n",
            "LCLid: MAC000293, Average KWH/hh: 0.13671252072298803\n",
            "LCLid: MAC000303, Average KWH/hh: 0.14249345152988277\n",
            "LCLid: MAC000317, Average KWH/hh: 0.16231998855018587\n",
            "LCLid: MAC000332, Average KWH/hh: 0.1596363896299262\n",
            "LCLid: MAC000360, Average KWH/hh: 0.2176569810902019\n",
            "LCLid: MAC000401, Average KWH/hh: 0.17799748284324943\n",
            "LCLid: MAC000402, Average KWH/hh: 0.13638205009724289\n",
            "LCLid: MAC000403, Average KWH/hh: 0.13899399417148087\n",
            "LCLid: MAC000412, Average KWH/hh: 0.17453649050560513\n",
            "LCLid: MAC000419, Average KWH/hh: 0.14851314537235308\n",
            "LCLid: MAC000447, Average KWH/hh: 0.19228332856734345\n",
            "LCLid: MAC000469, Average KWH/hh: 0.10804594352308382\n",
            "LCLid: MAC000470, Average KWH/hh: 0.15536879432624112\n",
            "LCLid: MAC000471, Average KWH/hh: 0.19585733078771236\n",
            "LCLid: MAC000474, Average KWH/hh: 0.19736668382815628\n",
            "LCLid: MAC000483, Average KWH/hh: 0.16681764100217367\n",
            "LCLid: MAC000510, Average KWH/hh: 0.15412856734343724\n",
            "LCLid: MAC000516, Average KWH/hh: 0.1628379661118737\n",
            "LCLid: MAC000521, Average KWH/hh: 0.18739099553786231\n",
            "LCLid: MAC000532, Average KWH/hh: 0.19701092675629292\n",
            "LCLid: MAC000533, Average KWH/hh: 0.14898066693359263\n",
            "LCLid: MAC000542, Average KWH/hh: 0.16391266799542464\n",
            "LCLid: MAC000544, Average KWH/hh: 0.20137629425662149\n",
            "LCLid: MAC000545, Average KWH/hh: 0.1528966696609661\n",
            "LCLid: MAC000556, Average KWH/hh: 0.20603991741798577\n",
            "LCLid: MAC000558, Average KWH/hh: 0.17741407868069933\n",
            "LCLid: MAC000586, Average KWH/hh: 0.20786873714253032\n",
            "LCLid: MAC000591, Average KWH/hh: 0.16055525052047587\n",
            "LCLid: MAC000593, Average KWH/hh: 0.16711169574492424\n",
            "LCLid: MAC000594, Average KWH/hh: 0.14291305342066127\n",
            "LCLid: MAC000622, Average KWH/hh: 0.19851542838016434\n",
            "LCLid: MAC000646, Average KWH/hh: 0.2024970244964523\n",
            "LCLid: MAC000648, Average KWH/hh: 0.17023920375221646\n",
            "LCLid: MAC000674, Average KWH/hh: 0.15215139556165638\n",
            "LCLid: MAC000676, Average KWH/hh: 0.17021826917577074\n",
            "LCLid: MAC000679, Average KWH/hh: 0.1879962249099125\n",
            "LCLid: MAC000687, Average KWH/hh: 0.1858135011556064\n",
            "LCLid: MAC000694, Average KWH/hh: 0.16978357355296272\n",
            "LCLid: MAC000708, Average KWH/hh: 0.1489531321764571\n",
            "LCLid: MAC000727, Average KWH/hh: 0.13573265457301378\n",
            "LCLid: MAC000734, Average KWH/hh: 0.1766301904163799\n",
            "LCLid: MAC000742, Average KWH/hh: 0.17950002860165856\n",
            "LCLid: MAC000747, Average KWH/hh: 0.17904867306680394\n",
            "LCLid: MAC000753, Average KWH/hh: 0.18257207409907333\n",
            "LCLid: MAC000756, Average KWH/hh: 0.22883282813840433\n",
            "LCLid: MAC000761, Average KWH/hh: 0.14843652382287317\n",
            "LCLid: MAC000763, Average KWH/hh: 0.13177237631112382\n",
            "LCLid: MAC000786, Average KWH/hh: 0.14555982562808306\n",
            "LCLid: MAC000792, Average KWH/hh: 0.20557112623691587\n",
            "LCLid: MAC000803, Average KWH/hh: 0.1918092323017961\n",
            "LCLid: MAC000814, Average KWH/hh: 0.13332027451529885\n",
            "LCLid: MAC000860, Average KWH/hh: 0.19159380375788868\n",
            "LCLid: MAC000864, Average KWH/hh: 0.17244877013932688\n",
            "LCLid: MAC000882, Average KWH/hh: 0.1921322432415376\n",
            "LCLid: MAC000905, Average KWH/hh: 0.16985129258750858\n",
            "LCLid: MAC000943, Average KWH/hh: 0.14369104153475568\n",
            "LCLid: MAC000946, Average KWH/hh: 0.09785056685887411\n",
            "LCLid: MAC000950, Average KWH/hh: 0.17796110955104374\n",
            "LCLid: MAC000954, Average KWH/hh: 0.17853317698775883\n",
            "LCLid: MAC000967, Average KWH/hh: 0.16384038956745917\n",
            "LCLid: MAC000968, Average KWH/hh: 0.2075770660680583\n",
            "LCLid: MAC000975, Average KWH/hh: 0.16832283601216083\n",
            "LCLid: MAC000993, Average KWH/hh: 0.1781251430107527\n",
            "LCLid: MAC000994, Average KWH/hh: 0.17404800138785342\n",
            "LCLid: MAC001001, Average KWH/hh: 0.17841193295578056\n",
            "LCLid: MAC001003, Average KWH/hh: 0.15405729195962609\n",
            "LCLid: MAC001016, Average KWH/hh: 0.18860544529542986\n",
            "LCLid: MAC001023, Average KWH/hh: 0.15961008490133088\n",
            "LCLid: MAC001034, Average KWH/hh: 0.15125234501258292\n",
            "LCLid: MAC001062, Average KWH/hh: 0.19450443239348014\n",
            "LCLid: MAC001063, Average KWH/hh: 0.1543447484598176\n",
            "LCLid: MAC001064, Average KWH/hh: 0.13819063109954458\n",
            "LCLid: MAC001073, Average KWH/hh: 0.18964299644373064\n",
            "LCLid: MAC001077, Average KWH/hh: 0.1995380556352165\n",
            "LCLid: MAC001086, Average KWH/hh: 0.16307559942067223\n",
            "LCLid: MAC001113, Average KWH/hh: 0.1902645847689316\n",
            "LCLid: MAC001117, Average KWH/hh: 0.16517255776710135\n",
            "LCLid: MAC001139, Average KWH/hh: 0.14808154849008912\n",
            "LCLid: MAC001140, Average KWH/hh: 0.14508418879967885\n",
            "LCLid: MAC001141, Average KWH/hh: 0.2010757888697648\n",
            "LCLid: MAC001144, Average KWH/hh: 0.17153036992256956\n",
            "LCLid: MAC001155, Average KWH/hh: 0.19414368455598455\n",
            "LCLid: MAC001157, Average KWH/hh: 0.1810857404049648\n",
            "LCLid: MAC001184, Average KWH/hh: 0.14952130524172735\n",
            "LCLid: MAC001191, Average KWH/hh: 0.14892192863189202\n",
            "LCLid: MAC001193, Average KWH/hh: 0.1888715227989676\n",
            "LCLid: MAC001212, Average KWH/hh: 0.16667377752359167\n",
            "LCLid: MAC001230, Average KWH/hh: 0.13419846543747138\n",
            "LCLid: MAC001274, Average KWH/hh: 0.14825905165017444\n",
            "LCLid: MAC001279, Average KWH/hh: 0.17643491597168978\n",
            "LCLid: MAC001298, Average KWH/hh: 0.1786525544939642\n",
            "LCLid: MAC001360, Average KWH/hh: 0.16344851848186706\n",
            "LCLid: MAC001361, Average KWH/hh: 0.17408444420733452\n",
            "LCLid: MAC001382, Average KWH/hh: 0.1951234200972262\n",
            "LCLid: MAC001406, Average KWH/hh: 0.16703019731770088\n",
            "LCLid: MAC001412, Average KWH/hh: 0.16652287804278196\n",
            "LCLid: MAC001421, Average KWH/hh: 0.16660392881128275\n",
            "LCLid: MAC001423, Average KWH/hh: 0.18414768632385747\n",
            "LCLid: MAC001440, Average KWH/hh: 0.16442141386410433\n",
            "LCLid: MAC001446, Average KWH/hh: 0.1640495451799302\n",
            "LCLid: MAC001448, Average KWH/hh: 0.16063814126409018\n",
            "LCLid: MAC001473, Average KWH/hh: 0.17067108950529025\n",
            "LCLid: MAC001480, Average KWH/hh: 0.15568841864455246\n",
            "LCLid: MAC001488, Average KWH/hh: 0.16817409207892478\n",
            "LCLid: MAC001496, Average KWH/hh: 0.15874805535346603\n",
            "LCLid: MAC001505, Average KWH/hh: 0.18112863925527656\n",
            "LCLid: MAC001508, Average KWH/hh: 0.14685867077327844\n",
            "LCLid: MAC001515, Average KWH/hh: 0.18055754036413604\n",
            "LCLid: MAC001519, Average KWH/hh: 0.1812897340577638\n",
            "LCLid: MAC001530, Average KWH/hh: 0.18565923002688633\n",
            "LCLid: MAC001542, Average KWH/hh: 0.15551319952263187\n",
            "LCLid: MAC001565, Average KWH/hh: 0.14011149315504617\n",
            "LCLid: MAC001572, Average KWH/hh: 0.166401738738275\n",
            "LCLid: MAC001593, Average KWH/hh: 0.18761124457218029\n",
            "LCLid: MAC001631, Average KWH/hh: 0.19714507177507007\n",
            "LCLid: MAC001651, Average KWH/hh: 0.17100697742064627\n",
            "LCLid: MAC001659, Average KWH/hh: 0.14916546556851978\n",
            "LCLid: MAC001673, Average KWH/hh: 0.16861787922100205\n",
            "LCLid: MAC001708, Average KWH/hh: 0.1908263928783892\n",
            "LCLid: MAC001715, Average KWH/hh: 0.2607401772948242\n",
            "LCLid: MAC001719, Average KWH/hh: 0.21696607163290993\n",
            "LCLid: MAC001723, Average KWH/hh: 0.18927219618832783\n",
            "LCLid: MAC001733, Average KWH/hh: 0.17492005506681194\n",
            "LCLid: MAC001742, Average KWH/hh: 0.1804889893153349\n",
            "LCLid: MAC001751, Average KWH/hh: 0.16651547039176437\n",
            "LCLid: MAC001757, Average KWH/hh: 0.14865093800045756\n",
            "LCLid: MAC001778, Average KWH/hh: 0.13767890642873484\n",
            "LCLid: MAC001779, Average KWH/hh: 0.12319160375200183\n",
            "LCLid: MAC001796, Average KWH/hh: 0.15272424641079907\n",
            "LCLid: MAC001811, Average KWH/hh: 0.25569806681537405\n",
            "LCLid: MAC001834, Average KWH/hh: 0.19200583357163284\n",
            "LCLid: MAC001839, Average KWH/hh: 0.17661186849581853\n",
            "LCLid: MAC001842, Average KWH/hh: 0.19315453764672202\n",
            "LCLid: MAC001868, Average KWH/hh: 0.15861170882453932\n",
            "LCLid: MAC001876, Average KWH/hh: 0.1749879890128117\n",
            "LCLid: MAC001877, Average KWH/hh: 0.1742206841322503\n",
            "LCLid: MAC001880, Average KWH/hh: 0.1471722047526451\n",
            "LCLid: MAC001897, Average KWH/hh: 0.16170449611600501\n",
            "LCLid: MAC001903, Average KWH/hh: 0.14552595651924513\n",
            "LCLid: MAC001911, Average KWH/hh: 0.20011035273874392\n",
            "LCLid: MAC001927, Average KWH/hh: 0.18834292251644266\n",
            "LCLid: MAC001928, Average KWH/hh: 0.16673122031580756\n",
            "LCLid: MAC001929, Average KWH/hh: 0.15206754364884187\n",
            "LCLid: MAC001954, Average KWH/hh: 0.14247273040087172\n",
            "LCLid: MAC001971, Average KWH/hh: 0.11210647061616796\n",
            "LCLid: MAC001998, Average KWH/hh: 0.17461614140021736\n",
            "LCLid: MAC002001, Average KWH/hh: 0.1976804689676866\n",
            "LCLid: MAC002015, Average KWH/hh: 0.16568739987411307\n",
            "LCLid: MAC002020, Average KWH/hh: 0.18992947433506835\n",
            "LCLid: MAC002026, Average KWH/hh: 0.13120030885431563\n",
            "LCLid: MAC002038, Average KWH/hh: 0.17942665143837574\n",
            "LCLid: MAC002057, Average KWH/hh: 0.13131565062224007\n",
            "LCLid: MAC002077, Average KWH/hh: 0.14995813315030884\n",
            "LCLid: MAC002090, Average KWH/hh: 0.15845738959620223\n",
            "LCLid: MAC002123, Average KWH/hh: 0.17671160555968657\n",
            "LCLid: MAC002131, Average KWH/hh: 0.14409054510095523\n",
            "LCLid: MAC002159, Average KWH/hh: 0.16081760466712425\n",
            "LCLid: MAC002161, Average KWH/hh: 0.14600131549416612\n",
            "LCLid: MAC002168, Average KWH/hh: 0.22657975408064054\n",
            "LCLid: MAC002178, Average KWH/hh: 0.1643939601921757\n",
            "LCLid: MAC002192, Average KWH/hh: 0.18496802973977697\n",
            "LCLid: MAC002239, Average KWH/hh: 0.1626892635925671\n",
            "LCLid: MAC002248, Average KWH/hh: 0.16282812856897735\n",
            "LCLid: MAC002279, Average KWH/hh: 0.16195630040038897\n",
            "LCLid: MAC002286, Average KWH/hh: 0.17897815139556167\n",
            "LCLid: MAC002345, Average KWH/hh: 0.15463767284411037\n",
            "LCLid: MAC002346, Average KWH/hh: 0.1646708607434944\n",
            "LCLid: MAC002377, Average KWH/hh: 0.18621642343919886\n",
            "LCLid: MAC002378, Average KWH/hh: 0.2206214417292168\n",
            "LCLid: MAC002391, Average KWH/hh: 0.1833514440606234\n",
            "LCLid: MAC002393, Average KWH/hh: 0.18893359664548628\n",
            "LCLid: MAC002403, Average KWH/hh: 0.1942827611541271\n",
            "LCLid: MAC002440, Average KWH/hh: 0.17507779875293175\n",
            "LCLid: MAC002445, Average KWH/hh: 0.1964213566689545\n",
            "LCLid: MAC002456, Average KWH/hh: 0.17765997367999542\n",
            "LCLid: MAC002457, Average KWH/hh: 0.153152451232767\n",
            "LCLid: MAC002504, Average KWH/hh: 0.14929878746282316\n",
            "LCLid: MAC002506, Average KWH/hh: 0.1476556476980269\n",
            "LCLid: MAC002518, Average KWH/hh: 0.1479943357306328\n",
            "LCLid: MAC002547, Average KWH/hh: 0.19312767419059604\n",
            "LCLid: MAC002559, Average KWH/hh: 0.14139449751186867\n",
            "LCLid: MAC002571, Average KWH/hh: 0.15104987413635323\n",
            "LCLid: MAC002579, Average KWH/hh: 0.14278071378403112\n",
            "LCLid: MAC002586, Average KWH/hh: 0.1470161734514797\n",
            "LCLid: MAC002589, Average KWH/hh: 0.1656258794977404\n",
            "LCLid: MAC002591, Average KWH/hh: 0.1700064069504033\n",
            "LCLid: MAC002595, Average KWH/hh: 0.17209055547165494\n",
            "LCLid: MAC002602, Average KWH/hh: 0.19767118739914163\n",
            "LCLid: MAC002608, Average KWH/hh: 0.1460939090649128\n",
            "LCLid: MAC002621, Average KWH/hh: 0.17921077616541783\n",
            "LCLid: MAC002637, Average KWH/hh: 0.1498634647772809\n",
            "LCLid: MAC002653, Average KWH/hh: 0.17353924934775145\n",
            "LCLid: MAC002689, Average KWH/hh: 0.14943182338137728\n",
            "LCLid: MAC002693, Average KWH/hh: 0.15683954005491677\n",
            "LCLid: MAC002713, Average KWH/hh: 0.177399622512011\n",
            "LCLid: MAC002720, Average KWH/hh: 0.15250863107759363\n",
            "LCLid: MAC002722, Average KWH/hh: 0.1598504833438197\n",
            "LCLid: MAC002734, Average KWH/hh: 0.16400916222871215\n",
            "LCLid: MAC002742, Average KWH/hh: 0.1918162158987371\n",
            "LCLid: MAC002743, Average KWH/hh: 0.20504370265542557\n",
            "LCLid: MAC002758, Average KWH/hh: 0.1875319757636426\n",
            "LCLid: MAC002775, Average KWH/hh: 0.1919624757121611\n",
            "LCLid: MAC002777, Average KWH/hh: 0.14585438947097512\n",
            "LCLid: MAC002795, Average KWH/hh: 0.18305974592537486\n",
            "LCLid: MAC002796, Average KWH/hh: 0.1805111809951387\n",
            "LCLid: MAC002799, Average KWH/hh: 0.2314266514212182\n",
            "LCLid: MAC002803, Average KWH/hh: 0.15360174351915576\n",
            "LCLid: MAC002812, Average KWH/hh: 0.15806643697961525\n",
            "LCLid: MAC002816, Average KWH/hh: 0.13905195850777083\n",
            "LCLid: MAC002821, Average KWH/hh: 0.19112296956646077\n",
            "LCLid: MAC002838, Average KWH/hh: 0.1583792685567605\n",
            "LCLid: MAC002878, Average KWH/hh: 0.1918927590883093\n",
            "LCLid: MAC002895, Average KWH/hh: 0.14099033345535664\n",
            "LCLid: MAC002910, Average KWH/hh: 0.1507371882807138\n",
            "LCLid: MAC002944, Average KWH/hh: 0.1739476634387691\n",
            "LCLid: MAC002958, Average KWH/hh: 0.14847546327499428\n",
            "LCLid: MAC002961, Average KWH/hh: 0.19120244378155118\n",
            "LCLid: MAC002993, Average KWH/hh: 0.16944969974263654\n",
            "LCLid: MAC003023, Average KWH/hh: 0.15754298459646515\n",
            "LCLid: MAC003029, Average KWH/hh: 0.15919361483007208\n",
            "LCLid: MAC003040, Average KWH/hh: 0.18844385974375108\n",
            "LCLid: MAC003050, Average KWH/hh: 0.16627375162729507\n",
            "LCLid: MAC003064, Average KWH/hh: 0.17560028597083213\n",
            "LCLid: MAC003070, Average KWH/hh: 0.17353566321569525\n",
            "LCLid: MAC003088, Average KWH/hh: 0.1650262555943256\n",
            "LCLid: MAC003101, Average KWH/hh: 0.17353623521134817\n",
            "LCLid: MAC003108, Average KWH/hh: 0.19136134309003547\n",
            "LCLid: MAC003131, Average KWH/hh: 0.13930141845687485\n",
            "LCLid: MAC003134, Average KWH/hh: 0.1690723518702814\n",
            "LCLid: MAC003139, Average KWH/hh: 0.15101332799450862\n",
            "LCLid: MAC003164, Average KWH/hh: 0.1654743031031318\n",
            "LCLid: MAC003187, Average KWH/hh: 0.14595587729769946\n",
            "LCLid: MAC003190, Average KWH/hh: 0.2090362679537784\n",
            "LCLid: MAC003196, Average KWH/hh: 0.1423308781586402\n",
            "LCLid: MAC003204, Average KWH/hh: 0.1499501826828278\n",
            "LCLid: MAC003215, Average KWH/hh: 0.19956807426661935\n",
            "LCLid: MAC003219, Average KWH/hh: 0.15691127507579658\n",
            "LCLid: MAC003230, Average KWH/hh: 0.159704112572213\n",
            "LCLid: MAC003238, Average KWH/hh: 0.19711532521022826\n",
            "LCLid: MAC003239, Average KWH/hh: 0.1470053763383665\n",
            "LCLid: MAC003242, Average KWH/hh: 0.16484684012582212\n",
            "LCLid: MAC003275, Average KWH/hh: 0.19461441235344581\n",
            "LCLid: MAC003288, Average KWH/hh: 0.16855691568470427\n",
            "LCLid: MAC003309, Average KWH/hh: 0.16783794707863794\n",
            "LCLid: MAC003313, Average KWH/hh: 0.1799263266185815\n",
            "LCLid: MAC003315, Average KWH/hh: 0.14068670289962826\n",
            "LCLid: MAC003336, Average KWH/hh: 0.14471251546468403\n",
            "LCLid: MAC003361, Average KWH/hh: 0.17194148602070583\n",
            "LCLid: MAC003375, Average KWH/hh: 0.21889842724049186\n",
            "LCLid: MAC003385, Average KWH/hh: 0.17810714490017734\n",
            "LCLid: MAC003395, Average KWH/hh: 0.15622866483138334\n",
            "LCLid: MAC003401, Average KWH/hh: 0.19869911352016015\n",
            "LCLid: MAC003421, Average KWH/hh: 0.16243184028373664\n",
            "LCLid: MAC003424, Average KWH/hh: 0.20308529049508814\n",
            "LCLid: MAC003429, Average KWH/hh: 0.18745176648313833\n",
            "LCLid: MAC003438, Average KWH/hh: 0.17987001552563436\n",
            "LCLid: MAC003442, Average KWH/hh: 0.1470033745138412\n",
            "LCLid: MAC003467, Average KWH/hh: 0.15327973228076197\n",
            "LCLid: MAC003471, Average KWH/hh: 0.22305816746739876\n",
            "LCLid: MAC003476, Average KWH/hh: 0.16914515298255647\n",
            "LCLid: MAC003478, Average KWH/hh: 0.2106446262140365\n",
            "LCLid: MAC003511, Average KWH/hh: 0.21099450927133379\n",
            "LCLid: MAC003520, Average KWH/hh: 0.1645740920789248\n",
            "LCLid: MAC003526, Average KWH/hh: 0.15426298627002288\n",
            "LCLid: MAC003539, Average KWH/hh: 0.15841099971927816\n",
            "LCLid: MAC003565, Average KWH/hh: 0.15858150308281857\n",
            "LCLid: MAC003567, Average KWH/hh: 0.20007789536173862\n",
            "LCLid: MAC003584, Average KWH/hh: 0.14703143102953828\n",
            "LCLid: MAC003591, Average KWH/hh: 0.20408654616748656\n",
            "LCLid: MAC003593, Average KWH/hh: 0.22460644200469135\n",
            "LCLid: MAC003605, Average KWH/hh: 0.1808796741454462\n",
            "LCLid: MAC003632, Average KWH/hh: 0.20225521933878624\n",
            "LCLid: MAC003636, Average KWH/hh: 0.15506308263082644\n",
            "LCLid: MAC003641, Average KWH/hh: 0.19663911922790964\n",
            "LCLid: MAC003666, Average KWH/hh: 0.19360877523025\n",
            "LCLid: MAC003674, Average KWH/hh: 0.2013746640148699\n",
            "LCLid: MAC003683, Average KWH/hh: 0.21234534113840156\n",
            "LCLid: MAC003698, Average KWH/hh: 0.15848496154287683\n",
            "LCLid: MAC003705, Average KWH/hh: 0.16348195597369175\n",
            "LCLid: MAC003718, Average KWH/hh: 0.19652009090000003\n",
            "LCLid: MAC003724, Average KWH/hh: 0.1929573251129798\n",
            "LCLid: MAC003726, Average KWH/hh: 0.18699742590664684\n",
            "LCLid: MAC003780, Average KWH/hh: 0.15409866164493252\n",
            "LCLid: MAC003808, Average KWH/hh: 0.2013404073103764\n",
            "LCLid: MAC003816, Average KWH/hh: 0.21242104661710037\n",
            "LCLid: MAC003821, Average KWH/hh: 0.21720436993305378\n",
            "LCLid: MAC003845, Average KWH/hh: 0.21377989332453978\n",
            "LCLid: MAC003850, Average KWH/hh: 0.21158295680869318\n",
            "LCLid: MAC003897, Average KWH/hh: 0.16359130683442952\n",
            "LCLid: MAC003912, Average KWH/hh: 0.1532530313315031\n",
            "LCLid: MAC003918, Average KWH/hh: 0.1650108402638371\n",
            "LCLid: MAC003933, Average KWH/hh: 0.16074216245995424\n",
            "LCLid: MAC003944, Average KWH/hh: 0.14944086021505376\n",
            "LCLid: MAC003967, Average KWH/hh: 0.2040716083276138\n",
            "LCLid: MAC003983, Average KWH/hh: 0.19549127722930848\n",
            "LCLid: MAC003998, Average KWH/hh: 0.16207023966710518\n",
            "LCLid: MAC004011, Average KWH/hh: 0.1615540107449365\n",
            "LCLid: MAC004013, Average KWH/hh: 0.16575507635989248\n",
            "LCLid: MAC004032, Average KWH/hh: 0.1736893909408064\n",
            "LCLid: MAC004042, Average KWH/hh: 0.20882975673628643\n",
            "LCLid: MAC004044, Average KWH/hh: 0.1605880468916214\n",
            "LCLid: MAC004050, Average KWH/hh: 0.16402128149486606\n",
            "LCLid: MAC004053, Average KWH/hh: 0.17956154198124\n",
            "LCLid: MAC004065, Average KWH/hh: 0.16559988565055764\n",
            "LCLid: MAC004072, Average KWH/hh: 0.16402322655034327\n",
            "LCLid: MAC004081, Average KWH/hh: 0.14303872333123607\n",
            "LCLid: MAC004089, Average KWH/hh: 0.14979719758078353\n",
            "LCLid: MAC004104, Average KWH/hh: 0.18286\n",
            "LCLid: MAC004125, Average KWH/hh: 0.1689295136499197\n",
            "LCLid: MAC004136, Average KWH/hh: 0.1381401281171357\n",
            "LCLid: MAC004145, Average KWH/hh: 0.15299159231297188\n",
            "LCLid: MAC004155, Average KWH/hh: 0.1546816543675991\n",
            "LCLid: MAC004157, Average KWH/hh: 0.19551221186867243\n",
            "LCLid: MAC004159, Average KWH/hh: 0.16678523221802793\n",
            "LCLid: MAC004163, Average KWH/hh: 0.16601772945381757\n",
            "LCLid: MAC004167, Average KWH/hh: 0.17494572180279114\n",
            "LCLid: MAC004177, Average KWH/hh: 0.12850297550926984\n",
            "LCLid: MAC004184, Average KWH/hh: 0.19314092344135358\n",
            "LCLid: MAC004210, Average KWH/hh: 0.14153214797820476\n",
            "LCLid: MAC004213, Average KWH/hh: 0.18186153846725764\n",
            "LCLid: MAC004230, Average KWH/hh: 0.15649128126786027\n",
            "LCLid: MAC004231, Average KWH/hh: 0.20340193329520104\n",
            "LCLid: MAC004232, Average KWH/hh: 0.1811487645790437\n",
            "LCLid: MAC004235, Average KWH/hh: 0.1870454102960545\n",
            "LCLid: MAC004237, Average KWH/hh: 0.1437743651509952\n",
            "LCLid: MAC004254, Average KWH/hh: 0.15438492338137724\n",
            "LCLid: MAC004274, Average KWH/hh: 0.21024347970716084\n",
            "LCLid: MAC004279, Average KWH/hh: 0.17756572476833316\n",
            "LCLid: MAC004291, Average KWH/hh: 0.17571808143547274\n",
            "LCLid: MAC004311, Average KWH/hh: 0.1660485436893204\n",
            "LCLid: MAC004314, Average KWH/hh: 0.1337963736200881\n",
            "LCLid: MAC004316, Average KWH/hh: 0.19112892864189035\n",
            "LCLid: MAC004326, Average KWH/hh: 0.17156817661290322\n",
            "LCLid: MAC004360, Average KWH/hh: 0.14465408157428064\n",
            "LCLid: MAC004361, Average KWH/hh: 0.16906811552759507\n",
            "LCLid: MAC004368, Average KWH/hh: 0.19110330624642488\n",
            "LCLid: MAC004371, Average KWH/hh: 0.1722280059661366\n",
            "LCLid: MAC004383, Average KWH/hh: 0.19545448823731335\n",
            "LCLid: MAC004401, Average KWH/hh: 0.18476348786379848\n",
            "LCLid: MAC004414, Average KWH/hh: 0.14088966424526683\n",
            "LCLid: MAC004418, Average KWH/hh: 0.16779502431798685\n",
            "LCLid: MAC004429, Average KWH/hh: 0.21878926896236128\n",
            "LCLid: MAC004444, Average KWH/hh: 0.1558604930389521\n",
            "LCLid: MAC004485, Average KWH/hh: 0.14313698238389386\n",
            "LCLid: MAC004510, Average KWH/hh: 0.13289236488418646\n",
            "LCLid: MAC004526, Average KWH/hh: 0.14248035233083567\n",
            "LCLid: MAC004528, Average KWH/hh: 0.15768797207598995\n",
            "LCLid: MAC004547, Average KWH/hh: 0.15569438881198877\n",
            "LCLid: MAC004600, Average KWH/hh: 0.14892153608424427\n",
            "LCLid: MAC004653, Average KWH/hh: 0.1663856669412034\n",
            "LCLid: MAC004664, Average KWH/hh: 0.1950990784442791\n",
            "LCLid: MAC004675, Average KWH/hh: 0.169047646267803\n",
            "LCLid: MAC004717, Average KWH/hh: 0.1612699175824176\n",
            "LCLid: MAC004723, Average KWH/hh: 0.19274805533630748\n",
            "LCLid: MAC004744, Average KWH/hh: 0.14439886708817304\n",
            "LCLid: MAC004750, Average KWH/hh: 0.19715515277058518\n",
            "LCLid: MAC004752, Average KWH/hh: 0.1913420661251573\n",
            "LCLid: MAC004774, Average KWH/hh: 0.1515243951152548\n",
            "LCLid: MAC004775, Average KWH/hh: 0.20122323269274767\n",
            "LCLid: MAC004783, Average KWH/hh: 0.1347679592770533\n",
            "LCLid: MAC004786, Average KWH/hh: 0.17631217112788836\n",
            "LCLid: MAC004787, Average KWH/hh: 0.1938750572368421\n",
            "LCLid: MAC004793, Average KWH/hh: 0.15651407000686343\n",
            "LCLid: MAC004810, Average KWH/hh: 0.1409445830737458\n",
            "LCLid: MAC004818, Average KWH/hh: 0.1654997712194006\n",
            "LCLid: MAC004836, Average KWH/hh: 0.1609045764304943\n",
            "LCLid: MAC004838, Average KWH/hh: 0.18032999256056353\n",
            "LCLid: MAC004848, Average KWH/hh: 0.1271953214882178\n",
            "LCLid: MAC004856, Average KWH/hh: 0.13403740990733326\n",
            "LCLid: MAC004862, Average KWH/hh: 0.18279199313125535\n",
            "LCLid: MAC004864, Average KWH/hh: 0.1409860999828395\n",
            "LCLid: MAC004874, Average KWH/hh: 0.19779179773494251\n",
            "LCLid: MAC004910, Average KWH/hh: 0.16245315181329367\n",
            "LCLid: MAC004912, Average KWH/hh: 0.15776581626816152\n",
            "LCLid: MAC004914, Average KWH/hh: 0.14801750072633685\n",
            "LCLid: MAC004946, Average KWH/hh: 0.14119159894700697\n",
            "LCLid: MAC004965, Average KWH/hh: 0.22564952817271947\n",
            "LCLid: MAC004972, Average KWH/hh: 0.15055865027166143\n",
            "LCLid: MAC004974, Average KWH/hh: 0.17510792108092652\n",
            "LCLid: MAC004979, Average KWH/hh: 0.14499713941873105\n",
            "LCLid: MAC004990, Average KWH/hh: 0.17761195309694025\n",
            "LCLid: MAC004998, Average KWH/hh: 0.14397156911503917\n",
            "LCLid: MAC005000, Average KWH/hh: 0.19377986845867887\n",
            "LCLid: MAC005023, Average KWH/hh: 0.1835728094257607\n",
            "LCLid: MAC005030, Average KWH/hh: 0.13405817411623386\n",
            "LCLid: MAC005049, Average KWH/hh: 0.1457671943594519\n",
            "LCLid: MAC005079, Average KWH/hh: 0.19345899108327616\n",
            "LCLid: MAC005083, Average KWH/hh: 0.15113956150895874\n",
            "LCLid: MAC005108, Average KWH/hh: 0.20706623578905223\n",
            "LCLid: MAC005126, Average KWH/hh: 0.1771967503747354\n",
            "LCLid: MAC005134, Average KWH/hh: 0.21349079158659345\n",
            "LCLid: MAC005141, Average KWH/hh: 0.14417169002001717\n",
            "LCLid: MAC005164, Average KWH/hh: 0.17764971685637476\n",
            "LCLid: MAC005170, Average KWH/hh: 0.17336547700183025\n",
            "LCLid: MAC005174, Average KWH/hh: 0.14916008922443377\n",
            "LCLid: MAC005192, Average KWH/hh: 0.12471306834429512\n",
            "LCLid: MAC005193, Average KWH/hh: 0.13351166781056967\n",
            "LCLid: MAC005208, Average KWH/hh: 0.18758035918554108\n",
            "LCLid: MAC005257, Average KWH/hh: 0.14008156028940746\n",
            "LCLid: MAC005268, Average KWH/hh: 0.1891306834372319\n",
            "LCLid: MAC005292, Average KWH/hh: 0.16095538013271551\n",
            "LCLid: MAC005297, Average KWH/hh: 0.1653788390048613\n",
            "LCLid: MAC005357, Average KWH/hh: 0.14976916037520016\n",
            "LCLid: MAC005360, Average KWH/hh: 0.1621130748055365\n",
            "LCLid: MAC005384, Average KWH/hh: 0.17068214003510257\n",
            "LCLid: MAC005395, Average KWH/hh: 0.17443324564123097\n",
            "LCLid: MAC005408, Average KWH/hh: 0.14008635974263656\n",
            "LCLid: MAC005418, Average KWH/hh: 0.14252645124964256\n",
            "LCLid: MAC005429, Average KWH/hh: 0.20110981468199496\n",
            "LCLid: MAC005432, Average KWH/hh: 0.13397157236744264\n",
            "LCLid: MAC005449, Average KWH/hh: 0.12656859269450801\n",
            "LCLid: MAC005461, Average KWH/hh: 0.1870133257020303\n",
            "LCLid: MAC005478, Average KWH/hh: 0.1701958013957213\n",
            "LCLid: MAC005481, Average KWH/hh: 0.14970034327231121\n",
            "LCLid: MAC005492, Average KWH/hh: 0.15986272099802035\n",
            "LCLid: MAC005524, Average KWH/hh: 0.16380398101584398\n",
            "LCLid: MAC005547, Average KWH/hh: 0.16981417700669374\n"
          ]
        }
      ],
      "source": [
        "# Assuming your data is stored in a DataFrame called 'data'\n",
        "# Calculate the average KWH/hh for each LCLid\n",
        "average_kwh = filtered_data.groupby('LCLid')['KWH/hh'].mean()\n",
        "\n",
        "# Print all LCLids with their corresponding average KWH/hh\n",
        "for lclid, avg_kwh in average_kwh.items():\n",
        "    print(f\"LCLid: {lclid}, Average KWH/hh: {avg_kwh}\")"
      ]
    },
    {
      "cell_type": "code",
      "execution_count": null,
      "metadata": {
        "id": "jKOrjE2SDURS"
      },
      "outputs": [],
      "source": [
        "filtered_data44 = data[data['LCLid'] == 'MAC004593']"
      ]
    },
    {
      "cell_type": "code",
      "execution_count": null,
      "metadata": {
        "id": "VjO5R9bNAudO"
      },
      "outputs": [],
      "source": [
        "# Filter the DataFrame to include readings from Jan 01, 2014, to Jan 31, 2014\n",
        "teststart_date1 = pd.to_datetime('2014-02-14')\n",
        "testend_date1 = pd.to_datetime('2014-02-21')\n",
        "test_data1 = filtered_data44[(filtered_data44['DateTime'] >= teststart_date1) & (filtered_data44['DateTime'] <= testend_date1)]\n",
        "\n",
        "teststart_date2 = pd.to_datetime('2014-02-15')\n",
        "testend_date2 = pd.to_datetime('2014-02-22')\n",
        "test_data2 = filtered_data44[(filtered_data44['DateTime'] >= teststart_date2) & (filtered_data44['DateTime'] <= testend_date2)]\n",
        "\n",
        "\n",
        "teststart_date3 = pd.to_datetime('2014-02-16')\n",
        "testend_date3 = pd.to_datetime('2014-02-23')\n",
        "test_data3 = filtered_data44[(filtered_data44['DateTime'] >= teststart_date3) & (filtered_data44['DateTime'] <= testend_date3)]\n",
        "\n",
        "teststart_date4 = pd.to_datetime('2014-02-17')\n",
        "testend_date4 = pd.to_datetime('2014-02-24')\n",
        "test_data4 = filtered_data44[(filtered_data44['DateTime'] >= teststart_date4) & (filtered_data44['DateTime'] <= testend_date4)]\n",
        "\n",
        "teststart_date5 = pd.to_datetime('2014-02-18')\n",
        "testend_date5 = pd.to_datetime('2014-02-25')\n",
        "test_data5 = filtered_data44[(filtered_data44['DateTime'] >= teststart_date5) & (filtered_data44['DateTime'] <= testend_date5)]\n",
        "\n",
        "teststart_date6 = pd.to_datetime('2014-02-19')\n",
        "testend_date6 = pd.to_datetime('2014-02-26')\n",
        "test_data6 = filtered_data44[(filtered_data44['DateTime'] >= teststart_date6) & (filtered_data44['DateTime'] <= testend_date6)]\n",
        "\n",
        "teststart_date7 = pd.to_datetime('2014-02-20')\n",
        "testend_date7 = pd.to_datetime('2014-02-27')\n",
        "test_data7 = filtered_data44[(filtered_data44['DateTime'] >= teststart_date7) & (filtered_data44['DateTime'] <= testend_date7)]\n",
        "\n",
        "# teststart_date8 = pd.to_datetime('2013-10-01')\n",
        "# testend_date8 = pd.to_datetime('2013-10-31')\n",
        "# test_data8 = filtered_data44[(filtered_data44['DateTime'] >= teststart_date8) & (filtered_data44['DateTime'] <= testend_date8)]\n",
        "\n",
        "# teststart_date9 = pd.to_datetime('2013-11-01')\n",
        "# testend_date9 = pd.to_datetime('2013-11-30')\n",
        "# test_data9 = filtered_data44[(filtered_data44['DateTime'] >= teststart_date9) & (filtered_data44['DateTime'] <= testend_date9)]\n",
        "\n",
        "# teststart_date10 = pd.to_datetime('2013-12-01')\n",
        "# testend_date10 = pd.to_datetime('2013-12-31')\n",
        "# test_data10 = filtered_data44[(filtered_data44['DateTime'] >= teststart_date10) & (filtered_data44['DateTime'] <= testend_date10)]\n",
        "\n",
        "# teststart_date11 = pd.to_datetime('2014-01-01')\n",
        "# testend_date11 = pd.to_datetime('2014-01-31')\n",
        "# test_data11 = filtered_data44[(filtered_data44['DateTime'] >= teststart_date11) & (filtered_data44['DateTime'] <= testend_date11)]\n",
        "\n",
        "# teststart_date12 = pd.to_datetime('2014-02-01')\n",
        "# testend_date12 = pd.to_datetime('2014-02-28')\n",
        "# test_data12 = filtered_data44[(filtered_data44['DateTime'] >= teststart_date12) & (filtered_data44['DateTime'] <= testend_date12)]\n",
        "\n"
      ]
    },
    {
      "cell_type": "code",
      "execution_count": null,
      "metadata": {
        "colab": {
          "base_uri": "https://localhost:8080/",
          "height": 424
        },
        "id": "g3JRRBI7X_M8",
        "outputId": "8568d891-faf0-4cd0-b9e9-d1fd555a758f"
      },
      "outputs": [
        {
          "data": {
            "text/html": [
              "\n",
              "  <div id=\"df-e06f8ab8-ad1d-4b68-9215-77e4daa3cb31\">\n",
              "    <div class=\"colab-df-container\">\n",
              "      <div>\n",
              "<style scoped>\n",
              "    .dataframe tbody tr th:only-of-type {\n",
              "        vertical-align: middle;\n",
              "    }\n",
              "\n",
              "    .dataframe tbody tr th {\n",
              "        vertical-align: top;\n",
              "    }\n",
              "\n",
              "    .dataframe thead th {\n",
              "        text-align: right;\n",
              "    }\n",
              "</style>\n",
              "<table border=\"1\" class=\"dataframe\">\n",
              "  <thead>\n",
              "    <tr style=\"text-align: right;\">\n",
              "      <th></th>\n",
              "      <th>LCLid</th>\n",
              "      <th>stdorToU</th>\n",
              "      <th>DateTime</th>\n",
              "      <th>KWH/hh</th>\n",
              "      <th>cluster</th>\n",
              "    </tr>\n",
              "  </thead>\n",
              "  <tbody>\n",
              "    <tr>\n",
              "      <th>375271</th>\n",
              "      <td>MAC004593</td>\n",
              "      <td>ToU</td>\n",
              "      <td>2014-02-18 00:00:00</td>\n",
              "      <td>0.871</td>\n",
              "      <td>17</td>\n",
              "    </tr>\n",
              "    <tr>\n",
              "      <th>375272</th>\n",
              "      <td>MAC004593</td>\n",
              "      <td>ToU</td>\n",
              "      <td>2014-02-18 00:30:00</td>\n",
              "      <td>0.822</td>\n",
              "      <td>17</td>\n",
              "    </tr>\n",
              "    <tr>\n",
              "      <th>375273</th>\n",
              "      <td>MAC004593</td>\n",
              "      <td>ToU</td>\n",
              "      <td>2014-02-18 01:00:00</td>\n",
              "      <td>0.746</td>\n",
              "      <td>17</td>\n",
              "    </tr>\n",
              "    <tr>\n",
              "      <th>375274</th>\n",
              "      <td>MAC004593</td>\n",
              "      <td>ToU</td>\n",
              "      <td>2014-02-18 01:30:00</td>\n",
              "      <td>0.660</td>\n",
              "      <td>17</td>\n",
              "    </tr>\n",
              "    <tr>\n",
              "      <th>375275</th>\n",
              "      <td>MAC004593</td>\n",
              "      <td>ToU</td>\n",
              "      <td>2014-02-18 02:00:00</td>\n",
              "      <td>0.738</td>\n",
              "      <td>17</td>\n",
              "    </tr>\n",
              "    <tr>\n",
              "      <th>...</th>\n",
              "      <td>...</td>\n",
              "      <td>...</td>\n",
              "      <td>...</td>\n",
              "      <td>...</td>\n",
              "      <td>...</td>\n",
              "    </tr>\n",
              "    <tr>\n",
              "      <th>375603</th>\n",
              "      <td>MAC004593</td>\n",
              "      <td>ToU</td>\n",
              "      <td>2014-02-24 22:00:00</td>\n",
              "      <td>0.784</td>\n",
              "      <td>17</td>\n",
              "    </tr>\n",
              "    <tr>\n",
              "      <th>375604</th>\n",
              "      <td>MAC004593</td>\n",
              "      <td>ToU</td>\n",
              "      <td>2014-02-24 22:30:00</td>\n",
              "      <td>0.774</td>\n",
              "      <td>17</td>\n",
              "    </tr>\n",
              "    <tr>\n",
              "      <th>375605</th>\n",
              "      <td>MAC004593</td>\n",
              "      <td>ToU</td>\n",
              "      <td>2014-02-24 23:00:00</td>\n",
              "      <td>0.805</td>\n",
              "      <td>17</td>\n",
              "    </tr>\n",
              "    <tr>\n",
              "      <th>375606</th>\n",
              "      <td>MAC004593</td>\n",
              "      <td>ToU</td>\n",
              "      <td>2014-02-24 23:30:00</td>\n",
              "      <td>0.797</td>\n",
              "      <td>17</td>\n",
              "    </tr>\n",
              "    <tr>\n",
              "      <th>375607</th>\n",
              "      <td>MAC004593</td>\n",
              "      <td>ToU</td>\n",
              "      <td>2014-02-25 00:00:00</td>\n",
              "      <td>0.805</td>\n",
              "      <td>17</td>\n",
              "    </tr>\n",
              "  </tbody>\n",
              "</table>\n",
              "<p>337 rows × 5 columns</p>\n",
              "</div>\n",
              "      <button class=\"colab-df-convert\" onclick=\"convertToInteractive('df-e06f8ab8-ad1d-4b68-9215-77e4daa3cb31')\"\n",
              "              title=\"Convert this dataframe to an interactive table.\"\n",
              "              style=\"display:none;\">\n",
              "        \n",
              "  <svg xmlns=\"http://www.w3.org/2000/svg\" height=\"24px\"viewBox=\"0 0 24 24\"\n",
              "       width=\"24px\">\n",
              "    <path d=\"M0 0h24v24H0V0z\" fill=\"none\"/>\n",
              "    <path d=\"M18.56 5.44l.94 2.06.94-2.06 2.06-.94-2.06-.94-.94-2.06-.94 2.06-2.06.94zm-11 1L8.5 8.5l.94-2.06 2.06-.94-2.06-.94L8.5 2.5l-.94 2.06-2.06.94zm10 10l.94 2.06.94-2.06 2.06-.94-2.06-.94-.94-2.06-.94 2.06-2.06.94z\"/><path d=\"M17.41 7.96l-1.37-1.37c-.4-.4-.92-.59-1.43-.59-.52 0-1.04.2-1.43.59L10.3 9.45l-7.72 7.72c-.78.78-.78 2.05 0 2.83L4 21.41c.39.39.9.59 1.41.59.51 0 1.02-.2 1.41-.59l7.78-7.78 2.81-2.81c.8-.78.8-2.07 0-2.86zM5.41 20L4 18.59l7.72-7.72 1.47 1.35L5.41 20z\"/>\n",
              "  </svg>\n",
              "      </button>\n",
              "      \n",
              "  <style>\n",
              "    .colab-df-container {\n",
              "      display:flex;\n",
              "      flex-wrap:wrap;\n",
              "      gap: 12px;\n",
              "    }\n",
              "\n",
              "    .colab-df-convert {\n",
              "      background-color: #E8F0FE;\n",
              "      border: none;\n",
              "      border-radius: 50%;\n",
              "      cursor: pointer;\n",
              "      display: none;\n",
              "      fill: #1967D2;\n",
              "      height: 32px;\n",
              "      padding: 0 0 0 0;\n",
              "      width: 32px;\n",
              "    }\n",
              "\n",
              "    .colab-df-convert:hover {\n",
              "      background-color: #E2EBFA;\n",
              "      box-shadow: 0px 1px 2px rgba(60, 64, 67, 0.3), 0px 1px 3px 1px rgba(60, 64, 67, 0.15);\n",
              "      fill: #174EA6;\n",
              "    }\n",
              "\n",
              "    [theme=dark] .colab-df-convert {\n",
              "      background-color: #3B4455;\n",
              "      fill: #D2E3FC;\n",
              "    }\n",
              "\n",
              "    [theme=dark] .colab-df-convert:hover {\n",
              "      background-color: #434B5C;\n",
              "      box-shadow: 0px 1px 3px 1px rgba(0, 0, 0, 0.15);\n",
              "      filter: drop-shadow(0px 1px 2px rgba(0, 0, 0, 0.3));\n",
              "      fill: #FFFFFF;\n",
              "    }\n",
              "  </style>\n",
              "\n",
              "      <script>\n",
              "        const buttonEl =\n",
              "          document.querySelector('#df-e06f8ab8-ad1d-4b68-9215-77e4daa3cb31 button.colab-df-convert');\n",
              "        buttonEl.style.display =\n",
              "          google.colab.kernel.accessAllowed ? 'block' : 'none';\n",
              "\n",
              "        async function convertToInteractive(key) {\n",
              "          const element = document.querySelector('#df-e06f8ab8-ad1d-4b68-9215-77e4daa3cb31');\n",
              "          const dataTable =\n",
              "            await google.colab.kernel.invokeFunction('convertToInteractive',\n",
              "                                                     [key], {});\n",
              "          if (!dataTable) return;\n",
              "\n",
              "          const docLinkHtml = 'Like what you see? Visit the ' +\n",
              "            '<a target=\"_blank\" href=https://colab.research.google.com/notebooks/data_table.ipynb>data table notebook</a>'\n",
              "            + ' to learn more about interactive tables.';\n",
              "          element.innerHTML = '';\n",
              "          dataTable['output_type'] = 'display_data';\n",
              "          await google.colab.output.renderOutput(dataTable, element);\n",
              "          const docLink = document.createElement('div');\n",
              "          docLink.innerHTML = docLinkHtml;\n",
              "          element.appendChild(docLink);\n",
              "        }\n",
              "      </script>\n",
              "    </div>\n",
              "  </div>\n",
              "  "
            ],
            "text/plain": [
              "            LCLid stdorToU            DateTime  KWH/hh  cluster\n",
              "375271  MAC004593      ToU 2014-02-18 00:00:00   0.871       17\n",
              "375272  MAC004593      ToU 2014-02-18 00:30:00   0.822       17\n",
              "375273  MAC004593      ToU 2014-02-18 01:00:00   0.746       17\n",
              "375274  MAC004593      ToU 2014-02-18 01:30:00   0.660       17\n",
              "375275  MAC004593      ToU 2014-02-18 02:00:00   0.738       17\n",
              "...           ...      ...                 ...     ...      ...\n",
              "375603  MAC004593      ToU 2014-02-24 22:00:00   0.784       17\n",
              "375604  MAC004593      ToU 2014-02-24 22:30:00   0.774       17\n",
              "375605  MAC004593      ToU 2014-02-24 23:00:00   0.805       17\n",
              "375606  MAC004593      ToU 2014-02-24 23:30:00   0.797       17\n",
              "375607  MAC004593      ToU 2014-02-25 00:00:00   0.805       17\n",
              "\n",
              "[337 rows x 5 columns]"
            ]
          },
          "execution_count": 60,
          "metadata": {},
          "output_type": "execute_result"
        }
      ],
      "source": [
        "test_data5"
      ]
    },
    {
      "cell_type": "code",
      "execution_count": null,
      "metadata": {
        "id": "sX8xcOJiAuam"
      },
      "outputs": [],
      "source": [
        "# Select unique LCLids\n",
        "lclid_lt1 = test_data1['LCLid'].unique()\n",
        "sel_lclids1 = lclid_lt1[:1]\n",
        "# Filter data for the selected LCLids\n",
        "ft_data1 = test_data1[test_data1['LCLid'].isin(sel_lclids1)]\n",
        "\n",
        "# Select unique LCLids\n",
        "lclid_lt2 = test_data2['LCLid'].unique()\n",
        "sel_lclids2 = lclid_lt2[:1]\n",
        "# Filter data for the selected LCLids\n",
        "ft_data2 = test_data2[test_data2['LCLid'].isin(sel_lclids2)]\n",
        "\n",
        "# Select unique LCLids\n",
        "lclid_lt3 = test_data3['LCLid'].unique()\n",
        "sel_lclids3 = lclid_lt3[:1]\n",
        "# Filter data for the selected LCLids\n",
        "ft_data3 = test_data3[test_data3['LCLid'].isin(sel_lclids3)]\n",
        "\n",
        "# Select unique LCLids\n",
        "lclid_lt4 = test_data4['LCLid'].unique()\n",
        "sel_lclids4 = lclid_lt4[:1]\n",
        "# Filter data for the selected LCLids\n",
        "ft_data4 = test_data4[test_data4['LCLid'].isin(sel_lclids4)]\n",
        "\n",
        "# Select unique LCLids\n",
        "lclid_lt5 = test_data5['LCLid'].unique()\n",
        "sel_lclids5 = lclid_lt5[:1]\n",
        "# Filter data for the selected LCLids\n",
        "ft_data5 = test_data5[test_data5['LCLid'].isin(sel_lclids5)]\n",
        "\n",
        "# Select unique LCLids\n",
        "lclid_lt6 = test_data6['LCLid'].unique()\n",
        "sel_lclids6 = lclid_lt6[:1]\n",
        "# Filter data for the selected LCLids\n",
        "ft_data6 = test_data6[test_data6['LCLid'].isin(sel_lclids6)]\n",
        "\n",
        "# Select unique LCLids\n",
        "lclid_lt7 = test_data7['LCLid'].unique()\n",
        "sel_lclids7 = lclid_lt7[:1]\n",
        "# Filter data for the selected LCLids\n",
        "ft_data7 = test_data7[test_data7['LCLid'].isin(sel_lclids7)]\n",
        "\n",
        "# # Select unique LCLids\n",
        "# lclid_lt8 = test_data8['LCLid'].unique()\n",
        "# sel_lclids8 = lclid_lt8[:1]\n",
        "# # Filter data for the selected LCLids\n",
        "# ft_data8 = test_data8[test_data8['LCLid'].isin(sel_lclids8)]\n",
        "\n",
        "# # Select unique LCLids\n",
        "# lclid_lt9 = test_data9['LCLid'].unique()\n",
        "# sel_lclids9 = lclid_lt9[:1]\n",
        "# # Filter data for the selected LCLids\n",
        "# ft_data9 = test_data9[test_data9['LCLid'].isin(sel_lclids9)]\n",
        "\n",
        "# # Select unique LCLids\n",
        "# lclid_lt10 = test_data10['LCLid'].unique()\n",
        "# sel_lclids10 = lclid_lt10[:1]\n",
        "# # Filter data for the selected LCLids\n",
        "# ft_data10 = test_data10[test_data10['LCLid'].isin(sel_lclids10)]\n",
        "\n",
        "# # Select unique LCLids\n",
        "# lclid_lt11 = test_data11['LCLid'].unique()\n",
        "# sel_lclids11 = lclid_lt11[:1]\n",
        "# # Filter data for the selected LCLids\n",
        "# ft_data11 = test_data11[test_data11['LCLid'].isin(sel_lclids11)]\n",
        "\n",
        "# # Select unique LCLids\n",
        "# lclid_lt12 = test_data12['LCLid'].unique()\n",
        "# sel_lclids12 = lclid_lt12[:1]\n",
        "# # Filter data for the selected LCLids\n",
        "# ft_data12 = test_data12[test_data12['LCLid'].isin(sel_lclids12)]"
      ]
    },
    {
      "cell_type": "code",
      "execution_count": null,
      "metadata": {
        "id": "-uxmDOfsAuX3"
      },
      "outputs": [],
      "source": [
        "ft_data1.reset_index(drop=True, inplace=True)\n",
        "ft_data2.reset_index(drop=True, inplace=True)\n",
        "ft_data3.reset_index(drop=True, inplace=True)\n",
        "ft_data4.reset_index(drop=True, inplace=True)\n",
        "ft_data5.reset_index(drop=True, inplace=True)\n",
        "ft_data6.reset_index(drop=True, inplace=True)\n",
        "ft_data7.reset_index(drop=True, inplace=True)\n",
        "# ft_data8.reset_index(drop=True, inplace=True)\n",
        "# ft_data9.reset_index(drop=True, inplace=True)\n",
        "# ft_data10.reset_index(drop=True, inplace=True)\n",
        "# ft_data11.reset_index(drop=True, inplace=True)\n",
        "# ft_data12.reset_index(drop=True, inplace=True)"
      ]
    },
    {
      "cell_type": "code",
      "execution_count": null,
      "metadata": {
        "id": "1ISaDqmy1gFz"
      },
      "outputs": [],
      "source": [
        "ft_data1['KWH/hh'] = ft_data1['KWH/hh'].astype(np.float32)\n",
        "ft_data2['KWH/hh'] = ft_data2['KWH/hh'].astype(np.float32)\n",
        "ft_data3['KWH/hh'] = ft_data3['KWH/hh'].astype(np.float32)\n",
        "ft_data4['KWH/hh'] = ft_data4['KWH/hh'].astype(np.float32)\n",
        "ft_data5['KWH/hh'] = ft_data5['KWH/hh'].astype(np.float32)\n",
        "ft_data6['KWH/hh'] = ft_data6['KWH/hh'].astype(np.float32)\n",
        "ft_data7['KWH/hh'] = ft_data7['KWH/hh'].astype(np.float32)\n",
        "# ft_data8['KWH/hh'] = ft_data8['KWH/hh'].astype(np.float32)\n",
        "# ft_data9['KWH/hh'] = ft_data9['KWH/hh'].astype(np.float32)\n",
        "# ft_data10['KWH/hh'] = ft_data10['KWH/hh'].astype(np.float32)\n",
        "# ft_data11['KWH/hh'] = ft_data11['KWH/hh'].astype(np.float32)\n",
        "# ft_data12['KWH/hh'] = ft_data12['KWH/hh'].astype(np.float32)\n"
      ]
    },
    {
      "cell_type": "code",
      "execution_count": null,
      "metadata": {
        "id": "tL4Cg2QQEcZu"
      },
      "outputs": [],
      "source": [
        "ft_data1 = ft_data1.drop('cluster', axis=1)\n",
        "ft_data1 = ft_data1.drop('stdorToU', axis=1)\n",
        "\n",
        "ft_data2 = ft_data2.drop('cluster', axis=1)\n",
        "ft_data2 = ft_data2.drop('stdorToU', axis=1)\n",
        "\n",
        "ft_data3 = ft_data3.drop('cluster', axis=1)\n",
        "ft_data3 = ft_data3.drop('stdorToU', axis=1)\n",
        "\n",
        "ft_data4 = ft_data4.drop('cluster', axis=1)\n",
        "ft_data4 = ft_data4.drop('stdorToU', axis=1)\n",
        "\n",
        "ft_data5 = ft_data5.drop('cluster', axis=1)\n",
        "ft_data5 = ft_data5.drop('stdorToU', axis=1)\n",
        "\n",
        "ft_data6 = ft_data6.drop('cluster', axis=1)\n",
        "ft_data6 = ft_data6.drop('stdorToU', axis=1)\n",
        "\n",
        "ft_data7 = ft_data7.drop('cluster', axis=1)\n",
        "ft_data7 = ft_data7.drop('stdorToU', axis=1)\n",
        "\n",
        "# ft_data8 = ft_data8.drop('cluster', axis=1)\n",
        "# ft_data8 = ft_data8.drop('stdorToU', axis=1)\n",
        "\n",
        "# ft_data9 = ft_data9.drop('cluster', axis=1)\n",
        "# ft_data9 = ft_data9.drop('stdorToU', axis=1)\n",
        "\n",
        "# ft_data10 = ft_data10.drop('cluster', axis=1)\n",
        "# ft_data10 = ft_data10.drop('stdorToU', axis=1)\n",
        "\n",
        "# ft_data11 = ft_data11.drop('cluster', axis=1)\n",
        "# ft_data11 = ft_data11.drop('stdorToU', axis=1)\n",
        "\n",
        "# ft_data12 = ft_data12.drop('cluster', axis=1)\n",
        "# ft_data12 = ft_data12.drop('stdorToU', axis=1)\n",
        "\n",
        "\n"
      ]
    },
    {
      "cell_type": "code",
      "execution_count": null,
      "metadata": {
        "colab": {
          "base_uri": "https://localhost:8080/"
        },
        "id": "hoda-x0SEcXY",
        "outputId": "5d6db7c5-b892-4430-cd2d-0a4cba7828b2"
      },
      "outputs": [
        {
          "name": "stderr",
          "output_type": "stream",
          "text": [
            "<ipython-input-65-fb16650f9c75>:3: SettingWithCopyWarning: \n",
            "A value is trying to be set on a copy of a slice from a DataFrame\n",
            "\n",
            "See the caveats in the documentation: https://pandas.pydata.org/pandas-docs/stable/user_guide/indexing.html#returning-a-view-versus-a-copy\n",
            "  ft_data1['DateTime'][i]=ft_data1['DateTime'][i].timestamp()\n",
            "<ipython-input-65-fb16650f9c75>:7: SettingWithCopyWarning: \n",
            "A value is trying to be set on a copy of a slice from a DataFrame\n",
            "\n",
            "See the caveats in the documentation: https://pandas.pydata.org/pandas-docs/stable/user_guide/indexing.html#returning-a-view-versus-a-copy\n",
            "  ft_data2['DateTime'][i]=ft_data2['DateTime'][i].timestamp()\n",
            "<ipython-input-65-fb16650f9c75>:11: SettingWithCopyWarning: \n",
            "A value is trying to be set on a copy of a slice from a DataFrame\n",
            "\n",
            "See the caveats in the documentation: https://pandas.pydata.org/pandas-docs/stable/user_guide/indexing.html#returning-a-view-versus-a-copy\n",
            "  ft_data3['DateTime'][i]=ft_data3['DateTime'][i].timestamp()\n",
            "<ipython-input-65-fb16650f9c75>:15: SettingWithCopyWarning: \n",
            "A value is trying to be set on a copy of a slice from a DataFrame\n",
            "\n",
            "See the caveats in the documentation: https://pandas.pydata.org/pandas-docs/stable/user_guide/indexing.html#returning-a-view-versus-a-copy\n",
            "  ft_data4['DateTime'][i]=ft_data4['DateTime'][i].timestamp()\n",
            "<ipython-input-65-fb16650f9c75>:19: SettingWithCopyWarning: \n",
            "A value is trying to be set on a copy of a slice from a DataFrame\n",
            "\n",
            "See the caveats in the documentation: https://pandas.pydata.org/pandas-docs/stable/user_guide/indexing.html#returning-a-view-versus-a-copy\n",
            "  ft_data5['DateTime'][i]=ft_data5['DateTime'][i].timestamp()\n",
            "<ipython-input-65-fb16650f9c75>:23: SettingWithCopyWarning: \n",
            "A value is trying to be set on a copy of a slice from a DataFrame\n",
            "\n",
            "See the caveats in the documentation: https://pandas.pydata.org/pandas-docs/stable/user_guide/indexing.html#returning-a-view-versus-a-copy\n",
            "  ft_data6['DateTime'][i]=ft_data6['DateTime'][i].timestamp()\n",
            "<ipython-input-65-fb16650f9c75>:27: SettingWithCopyWarning: \n",
            "A value is trying to be set on a copy of a slice from a DataFrame\n",
            "\n",
            "See the caveats in the documentation: https://pandas.pydata.org/pandas-docs/stable/user_guide/indexing.html#returning-a-view-versus-a-copy\n",
            "  ft_data7['DateTime'][i]=ft_data7['DateTime'][i].timestamp()\n"
          ]
        }
      ],
      "source": [
        "ft_data1['DateTime'] = pd.to_datetime(ft_data1.DateTime).dt.tz_localize(None)\n",
        "for i in range(len(ft_data1)):\n",
        "  ft_data1['DateTime'][i]=ft_data1['DateTime'][i].timestamp()\n",
        "\n",
        "ft_data2['DateTime'] = pd.to_datetime(ft_data2.DateTime).dt.tz_localize(None)\n",
        "for i in range(len(ft_data2)):\n",
        "  ft_data2['DateTime'][i]=ft_data2['DateTime'][i].timestamp()\n",
        "\n",
        "ft_data3['DateTime'] = pd.to_datetime(ft_data3.DateTime).dt.tz_localize(None)\n",
        "for i in range(len(ft_data3)):\n",
        "  ft_data3['DateTime'][i]=ft_data3['DateTime'][i].timestamp()\n",
        "\n",
        "ft_data4['DateTime'] = pd.to_datetime(ft_data4.DateTime).dt.tz_localize(None)\n",
        "for i in range(len(ft_data4)):\n",
        "  ft_data4['DateTime'][i]=ft_data4['DateTime'][i].timestamp()\n",
        "\n",
        "ft_data5['DateTime'] = pd.to_datetime(ft_data5.DateTime).dt.tz_localize(None)\n",
        "for i in range(len(ft_data5)):\n",
        "  ft_data5['DateTime'][i]=ft_data5['DateTime'][i].timestamp()\n",
        "\n",
        "ft_data6['DateTime'] = pd.to_datetime(ft_data6.DateTime).dt.tz_localize(None)\n",
        "for i in range(len(ft_data6)):\n",
        "  ft_data6['DateTime'][i]=ft_data6['DateTime'][i].timestamp()\n",
        "\n",
        "ft_data7['DateTime'] = pd.to_datetime(ft_data7.DateTime).dt.tz_localize(None)\n",
        "for i in range(len(ft_data7)):\n",
        "  ft_data7['DateTime'][i]=ft_data7['DateTime'][i].timestamp()\n",
        "\n",
        "# ft_data8['DateTime'] = pd.to_datetime(ft_data8.DateTime).dt.tz_localize(None)\n",
        "# for i in range(len(ft_data8)):\n",
        "#   ft_data8['DateTime'][i]=ft_data8['DateTime'][i].timestamp()\n",
        "\n",
        "# ft_data9['DateTime'] = pd.to_datetime(ft_data9.DateTime).dt.tz_localize(None)\n",
        "# for i in range(len(ft_data9)):\n",
        "#   ft_data9['DateTime'][i]=ft_data9['DateTime'][i].timestamp()\n",
        "\n",
        "# ft_data10['DateTime'] = pd.to_datetime(ft_data10.DateTime).dt.tz_localize(None)\n",
        "# for i in range(len(ft_data10)):\n",
        "#   ft_data10['DateTime'][i]=ft_data10['DateTime'][i].timestamp()\n",
        "\n",
        "# ft_data11['DateTime'] = pd.to_datetime(ft_data11.DateTime).dt.tz_localize(None)\n",
        "# for i in range(len(ft_data11)):\n",
        "#   ft_data11['DateTime'][i]=ft_data11['DateTime'][i].timestamp()\n",
        "\n",
        "# ft_data12['DateTime'] = pd.to_datetime(ft_data12.DateTime).dt.tz_localize(None)\n",
        "# for i in range(len(ft_data12)):\n",
        "#   ft_data12['DateTime'][i]=ft_data12['DateTime'][i].timestamp()\n"
      ]
    },
    {
      "cell_type": "code",
      "execution_count": null,
      "metadata": {
        "colab": {
          "base_uri": "https://localhost:8080/"
        },
        "id": "8X9GHVyWT1dw",
        "outputId": "45d2e696-55f6-445d-ccd2-c018a166f23f"
      },
      "outputs": [
        {
          "data": {
            "text/plain": [
              "LCLid        object\n",
              "DateTime     object\n",
              "KWH/hh      float32\n",
              "dtype: object"
            ]
          },
          "execution_count": 65,
          "metadata": {},
          "output_type": "execute_result"
        }
      ],
      "source": [
        "ft_data1.dtypes"
      ]
    },
    {
      "cell_type": "code",
      "execution_count": null,
      "metadata": {
        "id": "Ux85tGC5Ef7D"
      },
      "outputs": [],
      "source": [
        "ft_data1['DateTime'] = ft_data1['DateTime'].astype(np.float32)\n",
        "ft_data2['DateTime'] = ft_data2['DateTime'].astype(np.float32)\n",
        "ft_data3['DateTime'] = ft_data3['DateTime'].astype(np.float32)\n",
        "ft_data4['DateTime'] = ft_data4['DateTime'].astype(np.float32)\n",
        "ft_data5['DateTime'] = ft_data5['DateTime'].astype(np.float32)\n",
        "ft_data6['DateTime'] = ft_data6['DateTime'].astype(np.float32)\n",
        "ft_data7['DateTime'] = ft_data7['DateTime'].astype(np.float32)\n",
        "# ft_data8['DateTime'] = ft_data8['DateTime'].astype(np.float32)\n",
        "# ft_data9['DateTime'] = ft_data9['DateTime'].astype(np.float32)\n",
        "# ft_data10['DateTime'] = ft_data10['DateTime'].astype(np.float32)\n",
        "# ft_data11['DateTime'] = ft_data11['DateTime'].astype(np.float32)\n",
        "# ft_data12['DateTime'] = ft_data12['DateTime'].astype(np.float32)\n",
        "\n",
        "\n"
      ]
    },
    {
      "cell_type": "code",
      "execution_count": null,
      "metadata": {
        "id": "q5utuf6SEf4m"
      },
      "outputs": [],
      "source": [
        "# Sort the data by 'LCLid' and 'DateTime'\n",
        "ft_data1.sort_values(['LCLid', 'DateTime'], inplace=True)\n",
        "ft_data2.sort_values(['LCLid', 'DateTime'], inplace=True)\n",
        "ft_data3.sort_values(['LCLid', 'DateTime'], inplace=True)\n",
        "ft_data4.sort_values(['LCLid', 'DateTime'], inplace=True)\n",
        "ft_data5.sort_values(['LCLid', 'DateTime'], inplace=True)\n",
        "ft_data6.sort_values(['LCLid', 'DateTime'], inplace=True)\n",
        "ft_data7.sort_values(['LCLid', 'DateTime'], inplace=True)\n",
        "# ft_data8.sort_values(['LCLid', 'DateTime'], inplace=True)\n",
        "# ft_data9.sort_values(['LCLid', 'DateTime'], inplace=True)\n",
        "# ft_data10.sort_values(['LCLid', 'DateTime'], inplace=True)\n",
        "# ft_data11.sort_values(['LCLid', 'DateTime'], inplace=True)\n",
        "# ft_data12.sort_values(['LCLid', 'DateTime'], inplace=True)\n"
      ]
    },
    {
      "cell_type": "code",
      "execution_count": null,
      "metadata": {
        "colab": {
          "base_uri": "https://localhost:8080/"
        },
        "id": "1x3NG406Ef2G",
        "outputId": "0a1c5c27-f889-4087-c21a-8dfda7ef77d7"
      },
      "outputs": [
        {
          "data": {
            "text/plain": [
              "array(['MAC004593'], dtype=object)"
            ]
          },
          "execution_count": 68,
          "metadata": {},
          "output_type": "execute_result"
        }
      ],
      "source": [
        "test_client = ft_data1['LCLid'].unique()\n",
        "\n",
        "test_client"
      ]
    },
    {
      "cell_type": "code",
      "execution_count": null,
      "metadata": {
        "colab": {
          "base_uri": "https://localhost:8080/"
        },
        "id": "0o5VOrl5Eq-V",
        "outputId": "2ac84e1b-d2d9-4a95-f440-0b2dff4fc66f"
      },
      "outputs": [
        {
          "name": "stdout",
          "output_type": "stream",
          "text": [
            "Client dataset for LCLid MAC004593\n",
            "OrderedDict([('x', array([[0.828, 0.865, 0.701, ..., 1.246, 1.244, 1.129],\n",
            "       [0.828, 0.865, 0.701, ..., 1.246, 1.244, 1.129],\n",
            "       [0.828, 0.865, 0.701, ..., 1.246, 1.244, 1.129],\n",
            "       [0.828, 0.865, 0.701, ..., 1.246, 1.244, 1.129],\n",
            "       [0.828, 0.865, 0.701, ..., 1.246, 1.244, 1.129]], dtype=float32)), ('y', array([[0.874],\n",
            "       [0.874],\n",
            "       [0.874],\n",
            "       [0.874],\n",
            "       [0.874]], dtype=float32))])\n"
          ]
        }
      ],
      "source": [
        "test_dataset1 = {}\n",
        "\n",
        "for LCLid in test_client:\n",
        "    # Filter the dataframe for the current LCLid\n",
        "    client_data = ft_data1[ft_data1['LCLid'] == LCLid]\n",
        "\n",
        "    clientxx_dataset = create_client_dataset_for_LCLid(client_data, window_size, step_size)\n",
        "\n",
        "    # Create the client dataset for the current LCLid\n",
        "    preprocessed_client_dataset = preprocess_client_dataset(tf.data.Dataset.from_tensor_slices(clientxx_dataset))\n",
        "\n",
        "    # Extract a sample batch from the preprocessed dataset\n",
        "    sam_batch = tf.nest.map_structure(lambda x: x.numpy(), next(iter(preprocessed_client_dataset)))\n",
        "\n",
        "    # Store the preprocessed dataset in the dictionary with LCLid as the key\n",
        "    test_dataset1[LCLid] = preprocessed_client_dataset\n",
        "\n",
        "    print(\"Client dataset for LCLid\", LCLid)\n",
        "    print(sam_batch)"
      ]
    },
    {
      "cell_type": "code",
      "execution_count": null,
      "metadata": {
        "id": "N9gGRMYREq7r"
      },
      "outputs": [],
      "source": [
        "test_dataset2 = {}\n",
        "\n",
        "for LCLid in test_client:\n",
        "    # Filter the dataframe for the current LCLid\n",
        "    client_data = ft_data2[ft_data2['LCLid'] == LCLid]\n",
        "\n",
        "    clientxx_dataset = create_client_dataset_for_LCLid(client_data, window_size, step_size)\n",
        "\n",
        "    # Create the client dataset for the current LCLid\n",
        "    preprocessed_client_dataset = preprocess_client_dataset(tf.data.Dataset.from_tensor_slices(clientxx_dataset))\n",
        "\n",
        "    # Extract a sample batch from the preprocessed dataset\n",
        "    sam_batch = tf.nest.map_structure(lambda x: x.numpy(), next(iter(preprocessed_client_dataset)))\n",
        "\n",
        "    # Store the preprocessed dataset in the dictionary with LCLid as the key\n",
        "    test_dataset2[LCLid] = preprocessed_client_dataset\n"
      ]
    },
    {
      "cell_type": "code",
      "execution_count": null,
      "metadata": {
        "id": "0dcHUYzVEtrs"
      },
      "outputs": [],
      "source": [
        "test_dataset3 = {}\n",
        "\n",
        "for LCLid in test_client:\n",
        "    # Filter the dataframe for the current LCLid\n",
        "    client_data = ft_data3[ft_data3['LCLid'] == LCLid]\n",
        "\n",
        "    clientxx_dataset = create_client_dataset_for_LCLid(client_data, window_size, step_size)\n",
        "\n",
        "    # Create the client dataset for the current LCLid\n",
        "    preprocessed_client_dataset = preprocess_client_dataset(tf.data.Dataset.from_tensor_slices(clientxx_dataset))\n",
        "\n",
        "    # Extract a sample batch from the preprocessed dataset\n",
        "    sam_batch = tf.nest.map_structure(lambda x: x.numpy(), next(iter(preprocessed_client_dataset)))\n",
        "\n",
        "    # Store the preprocessed dataset in the dictionary with LCLid as the key\n",
        "    test_dataset3[LCLid] = preprocessed_client_dataset\n"
      ]
    },
    {
      "cell_type": "code",
      "execution_count": null,
      "metadata": {
        "id": "c-FdYGphEtpM"
      },
      "outputs": [],
      "source": [
        "test_dataset4 = {}\n",
        "\n",
        "for LCLid in test_client:\n",
        "    # Filter the dataframe for the current LCLid\n",
        "    client_data = ft_data4[ft_data4['LCLid'] == LCLid]\n",
        "\n",
        "    clientxx_dataset = create_client_dataset_for_LCLid(client_data, window_size, step_size)\n",
        "\n",
        "    # Create the client dataset for the current LCLid\n",
        "    preprocessed_client_dataset = preprocess_client_dataset(tf.data.Dataset.from_tensor_slices(clientxx_dataset))\n",
        "\n",
        "    # Extract a sample batch from the preprocessed dataset\n",
        "    sam_batch = tf.nest.map_structure(lambda x: x.numpy(), next(iter(preprocessed_client_dataset)))\n",
        "\n",
        "    # Store the preprocessed dataset in the dictionary with LCLid as the key\n",
        "    test_dataset4[LCLid] = preprocessed_client_dataset"
      ]
    },
    {
      "cell_type": "code",
      "execution_count": null,
      "metadata": {
        "id": "X3wTLbAoEtmi"
      },
      "outputs": [],
      "source": [
        "test_dataset5 = {}\n",
        "\n",
        "for LCLid in test_client:\n",
        "    # Filter the dataframe for the current LCLid\n",
        "    client_data = ft_data5[ft_data5['LCLid'] == LCLid]\n",
        "\n",
        "    clientxx_dataset = create_client_dataset_for_LCLid(client_data, window_size, step_size)\n",
        "\n",
        "    # Create the client dataset for the current LCLid\n",
        "    preprocessed_client_dataset = preprocess_client_dataset(tf.data.Dataset.from_tensor_slices(clientxx_dataset))\n",
        "\n",
        "    # Extract a sample batch from the preprocessed dataset\n",
        "    sam_batch = tf.nest.map_structure(lambda x: x.numpy(), next(iter(preprocessed_client_dataset)))\n",
        "\n",
        "    # Store the preprocessed dataset in the dictionary with LCLid as the key\n",
        "    test_dataset5[LCLid] = preprocessed_client_dataset"
      ]
    },
    {
      "cell_type": "code",
      "execution_count": null,
      "metadata": {
        "id": "LiSeh2qYEtkK"
      },
      "outputs": [],
      "source": [
        "test_dataset6 = {}\n",
        "\n",
        "for LCLid in test_client:\n",
        "    # Filter the dataframe for the current LCLid\n",
        "    client_data = ft_data6[ft_data6['LCLid'] == LCLid]\n",
        "\n",
        "    clientxx_dataset = create_client_dataset_for_LCLid(client_data, window_size, step_size)\n",
        "\n",
        "    # Create the client dataset for the current LCLid\n",
        "    preprocessed_client_dataset = preprocess_client_dataset(tf.data.Dataset.from_tensor_slices(clientxx_dataset))\n",
        "\n",
        "    # Extract a sample batch from the preprocessed dataset\n",
        "    sam_batch = tf.nest.map_structure(lambda x: x.numpy(), next(iter(preprocessed_client_dataset)))\n",
        "\n",
        "    # Store the preprocessed dataset in the dictionary with LCLid as the key\n",
        "    test_dataset6[LCLid] = preprocessed_client_dataset"
      ]
    },
    {
      "cell_type": "code",
      "execution_count": null,
      "metadata": {
        "id": "YkHn69AsEthi"
      },
      "outputs": [],
      "source": [
        "test_dataset7 = {}\n",
        "\n",
        "for LCLid in test_client:\n",
        "    # Filter the dataframe for the current LCLid\n",
        "    client_data = ft_data7[ft_data7['LCLid'] == LCLid]\n",
        "\n",
        "    clientxx_dataset = create_client_dataset_for_LCLid(client_data, window_size, step_size)\n",
        "\n",
        "    # Create the client dataset for the current LCLid\n",
        "    preprocessed_client_dataset = preprocess_client_dataset(tf.data.Dataset.from_tensor_slices(clientxx_dataset))\n",
        "\n",
        "    # Extract a sample batch from the preprocessed dataset\n",
        "    sam_batch = tf.nest.map_structure(lambda x: x.numpy(), next(iter(preprocessed_client_dataset)))\n",
        "\n",
        "    # Store the preprocessed dataset in the dictionary with LCLid as the key\n",
        "    test_dataset7[LCLid] = preprocessed_client_dataset"
      ]
    },
    {
      "cell_type": "code",
      "execution_count": null,
      "metadata": {
        "id": "Alp7ydAk1UFw"
      },
      "outputs": [],
      "source": [
        "# test_dataset8 = {}\n",
        "\n",
        "# for LCLid in test_client:\n",
        "#     # Filter the dataframe for the current LCLid\n",
        "#     client_data = ft_data8[ft_data8['LCLid'] == LCLid]\n",
        "\n",
        "#     clientxx_dataset = create_client_dataset_for_LCLid(client_data, window_size, step_size)\n",
        "\n",
        "#     # Create the client dataset for the current LCLid\n",
        "#     preprocessed_client_dataset = preprocess_client_dataset(tf.data.Dataset.from_tensor_slices(clientxx_dataset))\n",
        "\n",
        "#     # Extract a sample batch from the preprocessed dataset\n",
        "#     sam_batch = tf.nest.map_structure(lambda x: x.numpy(), next(iter(preprocessed_client_dataset)))\n",
        "\n",
        "#     # Store the preprocessed dataset in the dictionary with LCLid as the key\n",
        "#     test_dataset8[LCLid] = preprocessed_client_dataset"
      ]
    },
    {
      "cell_type": "code",
      "execution_count": null,
      "metadata": {
        "id": "h-npPOLh1TtW"
      },
      "outputs": [],
      "source": [
        "# test_dataset9 = {}\n",
        "\n",
        "# for LCLid in test_client:\n",
        "#     # Filter the dataframe for the current LCLid\n",
        "#     client_data = ft_data9[ft_data9['LCLid'] == LCLid]\n",
        "\n",
        "#     clientxx_dataset = create_client_dataset_for_LCLid(client_data, window_size, step_size)\n",
        "\n",
        "#     # Create the client dataset for the current LCLid\n",
        "#     preprocessed_client_dataset = preprocess_client_dataset(tf.data.Dataset.from_tensor_slices(clientxx_dataset))\n",
        "\n",
        "#     # Extract a sample batch from the preprocessed dataset\n",
        "#     sam_batch = tf.nest.map_structure(lambda x: x.numpy(), next(iter(preprocessed_client_dataset)))\n",
        "\n",
        "#     # Store the preprocessed dataset in the dictionary with LCLid as the key\n",
        "#     test_dataset9[LCLid] = preprocessed_client_dataset"
      ]
    },
    {
      "cell_type": "code",
      "execution_count": null,
      "metadata": {
        "id": "6Lq7hDRh1TqP"
      },
      "outputs": [],
      "source": [
        "# test_dataset10 = {}\n",
        "\n",
        "# for LCLid in test_client:\n",
        "#     # Filter the dataframe for the current LCLid\n",
        "#     client_data = ft_data10[ft_data10['LCLid'] == LCLid]\n",
        "\n",
        "#     clientxx_dataset = create_client_dataset_for_LCLid(client_data, window_size, step_size)\n",
        "\n",
        "#     # Create the client dataset for the current LCLid\n",
        "#     preprocessed_client_dataset = preprocess_client_dataset(tf.data.Dataset.from_tensor_slices(clientxx_dataset))\n",
        "\n",
        "#     # Extract a sample batch from the preprocessed dataset\n",
        "#     sam_batch = tf.nest.map_structure(lambda x: x.numpy(), next(iter(preprocessed_client_dataset)))\n",
        "\n",
        "#     # Store the preprocessed dataset in the dictionary with LCLid as the key\n",
        "#     test_dataset10[LCLid] = preprocessed_client_dataset"
      ]
    },
    {
      "cell_type": "code",
      "execution_count": null,
      "metadata": {
        "id": "N-VaScka1Tms"
      },
      "outputs": [],
      "source": [
        "# test_dataset11 = {}\n",
        "\n",
        "# for LCLid in test_client:\n",
        "#     # Filter the dataframe for the current LCLid\n",
        "#     client_data = ft_data11[ft_data11['LCLid'] == LCLid]\n",
        "\n",
        "#     clientxx_dataset = create_client_dataset_for_LCLid(client_data, window_size, step_size)\n",
        "\n",
        "#     # Create the client dataset for the current LCLid\n",
        "#     preprocessed_client_dataset = preprocess_client_dataset(tf.data.Dataset.from_tensor_slices(clientxx_dataset))\n",
        "\n",
        "#     # Extract a sample batch from the preprocessed dataset\n",
        "#     sam_batch = tf.nest.map_structure(lambda x: x.numpy(), next(iter(preprocessed_client_dataset)))\n",
        "\n",
        "#     # Store the preprocessed dataset in the dictionary with LCLid as the key\n",
        "#     test_dataset11[LCLid] = preprocessed_client_dataset"
      ]
    },
    {
      "cell_type": "code",
      "execution_count": null,
      "metadata": {
        "id": "Zp019hlo1TZj"
      },
      "outputs": [],
      "source": [
        "# test_dataset12 = {}\n",
        "\n",
        "# for LCLid in test_client:\n",
        "#     # Filter the dataframe for the current LCLid\n",
        "#     client_data = ft_data12[ft_data12['LCLid'] == LCLid]\n",
        "\n",
        "#     clientxx_dataset = create_client_dataset_for_LCLid(client_data, window_size, step_size)\n",
        "\n",
        "#     # Create the client dataset for the current LCLid\n",
        "#     preprocessed_client_dataset = preprocess_client_dataset(tf.data.Dataset.from_tensor_slices(clientxx_dataset))\n",
        "\n",
        "#     # Extract a sample batch from the preprocessed dataset\n",
        "#     sam_batch = tf.nest.map_structure(lambda x: x.numpy(), next(iter(preprocessed_client_dataset)))\n",
        "\n",
        "#     # Store the preprocessed dataset in the dictionary with LCLid as the key\n",
        "#     test_dataset12[LCLid] = preprocessed_client_dataset"
      ]
    },
    {
      "cell_type": "code",
      "execution_count": null,
      "metadata": {
        "id": "_-Wb2MJfFA99"
      },
      "outputs": [],
      "source": [
        "# Make federated test data\n",
        "federated_test_data1 = make_federated_data(test_dataset1, test_client)\n",
        "federated_test_data2 = make_federated_data(test_dataset2, test_client)\n",
        "federated_test_data3 = make_federated_data(test_dataset3, test_client)\n",
        "federated_test_data4 = make_federated_data(test_dataset4, test_client)\n",
        "federated_test_data5 = make_federated_data(test_dataset5, test_client)\n",
        "federated_test_data6 = make_federated_data(test_dataset6, test_client)\n",
        "federated_test_data7 = make_federated_data(test_dataset7, test_client)\n",
        "# federated_test_data8 = make_federated_data(test_dataset8, test_client)\n",
        "# federated_test_data9 = make_federated_data(test_dataset9, test_client)\n",
        "# federated_test_data10 = make_federated_data(test_dataset10, test_client)\n",
        "# federated_test_data11 = make_federated_data(test_dataset11, test_client)\n",
        "# federated_test_data12 = make_federated_data(test_dataset12, test_client)\n"
      ]
    },
    {
      "cell_type": "code",
      "execution_count": null,
      "metadata": {
        "id": "FBdMMsBNFA7t"
      },
      "outputs": [],
      "source": [
        "evaluation_process = tff.learning.algorithms.build_fed_eval(model_fn)"
      ]
    },
    {
      "cell_type": "code",
      "execution_count": null,
      "metadata": {
        "colab": {
          "base_uri": "https://localhost:8080/"
        },
        "id": "h1juqI-wFA5o",
        "outputId": "225c947b-662d-4720-b125-40fad0b068d9"
      },
      "outputs": [
        {
          "name": "stdout",
          "output_type": "stream",
          "text": [
            "(<\n",
            "  state=<\n",
            "    global_model_weights=<\n",
            "      trainable=<\n",
            "        float32[336,64],\n",
            "        float32[64],\n",
            "        float32[64,32],\n",
            "        float32[32],\n",
            "        float32[32,8],\n",
            "        float32[8],\n",
            "        float32[8,1],\n",
            "        float32[1]\n",
            "      >,\n",
            "      non_trainable=<>\n",
            "    >,\n",
            "    distributor=<>,\n",
            "    client_work=<\n",
            "      <>,\n",
            "      <\n",
            "        root_mean_squared_error=<\n",
            "          float32,\n",
            "          float32\n",
            "        >,\n",
            "        loss=<\n",
            "          float32,\n",
            "          float32\n",
            "        >,\n",
            "        num_examples=<\n",
            "          int64\n",
            "        >,\n",
            "        num_batches=<\n",
            "          int64\n",
            "        >\n",
            "      >\n",
            "    >,\n",
            "    aggregator=<\n",
            "      value_sum_process=<>,\n",
            "      weight_sum_process=<>\n",
            "    >,\n",
            "    finalizer=<>\n",
            "  >@SERVER,\n",
            "  client_data={<\n",
            "    x=float32[?,336],\n",
            "    y=float32[?,1]\n",
            "  >*}@CLIENTS\n",
            "> -> <\n",
            "  state=<\n",
            "    global_model_weights=<\n",
            "      trainable=<\n",
            "        float32[336,64],\n",
            "        float32[64],\n",
            "        float32[64,32],\n",
            "        float32[32],\n",
            "        float32[32,8],\n",
            "        float32[8],\n",
            "        float32[8,1],\n",
            "        float32[1]\n",
            "      >,\n",
            "      non_trainable=<>\n",
            "    >,\n",
            "    distributor=<>,\n",
            "    client_work=<\n",
            "      <>,\n",
            "      <\n",
            "        root_mean_squared_error=<\n",
            "          float32,\n",
            "          float32\n",
            "        >,\n",
            "        loss=<\n",
            "          float32,\n",
            "          float32\n",
            "        >,\n",
            "        num_examples=<\n",
            "          int64\n",
            "        >,\n",
            "        num_batches=<\n",
            "          int64\n",
            "        >\n",
            "      >\n",
            "    >,\n",
            "    aggregator=<\n",
            "      value_sum_process=<>,\n",
            "      weight_sum_process=<>\n",
            "    >,\n",
            "    finalizer=<>\n",
            "  >@SERVER,\n",
            "  metrics=<\n",
            "    distributor=<>,\n",
            "    client_work=<\n",
            "      eval=<\n",
            "        current_round_metrics=<\n",
            "          root_mean_squared_error=float32,\n",
            "          loss=float32,\n",
            "          num_examples=int64,\n",
            "          num_batches=int64\n",
            "        >,\n",
            "        total_rounds_metrics=<\n",
            "          root_mean_squared_error=float32,\n",
            "          loss=float32,\n",
            "          num_examples=int64,\n",
            "          num_batches=int64\n",
            "        >\n",
            "      >\n",
            "    >,\n",
            "    aggregator=<\n",
            "      mean_value=<>,\n",
            "      mean_weight=<>\n",
            "    >,\n",
            "    finalizer=<>\n",
            "  >@SERVER\n",
            ">)\n"
          ]
        }
      ],
      "source": [
        "print(evaluation_process.next.type_signature.formatted_representation())"
      ]
    },
    {
      "cell_type": "code",
      "execution_count": null,
      "metadata": {
        "id": "BxOR2BmWFA3N"
      },
      "outputs": [],
      "source": [
        "evaluation_state = evaluation_process.initialize()\n",
        "model_weights = training_process.get_model_weights(train_state)\n",
        "evaluation_state = evaluation_process.set_model_weights(evaluation_state, model_weights)"
      ]
    },
    {
      "cell_type": "code",
      "execution_count": null,
      "metadata": {
        "id": "c3foboZVEcU3"
      },
      "outputs": [],
      "source": [
        "evaluation_output1 = evaluation_process.next(evaluation_state, federated_test_data1)\n",
        "evaluation_output2 = evaluation_process.next(evaluation_state, federated_test_data2)\n",
        "evaluation_output3 = evaluation_process.next(evaluation_state, federated_test_data3)\n",
        "evaluation_output4 = evaluation_process.next(evaluation_state, federated_test_data4)\n",
        "evaluation_output5 = evaluation_process.next(evaluation_state, federated_test_data5)\n",
        "evaluation_output6 = evaluation_process.next(evaluation_state, federated_test_data6)\n",
        "evaluation_output7 = evaluation_process.next(evaluation_state, federated_test_data7)\n",
        "# evaluation_output8 = evaluation_process.next(evaluation_state, federated_test_data8)\n",
        "# evaluation_output9 = evaluation_process.next(evaluation_state, federated_test_data9)\n",
        "# evaluation_output10 = evaluation_process.next(evaluation_state, federated_test_data10)\n",
        "# evaluation_output11 = evaluation_process.next(evaluation_state, federated_test_data11)\n",
        "# evaluation_output12 = evaluation_process.next(evaluation_state, federated_test_data12)"
      ]
    },
    {
      "cell_type": "code",
      "execution_count": null,
      "metadata": {
        "colab": {
          "base_uri": "https://localhost:8080/"
        },
        "id": "tIkLzF4T1gDH",
        "outputId": "cca818e5-07d8-4445-c191-7ef979731dfa"
      },
      "outputs": [
        {
          "name": "stdout",
          "output_type": "stream",
          "text": [
            "[0.021250479, 0.019084923, 0.011400148, 0.011378154, 0.07969704, 0.041061617, 0.029411878]\n"
          ]
        }
      ],
      "source": [
        "loss_values_1 = []\n",
        "\n",
        "# Append MAE values to the list\n",
        "loss_values_1.append(evaluation_output1.metrics['client_work']['eval']['current_round_metrics']['loss'])\n",
        "loss_values_1.append(evaluation_output2.metrics['client_work']['eval']['current_round_metrics']['loss'])\n",
        "loss_values_1.append(evaluation_output3.metrics['client_work']['eval']['current_round_metrics']['loss'])\n",
        "loss_values_1.append(evaluation_output4.metrics['client_work']['eval']['current_round_metrics']['loss'])\n",
        "loss_values_1.append(evaluation_output5.metrics['client_work']['eval']['current_round_metrics']['loss'])\n",
        "loss_values_1.append(evaluation_output6.metrics['client_work']['eval']['current_round_metrics']['loss'])\n",
        "loss_values_1.append(evaluation_output7.metrics['client_work']['eval']['current_round_metrics']['loss'])\n",
        "# loss_values_1.append(evaluation_output8.metrics['client_work']['eval']['current_round_metrics']['loss'])\n",
        "# loss_values_1.append(evaluation_output9.metrics['client_work']['eval']['current_round_metrics']['loss'])\n",
        "# loss_values_1.append(evaluation_output10.metrics['client_work']['eval']['current_round_metrics']['loss'])\n",
        "# loss_values_1.append(evaluation_output11.metrics['client_work']['eval']['current_round_metrics']['loss'])\n",
        "# loss_values_1.append(evaluation_output12.metrics['client_work']['eval']['current_round_metrics']['loss'])\n",
        "\n",
        "\n",
        "# Print the MAE values\n",
        "print(loss_values_1)"
      ]
    },
    {
      "cell_type": "code",
      "execution_count": null,
      "metadata": {
        "colab": {
          "base_uri": "https://localhost:8080/"
        },
        "id": "cxDHG2b3GNNg",
        "outputId": "b0b5e795-902f-4d16-d015-141bdcfba68d"
      },
      "outputs": [
        {
          "name": "stdout",
          "output_type": "stream",
          "text": [
            "[0.07502663, 0.111199975, 0.12958628, 0.03374207, 0.1143148, 0.08410741, 0.009626329]\n"
          ]
        }
      ],
      "source": [
        "loss_values_2 = []\n",
        "\n",
        "# Append MAE values to the list\n",
        "loss_values_2.append(evaluation_output1.metrics['client_work']['eval']['current_round_metrics']['root_mean_squared_error'])\n",
        "loss_values_2.append(evaluation_output2.metrics['client_work']['eval']['current_round_metrics']['root_mean_squared_error'])\n",
        "loss_values_2.append(evaluation_output3.metrics['client_work']['eval']['current_round_metrics']['root_mean_squared_error'])\n",
        "loss_values_2.append(evaluation_output4.metrics['client_work']['eval']['current_round_metrics']['root_mean_squared_error'])\n",
        "loss_values_2.append(evaluation_output5.metrics['client_work']['eval']['current_round_metrics']['root_mean_squared_error'])\n",
        "loss_values_2.append(evaluation_output6.metrics['client_work']['eval']['current_round_metrics']['root_mean_squared_error'])\n",
        "loss_values_2.append(evaluation_output7.metrics['client_work']['eval']['current_round_metrics']['root_mean_squared_error'])\n",
        "# loss_values_2.append(evaluation_output8.metrics['client_work']['eval']['current_round_metrics']['root_mean_squared_error'])\n",
        "# loss_values_2.append(evaluation_output9.metrics['client_work']['eval']['current_round_metrics']['root_mean_squared_error'])\n",
        "# loss_values_2.append(evaluation_output10.metrics['client_work']['eval']['current_round_metrics']['root_mean_squared_error'])\n",
        "# loss_values_2.append(evaluation_output11.metrics['client_work']['eval']['current_round_metrics']['root_mean_squared_error'])\n",
        "# loss_values_2.append(evaluation_output12.metrics['client_work']['eval']['current_round_metrics']['root_mean_squared_error'])\n",
        "\n",
        "\n",
        "# Print the MAE values\n",
        "print(loss_values_2)"
      ]
    },
    {
      "cell_type": "code",
      "execution_count": null,
      "metadata": {
        "colab": {
          "base_uri": "https://localhost:8080/",
          "height": 542
        },
        "id": "BsugKl-viuW5",
        "outputId": "bd72f4cb-8cb1-4c07-c4dd-b4f8363b5129"
      },
      "outputs": [
        {
          "data": {
            "text/html": [
              "<html>\n",
              "<head><meta charset=\"utf-8\" /></head>\n",
              "<body>\n",
              "    <div>            <script src=\"https://cdnjs.cloudflare.com/ajax/libs/mathjax/2.7.5/MathJax.js?config=TeX-AMS-MML_SVG\"></script><script type=\"text/javascript\">if (window.MathJax && window.MathJax.Hub && window.MathJax.Hub.Config) {window.MathJax.Hub.Config({SVG: {font: \"STIX-Web\"}});}</script>                <script type=\"text/javascript\">window.PlotlyConfig = {MathJaxConfig: 'local'};</script>\n",
              "        <script src=\"https://cdn.plot.ly/plotly-2.18.2.min.js\"></script>                <div id=\"3dbdf648-7fd9-41a4-8c4b-4828b427c555\" class=\"plotly-graph-div\" style=\"height:525px; width:100%;\"></div>            <script type=\"text/javascript\">                                    window.PLOTLYENV=window.PLOTLYENV || {};                                    if (document.getElementById(\"3dbdf648-7fd9-41a4-8c4b-4828b427c555\")) {                    Plotly.newPlot(                        \"3dbdf648-7fd9-41a4-8c4b-4828b427c555\",                        [{\"mode\":\"lines+markers\",\"name\":\"RMSE\",\"x\":[\"May 12\",\"May 13\",\"May 14\",\"May 15\",\"May 16\",\"May 17\",\"May 18\"],\"y\":[0.0234,0.2548,0.0591,0.3342,0.0935,0.1843,0.0527],\"type\":\"scatter\"}],                        {\"template\":{\"data\":{\"histogram2dcontour\":[{\"type\":\"histogram2dcontour\",\"colorbar\":{\"outlinewidth\":0,\"ticks\":\"\"},\"colorscale\":[[0.0,\"#0d0887\"],[0.1111111111111111,\"#46039f\"],[0.2222222222222222,\"#7201a8\"],[0.3333333333333333,\"#9c179e\"],[0.4444444444444444,\"#bd3786\"],[0.5555555555555556,\"#d8576b\"],[0.6666666666666666,\"#ed7953\"],[0.7777777777777778,\"#fb9f3a\"],[0.8888888888888888,\"#fdca26\"],[1.0,\"#f0f921\"]]}],\"choropleth\":[{\"type\":\"choropleth\",\"colorbar\":{\"outlinewidth\":0,\"ticks\":\"\"}}],\"histogram2d\":[{\"type\":\"histogram2d\",\"colorbar\":{\"outlinewidth\":0,\"ticks\":\"\"},\"colorscale\":[[0.0,\"#0d0887\"],[0.1111111111111111,\"#46039f\"],[0.2222222222222222,\"#7201a8\"],[0.3333333333333333,\"#9c179e\"],[0.4444444444444444,\"#bd3786\"],[0.5555555555555556,\"#d8576b\"],[0.6666666666666666,\"#ed7953\"],[0.7777777777777778,\"#fb9f3a\"],[0.8888888888888888,\"#fdca26\"],[1.0,\"#f0f921\"]]}],\"heatmap\":[{\"type\":\"heatmap\",\"colorbar\":{\"outlinewidth\":0,\"ticks\":\"\"},\"colorscale\":[[0.0,\"#0d0887\"],[0.1111111111111111,\"#46039f\"],[0.2222222222222222,\"#7201a8\"],[0.3333333333333333,\"#9c179e\"],[0.4444444444444444,\"#bd3786\"],[0.5555555555555556,\"#d8576b\"],[0.6666666666666666,\"#ed7953\"],[0.7777777777777778,\"#fb9f3a\"],[0.8888888888888888,\"#fdca26\"],[1.0,\"#f0f921\"]]}],\"heatmapgl\":[{\"type\":\"heatmapgl\",\"colorbar\":{\"outlinewidth\":0,\"ticks\":\"\"},\"colorscale\":[[0.0,\"#0d0887\"],[0.1111111111111111,\"#46039f\"],[0.2222222222222222,\"#7201a8\"],[0.3333333333333333,\"#9c179e\"],[0.4444444444444444,\"#bd3786\"],[0.5555555555555556,\"#d8576b\"],[0.6666666666666666,\"#ed7953\"],[0.7777777777777778,\"#fb9f3a\"],[0.8888888888888888,\"#fdca26\"],[1.0,\"#f0f921\"]]}],\"contourcarpet\":[{\"type\":\"contourcarpet\",\"colorbar\":{\"outlinewidth\":0,\"ticks\":\"\"}}],\"contour\":[{\"type\":\"contour\",\"colorbar\":{\"outlinewidth\":0,\"ticks\":\"\"},\"colorscale\":[[0.0,\"#0d0887\"],[0.1111111111111111,\"#46039f\"],[0.2222222222222222,\"#7201a8\"],[0.3333333333333333,\"#9c179e\"],[0.4444444444444444,\"#bd3786\"],[0.5555555555555556,\"#d8576b\"],[0.6666666666666666,\"#ed7953\"],[0.7777777777777778,\"#fb9f3a\"],[0.8888888888888888,\"#fdca26\"],[1.0,\"#f0f921\"]]}],\"surface\":[{\"type\":\"surface\",\"colorbar\":{\"outlinewidth\":0,\"ticks\":\"\"},\"colorscale\":[[0.0,\"#0d0887\"],[0.1111111111111111,\"#46039f\"],[0.2222222222222222,\"#7201a8\"],[0.3333333333333333,\"#9c179e\"],[0.4444444444444444,\"#bd3786\"],[0.5555555555555556,\"#d8576b\"],[0.6666666666666666,\"#ed7953\"],[0.7777777777777778,\"#fb9f3a\"],[0.8888888888888888,\"#fdca26\"],[1.0,\"#f0f921\"]]}],\"mesh3d\":[{\"type\":\"mesh3d\",\"colorbar\":{\"outlinewidth\":0,\"ticks\":\"\"}}],\"scatter\":[{\"fillpattern\":{\"fillmode\":\"overlay\",\"size\":10,\"solidity\":0.2},\"type\":\"scatter\"}],\"parcoords\":[{\"type\":\"parcoords\",\"line\":{\"colorbar\":{\"outlinewidth\":0,\"ticks\":\"\"}}}],\"scatterpolargl\":[{\"type\":\"scatterpolargl\",\"marker\":{\"colorbar\":{\"outlinewidth\":0,\"ticks\":\"\"}}}],\"bar\":[{\"error_x\":{\"color\":\"#2a3f5f\"},\"error_y\":{\"color\":\"#2a3f5f\"},\"marker\":{\"line\":{\"color\":\"#E5ECF6\",\"width\":0.5},\"pattern\":{\"fillmode\":\"overlay\",\"size\":10,\"solidity\":0.2}},\"type\":\"bar\"}],\"scattergeo\":[{\"type\":\"scattergeo\",\"marker\":{\"colorbar\":{\"outlinewidth\":0,\"ticks\":\"\"}}}],\"scatterpolar\":[{\"type\":\"scatterpolar\",\"marker\":{\"colorbar\":{\"outlinewidth\":0,\"ticks\":\"\"}}}],\"histogram\":[{\"marker\":{\"pattern\":{\"fillmode\":\"overlay\",\"size\":10,\"solidity\":0.2}},\"type\":\"histogram\"}],\"scattergl\":[{\"type\":\"scattergl\",\"marker\":{\"colorbar\":{\"outlinewidth\":0,\"ticks\":\"\"}}}],\"scatter3d\":[{\"type\":\"scatter3d\",\"line\":{\"colorbar\":{\"outlinewidth\":0,\"ticks\":\"\"}},\"marker\":{\"colorbar\":{\"outlinewidth\":0,\"ticks\":\"\"}}}],\"scattermapbox\":[{\"type\":\"scattermapbox\",\"marker\":{\"colorbar\":{\"outlinewidth\":0,\"ticks\":\"\"}}}],\"scatterternary\":[{\"type\":\"scatterternary\",\"marker\":{\"colorbar\":{\"outlinewidth\":0,\"ticks\":\"\"}}}],\"scattercarpet\":[{\"type\":\"scattercarpet\",\"marker\":{\"colorbar\":{\"outlinewidth\":0,\"ticks\":\"\"}}}],\"carpet\":[{\"aaxis\":{\"endlinecolor\":\"#2a3f5f\",\"gridcolor\":\"white\",\"linecolor\":\"white\",\"minorgridcolor\":\"white\",\"startlinecolor\":\"#2a3f5f\"},\"baxis\":{\"endlinecolor\":\"#2a3f5f\",\"gridcolor\":\"white\",\"linecolor\":\"white\",\"minorgridcolor\":\"white\",\"startlinecolor\":\"#2a3f5f\"},\"type\":\"carpet\"}],\"table\":[{\"cells\":{\"fill\":{\"color\":\"#EBF0F8\"},\"line\":{\"color\":\"white\"}},\"header\":{\"fill\":{\"color\":\"#C8D4E3\"},\"line\":{\"color\":\"white\"}},\"type\":\"table\"}],\"barpolar\":[{\"marker\":{\"line\":{\"color\":\"#E5ECF6\",\"width\":0.5},\"pattern\":{\"fillmode\":\"overlay\",\"size\":10,\"solidity\":0.2}},\"type\":\"barpolar\"}],\"pie\":[{\"automargin\":true,\"type\":\"pie\"}]},\"layout\":{\"autotypenumbers\":\"strict\",\"colorway\":[\"#636efa\",\"#EF553B\",\"#00cc96\",\"#ab63fa\",\"#FFA15A\",\"#19d3f3\",\"#FF6692\",\"#B6E880\",\"#FF97FF\",\"#FECB52\"],\"font\":{\"color\":\"#2a3f5f\"},\"hovermode\":\"closest\",\"hoverlabel\":{\"align\":\"left\"},\"paper_bgcolor\":\"white\",\"plot_bgcolor\":\"#E5ECF6\",\"polar\":{\"bgcolor\":\"#E5ECF6\",\"angularaxis\":{\"gridcolor\":\"white\",\"linecolor\":\"white\",\"ticks\":\"\"},\"radialaxis\":{\"gridcolor\":\"white\",\"linecolor\":\"white\",\"ticks\":\"\"}},\"ternary\":{\"bgcolor\":\"#E5ECF6\",\"aaxis\":{\"gridcolor\":\"white\",\"linecolor\":\"white\",\"ticks\":\"\"},\"baxis\":{\"gridcolor\":\"white\",\"linecolor\":\"white\",\"ticks\":\"\"},\"caxis\":{\"gridcolor\":\"white\",\"linecolor\":\"white\",\"ticks\":\"\"}},\"coloraxis\":{\"colorbar\":{\"outlinewidth\":0,\"ticks\":\"\"}},\"colorscale\":{\"sequential\":[[0.0,\"#0d0887\"],[0.1111111111111111,\"#46039f\"],[0.2222222222222222,\"#7201a8\"],[0.3333333333333333,\"#9c179e\"],[0.4444444444444444,\"#bd3786\"],[0.5555555555555556,\"#d8576b\"],[0.6666666666666666,\"#ed7953\"],[0.7777777777777778,\"#fb9f3a\"],[0.8888888888888888,\"#fdca26\"],[1.0,\"#f0f921\"]],\"sequentialminus\":[[0.0,\"#0d0887\"],[0.1111111111111111,\"#46039f\"],[0.2222222222222222,\"#7201a8\"],[0.3333333333333333,\"#9c179e\"],[0.4444444444444444,\"#bd3786\"],[0.5555555555555556,\"#d8576b\"],[0.6666666666666666,\"#ed7953\"],[0.7777777777777778,\"#fb9f3a\"],[0.8888888888888888,\"#fdca26\"],[1.0,\"#f0f921\"]],\"diverging\":[[0,\"#8e0152\"],[0.1,\"#c51b7d\"],[0.2,\"#de77ae\"],[0.3,\"#f1b6da\"],[0.4,\"#fde0ef\"],[0.5,\"#f7f7f7\"],[0.6,\"#e6f5d0\"],[0.7,\"#b8e186\"],[0.8,\"#7fbc41\"],[0.9,\"#4d9221\"],[1,\"#276419\"]]},\"xaxis\":{\"gridcolor\":\"white\",\"linecolor\":\"white\",\"ticks\":\"\",\"title\":{\"standoff\":15},\"zerolinecolor\":\"white\",\"automargin\":true,\"zerolinewidth\":2},\"yaxis\":{\"gridcolor\":\"white\",\"linecolor\":\"white\",\"ticks\":\"\",\"title\":{\"standoff\":15},\"zerolinecolor\":\"white\",\"automargin\":true,\"zerolinewidth\":2},\"scene\":{\"xaxis\":{\"backgroundcolor\":\"#E5ECF6\",\"gridcolor\":\"white\",\"linecolor\":\"white\",\"showbackground\":true,\"ticks\":\"\",\"zerolinecolor\":\"white\",\"gridwidth\":2},\"yaxis\":{\"backgroundcolor\":\"#E5ECF6\",\"gridcolor\":\"white\",\"linecolor\":\"white\",\"showbackground\":true,\"ticks\":\"\",\"zerolinecolor\":\"white\",\"gridwidth\":2},\"zaxis\":{\"backgroundcolor\":\"#E5ECF6\",\"gridcolor\":\"white\",\"linecolor\":\"white\",\"showbackground\":true,\"ticks\":\"\",\"zerolinecolor\":\"white\",\"gridwidth\":2}},\"shapedefaults\":{\"line\":{\"color\":\"#2a3f5f\"}},\"annotationdefaults\":{\"arrowcolor\":\"#2a3f5f\",\"arrowhead\":0,\"arrowwidth\":1},\"geo\":{\"bgcolor\":\"white\",\"landcolor\":\"#E5ECF6\",\"subunitcolor\":\"white\",\"showland\":true,\"showlakes\":true,\"lakecolor\":\"white\"},\"title\":{\"x\":0.05},\"mapbox\":{\"style\":\"light\"}}},\"shapes\":[{\"line\":{\"color\":\"red\",\"dash\":\"dash\"},\"name\":\"Mean RMSE\",\"type\":\"line\",\"x0\":\"May 12\",\"x1\":\"May 18\",\"y0\":0.14314285714285716,\"y1\":0.14314285714285716}],\"xaxis\":{\"title\":{\"text\":\"Date\"}},\"yaxis\":{\"title\":{\"text\":\"RMSE\"}},\"title\":{\"text\":\"Weekly Forecast (May 12 - May 18) of a Moderate Consumer - Cluster 18\"}},                        {\"responsive\": true}                    ).then(function(){\n",
              "                            \n",
              "var gd = document.getElementById('3dbdf648-7fd9-41a4-8c4b-4828b427c555');\n",
              "var x = new MutationObserver(function (mutations, observer) {{\n",
              "        var display = window.getComputedStyle(gd).display;\n",
              "        if (!display || display === 'none') {{\n",
              "            console.log([gd, 'removed!']);\n",
              "            Plotly.purge(gd);\n",
              "            observer.disconnect();\n",
              "        }}\n",
              "}});\n",
              "\n",
              "// Listen for the removal of the full notebook cells\n",
              "var notebookContainer = gd.closest('#notebook-container');\n",
              "if (notebookContainer) {{\n",
              "    x.observe(notebookContainer, {childList: true});\n",
              "}}\n",
              "\n",
              "// Listen for the clearing of the current output cell\n",
              "var outputEl = gd.closest('.output');\n",
              "if (outputEl) {{\n",
              "    x.observe(outputEl, {childList: true});\n",
              "}}\n",
              "\n",
              "                        })                };                            </script>        </div>\n",
              "</body>\n",
              "</html>"
            ]
          },
          "metadata": {},
          "output_type": "display_data"
        }
      ],
      "source": [
        "import plotly.graph_objects as go\n",
        "import numpy as np\n",
        "\n",
        "# Data\n",
        "dates = ['Feb 22', 'Feb 23', 'Feb 24', 'Feb 25', 'Feb 26', 'Feb 27', 'Feb 28']\n",
        "rmse_values = [0.07503, 0.11120, 0.12959, 0.03374, 0.11431, 0.08411 ,0.00963]\n",
        "\n",
        "# Calculate mean\n",
        "mean_rmse = np.mean(rmse_values)\n",
        "\n",
        "# Creating the plot\n",
        "fig = go.Figure()\n",
        "\n",
        "# Adding the trace for RMSE values\n",
        "fig.add_trace(go.Scatter(x=dates, y=rmse_values, mode='lines+markers', name='RMSE'))\n",
        "\n",
        "# Adding a line for mean RMSE\n",
        "fig.add_shape(\n",
        "    type=\"line\",\n",
        "    x0=dates[0],\n",
        "    y0=mean_rmse,\n",
        "    x1=dates[-1],\n",
        "    y1=mean_rmse,\n",
        "    line=dict(color='red', dash='dash'),\n",
        "    name='Mean RMSE'\n",
        ")\n",
        "\n",
        "# Updating the axis labels and title\n",
        "fig.update_layout(\n",
        "    xaxis_title='Date',\n",
        "    yaxis_title='RMSE',\n",
        "    title='Weekly Forecast (Feb 22 - Feb 28) of a Moderate Consumer - Cluster 18'\n",
        ")\n",
        "\n",
        "# Display the plot\n",
        "fig.show()"
      ]
    }
  ],
  "metadata": {
    "accelerator": "GPU",
    "colab": {
      "gpuType": "T4",
      "provenance": []
    },
    "kernelspec": {
      "display_name": "Python 3",
      "name": "python3"
    },
    "language_info": {
      "name": "python"
    }
  },
  "nbformat": 4,
  "nbformat_minor": 0
}
